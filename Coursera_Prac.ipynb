{
  "nbformat": 4,
  "nbformat_minor": 0,
  "metadata": {
    "colab": {
      "name": "Coursera_Prac.ipynb",
      "provenance": [],
      "collapsed_sections": [
        "rWgoWYsBetfP",
        "xBGBslAXr91W",
        "Kov0HqY_LyDX",
        "INTOKZDilHbn",
        "uAm36ZtKL5HV",
        "E_IOyu1TbmhE",
        "RSER75ogCXmb",
        "Gx5kaFmXMvln"
      ],
      "toc_visible": true,
      "mount_file_id": "1Xl334RbbrmU2eJfCCtwYAXU5_pnxO7_P",
      "authorship_tag": "ABX9TyM5Da9f6pspg4FhrUZ+OFSW",
      "include_colab_link": true
    },
    "kernelspec": {
      "name": "python3",
      "display_name": "Python 3"
    },
    "accelerator": "GPU"
  },
  "cells": [
    {
      "cell_type": "markdown",
      "metadata": {
        "id": "view-in-github",
        "colab_type": "text"
      },
      "source": [
        "<a href=\"https://colab.research.google.com/github/karmanandan/karma_nandan.github.io/blob/master/Coursera_Prac.ipynb\" target=\"_parent\"><img src=\"https://colab.research.google.com/assets/colab-badge.svg\" alt=\"Open In Colab\"/></a>"
      ]
    },
    {
      "cell_type": "markdown",
      "metadata": {
        "id": "rWgoWYsBetfP",
        "colab_type": "text"
      },
      "source": [
        "# Coursera--Intro"
      ]
    },
    {
      "cell_type": "markdown",
      "metadata": {
        "id": "IsUoBoRGfB7c",
        "colab_type": "text"
      },
      "source": [
        "Vectorization"
      ]
    },
    {
      "cell_type": "code",
      "metadata": {
        "id": "KGVCYPlWfD-y",
        "colab_type": "code",
        "colab": {}
      },
      "source": [
        "# Vectorization is used to instead of multiple for loops.\n",
        "# Multiple For loops given low performance."
      ],
      "execution_count": null,
      "outputs": []
    },
    {
      "cell_type": "code",
      "metadata": {
        "id": "okf6LqYkfTJR",
        "colab_type": "code",
        "colab": {}
      },
      "source": [
        "import numpy as np\n",
        "import pandas as pd"
      ],
      "execution_count": null,
      "outputs": []
    },
    {
      "cell_type": "code",
      "metadata": {
        "id": "kstzvTYFfV3D",
        "colab_type": "code",
        "colab": {}
      },
      "source": [
        "w = np.random.rand(1000000)\n",
        "x = np.random.rand(1000000)"
      ],
      "execution_count": null,
      "outputs": []
    },
    {
      "cell_type": "code",
      "metadata": {
        "id": "EJ2iuXnHiZ5p",
        "colab_type": "code",
        "colab": {
          "base_uri": "https://localhost:8080/"
        },
        "outputId": "b31bfecf-1cf1-441a-aadd-41269e8fd8fc"
      },
      "source": [
        "%%time\n",
        "z=0\n",
        "for i in range(len(w)):\n",
        "  z+=w[i]*x[i]\n",
        "print(z)"
      ],
      "execution_count": null,
      "outputs": [
        {
          "output_type": "stream",
          "text": [
            "250140.5042591061\n",
            "CPU times: user 728 ms, sys: 0 ns, total: 728 ms\n",
            "Wall time: 908 ms\n"
          ],
          "name": "stdout"
        }
      ]
    },
    {
      "cell_type": "code",
      "metadata": {
        "id": "sSV86z0WgtJU",
        "colab_type": "code",
        "colab": {
          "base_uri": "https://localhost:8080/"
        },
        "outputId": "6c142db9-4e44-4856-8e36-e8dd479fa99f"
      },
      "source": [
        "%%time\n",
        "np.dot(w,x)"
      ],
      "execution_count": null,
      "outputs": [
        {
          "output_type": "stream",
          "text": [
            "CPU times: user 10.7 ms, sys: 0 ns, total: 10.7 ms\n",
            "Wall time: 10 ms\n"
          ],
          "name": "stdout"
        },
        {
          "output_type": "execute_result",
          "data": {
            "text/plain": [
              "250140.50425911375"
            ]
          },
          "metadata": {
            "tags": []
          },
          "execution_count": 5
        }
      ]
    },
    {
      "cell_type": "code",
      "metadata": {
        "id": "AvdJji9phmnX",
        "colab_type": "code",
        "colab": {
          "base_uri": "https://localhost:8080/"
        },
        "outputId": "21507d80-1e9a-4111-821c-96428cafdde0"
      },
      "source": [
        "aa = np.array([[56.0,0.0,4.4,68],[1.2,104.0,52.0,8.0],[1.8,135.0,99.0,0.9]])\n",
        "print(aa)\n",
        "print(aa.shape)"
      ],
      "execution_count": null,
      "outputs": [
        {
          "output_type": "stream",
          "text": [
            "[[ 56.    0.    4.4  68. ]\n",
            " [  1.2 104.   52.    8. ]\n",
            " [  1.8 135.   99.    0.9]]\n",
            "(3, 4)\n"
          ],
          "name": "stdout"
        }
      ]
    },
    {
      "cell_type": "code",
      "metadata": {
        "id": "qUJ2rmCUwAmL",
        "colab_type": "code",
        "colab": {
          "base_uri": "https://localhost:8080/"
        },
        "outputId": "ba7ed8bc-db3f-41db-ac49-c5dec2cda3c8"
      },
      "source": [
        "cal = aa.sum(axis=0)\n",
        "cal"
      ],
      "execution_count": null,
      "outputs": [
        {
          "output_type": "execute_result",
          "data": {
            "text/plain": [
              "array([ 59. , 239. , 155.4,  76.9])"
            ]
          },
          "metadata": {
            "tags": []
          },
          "execution_count": 7
        }
      ]
    },
    {
      "cell_type": "code",
      "metadata": {
        "id": "mQFVtpAewDma",
        "colab_type": "code",
        "colab": {
          "base_uri": "https://localhost:8080/"
        },
        "outputId": "57985929-da55-4776-a676-a460695f4a8a"
      },
      "source": [
        "percentage = 100*aa/cal\n",
        "percentage"
      ],
      "execution_count": null,
      "outputs": [
        {
          "output_type": "execute_result",
          "data": {
            "text/plain": [
              "array([[94.91525424,  0.        ,  2.83140283, 88.42652796],\n",
              "       [ 2.03389831, 43.51464435, 33.46203346, 10.40312094],\n",
              "       [ 3.05084746, 56.48535565, 63.70656371,  1.17035111]])"
            ]
          },
          "metadata": {
            "tags": []
          },
          "execution_count": 8
        }
      ]
    },
    {
      "cell_type": "code",
      "metadata": {
        "id": "LyIWfln2ykOA",
        "colab_type": "code",
        "colab": {
          "base_uri": "https://localhost:8080/"
        },
        "outputId": "8313ab8f-d267-476d-860a-151f6097f671"
      },
      "source": [
        "d = np.array([1,2,3,4])\n",
        "e = np.array([100])\n",
        "d+e"
      ],
      "execution_count": null,
      "outputs": [
        {
          "output_type": "execute_result",
          "data": {
            "text/plain": [
              "array([101, 102, 103, 104])"
            ]
          },
          "metadata": {
            "tags": []
          },
          "execution_count": 9
        }
      ]
    },
    {
      "cell_type": "code",
      "metadata": {
        "id": "X-0nSsKszcib",
        "colab_type": "code",
        "colab": {}
      },
      "source": [
        "###"
      ],
      "execution_count": null,
      "outputs": []
    },
    {
      "cell_type": "code",
      "metadata": {
        "id": "F5ThmCT21xy5",
        "colab_type": "code",
        "colab": {
          "base_uri": "https://localhost:8080/"
        },
        "outputId": "f2fbd4ea-1312-436f-d575-d2380475e86a"
      },
      "source": [
        "a = np.random.randn(5)\n",
        "a"
      ],
      "execution_count": null,
      "outputs": [
        {
          "output_type": "execute_result",
          "data": {
            "text/plain": [
              "array([ 1.22619556,  0.51967921, -2.71759988,  0.29971115, -0.98906623])"
            ]
          },
          "metadata": {
            "tags": []
          },
          "execution_count": 11
        }
      ]
    },
    {
      "cell_type": "code",
      "metadata": {
        "id": "R2N9BFq22drA",
        "colab_type": "code",
        "colab": {
          "base_uri": "https://localhost:8080/"
        },
        "outputId": "e5480ef5-6f26-44ba-a247-398c7fed0dce"
      },
      "source": [
        "a.shape"
      ],
      "execution_count": null,
      "outputs": [
        {
          "output_type": "execute_result",
          "data": {
            "text/plain": [
              "(5,)"
            ]
          },
          "metadata": {
            "tags": []
          },
          "execution_count": 12
        }
      ]
    },
    {
      "cell_type": "code",
      "metadata": {
        "id": "Q6YwOqps14vP",
        "colab_type": "code",
        "colab": {
          "base_uri": "https://localhost:8080/"
        },
        "outputId": "b06de785-ba6b-4a7f-bed7-dac273274160"
      },
      "source": [
        "a.T"
      ],
      "execution_count": null,
      "outputs": [
        {
          "output_type": "execute_result",
          "data": {
            "text/plain": [
              "array([ 1.22619556,  0.51967921, -2.71759988,  0.29971115, -0.98906623])"
            ]
          },
          "metadata": {
            "tags": []
          },
          "execution_count": 13
        }
      ]
    },
    {
      "cell_type": "code",
      "metadata": {
        "id": "TQNnu7Ix16QQ",
        "colab_type": "code",
        "colab": {}
      },
      "source": [
        "# Both are same ,this is rank1 array *W*"
      ],
      "execution_count": null,
      "outputs": []
    },
    {
      "cell_type": "code",
      "metadata": {
        "id": "jTb0Z03Q1_v-",
        "colab_type": "code",
        "colab": {
          "base_uri": "https://localhost:8080/"
        },
        "outputId": "75f4f048-452d-4dfd-8569-bd0199fe5d19"
      },
      "source": [
        "print(np.dot(a,a.T))"
      ],
      "execution_count": null,
      "outputs": [
        {
          "output_type": "stream",
          "text": [
            "10.227049923028288\n"
          ],
          "name": "stdout"
        }
      ]
    },
    {
      "cell_type": "code",
      "metadata": {
        "id": "TGMOXB_w2E_K",
        "colab_type": "code",
        "colab": {
          "base_uri": "https://localhost:8080/"
        },
        "outputId": "06009f59-c5ad-4cae-8ad7-6adb42e3ae31"
      },
      "source": [
        "# but \n",
        "a = np.random.randn(5,1)\n",
        "a\n",
        "# Column Vector"
      ],
      "execution_count": null,
      "outputs": [
        {
          "output_type": "execute_result",
          "data": {
            "text/plain": [
              "array([[ 1.13881106],\n",
              "       [ 0.55869346],\n",
              "       [-0.33220241],\n",
              "       [ 0.84817861],\n",
              "       [-1.21062807]])"
            ]
          },
          "metadata": {
            "tags": []
          },
          "execution_count": 16
        }
      ]
    },
    {
      "cell_type": "code",
      "metadata": {
        "id": "wp1wPJvp2iiq",
        "colab_type": "code",
        "colab": {
          "base_uri": "https://localhost:8080/"
        },
        "outputId": "d0227bfe-7dff-4d84-c4af-134a504f6ef9"
      },
      "source": [
        "a.shape"
      ],
      "execution_count": null,
      "outputs": [
        {
          "output_type": "execute_result",
          "data": {
            "text/plain": [
              "(5, 1)"
            ]
          },
          "metadata": {
            "tags": []
          },
          "execution_count": 17
        }
      ]
    },
    {
      "cell_type": "code",
      "metadata": {
        "id": "bsKmOV4r2NSQ",
        "colab_type": "code",
        "colab": {
          "base_uri": "https://localhost:8080/"
        },
        "outputId": "0025ed8f-8620-43bd-aeab-ccb92ff33131"
      },
      "source": [
        "a.T\n",
        "# row Vector"
      ],
      "execution_count": null,
      "outputs": [
        {
          "output_type": "execute_result",
          "data": {
            "text/plain": [
              "array([[ 1.13881106,  0.55869346, -0.33220241,  0.84817861, -1.21062807]])"
            ]
          },
          "metadata": {
            "tags": []
          },
          "execution_count": 18
        }
      ]
    },
    {
      "cell_type": "code",
      "metadata": {
        "id": "8ujTeTDn2Pmp",
        "colab_type": "code",
        "colab": {
          "base_uri": "https://localhost:8080/"
        },
        "outputId": "02885c95-41f3-47b9-c9b6-d0f59bad55b9"
      },
      "source": [
        "np.dot(a,a.T)"
      ],
      "execution_count": null,
      "outputs": [
        {
          "output_type": "execute_result",
          "data": {
            "text/plain": [
              "array([[ 1.29689063,  0.63624629, -0.37831578,  0.96591518, -1.37867664],\n",
              "       [ 0.63624629,  0.31213838, -0.18559931,  0.47387184, -0.67636998],\n",
              "       [-0.37831578, -0.18559931,  0.11035844, -0.28176698,  0.40217357],\n",
              "       [ 0.96591518,  0.47387184, -0.28176698,  0.71940696, -1.02682884],\n",
              "       [-1.37867664, -0.67636998,  0.40217357, -1.02682884,  1.46562033]])"
            ]
          },
          "metadata": {
            "tags": []
          },
          "execution_count": 19
        }
      ]
    },
    {
      "cell_type": "code",
      "metadata": {
        "id": "D69J-0Ph2URr",
        "colab_type": "code",
        "colab": {
          "base_uri": "https://localhost:8080/"
        },
        "outputId": "8f9bebc1-254c-48e2-b9cc-f926a8060a93"
      },
      "source": [
        "hh = np.random.randn(5)\n",
        "print(hh)\n",
        "print(hh.shape)"
      ],
      "execution_count": null,
      "outputs": [
        {
          "output_type": "stream",
          "text": [
            "[ 1.53429357 -0.47258884 -0.97518501  0.07934503 -1.44164384]\n",
            "(5,)\n"
          ],
          "name": "stdout"
        }
      ]
    },
    {
      "cell_type": "code",
      "metadata": {
        "id": "LFbW0RgR3psZ",
        "colab_type": "code",
        "colab": {}
      },
      "source": [
        "hh =hh.reshape(5,1)"
      ],
      "execution_count": null,
      "outputs": []
    },
    {
      "cell_type": "code",
      "metadata": {
        "id": "wOP658UP3zO3",
        "colab_type": "code",
        "colab": {
          "base_uri": "https://localhost:8080/"
        },
        "outputId": "a455cb79-e500-4ecf-e44d-41361af1d919"
      },
      "source": [
        "print(hh.shape)"
      ],
      "execution_count": null,
      "outputs": [
        {
          "output_type": "stream",
          "text": [
            "(5, 1)\n"
          ],
          "name": "stdout"
        }
      ]
    },
    {
      "cell_type": "code",
      "metadata": {
        "id": "-jXsHlB74Kou",
        "colab_type": "code",
        "colab": {
          "base_uri": "https://localhost:8080/"
        },
        "outputId": "2115408c-c888-41cb-9ffd-8cc6c2859108"
      },
      "source": [
        "hh"
      ],
      "execution_count": null,
      "outputs": [
        {
          "output_type": "execute_result",
          "data": {
            "text/plain": [
              "array([[ 1.53429357],\n",
              "       [-0.47258884],\n",
              "       [-0.97518501],\n",
              "       [ 0.07934503],\n",
              "       [-1.44164384]])"
            ]
          },
          "metadata": {
            "tags": []
          },
          "execution_count": 23
        }
      ]
    },
    {
      "cell_type": "code",
      "metadata": {
        "id": "-goXSuhqCx5d",
        "colab_type": "code",
        "colab": {}
      },
      "source": [
        ""
      ],
      "execution_count": null,
      "outputs": []
    },
    {
      "cell_type": "markdown",
      "metadata": {
        "id": "xBGBslAXr91W",
        "colab_type": "text"
      },
      "source": [
        "# Logistic Regression"
      ]
    },
    {
      "cell_type": "code",
      "metadata": {
        "id": "2u1M1Zvzr_7k",
        "colab_type": "code",
        "colab": {}
      },
      "source": [
        "data = pd.read_csv('/content/drive/My Drive/my_Stuff/binary.csv')"
      ],
      "execution_count": null,
      "outputs": []
    },
    {
      "cell_type": "code",
      "metadata": {
        "id": "1y7gwjZdsSw0",
        "colab_type": "code",
        "colab": {
          "base_uri": "https://localhost:8080/"
        },
        "outputId": "a8342bce-766c-451a-f7ec-3e04bc6bdb63"
      },
      "source": [
        "data"
      ],
      "execution_count": null,
      "outputs": [
        {
          "output_type": "execute_result",
          "data": {
            "text/html": [
              "<div>\n",
              "<style scoped>\n",
              "    .dataframe tbody tr th:only-of-type {\n",
              "        vertical-align: middle;\n",
              "    }\n",
              "\n",
              "    .dataframe tbody tr th {\n",
              "        vertical-align: top;\n",
              "    }\n",
              "\n",
              "    .dataframe thead th {\n",
              "        text-align: right;\n",
              "    }\n",
              "</style>\n",
              "<table border=\"1\" class=\"dataframe\">\n",
              "  <thead>\n",
              "    <tr style=\"text-align: right;\">\n",
              "      <th></th>\n",
              "      <th>admit</th>\n",
              "      <th>gre</th>\n",
              "      <th>gpa</th>\n",
              "      <th>rank</th>\n",
              "    </tr>\n",
              "  </thead>\n",
              "  <tbody>\n",
              "    <tr>\n",
              "      <th>0</th>\n",
              "      <td>0</td>\n",
              "      <td>380</td>\n",
              "      <td>3.61</td>\n",
              "      <td>3</td>\n",
              "    </tr>\n",
              "    <tr>\n",
              "      <th>1</th>\n",
              "      <td>1</td>\n",
              "      <td>660</td>\n",
              "      <td>3.67</td>\n",
              "      <td>3</td>\n",
              "    </tr>\n",
              "    <tr>\n",
              "      <th>2</th>\n",
              "      <td>1</td>\n",
              "      <td>800</td>\n",
              "      <td>4.00</td>\n",
              "      <td>1</td>\n",
              "    </tr>\n",
              "    <tr>\n",
              "      <th>3</th>\n",
              "      <td>1</td>\n",
              "      <td>640</td>\n",
              "      <td>3.19</td>\n",
              "      <td>4</td>\n",
              "    </tr>\n",
              "    <tr>\n",
              "      <th>4</th>\n",
              "      <td>0</td>\n",
              "      <td>520</td>\n",
              "      <td>2.93</td>\n",
              "      <td>4</td>\n",
              "    </tr>\n",
              "    <tr>\n",
              "      <th>...</th>\n",
              "      <td>...</td>\n",
              "      <td>...</td>\n",
              "      <td>...</td>\n",
              "      <td>...</td>\n",
              "    </tr>\n",
              "    <tr>\n",
              "      <th>395</th>\n",
              "      <td>0</td>\n",
              "      <td>620</td>\n",
              "      <td>4.00</td>\n",
              "      <td>2</td>\n",
              "    </tr>\n",
              "    <tr>\n",
              "      <th>396</th>\n",
              "      <td>0</td>\n",
              "      <td>560</td>\n",
              "      <td>3.04</td>\n",
              "      <td>3</td>\n",
              "    </tr>\n",
              "    <tr>\n",
              "      <th>397</th>\n",
              "      <td>0</td>\n",
              "      <td>460</td>\n",
              "      <td>2.63</td>\n",
              "      <td>2</td>\n",
              "    </tr>\n",
              "    <tr>\n",
              "      <th>398</th>\n",
              "      <td>0</td>\n",
              "      <td>700</td>\n",
              "      <td>3.65</td>\n",
              "      <td>2</td>\n",
              "    </tr>\n",
              "    <tr>\n",
              "      <th>399</th>\n",
              "      <td>0</td>\n",
              "      <td>600</td>\n",
              "      <td>3.89</td>\n",
              "      <td>3</td>\n",
              "    </tr>\n",
              "  </tbody>\n",
              "</table>\n",
              "<p>400 rows × 4 columns</p>\n",
              "</div>"
            ],
            "text/plain": [
              "     admit  gre   gpa  rank\n",
              "0        0  380  3.61     3\n",
              "1        1  660  3.67     3\n",
              "2        1  800  4.00     1\n",
              "3        1  640  3.19     4\n",
              "4        0  520  2.93     4\n",
              "..     ...  ...   ...   ...\n",
              "395      0  620  4.00     2\n",
              "396      0  560  3.04     3\n",
              "397      0  460  2.63     2\n",
              "398      0  700  3.65     2\n",
              "399      0  600  3.89     3\n",
              "\n",
              "[400 rows x 4 columns]"
            ]
          },
          "metadata": {
            "tags": []
          },
          "execution_count": 25
        }
      ]
    },
    {
      "cell_type": "code",
      "metadata": {
        "id": "sPl7sKEVtX70",
        "colab_type": "code",
        "colab": {
          "base_uri": "https://localhost:8080/"
        },
        "outputId": "8f944ffd-332c-42a5-9998-5619a005b29f"
      },
      "source": [
        "data.shape[0]"
      ],
      "execution_count": null,
      "outputs": [
        {
          "output_type": "execute_result",
          "data": {
            "text/plain": [
              "400"
            ]
          },
          "metadata": {
            "tags": []
          },
          "execution_count": 26
        }
      ]
    },
    {
      "cell_type": "code",
      "metadata": {
        "id": "DyLsX5nltti8",
        "colab_type": "code",
        "colab": {}
      },
      "source": [
        "train_X,test_X,train_Y,test_Y = data.iloc[:int((70/100)*data.shape[0]),1:],\\\n",
        "data.iloc[int((70/100)*data.shape[0]):,1:],\\\n",
        "data.iloc[:int((70/100)*data.shape[0]),0],\\\n",
        "data.iloc[int((70/100)*data.shape[0]):,0]"
      ],
      "execution_count": null,
      "outputs": []
    },
    {
      "cell_type": "code",
      "metadata": {
        "id": "RBaTatafu0s0",
        "colab_type": "code",
        "colab": {
          "base_uri": "https://localhost:8080/"
        },
        "outputId": "5a2c6ef5-08d5-4f22-a1cb-1e236d1abc90"
      },
      "source": [
        "train_X.shape"
      ],
      "execution_count": null,
      "outputs": [
        {
          "output_type": "execute_result",
          "data": {
            "text/plain": [
              "(280, 3)"
            ]
          },
          "metadata": {
            "tags": []
          },
          "execution_count": 28
        }
      ]
    },
    {
      "cell_type": "code",
      "metadata": {
        "id": "KnGe4CxbC7gf",
        "colab_type": "code",
        "colab": {
          "base_uri": "https://localhost:8080/"
        },
        "outputId": "2a8cea3f-7ac2-48a9-b2ea-0480773c2f81"
      },
      "source": [
        "train_X"
      ],
      "execution_count": null,
      "outputs": [
        {
          "output_type": "execute_result",
          "data": {
            "text/html": [
              "<div>\n",
              "<style scoped>\n",
              "    .dataframe tbody tr th:only-of-type {\n",
              "        vertical-align: middle;\n",
              "    }\n",
              "\n",
              "    .dataframe tbody tr th {\n",
              "        vertical-align: top;\n",
              "    }\n",
              "\n",
              "    .dataframe thead th {\n",
              "        text-align: right;\n",
              "    }\n",
              "</style>\n",
              "<table border=\"1\" class=\"dataframe\">\n",
              "  <thead>\n",
              "    <tr style=\"text-align: right;\">\n",
              "      <th></th>\n",
              "      <th>gre</th>\n",
              "      <th>gpa</th>\n",
              "      <th>rank</th>\n",
              "    </tr>\n",
              "  </thead>\n",
              "  <tbody>\n",
              "    <tr>\n",
              "      <th>0</th>\n",
              "      <td>380</td>\n",
              "      <td>3.61</td>\n",
              "      <td>3</td>\n",
              "    </tr>\n",
              "    <tr>\n",
              "      <th>1</th>\n",
              "      <td>660</td>\n",
              "      <td>3.67</td>\n",
              "      <td>3</td>\n",
              "    </tr>\n",
              "    <tr>\n",
              "      <th>2</th>\n",
              "      <td>800</td>\n",
              "      <td>4.00</td>\n",
              "      <td>1</td>\n",
              "    </tr>\n",
              "    <tr>\n",
              "      <th>3</th>\n",
              "      <td>640</td>\n",
              "      <td>3.19</td>\n",
              "      <td>4</td>\n",
              "    </tr>\n",
              "    <tr>\n",
              "      <th>4</th>\n",
              "      <td>520</td>\n",
              "      <td>2.93</td>\n",
              "      <td>4</td>\n",
              "    </tr>\n",
              "    <tr>\n",
              "      <th>...</th>\n",
              "      <td>...</td>\n",
              "      <td>...</td>\n",
              "      <td>...</td>\n",
              "    </tr>\n",
              "    <tr>\n",
              "      <th>275</th>\n",
              "      <td>600</td>\n",
              "      <td>2.98</td>\n",
              "      <td>2</td>\n",
              "    </tr>\n",
              "    <tr>\n",
              "      <th>276</th>\n",
              "      <td>460</td>\n",
              "      <td>3.77</td>\n",
              "      <td>3</td>\n",
              "    </tr>\n",
              "    <tr>\n",
              "      <th>277</th>\n",
              "      <td>580</td>\n",
              "      <td>3.58</td>\n",
              "      <td>1</td>\n",
              "    </tr>\n",
              "    <tr>\n",
              "      <th>278</th>\n",
              "      <td>680</td>\n",
              "      <td>3.00</td>\n",
              "      <td>4</td>\n",
              "    </tr>\n",
              "    <tr>\n",
              "      <th>279</th>\n",
              "      <td>660</td>\n",
              "      <td>3.14</td>\n",
              "      <td>2</td>\n",
              "    </tr>\n",
              "  </tbody>\n",
              "</table>\n",
              "<p>280 rows × 3 columns</p>\n",
              "</div>"
            ],
            "text/plain": [
              "     gre   gpa  rank\n",
              "0    380  3.61     3\n",
              "1    660  3.67     3\n",
              "2    800  4.00     1\n",
              "3    640  3.19     4\n",
              "4    520  2.93     4\n",
              "..   ...   ...   ...\n",
              "275  600  2.98     2\n",
              "276  460  3.77     3\n",
              "277  580  3.58     1\n",
              "278  680  3.00     4\n",
              "279  660  3.14     2\n",
              "\n",
              "[280 rows x 3 columns]"
            ]
          },
          "metadata": {
            "tags": []
          },
          "execution_count": 29
        }
      ]
    },
    {
      "cell_type": "code",
      "metadata": {
        "id": "qdH_lRijwfj6",
        "colab_type": "code",
        "colab": {}
      },
      "source": [
        "test_Y=np.array(test_Y).reshape(1,test_Y.shape[0])"
      ],
      "execution_count": null,
      "outputs": []
    },
    {
      "cell_type": "code",
      "metadata": {
        "id": "fDwJSr0QwiRm",
        "colab_type": "code",
        "colab": {
          "base_uri": "https://localhost:8080/"
        },
        "outputId": "079a1f61-bccf-4d27-ac7c-ec413cb292c7"
      },
      "source": [
        "w = np.zeros([train_X.shape[1],1])\n",
        "w.shape"
      ],
      "execution_count": null,
      "outputs": [
        {
          "output_type": "execute_result",
          "data": {
            "text/plain": [
              "(3, 1)"
            ]
          },
          "metadata": {
            "tags": []
          },
          "execution_count": 31
        }
      ]
    },
    {
      "cell_type": "code",
      "metadata": {
        "id": "ZkN8P87sF_0d",
        "colab_type": "code",
        "colab": {}
      },
      "source": [
        "train_Y = np.array(train_Y).reshape(-1,1)"
      ],
      "execution_count": null,
      "outputs": []
    },
    {
      "cell_type": "code",
      "metadata": {
        "id": "ASADsXGDFq9Z",
        "colab_type": "code",
        "colab": {}
      },
      "source": [
        "def sigmoid(z):\n",
        "  return 1/(1+np.exp(-z))"
      ],
      "execution_count": null,
      "outputs": []
    },
    {
      "cell_type": "code",
      "metadata": {
        "id": "5MdbwOQyDgwZ",
        "colab_type": "code",
        "colab": {}
      },
      "source": [
        "def cost_cross_entropy(y_pred,y):\n",
        "  loss = (-y*np.log(y_pred)-(1-y)*np.log(1-y_pred)).mean()\n",
        "  return loss\n"
      ],
      "execution_count": null,
      "outputs": []
    },
    {
      "cell_type": "code",
      "metadata": {
        "id": "yGq1hdsDDstT",
        "colab_type": "code",
        "colab": {}
      },
      "source": [
        "W = np.random.uniform(0,1,size=(train_X.shape[1],1))"
      ],
      "execution_count": null,
      "outputs": []
    },
    {
      "cell_type": "code",
      "metadata": {
        "id": "F_RlgPCLF1F9",
        "colab_type": "code",
        "colab": {
          "base_uri": "https://localhost:8080/"
        },
        "outputId": "2f71f1bc-d411-48a4-9856-60bc23d8afa9"
      },
      "source": [
        "b = 0.5\n",
        "for i in range(100):\n",
        "  z=np.dot(train_X,W)+b\n",
        "  y_pred = sigmoid(z)\n",
        "  loss =cost_cross_entropy(y_pred,train_Y)\n",
        "  print(loss)\n",
        "\n",
        "\n",
        "# for i in range(100):\n",
        "#   z=np.dot(train_X,W)\n",
        "#   print(z)"
      ],
      "execution_count": null,
      "outputs": [
        {
          "output_type": "stream",
          "text": [
            "nan\n",
            "nan\n",
            "nan\n",
            "nan\n",
            "nan\n",
            "nan\n",
            "nan\n",
            "nan\n",
            "nan\n",
            "nan\n",
            "nan\n",
            "nan\n",
            "nan\n",
            "nan\n",
            "nan\n",
            "nan\n",
            "nan\n",
            "nan\n",
            "nan\n",
            "nan\n",
            "nan\n",
            "nan\n",
            "nan\n",
            "nan\n",
            "nan\n",
            "nan\n",
            "nan\n",
            "nan\n",
            "nan\n",
            "nan\n",
            "nan\n",
            "nan\n",
            "nan\n",
            "nan\n",
            "nan\n",
            "nan\n",
            "nan\n",
            "nan\n",
            "nan\n",
            "nan\n",
            "nan\n",
            "nan\n",
            "nan\n",
            "nan\n",
            "nan\n",
            "nan\n",
            "nan\n",
            "nan\n",
            "nan\n",
            "nan\n",
            "nan\n",
            "nan\n",
            "nan\n",
            "nan\n",
            "nan\n",
            "nan\n",
            "nan\n",
            "nan\n",
            "nan\n",
            "nan\n",
            "nan\n",
            "nan\n",
            "nan\n",
            "nan\n",
            "nan\n",
            "nan\n",
            "nan\n",
            "nan\n",
            "nan\n",
            "nan\n",
            "nan\n",
            "nan\n",
            "nan\n",
            "nan\n",
            "nan\n",
            "nan\n",
            "nan\n",
            "nan\n",
            "nan\n",
            "nan\n",
            "nan\n",
            "nan\n",
            "nan\n",
            "nan\n",
            "nan\n",
            "nan\n",
            "nan\n",
            "nan\n",
            "nan\n",
            "nan\n",
            "nan\n",
            "nan\n",
            "nan\n",
            "nan\n",
            "nan\n",
            "nan\n",
            "nan\n",
            "nan\n",
            "nan\n",
            "nan\n"
          ],
          "name": "stdout"
        },
        {
          "output_type": "stream",
          "text": [
            "/usr/local/lib/python3.6/dist-packages/ipykernel_launcher.py:2: RuntimeWarning: divide by zero encountered in log\n",
            "  \n",
            "/usr/local/lib/python3.6/dist-packages/ipykernel_launcher.py:2: RuntimeWarning: invalid value encountered in multiply\n",
            "  \n"
          ],
          "name": "stderr"
        }
      ]
    },
    {
      "cell_type": "code",
      "metadata": {
        "id": "po-qb5HiI_Ii",
        "colab_type": "code",
        "colab": {
          "base_uri": "https://localhost:8080/"
        },
        "outputId": "77bad8d7-76f5-4add-d75b-bcd3263179ed"
      },
      "source": [
        "y_pred.shape"
      ],
      "execution_count": null,
      "outputs": [
        {
          "output_type": "execute_result",
          "data": {
            "text/plain": [
              "(280, 1)"
            ]
          },
          "metadata": {
            "tags": []
          },
          "execution_count": 37
        }
      ]
    },
    {
      "cell_type": "code",
      "metadata": {
        "id": "ckGRW7hlJEul",
        "colab_type": "code",
        "colab": {
          "base_uri": "https://localhost:8080/"
        },
        "outputId": "3b343e35-4c61-4005-8bba-484dff2c7149"
      },
      "source": [
        "train_Y.shape"
      ],
      "execution_count": null,
      "outputs": [
        {
          "output_type": "execute_result",
          "data": {
            "text/plain": [
              "(280, 1)"
            ]
          },
          "metadata": {
            "tags": []
          },
          "execution_count": 38
        }
      ]
    },
    {
      "cell_type": "code",
      "metadata": {
        "id": "jCY8KXUoHT5M",
        "colab_type": "code",
        "colab": {
          "base_uri": "https://localhost:8080/"
        },
        "outputId": "6844a429-8121-4193-b3ab-70b348bb82cd"
      },
      "source": [
        "1/2*np.square(y_pred-train_Y)"
      ],
      "execution_count": null,
      "outputs": [
        {
          "output_type": "execute_result",
          "data": {
            "text/plain": [
              "array([[0.5],\n",
              "       [0. ],\n",
              "       [0. ],\n",
              "       [0. ],\n",
              "       [0.5],\n",
              "       [0. ],\n",
              "       [0. ],\n",
              "       [0.5],\n",
              "       [0. ],\n",
              "       [0.5],\n",
              "       [0.5],\n",
              "       [0.5],\n",
              "       [0. ],\n",
              "       [0.5],\n",
              "       [0. ],\n",
              "       [0.5],\n",
              "       [0.5],\n",
              "       [0.5],\n",
              "       [0.5],\n",
              "       [0. ],\n",
              "       [0.5],\n",
              "       [0. ],\n",
              "       [0.5],\n",
              "       [0.5],\n",
              "       [0. ],\n",
              "       [0. ],\n",
              "       [0. ],\n",
              "       [0. ],\n",
              "       [0. ],\n",
              "       [0.5],\n",
              "       [0.5],\n",
              "       [0.5],\n",
              "       [0.5],\n",
              "       [0. ],\n",
              "       [0.5],\n",
              "       [0.5],\n",
              "       [0.5],\n",
              "       [0.5],\n",
              "       [0. ],\n",
              "       [0. ],\n",
              "       [0.5],\n",
              "       [0. ],\n",
              "       [0. ],\n",
              "       [0.5],\n",
              "       [0.5],\n",
              "       [0. ],\n",
              "       [0. ],\n",
              "       [0.5],\n",
              "       [0.5],\n",
              "       [0.5],\n",
              "       [0.5],\n",
              "       [0.5],\n",
              "       [0.5],\n",
              "       [0. ],\n",
              "       [0.5],\n",
              "       [0. ],\n",
              "       [0.5],\n",
              "       [0.5],\n",
              "       [0.5],\n",
              "       [0.5],\n",
              "       [0. ],\n",
              "       [0.5],\n",
              "       [0.5],\n",
              "       [0. ],\n",
              "       [0.5],\n",
              "       [0.5],\n",
              "       [0.5],\n",
              "       [0.5],\n",
              "       [0.5],\n",
              "       [0.5],\n",
              "       [0.5],\n",
              "       [0.5],\n",
              "       [0.5],\n",
              "       [0.5],\n",
              "       [0.5],\n",
              "       [0.5],\n",
              "       [0.5],\n",
              "       [0. ],\n",
              "       [0.5],\n",
              "       [0. ],\n",
              "       [0.5],\n",
              "       [0.5],\n",
              "       [0.5],\n",
              "       [0.5],\n",
              "       [0. ],\n",
              "       [0.5],\n",
              "       [0.5],\n",
              "       [0.5],\n",
              "       [0.5],\n",
              "       [0. ],\n",
              "       [0.5],\n",
              "       [0. ],\n",
              "       [0.5],\n",
              "       [0.5],\n",
              "       [0. ],\n",
              "       [0.5],\n",
              "       [0.5],\n",
              "       [0.5],\n",
              "       [0.5],\n",
              "       [0.5],\n",
              "       [0.5],\n",
              "       [0.5],\n",
              "       [0.5],\n",
              "       [0.5],\n",
              "       [0. ],\n",
              "       [0. ],\n",
              "       [0. ],\n",
              "       [0.5],\n",
              "       [0.5],\n",
              "       [0.5],\n",
              "       [0.5],\n",
              "       [0.5],\n",
              "       [0.5],\n",
              "       [0.5],\n",
              "       [0.5],\n",
              "       [0.5],\n",
              "       [0. ],\n",
              "       [0.5],\n",
              "       [0. ],\n",
              "       [0.5],\n",
              "       [0. ],\n",
              "       [0. ],\n",
              "       [0.5],\n",
              "       [0.5],\n",
              "       [0.5],\n",
              "       [0.5],\n",
              "       [0. ],\n",
              "       [0.5],\n",
              "       [0.5],\n",
              "       [0.5],\n",
              "       [0. ],\n",
              "       [0.5],\n",
              "       [0.5],\n",
              "       [0.5],\n",
              "       [0.5],\n",
              "       [0.5],\n",
              "       [0.5],\n",
              "       [0.5],\n",
              "       [0.5],\n",
              "       [0. ],\n",
              "       [0.5],\n",
              "       [0. ],\n",
              "       [0.5],\n",
              "       [0.5],\n",
              "       [0.5],\n",
              "       [0.5],\n",
              "       [0.5],\n",
              "       [0.5],\n",
              "       [0. ],\n",
              "       [0.5],\n",
              "       [0. ],\n",
              "       [0.5],\n",
              "       [0. ],\n",
              "       [0.5],\n",
              "       [0.5],\n",
              "       [0. ],\n",
              "       [0.5],\n",
              "       [0. ],\n",
              "       [0.5],\n",
              "       [0.5],\n",
              "       [0.5],\n",
              "       [0.5],\n",
              "       [0. ],\n",
              "       [0.5],\n",
              "       [0.5],\n",
              "       [0.5],\n",
              "       [0.5],\n",
              "       [0.5],\n",
              "       [0.5],\n",
              "       [0.5],\n",
              "       [0.5],\n",
              "       [0.5],\n",
              "       [0.5],\n",
              "       [0. ],\n",
              "       [0.5],\n",
              "       [0. ],\n",
              "       [0.5],\n",
              "       [0. ],\n",
              "       [0.5],\n",
              "       [0.5],\n",
              "       [0.5],\n",
              "       [0.5],\n",
              "       [0.5],\n",
              "       [0. ],\n",
              "       [0.5],\n",
              "       [0.5],\n",
              "       [0.5],\n",
              "       [0.5],\n",
              "       [0.5],\n",
              "       [0.5],\n",
              "       [0. ],\n",
              "       [0.5],\n",
              "       [0.5],\n",
              "       [0.5],\n",
              "       [0. ],\n",
              "       [0.5],\n",
              "       [0.5],\n",
              "       [0. ],\n",
              "       [0.5],\n",
              "       [0.5],\n",
              "       [0.5],\n",
              "       [0. ],\n",
              "       [0. ],\n",
              "       [0.5],\n",
              "       [0. ],\n",
              "       [0. ],\n",
              "       [0.5],\n",
              "       [0. ],\n",
              "       [0.5],\n",
              "       [0.5],\n",
              "       [0.5],\n",
              "       [0.5],\n",
              "       [0.5],\n",
              "       [0.5],\n",
              "       [0. ],\n",
              "       [0. ],\n",
              "       [0.5],\n",
              "       [0. ],\n",
              "       [0.5],\n",
              "       [0. ],\n",
              "       [0.5],\n",
              "       [0.5],\n",
              "       [0. ],\n",
              "       [0.5],\n",
              "       [0.5],\n",
              "       [0. ],\n",
              "       [0.5],\n",
              "       [0.5],\n",
              "       [0.5],\n",
              "       [0. ],\n",
              "       [0.5],\n",
              "       [0.5],\n",
              "       [0.5],\n",
              "       [0.5],\n",
              "       [0. ],\n",
              "       [0.5],\n",
              "       [0. ],\n",
              "       [0.5],\n",
              "       [0.5],\n",
              "       [0.5],\n",
              "       [0.5],\n",
              "       [0. ],\n",
              "       [0. ],\n",
              "       [0.5],\n",
              "       [0.5],\n",
              "       [0.5],\n",
              "       [0.5],\n",
              "       [0.5],\n",
              "       [0.5],\n",
              "       [0.5],\n",
              "       [0.5],\n",
              "       [0.5],\n",
              "       [0. ],\n",
              "       [0. ],\n",
              "       [0. ],\n",
              "       [0.5],\n",
              "       [0. ],\n",
              "       [0. ],\n",
              "       [0.5],\n",
              "       [0.5],\n",
              "       [0.5],\n",
              "       [0.5],\n",
              "       [0. ],\n",
              "       [0. ],\n",
              "       [0. ],\n",
              "       [0.5],\n",
              "       [0.5],\n",
              "       [0. ],\n",
              "       [0. ],\n",
              "       [0.5],\n",
              "       [0. ],\n",
              "       [0.5],\n",
              "       [0. ],\n",
              "       [0.5],\n",
              "       [0.5],\n",
              "       [0. ],\n",
              "       [0.5],\n",
              "       [0. ],\n",
              "       [0. ],\n",
              "       [0. ]])"
            ]
          },
          "metadata": {
            "tags": []
          },
          "execution_count": 39
        }
      ]
    },
    {
      "cell_type": "code",
      "metadata": {
        "id": "OTOE_cdKHmeE",
        "colab_type": "code",
        "colab": {}
      },
      "source": [
        ""
      ],
      "execution_count": null,
      "outputs": []
    },
    {
      "cell_type": "markdown",
      "metadata": {
        "id": "Kov0HqY_LyDX",
        "colab_type": "text"
      },
      "source": [
        "# Iris Log"
      ]
    },
    {
      "cell_type": "code",
      "metadata": {
        "id": "pQGwUl1ZL0Bw",
        "colab_type": "code",
        "colab": {}
      },
      "source": [
        "from sklearn.datasets import load_iris"
      ],
      "execution_count": null,
      "outputs": []
    },
    {
      "cell_type": "code",
      "metadata": {
        "id": "BehaZL5WL8hi",
        "colab_type": "code",
        "colab": {}
      },
      "source": [
        "iris = load_iris()"
      ],
      "execution_count": null,
      "outputs": []
    },
    {
      "cell_type": "code",
      "metadata": {
        "id": "gfgQrGe7MVYm",
        "colab_type": "code",
        "colab": {}
      },
      "source": [
        "X = iris.data\n",
        "y = iris.target"
      ],
      "execution_count": null,
      "outputs": []
    },
    {
      "cell_type": "code",
      "metadata": {
        "id": "6jR53ZK8MaUa",
        "colab_type": "code",
        "colab": {
          "base_uri": "https://localhost:8080/"
        },
        "outputId": "63a36703-a7fb-4deb-dd14-322c5755309b"
      },
      "source": [
        "X.shape"
      ],
      "execution_count": null,
      "outputs": [
        {
          "output_type": "execute_result",
          "data": {
            "text/plain": [
              "(150, 4)"
            ]
          },
          "metadata": {
            "tags": []
          },
          "execution_count": 43
        }
      ]
    },
    {
      "cell_type": "code",
      "metadata": {
        "id": "KcWQJbuQMb8-",
        "colab_type": "code",
        "colab": {
          "base_uri": "https://localhost:8080/"
        },
        "outputId": "bb01ca77-9fb6-42f1-8b4b-36797ba4548e"
      },
      "source": [
        "y.shape"
      ],
      "execution_count": null,
      "outputs": [
        {
          "output_type": "execute_result",
          "data": {
            "text/plain": [
              "(150,)"
            ]
          },
          "metadata": {
            "tags": []
          },
          "execution_count": 44
        }
      ]
    },
    {
      "cell_type": "code",
      "metadata": {
        "id": "80-_nzKwcoO8",
        "colab_type": "code",
        "colab": {}
      },
      "source": [
        "non_versicolor_labels = [0 for i in range(100)]\n",
        "versicolor_labels = [1 for i in range(50)]"
      ],
      "execution_count": null,
      "outputs": []
    },
    {
      "cell_type": "code",
      "metadata": {
        "id": "lb2-bHWuc-ze",
        "colab_type": "code",
        "colab": {}
      },
      "source": [
        "y = np.concatenate([non_versicolor_labels,versicolor_labels])"
      ],
      "execution_count": null,
      "outputs": []
    },
    {
      "cell_type": "code",
      "metadata": {
        "id": "J8WN9KOaMddt",
        "colab_type": "code",
        "colab": {}
      },
      "source": [
        "X_train,X_test,y_train,y_test = X[:130],X[130:],y[:130],y[130:]"
      ],
      "execution_count": null,
      "outputs": []
    },
    {
      "cell_type": "code",
      "metadata": {
        "id": "fsTZbRGGMgyk",
        "colab_type": "code",
        "colab": {
          "base_uri": "https://localhost:8080/"
        },
        "outputId": "0cd866f6-b614-4dc2-c7e0-8293adf3ea8d"
      },
      "source": [
        "X_train.shape"
      ],
      "execution_count": null,
      "outputs": [
        {
          "output_type": "execute_result",
          "data": {
            "text/plain": [
              "(130, 4)"
            ]
          },
          "metadata": {
            "tags": []
          },
          "execution_count": 48
        }
      ]
    },
    {
      "cell_type": "code",
      "metadata": {
        "id": "TIBkAjZKNCLn",
        "colab_type": "code",
        "colab": {
          "base_uri": "https://localhost:8080/"
        },
        "outputId": "ec037a15-0b79-4df0-8258-e2ac5f4b1139"
      },
      "source": [
        "y_test"
      ],
      "execution_count": null,
      "outputs": [
        {
          "output_type": "execute_result",
          "data": {
            "text/plain": [
              "array([1, 1, 1, 1, 1, 1, 1, 1, 1, 1, 1, 1, 1, 1, 1, 1, 1, 1, 1, 1])"
            ]
          },
          "metadata": {
            "tags": []
          },
          "execution_count": 49
        }
      ]
    },
    {
      "cell_type": "code",
      "metadata": {
        "id": "_wigxVm5NFKs",
        "colab_type": "code",
        "colab": {}
      },
      "source": [
        "y_train = y_train.reshape(-1,1)\n",
        "y_test = y_test.reshape(-1,1)"
      ],
      "execution_count": null,
      "outputs": []
    },
    {
      "cell_type": "code",
      "metadata": {
        "id": "qCXQ6EewNhQK",
        "colab_type": "code",
        "colab": {
          "base_uri": "https://localhost:8080/"
        },
        "outputId": "02d98c2d-7779-43d1-ea2c-a0c48ba841fe"
      },
      "source": [
        "y_train.shape"
      ],
      "execution_count": null,
      "outputs": [
        {
          "output_type": "execute_result",
          "data": {
            "text/plain": [
              "(130, 1)"
            ]
          },
          "metadata": {
            "tags": []
          },
          "execution_count": 51
        }
      ]
    },
    {
      "cell_type": "code",
      "metadata": {
        "id": "RP1tjkK5NksB",
        "colab_type": "code",
        "colab": {}
      },
      "source": [
        "def sigmoid(z):\n",
        "  return 1/(1+np.exp(-z))"
      ],
      "execution_count": null,
      "outputs": []
    },
    {
      "cell_type": "code",
      "metadata": {
        "id": "aZnTa5TsOBXZ",
        "colab_type": "code",
        "colab": {}
      },
      "source": [
        "def loss(Y,A):\n",
        "  return np.mean(-Y*np.log(A)-(1-Y)*np.log(1-A))"
      ],
      "execution_count": null,
      "outputs": []
    },
    {
      "cell_type": "code",
      "metadata": {
        "id": "Bxq03galXk9w",
        "colab_type": "code",
        "colab": {}
      },
      "source": [
        "def predict(X_test):\n",
        "  preds = []\n",
        "  for i in sigmoid(np.dot(X_test.T,W)+b):\n",
        "    if i>0.5:\n",
        "      preds.append(1)\n",
        "    else:\n",
        "      preds.append(0)\n",
        "  return preds"
      ],
      "execution_count": null,
      "outputs": []
    },
    {
      "cell_type": "code",
      "metadata": {
        "id": "SHfXVIMBPGbE",
        "colab_type": "code",
        "colab": {}
      },
      "source": [
        "W = np.zeros((4,1))\n",
        "b = np.zeros((1,1))\n",
        "learning_rate = 0.1"
      ],
      "execution_count": null,
      "outputs": []
    },
    {
      "cell_type": "code",
      "metadata": {
        "id": "dmBjW0KHgupX",
        "colab_type": "code",
        "colab": {
          "base_uri": "https://localhost:8080/"
        },
        "outputId": "90d708b1-9876-4508-928a-f2b41c4507f5"
      },
      "source": [
        "W,b"
      ],
      "execution_count": null,
      "outputs": [
        {
          "output_type": "execute_result",
          "data": {
            "text/plain": [
              "(array([[0.],\n",
              "        [0.],\n",
              "        [0.],\n",
              "        [0.]]), array([[0.]]))"
            ]
          },
          "metadata": {
            "tags": []
          },
          "execution_count": 56
        }
      ]
    },
    {
      "cell_type": "code",
      "metadata": {
        "id": "AUofYpy9Phu0",
        "colab_type": "code",
        "colab": {
          "base_uri": "https://localhost:8080/"
        },
        "outputId": "b55b7282-1308-45ff-d9fd-d482634e835a"
      },
      "source": [
        "m = len(y_train)\n",
        "for i in range(5000):\n",
        "  z = np.dot(X_train,W)+b\n",
        "  A = sigmoid(z)\n",
        "  lossf = loss(y_train,A)\n",
        "  dZ = A-y_train\n",
        "  dW = 1/m*np.dot(X_train.T,dZ)\n",
        "  db = 1/m*np.sum(dZ,axis=1,keepdims=True)\n",
        "  # Update\n",
        "  W = W-learning_rate*dW\n",
        "  b = b-learning_rate*db\n",
        "\n",
        "  if i%100==0:\n",
        "    print(lossf)"
      ],
      "execution_count": null,
      "outputs": [
        {
          "output_type": "stream",
          "text": [
            "0.6931471805599453\n",
            "0.258034108772261\n",
            "0.2059437893207729\n",
            "0.17621917345873161\n",
            "0.1559413744691749\n",
            "0.14094665723095348\n",
            "0.12928283409114869\n",
            "0.11987583984218908\n",
            "0.11207752572648447\n",
            "0.10547120192040815\n",
            "0.09977590960407376\n",
            "0.0947948999934328\n",
            "0.09038604020109721\n",
            "0.08644392880900821\n",
            "0.08288863213137118\n",
            "0.07965834064536001\n",
            "0.07670443770725899\n",
            "0.07398810222992552\n",
            "0.07147791496218457\n",
            "0.06914813798801765\n",
            "0.06697745593392228\n",
            "0.06494804015240424\n",
            "0.06304484289295274\n",
            "0.06125505790436254\n",
            "0.05956770325411958\n",
            "0.05797329510693347\n",
            "0.056463590036236966\n",
            "0.05503137955961205\n",
            "0.05367032488873481\n",
            "0.05237482294783313\n",
            "0.05113989692484765\n",
            "0.049961106232822815\n",
            "0.048834471949582806\n",
            "0.0477564146912326\n",
            "0.046723702542925113\n",
            "0.045733407177478494\n",
            "0.04478286668074826\n",
            "0.043869653902349114\n",
            "0.04299154938333696\n",
            "0.042146518094915195\n",
            "0.04133268936603979\n",
            "0.040548339491868354\n",
            "0.03979187660601951\n",
            "0.039061827472645826\n",
            "0.03835682591325089\n",
            "0.03767560263096418\n",
            "0.03701697623392307\n",
            "0.036379845291286586\n",
            "0.03576318128161443\n",
            "0.035166022314987305\n"
          ],
          "name": "stdout"
        }
      ]
    },
    {
      "cell_type": "code",
      "metadata": {
        "id": "x8Sw1fwXd_Po",
        "colab_type": "code",
        "colab": {}
      },
      "source": [
        "#W,b"
      ],
      "execution_count": null,
      "outputs": []
    },
    {
      "cell_type": "code",
      "metadata": {
        "id": "rKTr0XqhegXn",
        "colab_type": "code",
        "colab": {}
      },
      "source": [
        "preds = []\n",
        "for i in sigmoid(z):\n",
        "  if i>0.5:\n",
        "    preds.append(1)\n",
        "  else:\n",
        "    preds.append(0)"
      ],
      "execution_count": null,
      "outputs": []
    },
    {
      "cell_type": "code",
      "metadata": {
        "id": "rcCUk1Tdezo-",
        "colab_type": "code",
        "colab": {
          "base_uri": "https://localhost:8080/"
        },
        "outputId": "3e8704d8-3b90-4ae4-c47d-5bc6ee0f3b2f"
      },
      "source": [
        "f1_score(preds,y_train)"
      ],
      "execution_count": null,
      "outputs": [
        {
          "output_type": "error",
          "ename": "NameError",
          "evalue": "ignored",
          "traceback": [
            "\u001b[0;31m---------------------------------------------------------------------------\u001b[0m",
            "\u001b[0;31mNameError\u001b[0m                                 Traceback (most recent call last)",
            "\u001b[0;32m<ipython-input-60-cacf8f8a2d62>\u001b[0m in \u001b[0;36m<module>\u001b[0;34m()\u001b[0m\n\u001b[0;32m----> 1\u001b[0;31m \u001b[0mf1_score\u001b[0m\u001b[0;34m(\u001b[0m\u001b[0mpreds\u001b[0m\u001b[0;34m,\u001b[0m\u001b[0my_train\u001b[0m\u001b[0;34m)\u001b[0m\u001b[0;34m\u001b[0m\u001b[0;34m\u001b[0m\u001b[0m\n\u001b[0m",
            "\u001b[0;31mNameError\u001b[0m: name 'f1_score' is not defined"
          ]
        }
      ]
    },
    {
      "cell_type": "markdown",
      "metadata": {
        "id": "INTOKZDilHbn",
        "colab_type": "text"
      },
      "source": [
        "# Moons"
      ]
    },
    {
      "cell_type": "code",
      "metadata": {
        "id": "kCV_BUZllKc3",
        "colab_type": "code",
        "colab": {}
      },
      "source": [
        "from sklearn.datasets import make_moons\n",
        "import matplotlib.pyplot as plt"
      ],
      "execution_count": null,
      "outputs": []
    },
    {
      "cell_type": "code",
      "metadata": {
        "id": "_fWopUa6lZb2",
        "colab_type": "code",
        "colab": {}
      },
      "source": [
        "X,y = make_moons(noise=0.2,random_state=0,n_samples =200)"
      ],
      "execution_count": null,
      "outputs": []
    },
    {
      "cell_type": "code",
      "metadata": {
        "id": "4JoVfLFcllku",
        "colab_type": "code",
        "colab": {}
      },
      "source": [
        "X.shape"
      ],
      "execution_count": null,
      "outputs": []
    },
    {
      "cell_type": "code",
      "metadata": {
        "id": "YbCBOvy9lqCC",
        "colab_type": "code",
        "colab": {}
      },
      "source": [
        "y.shape"
      ],
      "execution_count": null,
      "outputs": []
    },
    {
      "cell_type": "code",
      "metadata": {
        "id": "gBgfp0Vtlybz",
        "colab_type": "code",
        "colab": {}
      },
      "source": [
        "plt.scatter(X[:,0],X[:,1],cmap=plt.cm.Spectral,c=y)"
      ],
      "execution_count": null,
      "outputs": []
    },
    {
      "cell_type": "code",
      "metadata": {
        "id": "3JYZIBkumPav",
        "colab_type": "code",
        "colab": {}
      },
      "source": [
        "from sklearn.linear_model import LogisticRegression"
      ],
      "execution_count": null,
      "outputs": []
    },
    {
      "cell_type": "code",
      "metadata": {
        "id": "TYcKVLfgnT27",
        "colab_type": "code",
        "colab": {}
      },
      "source": [
        "lr = LogisticRegression()\n",
        "lr.fit(X,y)"
      ],
      "execution_count": null,
      "outputs": []
    },
    {
      "cell_type": "code",
      "metadata": {
        "id": "s5y1YMKjnb4Y",
        "colab_type": "code",
        "colab": {}
      },
      "source": [
        "lr.predict(X[:2,:])"
      ],
      "execution_count": null,
      "outputs": []
    },
    {
      "cell_type": "code",
      "metadata": {
        "id": "1hVy8PS1nhKB",
        "colab_type": "code",
        "colab": {}
      },
      "source": [
        "lr.score(X,y)"
      ],
      "execution_count": null,
      "outputs": []
    },
    {
      "cell_type": "code",
      "metadata": {
        "id": "Oa2von4UnjZh",
        "colab_type": "code",
        "colab": {}
      },
      "source": [
        "# num_examples =len(X)"
      ],
      "execution_count": null,
      "outputs": []
    },
    {
      "cell_type": "code",
      "metadata": {
        "id": "9n_uY6_8oL8z",
        "colab_type": "code",
        "colab": {}
      },
      "source": [
        "# nn_input_dim = 2\n",
        "# nn_output_dim = 2"
      ],
      "execution_count": null,
      "outputs": []
    },
    {
      "cell_type": "code",
      "metadata": {
        "id": "d7wXV6kyoYQ0",
        "colab_type": "code",
        "colab": {}
      },
      "source": [
        "# learning_rate = 0.1"
      ],
      "execution_count": null,
      "outputs": []
    },
    {
      "cell_type": "code",
      "metadata": {
        "id": "hb56lTwEoho-",
        "colab_type": "code",
        "colab": {}
      },
      "source": [
        "# def build_model(num_hidden,num_passes=1000):\n",
        "#   np.random.seed(0)\n",
        "\n",
        "#   W1 = np.random.randn(nn_input_dim,num_hidden)/np.sqrt(nn_input_dim)\n",
        "#   b1 = np.zeros((1,num_hidden))\n",
        "\n",
        "#   W2 = np.random.randn(num_hidden,nn_output_dim)/np.sqrt(num_hidden)\n",
        "#   b2 = np.zeros((1,nn_output_dim))\n",
        "\n",
        "#   for i in range(0,num_passes):\n",
        "#     #Fwd propa\n",
        "#     z1 = np.dot(W1,X)+b1\n",
        "#     a1 = np.tanh(z1)\n",
        "\n",
        "#     z2 = np.dot(W2,a1)+b2\n",
        "#     exp_scores = np.exp(z2)\n",
        "#     probs = exp_scores / np.sum(exp_scores, axis=1, keepdims=True)\n",
        "\n",
        "\n"
      ],
      "execution_count": null,
      "outputs": []
    },
    {
      "cell_type": "code",
      "metadata": {
        "id": "1zI78q_RNkEF",
        "colab_type": "code",
        "colab": {}
      },
      "source": [
        "print(f\"X shape {X.shape}\")\n",
        "print(f\"y shape {y.shape}\")"
      ],
      "execution_count": null,
      "outputs": []
    },
    {
      "cell_type": "code",
      "metadata": {
        "id": "urE7sE9zOyLZ",
        "colab_type": "code",
        "colab": {}
      },
      "source": [
        "X[0]"
      ],
      "execution_count": null,
      "outputs": []
    },
    {
      "cell_type": "code",
      "metadata": {
        "id": "gciQpGomNwi8",
        "colab_type": "code",
        "colab": {}
      },
      "source": [
        "# we are changing shape colunm wise\n",
        "shape_X = X.reshape(2,200)\n",
        "print(shape_X.shape)\n",
        "shape_y = y.reshape(1,200)\n",
        "print(shape_y.shape)"
      ],
      "execution_count": null,
      "outputs": []
    },
    {
      "cell_type": "code",
      "metadata": {
        "id": "fBLnutzmPEuO",
        "colab_type": "code",
        "colab": {}
      },
      "source": [
        "# training set size\n",
        "m = X.shape[0]\n",
        "print(f'training set size {m}')"
      ],
      "execution_count": null,
      "outputs": []
    },
    {
      "cell_type": "code",
      "metadata": {
        "id": "LCo50Rr3PTQt",
        "colab_type": "code",
        "colab": {}
      },
      "source": [
        "from sklearn.linear_model import LogisticRegression"
      ],
      "execution_count": null,
      "outputs": []
    },
    {
      "cell_type": "code",
      "metadata": {
        "id": "36Hs_y-XPrY7",
        "colab_type": "code",
        "colab": {}
      },
      "source": [
        "model = LogisticRegression()\n",
        "model.fit(shape_X.T,shape_y.T)"
      ],
      "execution_count": null,
      "outputs": []
    },
    {
      "cell_type": "code",
      "metadata": {
        "id": "1Le9aassP9Cp",
        "colab_type": "code",
        "colab": {}
      },
      "source": [
        "predict = model.predict(X)"
      ],
      "execution_count": null,
      "outputs": []
    },
    {
      "cell_type": "code",
      "metadata": {
        "id": "QFghjfN-QL6l",
        "colab_type": "code",
        "colab": {}
      },
      "source": [
        "from sklearn.metrics import accuracy_score"
      ],
      "execution_count": null,
      "outputs": []
    },
    {
      "cell_type": "code",
      "metadata": {
        "id": "b27XH-9FQfiC",
        "colab_type": "code",
        "colab": {}
      },
      "source": [
        "accuracy_score(predict,y)"
      ],
      "execution_count": null,
      "outputs": []
    },
    {
      "cell_type": "code",
      "metadata": {
        "id": "cpA_eiohQkQW",
        "colab_type": "code",
        "colab": {}
      },
      "source": [
        "def layer_sizes(X,y):\n",
        "  n_x = X.shape[0]\n",
        "  n_h = 2\n",
        "  n_o = y.shape[0]\n",
        "\n",
        "  return (n_x,n_h,n_o)\n",
        "\n"
      ],
      "execution_count": null,
      "outputs": []
    },
    {
      "cell_type": "code",
      "metadata": {
        "id": "eQl3mJ0yRIIP",
        "colab_type": "code",
        "colab": {}
      },
      "source": [
        "shape_X.shape"
      ],
      "execution_count": null,
      "outputs": []
    },
    {
      "cell_type": "code",
      "metadata": {
        "id": "jdhoLj2CRQZC",
        "colab_type": "code",
        "colab": {}
      },
      "source": [
        "shape_y.shape[0]"
      ],
      "execution_count": null,
      "outputs": []
    },
    {
      "cell_type": "code",
      "metadata": {
        "id": "QrjqlzYhRUZa",
        "colab_type": "code",
        "colab": {}
      },
      "source": [
        "(n_x, n_h, n_y) = layer_sizes(shape_X,shape_y)\n",
        "print('size of input layer----'+str(n_x))\n",
        "print('size of hidden layer----'+str(n_h))\n",
        "print('size of output layer--'+str(n_y))"
      ],
      "execution_count": null,
      "outputs": []
    },
    {
      "cell_type": "code",
      "metadata": {
        "id": "feWxToFSVO7n",
        "colab_type": "code",
        "colab": {}
      },
      "source": [
        "def initilize_params(n_x,n_h,n_y):\n",
        "  np.random.seed(0)\n",
        "  W1 = np.random.rand(n_h,n_x)*0.01\n",
        "  b1 = np.zeros((n_h,1))\n",
        "  W2 = np.random.rand(n_y,n_h)*0.01\n",
        "  b2 = np.zeros((n_y,1))\n",
        "\n",
        "  assert (W1.shape == (n_h, n_x))\n",
        "  assert (b1.shape == (n_h, 1))\n",
        "  assert (W2.shape == (n_y, n_h))\n",
        "  assert (b2.shape == (n_y, 1))\n",
        "    \n",
        "\n",
        "  parameters = {\"W1\": W1,\n",
        "                  \"b1\": b1,\n",
        "                  \"W2\": W2,\n",
        "                  \"b2\": b2}\n",
        "    \n",
        "  return parameters    "
      ],
      "execution_count": null,
      "outputs": []
    },
    {
      "cell_type": "code",
      "metadata": {
        "id": "V3r6spEjh_yo",
        "colab_type": "code",
        "colab": {}
      },
      "source": [
        "parameters = initilize_params(n_x,n_h,n_y)\n",
        "parameters"
      ],
      "execution_count": null,
      "outputs": []
    },
    {
      "cell_type": "code",
      "metadata": {
        "id": "9adw233Ljtnz",
        "colab_type": "code",
        "colab": {}
      },
      "source": [
        "def forward_propagation(X,parameters):\n",
        "  W1 = parameters['W1']\n",
        "  b1 = parameters['b1']\n",
        "  W2 = parameters['W2']\n",
        "  b2 = parameters['b2']\n",
        "\n",
        "  def sigmoid(z):\n",
        "    return 1/(1+np.exp(-z))\n",
        "\n",
        "  Z1 = np.dot(W1,X)+b1\n",
        "  A1 = sigmoid(Z1)\n",
        "\n",
        "  Z2 = np.dot(W2,A1)+b2\n",
        "  A2 = sigmoid(Z2)\n",
        "\n",
        "  cache = {\"Z1\": Z1,\n",
        "             \"A1\": A1,\n",
        "             \"Z2\": Z2,\n",
        "             \"A2\": A2}\n",
        "    \n",
        "  return A2, cache\n"
      ],
      "execution_count": null,
      "outputs": []
    },
    {
      "cell_type": "code",
      "metadata": {
        "id": "jfxxr91Ll5Vq",
        "colab_type": "code",
        "colab": {}
      },
      "source": [
        "A2, cache = forward_propagation(shape_X,parameters)"
      ],
      "execution_count": null,
      "outputs": []
    },
    {
      "cell_type": "code",
      "metadata": {
        "id": "8nmeyCdRl7ZQ",
        "colab_type": "code",
        "colab": {}
      },
      "source": [
        "print(np.mean(cache['Z1']) ,np.mean(cache['A1']),np.mean(cache['Z2']),np.mean(cache['A2']))"
      ],
      "execution_count": null,
      "outputs": []
    },
    {
      "cell_type": "code",
      "metadata": {
        "id": "bnid4QjUmQJi",
        "colab_type": "code",
        "colab": {}
      },
      "source": [
        "def compute_cost(A2,Y):\n",
        "\n",
        "  m = Y.shape[1]\n",
        "  logprobs = Y*np.log(A2)+(1-Y)*np.log(1-A2)\n",
        "  cost = -1/m*np.sum(logprobs)\n",
        "\n",
        "  return cost"
      ],
      "execution_count": null,
      "outputs": []
    },
    {
      "cell_type": "code",
      "metadata": {
        "id": "MlMc5FLanMJ6",
        "colab_type": "code",
        "colab": {}
      },
      "source": [
        "cost = compute_cost(A2,shape_y)\n",
        "cost"
      ],
      "execution_count": null,
      "outputs": []
    },
    {
      "cell_type": "code",
      "metadata": {
        "id": "oKU8ismBnNCq",
        "colab_type": "code",
        "colab": {}
      },
      "source": [
        "# Back propagation\n",
        "\n",
        "def back_propagation(X,parameters,cache,Y):\n",
        "\n",
        "  m = X.shape[1]\n",
        "\n",
        "  W1 = parameters['W1']\n",
        "  W2 = parameters['W2']\n",
        "\n",
        "  A1 = cache['A1']\n",
        "  A2 = cache['A2']\n",
        "\n",
        "  dZ2 = A2-Y\n",
        "  dW2 = 1/m*np.dot(dZ2,A1.T)\n",
        "  db2 = 1/m*np.sum(dZ2,axis=1,keepdims=True)\n",
        "\n",
        "  dZ1 = np.dot(W2.T,dZ2)*(1-A1**2)\n",
        "  dW1 = 1/m*np.dot(dZ1,X.T)\n",
        "  db1 = 1/m*np.sum(dZ1,axis=1,keepdims=True)\n",
        "\n",
        "  grads = {\"dW1\": dW1,\n",
        "             \"db1\": db1,\n",
        "             \"dW2\": dW2,\n",
        "             \"db2\": db2}\n",
        "    \n",
        "  return grads"
      ],
      "execution_count": null,
      "outputs": []
    },
    {
      "cell_type": "code",
      "metadata": {
        "id": "TpYR6w1hpfIZ",
        "colab_type": "code",
        "colab": {}
      },
      "source": [
        "grads = back_propagation(shape_X,parameters,cache,shape_y)\n",
        "grads"
      ],
      "execution_count": null,
      "outputs": []
    },
    {
      "cell_type": "code",
      "metadata": {
        "id": "RwLYiNt1phsb",
        "colab_type": "code",
        "colab": {}
      },
      "source": [
        "def update_parameters(parameters, grads,learning_rate=0.1):\n",
        "  W1 = parameters['W1']\n",
        "  b1 = parameters['b1']\n",
        "  W2 = parameters['W2']\n",
        "  b2 = parameters['b2']\n",
        "\n",
        "  dW1 = grads['dW1']\n",
        "  db1 = grads['db1']\n",
        "  dW2 = grads['dW2']\n",
        "  db2 = grads['db2']\n",
        "\n",
        "  W1 = W1-learning_rate*dW1\n",
        "  b1 = b1-learning_rate*db1\n",
        "  W2 = W2-learning_rate*dW2\n",
        "  b2 = b2-learning_rate*db2\n",
        "\n",
        "  parameters = {\"W1\": W1,\n",
        "                  \"b1\": b1,\n",
        "                  \"W2\": W2,\n",
        "                  \"b2\": b2}\n",
        "    \n",
        "  return parameters"
      ],
      "execution_count": null,
      "outputs": []
    },
    {
      "cell_type": "code",
      "metadata": {
        "id": "sja1ym4ssRaN",
        "colab_type": "code",
        "colab": {}
      },
      "source": [
        "parameters = update_parameters(parameters, grads)\n",
        "parameters"
      ],
      "execution_count": null,
      "outputs": []
    },
    {
      "cell_type": "code",
      "metadata": {
        "id": "CC7lJD7psbX6",
        "colab_type": "code",
        "colab": {}
      },
      "source": [
        "# integration all methods\n",
        "def nn_model(X,Y,n_h,num_iterations, print_cost=False):\n",
        "  np.random.seed(0)\n",
        "\n",
        "  n_x = layer_sizes(X,Y)[0]\n",
        "  n_y = layer_sizes(X,Y)[2]\n",
        "\n",
        "  parameters = initilize_params(n_x,n_h,n_y)\n",
        "\n",
        "  for i in range(0,num_iterations):\n",
        "    A2,cache = forward_propagation(X,parameters)\n",
        "\n",
        "    cost = compute_cost(A2,Y)\n",
        "\n",
        "    grads = back_propagation(X,parameters,cache,Y)\n",
        "\n",
        "    parameters = update_parameters(parameters,grads)\n",
        "\n",
        "    if print_cost and i % 1000 == 0:\n",
        "      print (\"Cost after iteration %i: %f\" %(i, cost))\n",
        "\n",
        "  return parameters"
      ],
      "execution_count": null,
      "outputs": []
    },
    {
      "cell_type": "code",
      "metadata": {
        "id": "R20oMAkuGkiw",
        "colab_type": "code",
        "colab": {}
      },
      "source": [
        "nn_model(shape_X,shape_y,4,num_iterations=100000, print_cost=True)"
      ],
      "execution_count": null,
      "outputs": []
    },
    {
      "cell_type": "code",
      "metadata": {
        "id": "yqA3D2M0GvYJ",
        "colab_type": "code",
        "colab": {}
      },
      "source": [
        "def predict(parameters,X):\n",
        "  A2, cache = forward_propagation(X, parameters)\n",
        "  predictions = (A2>0.5 )*1\n",
        "    \n",
        "  return predictions"
      ],
      "execution_count": null,
      "outputs": []
    },
    {
      "cell_type": "code",
      "metadata": {
        "id": "DfX4WRraJ8v4",
        "colab_type": "code",
        "colab": {}
      },
      "source": [
        "predict(parameters,shape_X).mean()"
      ],
      "execution_count": null,
      "outputs": []
    },
    {
      "cell_type": "code",
      "metadata": {
        "id": "L5tF-u8CKTNF",
        "colab_type": "code",
        "colab": {}
      },
      "source": [
        ""
      ],
      "execution_count": null,
      "outputs": []
    },
    {
      "cell_type": "markdown",
      "metadata": {
        "id": "uAm36ZtKL5HV",
        "colab_type": "text"
      },
      "source": [
        "# Deep L NN"
      ]
    },
    {
      "cell_type": "code",
      "metadata": {
        "id": "wZ6aB4CcMaCa",
        "colab_type": "code",
        "colab": {}
      },
      "source": [
        "import h5py"
      ],
      "execution_count": null,
      "outputs": []
    },
    {
      "cell_type": "code",
      "metadata": {
        "id": "qP4OiyaYTXxS",
        "colab_type": "code",
        "colab": {}
      },
      "source": [
        "train_x_orig, train_y, test_x_orig, test_y, classes = h5py.load_data()"
      ],
      "execution_count": null,
      "outputs": []
    },
    {
      "cell_type": "code",
      "metadata": {
        "id": "CqhO2_InTbZp",
        "colab_type": "code",
        "colab": {}
      },
      "source": [
        ""
      ],
      "execution_count": null,
      "outputs": []
    },
    {
      "cell_type": "markdown",
      "metadata": {
        "id": "CvBG3C3eOhGB",
        "colab_type": "text"
      },
      "source": [
        "# ANN_numpy"
      ]
    },
    {
      "cell_type": "code",
      "metadata": {
        "id": "i29iytNDOmeW",
        "colab_type": "code",
        "colab": {}
      },
      "source": [
        "import numpy as np\n",
        "import pandas as pd\n",
        "from sklearn.model_selection import train_test_split\n",
        "from sklearn.datasets import load_digits\n",
        "from sklearn.metrics import accuracy_score"
      ],
      "execution_count": null,
      "outputs": []
    },
    {
      "cell_type": "code",
      "metadata": {
        "id": "e4p33PoQO9oc",
        "colab_type": "code",
        "colab": {}
      },
      "source": [
        "digital_data = load_digits()"
      ],
      "execution_count": null,
      "outputs": []
    },
    {
      "cell_type": "code",
      "metadata": {
        "id": "RXK0oJRSPJ_z",
        "colab_type": "code",
        "colab": {}
      },
      "source": [
        "Y= digital_data.target"
      ],
      "execution_count": null,
      "outputs": []
    },
    {
      "cell_type": "code",
      "metadata": {
        "id": "_LQHB_0sPWgK",
        "colab_type": "code",
        "colab": {}
      },
      "source": [
        "Y = pd.get_dummies(Y)"
      ],
      "execution_count": null,
      "outputs": []
    },
    {
      "cell_type": "code",
      "metadata": {
        "id": "qSZmqGE3PXaK",
        "colab_type": "code",
        "colab": {}
      },
      "source": [
        "X_train,X_test,Y_train,Y_test = train_test_split(digital_data.data,Y,\n",
        "                                                 test_size=0.1,random_state =0)"
      ],
      "execution_count": null,
      "outputs": []
    },
    {
      "cell_type": "code",
      "metadata": {
        "id": "bvLIP9pbQURJ",
        "colab_type": "code",
        "colab": {}
      },
      "source": [
        "print(f'X_train shape {X_train.shape}')\n",
        "print(f'X_test shape {X_test.shape}')\n",
        "print(f'Y_train shape {Y_train.shape}')\n",
        "print(f'Y_test shape {Y_test.shape}')"
      ],
      "execution_count": null,
      "outputs": []
    },
    {
      "cell_type": "code",
      "metadata": {
        "id": "-5LLRZtTQoM7",
        "colab_type": "code",
        "colab": {}
      },
      "source": [
        "from keras.layers import Dense\n",
        "from keras.models import Sequential\n",
        "from keras.optimizers import Adam,RMSprop,Adadelta"
      ],
      "execution_count": null,
      "outputs": []
    },
    {
      "cell_type": "code",
      "metadata": {
        "id": "g5J-Gs9hRzdp",
        "colab_type": "code",
        "colab": {}
      },
      "source": [
        "model = Sequential()\n",
        "model.add(Dense(128,input_dim= X_train.shape[1],activation='sigmoid'))\n",
        "model.add(Dense(128,activation='sigmoid'))\n",
        "model.add(Dense(10,activation='softmax'))"
      ],
      "execution_count": null,
      "outputs": []
    },
    {
      "cell_type": "code",
      "metadata": {
        "id": "3oIfdkL_SWJR",
        "colab_type": "code",
        "colab": {}
      },
      "source": [
        "model.summary()"
      ],
      "execution_count": null,
      "outputs": []
    },
    {
      "cell_type": "code",
      "metadata": {
        "id": "bl1JYAhgTxxT",
        "colab_type": "code",
        "colab": {}
      },
      "source": [
        "model.compile(optimizer='Adam',loss='categorical_crossentropy',\n",
        "              metrics=['accuracy'])"
      ],
      "execution_count": null,
      "outputs": []
    },
    {
      "cell_type": "code",
      "metadata": {
        "id": "HqGCZVQcUKiM",
        "colab_type": "code",
        "colab": {}
      },
      "source": [
        "model.fit(X_train,Y_train,epochs=50,batch_size=16)"
      ],
      "execution_count": null,
      "outputs": []
    },
    {
      "cell_type": "code",
      "metadata": {
        "id": "Ak2-PGQYUOSc",
        "colab_type": "code",
        "colab": {}
      },
      "source": [
        "model.predict(X_test)"
      ],
      "execution_count": null,
      "outputs": []
    },
    {
      "cell_type": "code",
      "metadata": {
        "id": "awqabIo-U1B6",
        "colab_type": "code",
        "colab": {}
      },
      "source": [
        "score = model.evaluate(X_test,Y_test)"
      ],
      "execution_count": null,
      "outputs": []
    },
    {
      "cell_type": "code",
      "metadata": {
        "id": "2ZW7OkLrU_I-",
        "colab_type": "code",
        "colab": {}
      },
      "source": [
        "score[1]*100"
      ],
      "execution_count": null,
      "outputs": []
    },
    {
      "cell_type": "code",
      "metadata": {
        "id": "S0aS5SERssaO",
        "colab_type": "code",
        "colab": {}
      },
      "source": [
        "def forward_initilize(X,y,neurons,output):\n",
        "  # initilize params\n",
        "  W1 = np.random.randn(X.shape[1],neurons)\n",
        "  b1 = np.zeros((1,neurons))\n",
        "\n",
        "  W2 = np.random.randn(neurons,neurons)\n",
        "  b2 = np.zeros((1,neurons))\n",
        "\n",
        "  W3 = np.random.randn(neurons,output)\n",
        "  b3 = np.zeros((1,output))\n",
        "\n",
        "  parameters = {\"W1\": W1,\n",
        "                  \"b1\": b1,\n",
        "                  \"W2\": W2,\n",
        "                  \"b2\": b2,\n",
        "                  \"W3\":W3,\n",
        "                  \"b3\":b3\n",
        "                }\n",
        "    \n",
        "  return parameters\n"
      ],
      "execution_count": null,
      "outputs": []
    },
    {
      "cell_type": "code",
      "metadata": {
        "id": "4Jioh21jwqzm",
        "colab_type": "code",
        "colab": {}
      },
      "source": [
        "parameters = forward_initilize(X_train,Y_train,128,10)"
      ],
      "execution_count": null,
      "outputs": []
    },
    {
      "cell_type": "code",
      "metadata": {
        "id": "KlXIdYkpxBS6",
        "colab_type": "code",
        "colab": {}
      },
      "source": [
        "def sigmoid(z):\n",
        "  return 1/(1+np.exp(-z))"
      ],
      "execution_count": null,
      "outputs": []
    },
    {
      "cell_type": "code",
      "metadata": {
        "id": "w2dYq9BPQnXi",
        "colab_type": "code",
        "colab": {}
      },
      "source": [
        "def softmax(s):\n",
        "  exps = np.exp(s-np.max(s,axis=1,keepdims=True))\n",
        "  return exps/np.sum(exps,axis=1,keepdims=True)"
      ],
      "execution_count": null,
      "outputs": []
    },
    {
      "cell_type": "code",
      "metadata": {
        "id": "BwvnAJ5HRuzp",
        "colab_type": "code",
        "colab": {}
      },
      "source": [
        "def feed_forward(X,parameters):\n",
        "  W1 = parameters['W1']\n",
        "  b1 = parameters['b1']\n",
        "  W2 = parameters['W2']\n",
        "  b2 = parameters['b2']\n",
        "  W3 = parameters['W3']\n",
        "  b3 = parameters['b3']\n",
        "\n",
        "  \n",
        "  Z1 = np.dot(X,W1)+b1\n",
        "  A1 = sigmoid(Z1)\n",
        "\n",
        "  Z2 = np.dot(A1,W2)+b2\n",
        "  A2 = sigmoid(Z2)\n",
        "\n",
        "  Z3 = np.dot(A2,W3)+b3\n",
        "  A3 = softmax(Z3)\n",
        "\n",
        "  cache = {\"Z1\": Z1,\n",
        "             \"A1\": A1,\n",
        "             \"Z2\": Z2,\n",
        "             \"A2\": A2,\n",
        "              \"Z3\":Z3,\n",
        "              \"A3\":A3}\n",
        "    \n",
        "  return cache\n"
      ],
      "execution_count": null,
      "outputs": []
    },
    {
      "cell_type": "code",
      "metadata": {
        "id": "q-SOtCW-V4Ug",
        "colab_type": "code",
        "colab": {}
      },
      "source": [
        "cache = feed_forward(X_train,parameters)"
      ],
      "execution_count": null,
      "outputs": []
    },
    {
      "cell_type": "code",
      "metadata": {
        "id": "CvEDgskdZvav",
        "colab_type": "code",
        "colab": {}
      },
      "source": [
        "cache['A3'].shape"
      ],
      "execution_count": null,
      "outputs": []
    },
    {
      "cell_type": "code",
      "metadata": {
        "id": "XjAnpm1bapuy",
        "colab_type": "code",
        "colab": {}
      },
      "source": [
        "Y_train.shape"
      ],
      "execution_count": null,
      "outputs": []
    },
    {
      "cell_type": "code",
      "metadata": {
        "id": "tzCDzJ21azZv",
        "colab_type": "code",
        "colab": {}
      },
      "source": [
        "def error(pred,true):\n",
        "  n_samples = true.shape[0]\n",
        "  logp = -np.log(pred[np.arange(n_samples),np.argmax(true)])\n",
        "  loss = np.sum(logp)/n_samples\n",
        "  return loss"
      ],
      "execution_count": null,
      "outputs": []
    },
    {
      "cell_type": "code",
      "metadata": {
        "id": "QLZPBDXbbxxe",
        "colab_type": "code",
        "colab": {}
      },
      "source": [
        "error(cache['A3'],Y_train)"
      ],
      "execution_count": null,
      "outputs": []
    },
    {
      "cell_type": "code",
      "metadata": {
        "id": "hPpLMs2VeKza",
        "colab_type": "code",
        "colab": {}
      },
      "source": [
        "def cross_entropy(pred,true):\n",
        "  n_samples = true.shape[0]\n",
        "  res = pred-true\n",
        "  return res/n_samples"
      ],
      "execution_count": null,
      "outputs": []
    },
    {
      "cell_type": "code",
      "metadata": {
        "id": "e2zHHz8BejeL",
        "colab_type": "code",
        "colab": {}
      },
      "source": [
        "cross_entropy(cache['A3'],Y_train)"
      ],
      "execution_count": null,
      "outputs": []
    },
    {
      "cell_type": "code",
      "metadata": {
        "id": "0YsI8yDtf94z",
        "colab_type": "code",
        "colab": {}
      },
      "source": [
        "def sigmoid_derv(s):\n",
        "  return s*(1-s)"
      ],
      "execution_count": null,
      "outputs": []
    },
    {
      "cell_type": "code",
      "metadata": {
        "id": "b3RZjZcNb4zn",
        "colab_type": "code",
        "colab": {}
      },
      "source": [
        "def back_prop(X,true,parameters,cache,learning_rate):\n",
        "  W1 = parameters['W1']\n",
        "  b1 = parameters['b1']\n",
        "  W2 = parameters['W2']\n",
        "  b2 = parameters['b2']\n",
        "  W3 = parameters['W3']\n",
        "  b3 = parameters['b3']\n",
        "\n",
        "  Z1 = cache['Z1']\n",
        "  A1 = cache['A1']\n",
        "  Z2 = cache['Z2']\n",
        "  A2 = cache['A2']\n",
        "  Z3 = cache['Z3']\n",
        "  A3 = cache['A3']\n",
        "\n",
        "  # m = true.shape[0]\n",
        "  # dZ3 = A3-true\n",
        "  # dW3 = 1/m*np.dot(dZ3.T,A3)\n",
        "  # db2 = 1/m*np.sum(dZ3,axis=1)\n",
        "\n",
        "  # dZ2 = np.dot(dZ3,W3.T)*(1-A2**2)\n",
        "  # dW1 = 1/m*np.dot(dZ2,A2)\n",
        "  # db1 = 1/m*np.sum(dZ2,axis=1,keepdims=True)\n",
        "  \n",
        "  # dZ1 = np.dot(W2.T,dZ2)*(1-A1**2)\n",
        "  # dW1 = 1/m*np.dot(dZ1,X.T)\n",
        "  # db1 = 1/m*np.sum(dZ1,axis=1,keepdims=True)\n",
        "  \n",
        "  # dW3 = 1/m*np.dot(dZ3,A3.T)\n",
        "  # db3 = 1/m*np.sum(dZ3,axis=1,keepdims=True)\n",
        "\n",
        "  # return db3\n",
        "  \n",
        "  ##################\n",
        "  loss=error(A3,true)\n",
        "  print(\"loss::\",loss)\n",
        "  a3_delta = cross_entropy(A3,true)\n",
        "  \n",
        "  z2_delta = np.dot(a3_delta,W3.T)\n",
        "  \n",
        "  a2_delta = z2_delta*sigmoid_derv(A2)\n",
        "  \n",
        "  z1_delta = np.dot(a2_delta,W2.T)\n",
        "  \n",
        "  a1_delta = z1_delta*sigmoid_derv(A1)\n",
        "  print(a1_delta.shape)\n",
        "  W3 = W3-learning_rate*np.dot(A2.T,a3_delta)\n",
        "  b3 = b3-learning_rate*np.sum(a3_delta,axis=0,keepdims=True)\n",
        "\n",
        "  W2 = W2-learning_rate*np.dot(A1.T,a2_delta)\n",
        "  b2 = b2-learning_rate*np.sum(a2_delta,axis=0)\n",
        "\n",
        "  W1 = w1-learning_rate*np.dot(X.T,a1_delta)\n",
        "  b1 = b1-learning_rate*np.sum(a1_delta,axis=0)\n",
        "\n",
        "  results = {\"W1\": W1,\n",
        "                  \"b1\": b1,\n",
        "                  \"W2\": W2,\n",
        "                  \"b2\": b2,\n",
        "                  \"W3\":W3,\n",
        "                  \"b3\":b3\n",
        "                }\n",
        "    \n",
        "  return results"
      ],
      "execution_count": null,
      "outputs": []
    },
    {
      "cell_type": "code",
      "metadata": {
        "id": "gEv_96TtjOAb",
        "colab_type": "code",
        "colab": {}
      },
      "source": [
        "test = back_prop(X_train,Y_train,parameters,cache,0.1)\n",
        "test"
      ],
      "execution_count": null,
      "outputs": []
    },
    {
      "cell_type": "code",
      "metadata": {
        "id": "GfMz7Y11ka2g",
        "colab_type": "code",
        "colab": {}
      },
      "source": [
        "type(np.sum(test))"
      ],
      "execution_count": null,
      "outputs": []
    },
    {
      "cell_type": "code",
      "metadata": {
        "id": "Dla9pJ9kn58P",
        "colab_type": "code",
        "colab": {}
      },
      "source": [
        ""
      ],
      "execution_count": null,
      "outputs": []
    },
    {
      "cell_type": "markdown",
      "metadata": {
        "id": "oPVKRJijeLT3",
        "colab_type": "text"
      },
      "source": [
        "# TF"
      ]
    },
    {
      "cell_type": "code",
      "metadata": {
        "id": "EF1Wyyidejhf",
        "colab_type": "code",
        "colab": {}
      },
      "source": [
        "%tensorflow_version 1\n",
        "import tensorflow as tf\n",
        "import numpy as np\n"
      ],
      "execution_count": null,
      "outputs": []
    },
    {
      "cell_type": "code",
      "metadata": {
        "id": "2j39wwUaUemQ",
        "colab_type": "code",
        "colab": {}
      },
      "source": [
        "tf.__version__"
      ],
      "execution_count": null,
      "outputs": []
    },
    {
      "cell_type": "code",
      "metadata": {
        "id": "jlHQ1UjYeonc",
        "colab_type": "code",
        "colab": {}
      },
      "source": [
        "coefficients = np.array([[1],[-20],[25]])\n",
        "w = tf.Variable([0],dtype=tf.float32)\n",
        "x = tf.placeholder(tf.float32,[3,1])\n",
        "cost = x[0][0]*w**2+x[1][0]*w+x[2][0]\n",
        "train = tf.train.GradientDescentOptimizer(0.01).minimize(cost)\n",
        "init= tf.global_variables_initializer()\n",
        "\n",
        "with tf.Session() as sess:\n",
        "  sess.run(init)\n",
        "  print(sess.run(w))"
      ],
      "execution_count": null,
      "outputs": []
    },
    {
      "cell_type": "code",
      "metadata": {
        "id": "rPG8Fg8Ojy24",
        "colab_type": "code",
        "colab": {}
      },
      "source": [
        "y_hat = tf.constant(36,name='y_hat')\n",
        "y = tf.constant(39,name='y')\n",
        "loss = tf.Variable((y_hat-y)**2,name='loss')\n",
        "init = tf.global_variables_initializer()\n",
        "\n",
        "with tf.Session() as sess:\n",
        "  sess.run(init)\n",
        "  print(sess.run(loss))"
      ],
      "execution_count": null,
      "outputs": []
    },
    {
      "cell_type": "code",
      "metadata": {
        "id": "kTBHlINdXFnC",
        "colab_type": "code",
        "colab": {}
      },
      "source": [
        "a = tf.constant(5)\n",
        "b = tf.constant(4)\n",
        "c = tf.multiply(a,b)\n",
        "c"
      ],
      "execution_count": null,
      "outputs": []
    },
    {
      "cell_type": "code",
      "metadata": {
        "id": "uUorxZ3_X-WD",
        "colab_type": "code",
        "colab": {}
      },
      "source": [
        "with tf.Session() as sess:\n",
        "  print(sess.run(c))"
      ],
      "execution_count": null,
      "outputs": []
    },
    {
      "cell_type": "code",
      "metadata": {
        "id": "QZZTI5RqYJ2w",
        "colab_type": "code",
        "colab": {}
      },
      "source": [
        "with tf.Session() as sess:\n",
        "  x = tf.placeholder(tf.int64,name='x')\n",
        "  print(sess.run(2*x,feed_dict={x:3}))\n",
        "  sess.close()"
      ],
      "execution_count": null,
      "outputs": []
    },
    {
      "cell_type": "code",
      "metadata": {
        "id": "YZ5zBoy5Z7Pm",
        "colab_type": "code",
        "colab": {}
      },
      "source": [
        "class myCallback(tf.keras.callbacks.Callback):\n",
        "  def on_epoch_end(self, epoch, logs={}):\n",
        "    if(logs.get('loss')<0.4):\n",
        "      print(\"\\nReached 60% accuracy so cancelling training!\")\n",
        "      self.model.stop_training = True\n",
        "callbacks = myCallback()\n",
        "mnist = tf.keras.datasets.fashion_mnist"
      ],
      "execution_count": null,
      "outputs": []
    },
    {
      "cell_type": "code",
      "metadata": {
        "id": "CCVAi2lHg2Df",
        "colab_type": "code",
        "colab": {}
      },
      "source": [
        "(train_images,train_labels),(test_images,test_labels) = mnist.load_data()"
      ],
      "execution_count": null,
      "outputs": []
    },
    {
      "cell_type": "code",
      "metadata": {
        "id": "-j2nOP1MhFNi",
        "colab_type": "code",
        "colab": {}
      },
      "source": [
        "train_images = train_images/255.0\n",
        "test_images = test_images/255.0"
      ],
      "execution_count": null,
      "outputs": []
    },
    {
      "cell_type": "code",
      "metadata": {
        "id": "U6zBKVfUhg5E",
        "colab_type": "code",
        "colab": {}
      },
      "source": [
        "%%time\n",
        "model = tf.keras.models.Sequential([tf.keras.layers.Flatten(),\n",
        "                                    tf.keras.layers.Dense(1024,activation=tf.nn.relu),\n",
        "                                    tf.keras.layers.Dense(10,activation=tf.nn.softmax)])\n"
      ],
      "execution_count": null,
      "outputs": []
    },
    {
      "cell_type": "code",
      "metadata": {
        "id": "Wdda0HeejRMg",
        "colab_type": "code",
        "colab": {}
      },
      "source": [
        "%%time\n",
        "model.compile(optimizer=tf.keras.optimizers.Adam(),loss='sparse_categorical_crossentropy',metrics=['accuracy'])"
      ],
      "execution_count": null,
      "outputs": []
    },
    {
      "cell_type": "code",
      "metadata": {
        "id": "pAqpV6yHkHOe",
        "colab_type": "code",
        "colab": {}
      },
      "source": [
        "%%time\n",
        "model.fit(train_images,train_labels,epochs=5) # ,callbacks=[callbacks]"
      ],
      "execution_count": null,
      "outputs": []
    },
    {
      "cell_type": "code",
      "metadata": {
        "id": "kDf4LELqkdP5",
        "colab_type": "code",
        "colab": {}
      },
      "source": [
        "model.evaluate(test_images,test_labels)"
      ],
      "execution_count": null,
      "outputs": []
    },
    {
      "cell_type": "code",
      "metadata": {
        "id": "vEe-1QSCk4xz",
        "colab_type": "code",
        "colab": {}
      },
      "source": [
        "(model.predict(test_images))[0]"
      ],
      "execution_count": null,
      "outputs": []
    },
    {
      "cell_type": "code",
      "metadata": {
        "id": "U9W7cQXeloms",
        "colab_type": "code",
        "colab": {}
      },
      "source": [
        "print(test_labels[1])"
      ],
      "execution_count": null,
      "outputs": []
    },
    {
      "cell_type": "code",
      "metadata": {
        "id": "BZXYnJOvgb30",
        "colab_type": "code",
        "colab": {}
      },
      "source": [
        "import matplotlib.pyplot as plt\n",
        "plt.imshow(test_images[9])"
      ],
      "execution_count": null,
      "outputs": []
    },
    {
      "cell_type": "code",
      "metadata": {
        "id": "LUD9kI6y6YVX",
        "colab_type": "code",
        "colab": {}
      },
      "source": [
        ""
      ],
      "execution_count": null,
      "outputs": []
    },
    {
      "cell_type": "code",
      "metadata": {
        "id": "kBXVyVhU6YSn",
        "colab_type": "code",
        "colab": {}
      },
      "source": [
        ""
      ],
      "execution_count": null,
      "outputs": []
    },
    {
      "cell_type": "code",
      "metadata": {
        "id": "VTTkZQ2Xgb1J",
        "colab_type": "code",
        "colab": {}
      },
      "source": [
        "# add CNN to above ANN"
      ],
      "execution_count": null,
      "outputs": []
    },
    {
      "cell_type": "code",
      "metadata": {
        "id": "s7MbmNngjeWN",
        "colab_type": "code",
        "colab": {}
      },
      "source": [
        "cnn_model = tf.keras.Sequential([tf.keras.layers.Conv2D(64,(3,3),activation='relu',input_shape=(28,28,1)),\n",
        "                                 tf.keras.layers.MaxPooling2D(2,2),\n",
        "                                 tf.keras.layers.Conv2D(64,(3,3),activation='relu'),\n",
        "                                 tf.keras.layers.MaxPooling2D(2,2),\n",
        "                                 tf.keras.layers.Flatten(),\n",
        "                                 tf.keras.layers.Dense(128,activation='relu'),\n",
        "                                 tf.keras.layers.Dense(10,activation='softmax')])"
      ],
      "execution_count": null,
      "outputs": []
    },
    {
      "cell_type": "code",
      "metadata": {
        "id": "-Ro-XcO7oO2q",
        "colab_type": "code",
        "colab": {}
      },
      "source": [
        "cnn_model.summary()"
      ],
      "execution_count": null,
      "outputs": []
    },
    {
      "cell_type": "code",
      "metadata": {
        "id": "Li-lksn1o1Gb",
        "colab_type": "code",
        "colab": {}
      },
      "source": [
        "from tensorflow.keras.utils import plot_model"
      ],
      "execution_count": null,
      "outputs": []
    },
    {
      "cell_type": "code",
      "metadata": {
        "id": "-F1Ml0rio8Vo",
        "colab_type": "code",
        "colab": {}
      },
      "source": [
        "plot_model(cnn_model,to_file='cnn1_model.png')"
      ],
      "execution_count": null,
      "outputs": []
    },
    {
      "cell_type": "code",
      "metadata": {
        "id": "y_Tu0wVao9Rb",
        "colab_type": "code",
        "colab": {}
      },
      "source": [
        ""
      ],
      "execution_count": null,
      "outputs": []
    },
    {
      "cell_type": "code",
      "metadata": {
        "id": "gNVtzcQ2jeTS",
        "colab_type": "code",
        "colab": {}
      },
      "source": [
        "cnn_model.compile(optimizer=tf.keras.optimizers.Adam(),loss='sparse_categorical_crossentropy',metrics=['accuracy'])"
      ],
      "execution_count": null,
      "outputs": []
    },
    {
      "cell_type": "code",
      "metadata": {
        "id": "pnPYlB9ajeQw",
        "colab_type": "code",
        "colab": {}
      },
      "source": [
        "%%time\n",
        "model.fit(train_images,train_labels,epochs=5) #,callbacks=[callbacks]"
      ],
      "execution_count": null,
      "outputs": []
    },
    {
      "cell_type": "code",
      "metadata": {
        "id": "yIltXu_Wlf9H",
        "colab_type": "code",
        "colab": {}
      },
      "source": [
        "model.evaluate(test_images,test_labels)"
      ],
      "execution_count": null,
      "outputs": []
    },
    {
      "cell_type": "code",
      "metadata": {
        "id": "jfZ_vwf_uUvq",
        "colab_type": "code",
        "colab": {}
      },
      "source": [
        ""
      ],
      "execution_count": null,
      "outputs": []
    },
    {
      "cell_type": "code",
      "metadata": {
        "id": "JgLJkdIzy0sN",
        "colab_type": "code",
        "colab": {}
      },
      "source": [
        "(training_images2, training_labels2), (test_images2, test_labels2) = mnist.load_data()\n",
        "training_images2=training_images2.reshape(60000, 28, 28, 1)\n",
        "training_images2=training_images2/ 255.0\n",
        "test_images2 = test_images2.reshape(10000, 28, 28, 1)\n",
        "test_images2=test_images2/255.0"
      ],
      "execution_count": null,
      "outputs": []
    },
    {
      "cell_type": "code",
      "metadata": {
        "id": "FNoH_IJzy0o7",
        "colab_type": "code",
        "colab": {}
      },
      "source": [
        ""
      ],
      "execution_count": null,
      "outputs": []
    },
    {
      "cell_type": "code",
      "metadata": {
        "id": "ElOHJVhVuUsU",
        "colab_type": "code",
        "colab": {}
      },
      "source": [
        "cnn_model2 = tf.keras.Sequential([tf.keras.layers.Conv2D(64,(3,3),activation='relu',input_shape=(28,28,1)),\n",
        "                                 tf.keras.layers.MaxPooling2D(2,2),\n",
        "                                 tf.keras.layers.Conv2D(64,(3,3),activation='relu'),\n",
        "                                 tf.keras.layers.MaxPooling2D(2,2),\n",
        "                                 tf.keras.layers.Conv2D(64,(3,3),activation='relu'),\n",
        "                                 tf.keras.layers.MaxPooling2D(2,2),\n",
        "                                 tf.keras.layers.Flatten(),\n",
        "                                 tf.keras.layers.Dense(128,activation='relu'),\n",
        "                                 tf.keras.layers.Dense(10,activation='softmax')])"
      ],
      "execution_count": null,
      "outputs": []
    },
    {
      "cell_type": "code",
      "metadata": {
        "id": "2MkD40d-uUql",
        "colab_type": "code",
        "colab": {}
      },
      "source": [
        "cnn_model2.summary()"
      ],
      "execution_count": null,
      "outputs": []
    },
    {
      "cell_type": "code",
      "metadata": {
        "id": "P31QRUNTuUoO",
        "colab_type": "code",
        "colab": {}
      },
      "source": [
        "cnn_model2.compile(optimizer=tf.keras.optimizers.Adam(),loss='sparse_categorical_crossentropy',metrics=['accuracy'])"
      ],
      "execution_count": null,
      "outputs": []
    },
    {
      "cell_type": "code",
      "metadata": {
        "id": "VBQ-ZoeHuUlg",
        "colab_type": "code",
        "colab": {}
      },
      "source": [
        "cnn_model2.fit(training_images2,training_labels2,epochs=5)"
      ],
      "execution_count": null,
      "outputs": []
    },
    {
      "cell_type": "code",
      "metadata": {
        "id": "_meDhM9X-sxi",
        "colab_type": "code",
        "colab": {}
      },
      "source": [
        "# test cv2"
      ],
      "execution_count": null,
      "outputs": []
    },
    {
      "cell_type": "code",
      "metadata": {
        "id": "jaQvG8Wa-suD",
        "colab_type": "code",
        "colab": {}
      },
      "source": [
        "import cv2\n",
        "import numpy as np\n",
        "from scipy import misc\n",
        "\n",
        "i =misc.ascent()\n"
      ],
      "execution_count": null,
      "outputs": []
    },
    {
      "cell_type": "code",
      "metadata": {
        "id": "nUBYMNW3-ssX",
        "colab_type": "code",
        "colab": {}
      },
      "source": [
        "import matplotlib.pyplot as plt\n",
        "plt.grid(False)\n",
        "plt.gray()\n",
        "plt.axis('off')\n",
        "plt.imshow(i)\n",
        "plt.show()"
      ],
      "execution_count": null,
      "outputs": []
    },
    {
      "cell_type": "code",
      "metadata": {
        "id": "zZFWM2dr-sqU",
        "colab_type": "code",
        "colab": {}
      },
      "source": [
        "i_transformed = i.copy()\n",
        "size_X = i_transformed.shape[0]\n",
        "size_Y = i_transformed.shape[1] #512x512"
      ],
      "execution_count": null,
      "outputs": []
    },
    {
      "cell_type": "code",
      "metadata": {
        "id": "cG0HJgVi-sny",
        "colab_type": "code",
        "colab": {}
      },
      "source": [
        "# filters = [ [-1, -2, -1], [0, 0, 0], [1, 2, 1]]\n",
        "# filters = [ [-1, 0, 1], [-2, 0, 2], [-1, 0, 1]]\n",
        "filters = [[1,0,0],[0,-1,0],[0,0,2]]\n",
        "weight  = 1"
      ],
      "execution_count": null,
      "outputs": []
    },
    {
      "cell_type": "code",
      "metadata": {
        "id": "IgfcOHN--siM",
        "colab_type": "code",
        "colab": {}
      },
      "source": [
        "for x in range(1,size_X-1):\n",
        "  for y in range(1,size_Y-1):\n",
        "      convolution = 0.0\n",
        "      convolution = convolution + (i[x - 1, y-1] * filters[0][0])\n",
        "      convolution = convolution + (i[x, y-1] * filters[0][1])\n",
        "      convolution = convolution + (i[x + 1, y-1] * filters[0][2])\n",
        "      convolution = convolution + (i[x-1, y] * filters[1][0])\n",
        "      convolution = convolution + (i[x, y] * filters[1][1])\n",
        "      convolution = convolution + (i[x+1, y] * filters[1][2])\n",
        "      convolution = convolution + (i[x-1, y+1] * filters[2][0])\n",
        "      convolution = convolution + (i[x, y+1] * filters[2][1])\n",
        "      convolution = convolution + (i[x+1, y+1] * filters[2][2])\n",
        "      convolution = convolution * weight\n",
        "      if(convolution<0):\n",
        "        convolution=0\n",
        "      if(convolution>255):\n",
        "        convolution=255\n",
        "      i_transformed[x, y] = convolution"
      ],
      "execution_count": null,
      "outputs": []
    },
    {
      "cell_type": "code",
      "metadata": {
        "id": "cZge5Jz3DJuQ",
        "colab_type": "code",
        "colab": {}
      },
      "source": [
        "plt.gray()\n",
        "plt.grid(False)\n",
        "plt.imshow(i_transformed)\n",
        "#plt.axis('off')\n",
        "plt.show()  "
      ],
      "execution_count": null,
      "outputs": []
    },
    {
      "cell_type": "code",
      "metadata": {
        "id": "XSYuoJ8iDJrL",
        "colab_type": "code",
        "colab": {}
      },
      "source": [
        "new_x = int(size_X/2)\n",
        "new_y = int(size_Y/2)\n",
        "newImage = np.zeros((new_x, new_y))\n",
        "for x in range(0, size_X, 2):\n",
        "  for y in range(0, size_Y, 2):\n",
        "    pixels = []\n",
        "    pixels.append(i_transformed[x, y])\n",
        "    pixels.append(i_transformed[x+1, y])\n",
        "    pixels.append(i_transformed[x, y+1])\n",
        "    pixels.append(i_transformed[x+1, y+1])\n",
        "    newImage[int(x/2),int(y/2)] = max(pixels)\n",
        "\n",
        "# Plot the image. Note the size of the axes -- now 256 pixels instead of 512\n",
        "plt.gray()\n",
        "plt.grid(False)\n",
        "plt.imshow(newImage)\n",
        "#plt.axis('off')\n",
        "plt.show()  "
      ],
      "execution_count": null,
      "outputs": []
    },
    {
      "cell_type": "markdown",
      "metadata": {
        "id": "sTWSe1TE5G4V",
        "colab_type": "text"
      },
      "source": [
        "# TF-CNN(realImages)"
      ]
    },
    {
      "cell_type": "code",
      "metadata": {
        "id": "KvwJeqox5MXk",
        "colab_type": "code",
        "colab": {}
      },
      "source": [
        "from google.colab import files\n",
        "uploaded = files.upload()"
      ],
      "execution_count": null,
      "outputs": []
    },
    {
      "cell_type": "code",
      "metadata": {
        "id": "eDct1LQ05Mjq",
        "colab_type": "code",
        "colab": {}
      },
      "source": [
        "for i in uploaded.keys():\n",
        "  print(i)"
      ],
      "execution_count": null,
      "outputs": []
    },
    {
      "cell_type": "code",
      "metadata": {
        "id": "dAcRr6UqVUpZ",
        "colab_type": "code",
        "colab": {}
      },
      "source": [
        "# train set\n",
        "!wget --no-check-certificate \\\n",
        "    https://storage.googleapis.com/laurencemoroney-blog.appspot.com/horse-or-human.zip \\\n",
        "    -O /tmp/horse-or-human.zip"
      ],
      "execution_count": null,
      "outputs": []
    },
    {
      "cell_type": "code",
      "metadata": {
        "id": "2iczQVsa-bST",
        "colab_type": "code",
        "colab": {}
      },
      "source": [
        "# validation set\n",
        "!wget --no-check-certificate \\\n",
        "    https://storage.googleapis.com/laurencemoroney-blog.appspot.com/validation-horse-or-human.zip \\\n",
        "    -O /tmp/validation-horse-or-human.zip"
      ],
      "execution_count": null,
      "outputs": []
    },
    {
      "cell_type": "code",
      "metadata": {
        "id": "L5kNKRlDWQDb",
        "colab_type": "code",
        "colab": {}
      },
      "source": [
        "import os\n",
        "import zipfile\n",
        "local_zip = '/tmp/horse-or-human.zip'\n",
        "zip_ref = zipfile.ZipFile(local_zip,'r')\n",
        "zip_ref.extractall('/tmp/horse-or-human')\n",
        "\n",
        "local_zip = '/tmp/validation-horse-or-human.zip'\n",
        "zip_ref = zipfile.ZipFile(local_zip, 'r')\n",
        "zip_ref.extractall('/tmp/validation-horse-or-human')\n",
        "\n",
        "zip_ref.close()"
      ],
      "execution_count": null,
      "outputs": []
    },
    {
      "cell_type": "code",
      "metadata": {
        "id": "-V14EquVXXFc",
        "colab_type": "code",
        "colab": {}
      },
      "source": [
        "os.chdir('/tmp/horse-or-human')"
      ],
      "execution_count": null,
      "outputs": []
    },
    {
      "cell_type": "code",
      "metadata": {
        "id": "bgqXFRCiXXCM",
        "colab_type": "code",
        "colab": {}
      },
      "source": [
        "ls"
      ],
      "execution_count": null,
      "outputs": []
    },
    {
      "cell_type": "code",
      "metadata": {
        "id": "kRIXu55uXiVJ",
        "colab_type": "code",
        "colab": {}
      },
      "source": [
        "train_horse_dir = os.path.join('/tmp/horse-or-human/horses')\n",
        "train_human_dir = os.path.join('/tmp/horse-or-human/humans')\n",
        "validation_horse_dir = os.path.join('/tmp/validation-horse-or-human/horses')\n",
        "validation_human_dir = os.path.join('/tmp/validation-horse-or-human/humans')"
      ],
      "execution_count": null,
      "outputs": []
    },
    {
      "cell_type": "code",
      "metadata": {
        "id": "mW5FTh0MX95p",
        "colab_type": "code",
        "colab": {}
      },
      "source": [
        "train_horse_names = os.listdir(train_horse_dir)\n",
        "print(train_horse_names[:10])"
      ],
      "execution_count": null,
      "outputs": []
    },
    {
      "cell_type": "code",
      "metadata": {
        "id": "nCHSo9MLYS4D",
        "colab_type": "code",
        "colab": {}
      },
      "source": [
        "train_human_names = os.listdir(train_human_dir)\n",
        "print(train_human_names[:10])"
      ],
      "execution_count": null,
      "outputs": []
    },
    {
      "cell_type": "code",
      "metadata": {
        "id": "mydMY7kt-9pO",
        "colab_type": "code",
        "colab": {}
      },
      "source": [
        "validation_horse_names = os.listdir(validation_horse_dir)\n",
        "print(validation_horse_names[:10])"
      ],
      "execution_count": null,
      "outputs": []
    },
    {
      "cell_type": "code",
      "metadata": {
        "id": "QQDl3mWw-9ls",
        "colab_type": "code",
        "colab": {}
      },
      "source": [
        "validation_human_names = os.listdir(validation_human_dir)\n",
        "print(validation_human_names[:10])"
      ],
      "execution_count": null,
      "outputs": []
    },
    {
      "cell_type": "code",
      "metadata": {
        "id": "fbrY52RdYaUh",
        "colab_type": "code",
        "colab": {}
      },
      "source": [
        "print('total training horse images:', len(os.listdir(train_horse_dir)))\n",
        "print('total training human images:', len(os.listdir(train_human_dir)))\n",
        "print('total validation horse images:', len(os.listdir(validation_horse_dir)))\n",
        "print('total validation human images:', len(os.listdir(validation_human_dir)))"
      ],
      "execution_count": null,
      "outputs": []
    },
    {
      "cell_type": "code",
      "metadata": {
        "id": "OtEA1ptIYnye",
        "colab_type": "code",
        "colab": {}
      },
      "source": [
        "%matplotlib inline\n",
        "\n",
        "import matplotlib.pyplot as plt\n",
        "import matplotlib.image as mpimg\n",
        "\n",
        "# Parameters for our graph; we'll output images in a 4x4 configuration\n",
        "nrows = 4\n",
        "ncols = 4\n",
        "\n",
        "# Index for iterating over images\n",
        "pic_index = 0"
      ],
      "execution_count": null,
      "outputs": []
    },
    {
      "cell_type": "code",
      "metadata": {
        "id": "giFEBJppYsvR",
        "colab_type": "code",
        "colab": {}
      },
      "source": [
        "# Set up matplotlib fig, and size it to fit 4x4 pics\n",
        "fig = plt.gcf()\n",
        "fig.set_size_inches(ncols * 4, nrows * 4)\n",
        "\n",
        "pic_index += 8\n",
        "next_horse_pix = [os.path.join(train_horse_dir, fname) \n",
        "                for fname in train_horse_names[pic_index-8:pic_index]]\n",
        "next_human_pix = [os.path.join(train_human_dir, fname) \n",
        "                for fname in train_human_names[pic_index-8:pic_index]]\n",
        "\n",
        "for i, img_path in enumerate(next_horse_pix+next_human_pix):\n",
        "  # Set up subplot; subplot indices start at 1\n",
        "  sp = plt.subplot(nrows, ncols, i + 1)\n",
        "  sp.axis('Off') # Don't show axes (or gridlines)\n",
        "\n",
        "  img = mpimg.imread(img_path)\n",
        "  plt.imshow(img)\n",
        "\n",
        "plt.show()"
      ],
      "execution_count": null,
      "outputs": []
    },
    {
      "cell_type": "code",
      "metadata": {
        "id": "b82bxsRPZZIs",
        "colab_type": "code",
        "colab": {}
      },
      "source": [
        "import tensorflow as tf\n",
        "model = tf.keras.models.Sequential([\n",
        "    # Note the input shape is the desired size of the image 300x300 with 3 bytes color\n",
        "    # This is the first convolution\n",
        "    tf.keras.layers.Conv2D(16, (3,3), activation='relu', input_shape=(300, 300, 3)),\n",
        "    tf.keras.layers.MaxPooling2D(2, 2),\n",
        "    # The second convolution\n",
        "    tf.keras.layers.Conv2D(32, (3,3), activation='relu'),\n",
        "    tf.keras.layers.MaxPooling2D(2,2),\n",
        "    # The third convolution\n",
        "    tf.keras.layers.Conv2D(64, (3,3), activation='relu'),\n",
        "    tf.keras.layers.MaxPooling2D(2,2),\n",
        "    # The fourth convolution\n",
        "    tf.keras.layers.Conv2D(64, (3,3), activation='relu'),\n",
        "    tf.keras.layers.MaxPooling2D(2,2),\n",
        "    # The fifth convolution\n",
        "    tf.keras.layers.Conv2D(64, (3,3), activation='relu'),\n",
        "    tf.keras.layers.MaxPooling2D(2,2),\n",
        "    # Flatten the results to feed into a DNN\n",
        "    tf.keras.layers.Flatten(),\n",
        "    # 512 neuron hidden layer\n",
        "    tf.keras.layers.Dense(512, activation='relu'),\n",
        "    # Only 1 output neuron. It will contain a value from 0-1 where 0 for 1 class ('horses') and 1 for the other ('humans')\n",
        "    tf.keras.layers.Dense(1, activation='sigmoid')\n",
        "])"
      ],
      "execution_count": null,
      "outputs": []
    },
    {
      "cell_type": "code",
      "metadata": {
        "id": "iUrgu4opZzTD",
        "colab_type": "code",
        "colab": {}
      },
      "source": [
        "model.summary()"
      ],
      "execution_count": null,
      "outputs": []
    },
    {
      "cell_type": "code",
      "metadata": {
        "id": "-cpdGSifwEqz",
        "colab_type": "code",
        "colab": {}
      },
      "source": [
        "from tensorflow.keras.optimizers import RMSprop\n",
        "\n",
        "model.compile(loss='binary_crossentropy',\n",
        "              optimizer=RMSprop(lr=0.001),\n",
        "              metrics=['accuracy'])"
      ],
      "execution_count": null,
      "outputs": []
    },
    {
      "cell_type": "code",
      "metadata": {
        "id": "5sCChLxEwtQG",
        "colab_type": "code",
        "colab": {}
      },
      "source": [
        "from keras.preprocessing.image import ImageDataGenerator"
      ],
      "execution_count": null,
      "outputs": []
    },
    {
      "cell_type": "code",
      "metadata": {
        "id": "6MNooFs1xzyq",
        "colab_type": "code",
        "colab": {}
      },
      "source": [
        "train_datagen = ImageDataGenerator(rescale = 1/255.)\n",
        "validation_datagen = ImageDataGenerator(rescale=1/255.)"
      ],
      "execution_count": null,
      "outputs": []
    },
    {
      "cell_type": "code",
      "metadata": {
        "id": "v3iiSQ4eyFFS",
        "colab_type": "code",
        "colab": {}
      },
      "source": [
        "train_generator = train_datagen.flow_from_directory('/tmp/horse-or-human/',\n",
        "                                                    target_size=(300,300),\n",
        "                                                    batch_size=128,\n",
        "                                                    class_mode='binary')\n",
        "\n",
        "validation_datagenerator = validation_datagen.flow_from_directory('/tmp/validation-horse-or-human/',\n",
        "                                                    target_size=(300,300),\n",
        "                                                    batch_size=128,\n",
        "                                                    class_mode='binary')"
      ],
      "execution_count": null,
      "outputs": []
    },
    {
      "cell_type": "code",
      "metadata": {
        "id": "cL8yWcakyjt8",
        "colab_type": "code",
        "colab": {}
      },
      "source": [
        "history = model.fit_generator(train_generator,\n",
        "                              steps_per_epoch=8,\n",
        "                              epochs=15,\n",
        "                              validation_data = validation_datagenerator,\n",
        "                              verbose=1,\n",
        "                              validation_steps=8)"
      ],
      "execution_count": null,
      "outputs": []
    },
    {
      "cell_type": "code",
      "metadata": {
        "id": "QKS7eojW0rB6",
        "colab_type": "code",
        "colab": {}
      },
      "source": [
        "# history = model.fit(\n",
        "#       train_generator,\n",
        "#       steps_per_epoch=8,  \n",
        "#       epochs=15,\n",
        "#       verbose=1)"
      ],
      "execution_count": null,
      "outputs": []
    },
    {
      "cell_type": "code",
      "metadata": {
        "id": "Cz_98Nsb1pXv",
        "colab_type": "code",
        "colab": {}
      },
      "source": [
        "import numpy as np\n",
        "from google.colab import files\n",
        "from keras.preprocessing import image\n",
        "\n",
        "uploaded = files.upload()\n",
        "\n",
        "for fn in uploaded.keys():\n",
        " \n",
        "  # predicting images\n",
        "  path = '/content/' + fn\n",
        "  img = image.load_img(path, target_size=(300, 300))\n",
        "  x = image.img_to_array(img)\n",
        "  x = np.expand_dims(x, axis=0)\n",
        "\n",
        "  images = np.vstack([x])\n",
        "  classes = model.predict(images, batch_size=10)\n",
        "  print(classes[0])\n",
        "  if classes[0]>0.5:\n",
        "    print(fn + \" is a human\")\n",
        "  else:\n",
        "    print(fn + \" is a horse\")"
      ],
      "execution_count": null,
      "outputs": []
    },
    {
      "cell_type": "code",
      "metadata": {
        "id": "vkMXta0g4hLL",
        "colab_type": "code",
        "colab": {}
      },
      "source": [
        "import numpy as np\n",
        "import random\n",
        "from tensorflow.keras.preprocessing.image import img_to_array, load_img\n",
        "\n",
        "# Let's define a new Model that will take an image as input, and will output\n",
        "# intermediate representations for all layers in the previous model after\n",
        "# the first.\n",
        "successive_outputs = [layer.output for layer in model.layers[1:]]\n",
        "#visualization_model = Model(img_input, successive_outputs)\n",
        "visualization_model = tf.keras.models.Model(inputs = model.input, outputs = successive_outputs)\n",
        "# Let's prepare a random input image from the training set.\n",
        "horse_img_files = [os.path.join(train_horse_dir, f) for f in train_horses_names]\n",
        "human_img_files = [os.path.join(train_human_dir, f) for f in train_humans_names]\n",
        "img_path = random.choice(horse_img_files + human_img_files)\n",
        "\n",
        "img = load_img(img_path, target_size=(300, 300))  # this is a PIL image\n",
        "x = img_to_array(img)  # Numpy array with shape (150, 150, 3)\n",
        "x = x.reshape((1,) + x.shape)  # Numpy array with shape (1, 150, 150, 3)\n",
        "\n",
        "# Rescale by 1/255\n",
        "x /= 255\n",
        "\n",
        "# Let's run our image through our network, thus obtaining all\n",
        "# intermediate representations for this image.\n",
        "successive_feature_maps = visualization_model.predict(x)\n",
        "\n",
        "# These are the names of the layers, so can have them as part of our plot\n",
        "layer_names = [layer.name for layer in model.layers]\n",
        "\n",
        "# Now let's display our representations\n",
        "for layer_name, feature_map in zip(layer_names, successive_feature_maps):\n",
        "  if len(feature_map.shape) == 4:\n",
        "    # Just do this for the conv / maxpool layers, not the fully-connected layers\n",
        "    n_features = feature_map.shape[-1]  # number of features in feature map\n",
        "    # The feature map has shape (1, size, size, n_features)\n",
        "    size = feature_map.shape[1]\n",
        "    # We will tile our images in this matrix\n",
        "    display_grid = np.zeros((size, size * n_features))\n",
        "    for i in range(n_features):\n",
        "      # Postprocess the feature to make it visually palatable\n",
        "      x = feature_map[0, :, :, i]\n",
        "      x -= x.mean()\n",
        "      x /= x.std()\n",
        "      x *= 64\n",
        "      x += 128\n",
        "      x = np.clip(x, 0, 255).astype('uint8')\n",
        "      # We'll tile each filter into this big horizontal grid\n",
        "      display_grid[:, i * size : (i + 1) * size] = x\n",
        "    # Display the grid\n",
        "    scale = 20. / n_features\n",
        "    plt.figure(figsize=(scale * n_features, scale))\n",
        "    plt.title(layer_name)\n",
        "    plt.grid(False)\n",
        "    plt.imshow(display_grid, aspect='auto', cmap='viridis')"
      ],
      "execution_count": null,
      "outputs": []
    },
    {
      "cell_type": "code",
      "metadata": {
        "id": "X3Qz8Wg16Ps6",
        "colab_type": "code",
        "colab": {}
      },
      "source": [
        "# to clean\n",
        "# import os, signal\n",
        "# os.kill(os.getpid(), signal.SIGKILL)"
      ],
      "execution_count": null,
      "outputs": []
    },
    {
      "cell_type": "code",
      "metadata": {
        "id": "COcmpSa16SDZ",
        "colab_type": "code",
        "colab": {}
      },
      "source": [
        ""
      ],
      "execution_count": null,
      "outputs": []
    },
    {
      "cell_type": "markdown",
      "metadata": {
        "id": "r2VinwUhod9z",
        "colab_type": "text"
      },
      "source": [
        "# Malaria CNN"
      ]
    },
    {
      "cell_type": "markdown",
      "metadata": {
        "id": "oaLGsCdgomJ5",
        "colab_type": "text"
      },
      "source": [
        "Import Dataset"
      ]
    },
    {
      "cell_type": "code",
      "metadata": {
        "id": "LuqCNPNhsKfK",
        "colab_type": "code",
        "colab": {}
      },
      "source": [
        "!sudo mkdir '/content/drive/My Drive/malaria_blood_cells'"
      ],
      "execution_count": null,
      "outputs": []
    },
    {
      "cell_type": "code",
      "metadata": {
        "id": "J941BDchozbq",
        "colab_type": "code",
        "colab": {}
      },
      "source": [
        "import os\n",
        "os.chdir('/content/drive/My Drive/malaria_blood_cells')\n",
        "os.environ['KAGGLE_USERNAME'] = \"karma12\"\n",
        "os.environ['KAGGLE_KEY'] = \"86e11f115781e9045f94c2b0ba1e31f4\""
      ],
      "execution_count": null,
      "outputs": []
    },
    {
      "cell_type": "code",
      "metadata": {
        "id": "pPL9tcOnooXD",
        "colab_type": "code",
        "colab": {}
      },
      "source": [
        "!kaggle datasets download -d iarunava/cell-images-for-detecting-malaria"
      ],
      "execution_count": null,
      "outputs": []
    },
    {
      "cell_type": "code",
      "metadata": {
        "id": "dA9wzkytssUM",
        "colab_type": "code",
        "colab": {}
      },
      "source": [
        "!ls"
      ],
      "execution_count": null,
      "outputs": []
    },
    {
      "cell_type": "code",
      "metadata": {
        "id": "LLF1aoVktFME",
        "colab_type": "code",
        "colab": {}
      },
      "source": [
        "import zipfile\n",
        "local_zip  = 'cell-images-for-detecting-malaria.zip'\n",
        "zip_ref = zipfile.ZipFile(local_zip,'r')\n",
        "zip_ref.extractall('/content/drive/My Drive/malaria_blood_cells')"
      ],
      "execution_count": null,
      "outputs": []
    },
    {
      "cell_type": "code",
      "metadata": {
        "id": "08uoISoWt1sk",
        "colab_type": "code",
        "colab": {}
      },
      "source": [
        "!ls '/content/drive/My Drive/malaria_blood_cells/cell_images'"
      ],
      "execution_count": null,
      "outputs": []
    },
    {
      "cell_type": "code",
      "metadata": {
        "id": "kbIKHoh-vU_1",
        "colab_type": "code",
        "colab": {}
      },
      "source": [
        "train_parasite_dir = os.path.join('/content/drive/My Drive/malaria_blood_cells/cell_images/Parasitized')\n",
        "train_uninfect_dir = os.path.join('/content/drive/My Drive/malaria_blood_cells/cell_images/Uninfected')"
      ],
      "execution_count": null,
      "outputs": []
    },
    {
      "cell_type": "code",
      "metadata": {
        "id": "ayHqNqzTxjSl",
        "colab_type": "code",
        "colab": {
          "base_uri": "https://localhost:8080/",
          "height": 34
        },
        "outputId": "1e3e189d-7ec3-4329-b63d-bdf89bb32457"
      },
      "source": [
        "train_parasite_images = os.listdir(train_parasite_dir)\n",
        "print(len(train_parasite_images))"
      ],
      "execution_count": null,
      "outputs": [
        {
          "output_type": "stream",
          "text": [
            "13779\n"
          ],
          "name": "stdout"
        }
      ]
    },
    {
      "cell_type": "code",
      "metadata": {
        "id": "hizZ-SIRypTd",
        "colab_type": "code",
        "colab": {
          "base_uri": "https://localhost:8080/",
          "height": 54
        },
        "outputId": "e4ee1e40-ad16-47f9-8b84-a15fd77a18ab"
      },
      "source": [
        "print(train_parasite_images[:10])"
      ],
      "execution_count": null,
      "outputs": [
        {
          "output_type": "stream",
          "text": [
            "['C99P60ThinF_IMG_20150918_141001_cell_153.png', 'C99P60ThinF_IMG_20150918_141001_cell_154.png', 'C99P60ThinF_IMG_20150918_141001_cell_155.png', 'C99P60ThinF_IMG_20150918_141001_cell_156.png', 'C99P60ThinF_IMG_20150918_141001_cell_157.png', 'C99P60ThinF_IMG_20150918_141001_cell_158.png', 'C99P60ThinF_IMG_20150918_141001_cell_159.png', 'C99P60ThinF_IMG_20150918_141001_cell_160.png', 'C99P60ThinF_IMG_20150918_141001_cell_161.png', 'C99P60ThinF_IMG_20150918_141001_cell_162.png']\n"
          ],
          "name": "stdout"
        }
      ]
    },
    {
      "cell_type": "code",
      "metadata": {
        "id": "XE35iBhkxvyF",
        "colab_type": "code",
        "colab": {
          "base_uri": "https://localhost:8080/",
          "height": 71
        },
        "outputId": "2ae7d439-afa4-4b27-8150-77cc1c0bc74d"
      },
      "source": [
        "train_uninfected_images = os.listdir(train_uninfect_dir)\n",
        "print(len(train_uninfected_images))\n",
        "print(train_uninfected_images[:10])"
      ],
      "execution_count": null,
      "outputs": [
        {
          "output_type": "stream",
          "text": [
            "8460\n",
            "['C224ThinF_IMG_20151112_112834_cell_22.png', 'C224ThinF_IMG_20151112_112834_cell_239.png', 'C224ThinF_IMG_20151112_112834_cell_36.png', 'C224ThinF_IMG_20151112_112834_cell_4.png', 'C224ThinF_IMG_20151112_112834_cell_65.png', 'C224ThinF_IMG_20151112_112834_cell_87.png', 'C224ThinF_IMG_20151112_113157_cell_120.png', 'C224ThinF_IMG_20151112_113157_cell_151.png', 'C224ThinF_IMG_20151112_113157_cell_169.png', 'C224ThinF_IMG_20151112_113157_cell_187.png']\n"
          ],
          "name": "stdout"
        }
      ]
    },
    {
      "cell_type": "code",
      "metadata": {
        "id": "ZiuvgGm1yBFd",
        "colab_type": "code",
        "colab": {}
      },
      "source": [
        "import matplotlib.pyplot as plt\n",
        "import matplotlib.image as mpimg"
      ],
      "execution_count": null,
      "outputs": []
    },
    {
      "cell_type": "code",
      "metadata": {
        "id": "js5RLXb8znRL",
        "colab_type": "code",
        "colab": {
          "base_uri": "https://localhost:8080/",
          "height": 286
        },
        "outputId": "7e0a4902-7f3d-4c9d-d367-340dc1cdc2b1"
      },
      "source": [
        "plt.imshow(mpimg.imread(os.path.join('/content/drive/My Drive/malaria_blood_cells/cell_images/Parasitized/',train_parasite_images[10])))"
      ],
      "execution_count": null,
      "outputs": [
        {
          "output_type": "execute_result",
          "data": {
            "text/plain": [
              "<matplotlib.image.AxesImage at 0x7f4338e60cf8>"
            ]
          },
          "metadata": {
            "tags": []
          },
          "execution_count": 9
        },
        {
          "output_type": "display_data",
          "data": {
            "image/png": "[encoded data removed]",
            "text/plain": [
              "<Figure size 432x288 with 1 Axes>"
            ]
          },
          "metadata": {
            "tags": [],
            "needs_background": "light"
          }
        }
      ]
    },
    {
      "cell_type": "code",
      "metadata": {
        "id": "jLlOnP92zruy",
        "colab_type": "code",
        "colab": {}
      },
      "source": [
        "import tensorflow as tf\n",
        "model = tf.keras.models.Sequential([\n",
        "    # Note the input shape is the desired size of the image 300x300 with 3 bytes color\n",
        "    # This is the first convolution\n",
        "    tf.keras.layers.Conv2D(128, (3,3), activation='relu', input_shape=(300, 300, 3)),\n",
        "    tf.keras.layers.MaxPooling2D(2, 2),\n",
        "    # The second convolution\n",
        "    tf.keras.layers.Conv2D(64, (3,3), activation='relu'),\n",
        "    tf.keras.layers.MaxPooling2D(2,2),\n",
        "    # The third convolution\n",
        "    tf.keras.layers.Conv2D(64, (3,3), activation='relu'),\n",
        "    tf.keras.layers.MaxPooling2D(2,2),\n",
        "    # The fourth convolution\n",
        "    tf.keras.layers.Conv2D(32, (3,3), activation='relu'),\n",
        "    tf.keras.layers.MaxPooling2D(2,2),\n",
        "    # The fifth convolution\n",
        "    tf.keras.layers.Conv2D(32, (3,3), activation='relu'),\n",
        "    tf.keras.layers.MaxPooling2D(2,2),\n",
        "    # Flatten the results to feed into a DNN\n",
        "    tf.keras.layers.Flatten(),\n",
        "    # 512 neuron hidden layer\n",
        "    tf.keras.layers.Dense(512, activation='relu'),\n",
        "    # Only 1 output neuron. It will contain a value from 0-1 where 0 for 1 class ('horses') and 1 for the other ('humans')\n",
        "    tf.keras.layers.Dense(1, activation='sigmoid')\n",
        "])"
      ],
      "execution_count": null,
      "outputs": []
    },
    {
      "cell_type": "code",
      "metadata": {
        "id": "wPSBf9Sg1GLR",
        "colab_type": "code",
        "colab": {
          "base_uri": "https://localhost:8080/",
          "height": 595
        },
        "outputId": "c1015557-4152-4b12-90b5-e968d1345e23"
      },
      "source": [
        "model.summary()"
      ],
      "execution_count": null,
      "outputs": [
        {
          "output_type": "stream",
          "text": [
            "Model: \"sequential\"\n",
            "_________________________________________________________________\n",
            "Layer (type)                 Output Shape              Param #   \n",
            "=================================================================\n",
            "conv2d (Conv2D)              (None, 298, 298, 128)     3584      \n",
            "_________________________________________________________________\n",
            "max_pooling2d (MaxPooling2D) (None, 149, 149, 128)     0         \n",
            "_________________________________________________________________\n",
            "conv2d_1 (Conv2D)            (None, 147, 147, 64)      73792     \n",
            "_________________________________________________________________\n",
            "max_pooling2d_1 (MaxPooling2 (None, 73, 73, 64)        0         \n",
            "_________________________________________________________________\n",
            "conv2d_2 (Conv2D)            (None, 71, 71, 64)        36928     \n",
            "_________________________________________________________________\n",
            "max_pooling2d_2 (MaxPooling2 (None, 35, 35, 64)        0         \n",
            "_________________________________________________________________\n",
            "conv2d_3 (Conv2D)            (None, 33, 33, 32)        18464     \n",
            "_________________________________________________________________\n",
            "max_pooling2d_3 (MaxPooling2 (None, 16, 16, 32)        0         \n",
            "_________________________________________________________________\n",
            "conv2d_4 (Conv2D)            (None, 14, 14, 32)        9248      \n",
            "_________________________________________________________________\n",
            "max_pooling2d_4 (MaxPooling2 (None, 7, 7, 32)          0         \n",
            "_________________________________________________________________\n",
            "flatten (Flatten)            (None, 1568)              0         \n",
            "_________________________________________________________________\n",
            "dense (Dense)                (None, 512)               803328    \n",
            "_________________________________________________________________\n",
            "dense_1 (Dense)              (None, 1)                 513       \n",
            "=================================================================\n",
            "Total params: 945,857\n",
            "Trainable params: 945,857\n",
            "Non-trainable params: 0\n",
            "_________________________________________________________________\n"
          ],
          "name": "stdout"
        }
      ]
    },
    {
      "cell_type": "markdown",
      "metadata": {
        "id": "HnUwyndA1-z0",
        "colab_type": "text"
      },
      "source": [
        "Image Augmentation"
      ]
    },
    {
      "cell_type": "code",
      "metadata": {
        "id": "8qRRkK4s2A5D",
        "colab_type": "code",
        "colab": {}
      },
      "source": [
        "from tensorflow.keras.preprocessing.image import ImageDataGenerator"
      ],
      "execution_count": null,
      "outputs": []
    },
    {
      "cell_type": "code",
      "metadata": {
        "id": "1-Ip2QBM2Lyg",
        "colab_type": "code",
        "colab": {}
      },
      "source": [
        "data_gen = ImageDataGenerator(rescale=1/255.)"
      ],
      "execution_count": null,
      "outputs": []
    },
    {
      "cell_type": "code",
      "metadata": {
        "id": "WMdLJS706-Kj",
        "colab_type": "code",
        "colab": {
          "base_uri": "https://localhost:8080/",
          "height": 34
        },
        "outputId": "ada2dd28-a25b-454d-c4b9-d04286d27950"
      },
      "source": [
        "train_data_gen = data_gen.flow_from_directory('/content/drive/My Drive/malaria_blood_cells/cell_images',target_size=(300,300),batch_size=32,\n",
        "                                              class_mode='binary',subset='training')"
      ],
      "execution_count": null,
      "outputs": [
        {
          "output_type": "stream",
          "text": [
            "Found 22239 images belonging to 3 classes.\n"
          ],
          "name": "stdout"
        }
      ]
    },
    {
      "cell_type": "code",
      "metadata": {
        "id": "BrS__LWH7iqr",
        "colab_type": "code",
        "colab": {
          "base_uri": "https://localhost:8080/",
          "height": 34
        },
        "outputId": "a6ae8a88-3cc2-4922-e010-505e2065757b"
      },
      "source": [
        "validation_data_gen = data_gen.flow_from_directory('/content/drive/My Drive/malaria_blood_cells/cell_images/',target_size=(300,300),batch_size=32,\n",
        "                                              class_mode='binary',subset='validation')"
      ],
      "execution_count": null,
      "outputs": [
        {
          "output_type": "stream",
          "text": [
            "Found 0 images belonging to 3 classes.\n"
          ],
          "name": "stdout"
        }
      ]
    },
    {
      "cell_type": "code",
      "metadata": {
        "id": "6ehH4karAzlm",
        "colab_type": "code",
        "colab": {}
      },
      "source": [
        "from tensorflow.keras.optimizers import RMSprop,Adam\n",
        "\n",
        "model.compile(loss='binary_crossentropy',\n",
        "              # optimizer=RMSprop(lr=0.001),\n",
        "              optimizer=Adam(),\n",
        "              metrics=['accuracy'])"
      ],
      "execution_count": null,
      "outputs": []
    },
    {
      "cell_type": "code",
      "metadata": {
        "id": "8e9tCMh-7rK5",
        "colab_type": "code",
        "colab": {
          "base_uri": "https://localhost:8080/",
          "height": 357
        },
        "outputId": "aa390fda-4c29-47ea-bd08-00e080184cb1"
      },
      "source": [
        "history = model.fit_generator(train_data_gen,steps_per_epoch=100,\n",
        "                              epochs=50)"
      ],
      "execution_count": null,
      "outputs": [
        {
          "output_type": "stream",
          "text": [
            "Epoch 1/50\n",
            "  3/100 [..............................] - ETA: 21:33 - loss: 0.6292 - accuracy: 0.6562"
          ],
          "name": "stdout"
        },
        {
          "output_type": "error",
          "ename": "KeyboardInterrupt",
          "evalue": "ignored",
          "traceback": [
            "\u001b[0;31m---------------------------------------------------------------------------\u001b[0m",
            "\u001b[0;31mKeyboardInterrupt\u001b[0m                         Traceback (most recent call last)",
            "\u001b[0;32m<ipython-input-19-75ada421bba9>\u001b[0m in \u001b[0;36m<module>\u001b[0;34m()\u001b[0m\n\u001b[1;32m      1\u001b[0m history = model.fit_generator(train_data_gen,steps_per_epoch=100,\n\u001b[0;32m----> 2\u001b[0;31m                               epochs=50)\n\u001b[0m",
            "\u001b[0;32m/usr/local/lib/python3.6/dist-packages/tensorflow/python/util/deprecation.py\u001b[0m in \u001b[0;36mnew_func\u001b[0;34m(*args, **kwargs)\u001b[0m\n\u001b[1;32m    322\u001b[0m               \u001b[0;34m'in a future version'\u001b[0m \u001b[0;32mif\u001b[0m \u001b[0mdate\u001b[0m \u001b[0;32mis\u001b[0m \u001b[0;32mNone\u001b[0m \u001b[0;32melse\u001b[0m \u001b[0;34m(\u001b[0m\u001b[0;34m'after %s'\u001b[0m \u001b[0;34m%\u001b[0m \u001b[0mdate\u001b[0m\u001b[0;34m)\u001b[0m\u001b[0;34m,\u001b[0m\u001b[0;34m\u001b[0m\u001b[0;34m\u001b[0m\u001b[0m\n\u001b[1;32m    323\u001b[0m               instructions)\n\u001b[0;32m--> 324\u001b[0;31m       \u001b[0;32mreturn\u001b[0m \u001b[0mfunc\u001b[0m\u001b[0;34m(\u001b[0m\u001b[0;34m*\u001b[0m\u001b[0margs\u001b[0m\u001b[0;34m,\u001b[0m \u001b[0;34m**\u001b[0m\u001b[0mkwargs\u001b[0m\u001b[0;34m)\u001b[0m\u001b[0;34m\u001b[0m\u001b[0;34m\u001b[0m\u001b[0m\n\u001b[0m\u001b[1;32m    325\u001b[0m     return tf_decorator.make_decorator(\n\u001b[1;32m    326\u001b[0m         \u001b[0mfunc\u001b[0m\u001b[0;34m,\u001b[0m \u001b[0mnew_func\u001b[0m\u001b[0;34m,\u001b[0m \u001b[0;34m'deprecated'\u001b[0m\u001b[0;34m,\u001b[0m\u001b[0;34m\u001b[0m\u001b[0;34m\u001b[0m\u001b[0m\n",
            "\u001b[0;32m/usr/local/lib/python3.6/dist-packages/tensorflow/python/keras/engine/training.py\u001b[0m in \u001b[0;36mfit_generator\u001b[0;34m(self, generator, steps_per_epoch, epochs, verbose, callbacks, validation_data, validation_steps, validation_freq, class_weight, max_queue_size, workers, use_multiprocessing, shuffle, initial_epoch)\u001b[0m\n\u001b[1;32m   1477\u001b[0m         \u001b[0muse_multiprocessing\u001b[0m\u001b[0;34m=\u001b[0m\u001b[0muse_multiprocessing\u001b[0m\u001b[0;34m,\u001b[0m\u001b[0;34m\u001b[0m\u001b[0;34m\u001b[0m\u001b[0m\n\u001b[1;32m   1478\u001b[0m         \u001b[0mshuffle\u001b[0m\u001b[0;34m=\u001b[0m\u001b[0mshuffle\u001b[0m\u001b[0;34m,\u001b[0m\u001b[0;34m\u001b[0m\u001b[0;34m\u001b[0m\u001b[0m\n\u001b[0;32m-> 1479\u001b[0;31m         initial_epoch=initial_epoch)\n\u001b[0m\u001b[1;32m   1480\u001b[0m \u001b[0;34m\u001b[0m\u001b[0m\n\u001b[1;32m   1481\u001b[0m   @deprecation.deprecated(\n",
            "\u001b[0;32m/usr/local/lib/python3.6/dist-packages/tensorflow/python/keras/engine/training.py\u001b[0m in \u001b[0;36m_method_wrapper\u001b[0;34m(self, *args, **kwargs)\u001b[0m\n\u001b[1;32m     64\u001b[0m   \u001b[0;32mdef\u001b[0m \u001b[0m_method_wrapper\u001b[0m\u001b[0;34m(\u001b[0m\u001b[0mself\u001b[0m\u001b[0;34m,\u001b[0m \u001b[0;34m*\u001b[0m\u001b[0margs\u001b[0m\u001b[0;34m,\u001b[0m \u001b[0;34m**\u001b[0m\u001b[0mkwargs\u001b[0m\u001b[0;34m)\u001b[0m\u001b[0;34m:\u001b[0m\u001b[0;34m\u001b[0m\u001b[0;34m\u001b[0m\u001b[0m\n\u001b[1;32m     65\u001b[0m     \u001b[0;32mif\u001b[0m \u001b[0;32mnot\u001b[0m \u001b[0mself\u001b[0m\u001b[0;34m.\u001b[0m\u001b[0m_in_multi_worker_mode\u001b[0m\u001b[0;34m(\u001b[0m\u001b[0;34m)\u001b[0m\u001b[0;34m:\u001b[0m  \u001b[0;31m# pylint: disable=protected-access\u001b[0m\u001b[0;34m\u001b[0m\u001b[0;34m\u001b[0m\u001b[0m\n\u001b[0;32m---> 66\u001b[0;31m       \u001b[0;32mreturn\u001b[0m \u001b[0mmethod\u001b[0m\u001b[0;34m(\u001b[0m\u001b[0mself\u001b[0m\u001b[0;34m,\u001b[0m \u001b[0;34m*\u001b[0m\u001b[0margs\u001b[0m\u001b[0;34m,\u001b[0m \u001b[0;34m**\u001b[0m\u001b[0mkwargs\u001b[0m\u001b[0;34m)\u001b[0m\u001b[0;34m\u001b[0m\u001b[0;34m\u001b[0m\u001b[0m\n\u001b[0m\u001b[1;32m     67\u001b[0m \u001b[0;34m\u001b[0m\u001b[0m\n\u001b[1;32m     68\u001b[0m     \u001b[0;31m# Running inside `run_distribute_coordinator` already.\u001b[0m\u001b[0;34m\u001b[0m\u001b[0;34m\u001b[0m\u001b[0;34m\u001b[0m\u001b[0m\n",
            "\u001b[0;32m/usr/local/lib/python3.6/dist-packages/tensorflow/python/keras/engine/training.py\u001b[0m in \u001b[0;36mfit\u001b[0;34m(self, x, y, batch_size, epochs, verbose, callbacks, validation_split, validation_data, shuffle, class_weight, sample_weight, initial_epoch, steps_per_epoch, validation_steps, validation_batch_size, validation_freq, max_queue_size, workers, use_multiprocessing)\u001b[0m\n\u001b[1;32m    846\u001b[0m                 batch_size=batch_size):\n\u001b[1;32m    847\u001b[0m               \u001b[0mcallbacks\u001b[0m\u001b[0;34m.\u001b[0m\u001b[0mon_train_batch_begin\u001b[0m\u001b[0;34m(\u001b[0m\u001b[0mstep\u001b[0m\u001b[0;34m)\u001b[0m\u001b[0;34m\u001b[0m\u001b[0;34m\u001b[0m\u001b[0m\n\u001b[0;32m--> 848\u001b[0;31m               \u001b[0mtmp_logs\u001b[0m \u001b[0;34m=\u001b[0m \u001b[0mtrain_function\u001b[0m\u001b[0;34m(\u001b[0m\u001b[0miterator\u001b[0m\u001b[0;34m)\u001b[0m\u001b[0;34m\u001b[0m\u001b[0;34m\u001b[0m\u001b[0m\n\u001b[0m\u001b[1;32m    849\u001b[0m               \u001b[0;31m# Catch OutOfRangeError for Datasets of unknown size.\u001b[0m\u001b[0;34m\u001b[0m\u001b[0;34m\u001b[0m\u001b[0;34m\u001b[0m\u001b[0m\n\u001b[1;32m    850\u001b[0m               \u001b[0;31m# This blocks until the batch has finished executing.\u001b[0m\u001b[0;34m\u001b[0m\u001b[0;34m\u001b[0m\u001b[0;34m\u001b[0m\u001b[0m\n",
            "\u001b[0;32m/usr/local/lib/python3.6/dist-packages/tensorflow/python/eager/def_function.py\u001b[0m in \u001b[0;36m__call__\u001b[0;34m(self, *args, **kwds)\u001b[0m\n\u001b[1;32m    578\u001b[0m         \u001b[0mxla_context\u001b[0m\u001b[0;34m.\u001b[0m\u001b[0mExit\u001b[0m\u001b[0;34m(\u001b[0m\u001b[0;34m)\u001b[0m\u001b[0;34m\u001b[0m\u001b[0;34m\u001b[0m\u001b[0m\n\u001b[1;32m    579\u001b[0m     \u001b[0;32melse\u001b[0m\u001b[0;34m:\u001b[0m\u001b[0;34m\u001b[0m\u001b[0;34m\u001b[0m\u001b[0m\n\u001b[0;32m--> 580\u001b[0;31m       \u001b[0mresult\u001b[0m \u001b[0;34m=\u001b[0m \u001b[0mself\u001b[0m\u001b[0;34m.\u001b[0m\u001b[0m_call\u001b[0m\u001b[0;34m(\u001b[0m\u001b[0;34m*\u001b[0m\u001b[0margs\u001b[0m\u001b[0;34m,\u001b[0m \u001b[0;34m**\u001b[0m\u001b[0mkwds\u001b[0m\u001b[0;34m)\u001b[0m\u001b[0;34m\u001b[0m\u001b[0;34m\u001b[0m\u001b[0m\n\u001b[0m\u001b[1;32m    581\u001b[0m \u001b[0;34m\u001b[0m\u001b[0m\n\u001b[1;32m    582\u001b[0m     \u001b[0;32mif\u001b[0m \u001b[0mtracing_count\u001b[0m \u001b[0;34m==\u001b[0m \u001b[0mself\u001b[0m\u001b[0;34m.\u001b[0m\u001b[0m_get_tracing_count\u001b[0m\u001b[0;34m(\u001b[0m\u001b[0;34m)\u001b[0m\u001b[0;34m:\u001b[0m\u001b[0;34m\u001b[0m\u001b[0;34m\u001b[0m\u001b[0m\n",
            "\u001b[0;32m/usr/local/lib/python3.6/dist-packages/tensorflow/python/eager/def_function.py\u001b[0m in \u001b[0;36m_call\u001b[0;34m(self, *args, **kwds)\u001b[0m\n\u001b[1;32m    609\u001b[0m       \u001b[0;31m# In this case we have created variables on the first call, so we run the\u001b[0m\u001b[0;34m\u001b[0m\u001b[0;34m\u001b[0m\u001b[0;34m\u001b[0m\u001b[0m\n\u001b[1;32m    610\u001b[0m       \u001b[0;31m# defunned version which is guaranteed to never create variables.\u001b[0m\u001b[0;34m\u001b[0m\u001b[0;34m\u001b[0m\u001b[0;34m\u001b[0m\u001b[0m\n\u001b[0;32m--> 611\u001b[0;31m       \u001b[0;32mreturn\u001b[0m \u001b[0mself\u001b[0m\u001b[0;34m.\u001b[0m\u001b[0m_stateless_fn\u001b[0m\u001b[0;34m(\u001b[0m\u001b[0;34m*\u001b[0m\u001b[0margs\u001b[0m\u001b[0;34m,\u001b[0m \u001b[0;34m**\u001b[0m\u001b[0mkwds\u001b[0m\u001b[0;34m)\u001b[0m  \u001b[0;31m# pylint: disable=not-callable\u001b[0m\u001b[0;34m\u001b[0m\u001b[0;34m\u001b[0m\u001b[0m\n\u001b[0m\u001b[1;32m    612\u001b[0m     \u001b[0;32melif\u001b[0m \u001b[0mself\u001b[0m\u001b[0;34m.\u001b[0m\u001b[0m_stateful_fn\u001b[0m \u001b[0;32mis\u001b[0m \u001b[0;32mnot\u001b[0m \u001b[0;32mNone\u001b[0m\u001b[0;34m:\u001b[0m\u001b[0;34m\u001b[0m\u001b[0;34m\u001b[0m\u001b[0m\n\u001b[1;32m    613\u001b[0m       \u001b[0;31m# Release the lock early so that multiple threads can perform the call\u001b[0m\u001b[0;34m\u001b[0m\u001b[0;34m\u001b[0m\u001b[0;34m\u001b[0m\u001b[0m\n",
            "\u001b[0;32m/usr/local/lib/python3.6/dist-packages/tensorflow/python/eager/function.py\u001b[0m in \u001b[0;36m__call__\u001b[0;34m(self, *args, **kwargs)\u001b[0m\n\u001b[1;32m   2418\u001b[0m     \u001b[0;32mwith\u001b[0m \u001b[0mself\u001b[0m\u001b[0;34m.\u001b[0m\u001b[0m_lock\u001b[0m\u001b[0;34m:\u001b[0m\u001b[0;34m\u001b[0m\u001b[0;34m\u001b[0m\u001b[0m\n\u001b[1;32m   2419\u001b[0m       \u001b[0mgraph_function\u001b[0m\u001b[0;34m,\u001b[0m \u001b[0margs\u001b[0m\u001b[0;34m,\u001b[0m \u001b[0mkwargs\u001b[0m \u001b[0;34m=\u001b[0m \u001b[0mself\u001b[0m\u001b[0;34m.\u001b[0m\u001b[0m_maybe_define_function\u001b[0m\u001b[0;34m(\u001b[0m\u001b[0margs\u001b[0m\u001b[0;34m,\u001b[0m \u001b[0mkwargs\u001b[0m\u001b[0;34m)\u001b[0m\u001b[0;34m\u001b[0m\u001b[0;34m\u001b[0m\u001b[0m\n\u001b[0;32m-> 2420\u001b[0;31m     \u001b[0;32mreturn\u001b[0m \u001b[0mgraph_function\u001b[0m\u001b[0;34m.\u001b[0m\u001b[0m_filtered_call\u001b[0m\u001b[0;34m(\u001b[0m\u001b[0margs\u001b[0m\u001b[0;34m,\u001b[0m \u001b[0mkwargs\u001b[0m\u001b[0;34m)\u001b[0m  \u001b[0;31m# pylint: disable=protected-access\u001b[0m\u001b[0;34m\u001b[0m\u001b[0;34m\u001b[0m\u001b[0m\n\u001b[0m\u001b[1;32m   2421\u001b[0m \u001b[0;34m\u001b[0m\u001b[0m\n\u001b[1;32m   2422\u001b[0m   \u001b[0;34m@\u001b[0m\u001b[0mproperty\u001b[0m\u001b[0;34m\u001b[0m\u001b[0;34m\u001b[0m\u001b[0m\n",
            "\u001b[0;32m/usr/local/lib/python3.6/dist-packages/tensorflow/python/eager/function.py\u001b[0m in \u001b[0;36m_filtered_call\u001b[0;34m(self, args, kwargs)\u001b[0m\n\u001b[1;32m   1663\u001b[0m          if isinstance(t, (ops.Tensor,\n\u001b[1;32m   1664\u001b[0m                            resource_variable_ops.BaseResourceVariable))),\n\u001b[0;32m-> 1665\u001b[0;31m         self.captured_inputs)\n\u001b[0m\u001b[1;32m   1666\u001b[0m \u001b[0;34m\u001b[0m\u001b[0m\n\u001b[1;32m   1667\u001b[0m   \u001b[0;32mdef\u001b[0m \u001b[0m_call_flat\u001b[0m\u001b[0;34m(\u001b[0m\u001b[0mself\u001b[0m\u001b[0;34m,\u001b[0m \u001b[0margs\u001b[0m\u001b[0;34m,\u001b[0m \u001b[0mcaptured_inputs\u001b[0m\u001b[0;34m,\u001b[0m \u001b[0mcancellation_manager\u001b[0m\u001b[0;34m=\u001b[0m\u001b[0;32mNone\u001b[0m\u001b[0;34m)\u001b[0m\u001b[0;34m:\u001b[0m\u001b[0;34m\u001b[0m\u001b[0;34m\u001b[0m\u001b[0m\n",
            "\u001b[0;32m/usr/local/lib/python3.6/dist-packages/tensorflow/python/eager/function.py\u001b[0m in \u001b[0;36m_call_flat\u001b[0;34m(self, args, captured_inputs, cancellation_manager)\u001b[0m\n\u001b[1;32m   1744\u001b[0m       \u001b[0;31m# No tape is watching; skip to running the function.\u001b[0m\u001b[0;34m\u001b[0m\u001b[0;34m\u001b[0m\u001b[0;34m\u001b[0m\u001b[0m\n\u001b[1;32m   1745\u001b[0m       return self._build_call_outputs(self._inference_function.call(\n\u001b[0;32m-> 1746\u001b[0;31m           ctx, args, cancellation_manager=cancellation_manager))\n\u001b[0m\u001b[1;32m   1747\u001b[0m     forward_backward = self._select_forward_and_backward_functions(\n\u001b[1;32m   1748\u001b[0m         \u001b[0margs\u001b[0m\u001b[0;34m,\u001b[0m\u001b[0;34m\u001b[0m\u001b[0;34m\u001b[0m\u001b[0m\n",
            "\u001b[0;32m/usr/local/lib/python3.6/dist-packages/tensorflow/python/eager/function.py\u001b[0m in \u001b[0;36mcall\u001b[0;34m(self, ctx, args, cancellation_manager)\u001b[0m\n\u001b[1;32m    596\u001b[0m               \u001b[0minputs\u001b[0m\u001b[0;34m=\u001b[0m\u001b[0margs\u001b[0m\u001b[0;34m,\u001b[0m\u001b[0;34m\u001b[0m\u001b[0;34m\u001b[0m\u001b[0m\n\u001b[1;32m    597\u001b[0m               \u001b[0mattrs\u001b[0m\u001b[0;34m=\u001b[0m\u001b[0mattrs\u001b[0m\u001b[0;34m,\u001b[0m\u001b[0;34m\u001b[0m\u001b[0;34m\u001b[0m\u001b[0m\n\u001b[0;32m--> 598\u001b[0;31m               ctx=ctx)\n\u001b[0m\u001b[1;32m    599\u001b[0m         \u001b[0;32melse\u001b[0m\u001b[0;34m:\u001b[0m\u001b[0;34m\u001b[0m\u001b[0;34m\u001b[0m\u001b[0m\n\u001b[1;32m    600\u001b[0m           outputs = execute.execute_with_cancellation(\n",
            "\u001b[0;32m/usr/local/lib/python3.6/dist-packages/tensorflow/python/eager/execute.py\u001b[0m in \u001b[0;36mquick_execute\u001b[0;34m(op_name, num_outputs, inputs, attrs, ctx, name)\u001b[0m\n\u001b[1;32m     58\u001b[0m     \u001b[0mctx\u001b[0m\u001b[0;34m.\u001b[0m\u001b[0mensure_initialized\u001b[0m\u001b[0;34m(\u001b[0m\u001b[0;34m)\u001b[0m\u001b[0;34m\u001b[0m\u001b[0;34m\u001b[0m\u001b[0m\n\u001b[1;32m     59\u001b[0m     tensors = pywrap_tfe.TFE_Py_Execute(ctx._handle, device_name, op_name,\n\u001b[0;32m---> 60\u001b[0;31m                                         inputs, attrs, num_outputs)\n\u001b[0m\u001b[1;32m     61\u001b[0m   \u001b[0;32mexcept\u001b[0m \u001b[0mcore\u001b[0m\u001b[0;34m.\u001b[0m\u001b[0m_NotOkStatusException\u001b[0m \u001b[0;32mas\u001b[0m \u001b[0me\u001b[0m\u001b[0;34m:\u001b[0m\u001b[0;34m\u001b[0m\u001b[0;34m\u001b[0m\u001b[0m\n\u001b[1;32m     62\u001b[0m     \u001b[0;32mif\u001b[0m \u001b[0mname\u001b[0m \u001b[0;32mis\u001b[0m \u001b[0;32mnot\u001b[0m \u001b[0;32mNone\u001b[0m\u001b[0;34m:\u001b[0m\u001b[0;34m\u001b[0m\u001b[0;34m\u001b[0m\u001b[0m\n",
            "\u001b[0;31mKeyboardInterrupt\u001b[0m: "
          ]
        }
      ]
    },
    {
      "cell_type": "markdown",
      "metadata": {
        "id": "2UwMRWY31wly",
        "colab_type": "text"
      },
      "source": [
        "# CNN-TF-Cats & Dogs"
      ]
    },
    {
      "cell_type": "code",
      "metadata": {
        "id": "9rnDXXJf10IS",
        "colab_type": "code",
        "colab": {}
      },
      "source": [
        "# !pip install tensorflow==2.0.0-alpha0"
      ],
      "execution_count": null,
      "outputs": []
    },
    {
      "cell_type": "code",
      "metadata": {
        "id": "y61pEDqm11VV",
        "colab_type": "code",
        "colab": {}
      },
      "source": [
        "import tensorflow as tf\n",
        "tf.__version__"
      ],
      "execution_count": null,
      "outputs": []
    },
    {
      "cell_type": "code",
      "metadata": {
        "id": "nbAnxmcZ2s_V",
        "colab_type": "code",
        "colab": {}
      },
      "source": [
        "# !wget --no-check-certificate \\\n",
        "#   https://storage.googleapis.com/mledu-datasets/cats_and_dogs_filtered.zip \\\n",
        "#   -O '/content/drive/My Drive/DogsCatsCnn/cats_and_dogs_filtered.zip'"
      ],
      "execution_count": null,
      "outputs": []
    },
    {
      "cell_type": "code",
      "metadata": {
        "id": "INpd1M9s9bpO",
        "colab_type": "code",
        "colab": {}
      },
      "source": [
        "import os\n",
        "import zipfile\n",
        "import matplotlib.pyplot as plt"
      ],
      "execution_count": null,
      "outputs": []
    },
    {
      "cell_type": "code",
      "metadata": {
        "id": "dlpVkMbw-AwV",
        "colab_type": "code",
        "colab": {}
      },
      "source": [
        "# local_zip = '/content/drive/My Drive/DogsCatsCnn/cats_and_dogs_filtered.zip'"
      ],
      "execution_count": null,
      "outputs": []
    },
    {
      "cell_type": "code",
      "metadata": {
        "id": "V5b2KeiP-NDb",
        "colab_type": "code",
        "colab": {}
      },
      "source": [
        "# zip_ref = zipfile.ZipFile(local_zip,'r')\n",
        "# zip_ref.extractall('/content/drive/My Drive/DogsCatsCnn/cats_and_dogs_filtered')\n",
        "# zip_ref.close()"
      ],
      "execution_count": null,
      "outputs": []
    },
    {
      "cell_type": "code",
      "metadata": {
        "id": "PVK7LX5d-tZs",
        "colab_type": "code",
        "colab": {}
      },
      "source": [
        "!cd /tmp/cats_and_dogs_filtered"
      ],
      "execution_count": null,
      "outputs": []
    },
    {
      "cell_type": "code",
      "metadata": {
        "id": "yFsBUBBCBVpk",
        "colab_type": "code",
        "colab": {}
      },
      "source": [
        "!ls"
      ],
      "execution_count": null,
      "outputs": []
    },
    {
      "cell_type": "code",
      "metadata": {
        "id": "ValnvZO6_7A-",
        "colab_type": "code",
        "colab": {}
      },
      "source": [
        "base_dir = '/content/drive/My Drive/DogsCatsCnn/cats_and_dogs_filtered/cats_and_dogs_filtered'\n",
        "train_dir = os.path.join(base_dir,'train')\n",
        "validation_dir = os.path.join(base_dir,'validation')"
      ],
      "execution_count": null,
      "outputs": []
    },
    {
      "cell_type": "code",
      "metadata": {
        "id": "PbuNsiO8ApMP",
        "colab_type": "code",
        "colab": {}
      },
      "source": [
        "train_dir_cats = os.path.join(train_dir,'cats')\n",
        "train_dir_dogs = os.path.join(train_dir,'dogs')\n",
        "\n",
        "validation_dir_cats = os.path.join(validation_dir,'cats')\n",
        "validation_dir_dogs = os.path.join(validation_dir,'dogs')"
      ],
      "execution_count": null,
      "outputs": []
    },
    {
      "cell_type": "code",
      "metadata": {
        "id": "ipXBpm6IBKHF",
        "colab_type": "code",
        "colab": {}
      },
      "source": [
        "train_dog_fname = os.listdir(train_dir_dogs)\n",
        "train_cat_fname = os.listdir(train_dir_cats)"
      ],
      "execution_count": null,
      "outputs": []
    },
    {
      "cell_type": "code",
      "metadata": {
        "id": "CRpnOrUYBfCD",
        "colab_type": "code",
        "colab": {}
      },
      "source": [
        "valid_dog_fname = os.listdir(validation_dir_dogs)\n",
        "valid_cat_fname = os.listdir(validation_dir_cats)"
      ],
      "execution_count": null,
      "outputs": []
    },
    {
      "cell_type": "code",
      "metadata": {
        "id": "AUamNlhKCJUD",
        "colab_type": "code",
        "colab": {}
      },
      "source": [
        "print(f'Train dog images count {len(train_dog_fname)}')\n",
        "print(f'Train cat images count {len(train_cat_fname)}')\n",
        "print(f'valid dog images count {len(valid_dog_fname)}')\n",
        "print(f'valid cat images count {len(valid_cat_fname)}')"
      ],
      "execution_count": null,
      "outputs": []
    },
    {
      "cell_type": "code",
      "metadata": {
        "id": "GEksKRFrCm5V",
        "colab_type": "code",
        "colab": {}
      },
      "source": [
        "%matplotlib inline\n",
        "\n",
        "import matplotlib.image as mpimg\n",
        "import matplotlib.pyplot as plt\n",
        "\n",
        "# Parameters for our graph; we'll output images in a 4x4 configuration\n",
        "nrows = 4\n",
        "ncols = 4\n",
        "\n",
        "pic_index = 0 # Index for iterating over images\n",
        "\n",
        "# Set up matplotlib fig, and size it to fit 4x4 pics\n",
        "fig = plt.gcf()\n",
        "fig.set_size_inches(ncols*4, nrows*4)\n",
        "\n",
        "pic_index+=8\n",
        "\n",
        "next_cat_pix = [os.path.join(train_dir_cats, fname) \n",
        "                for fname in train_cat_fname[ pic_index-8:pic_index] \n",
        "               ]\n",
        "\n",
        "next_dog_pix = [os.path.join(train_dir_dogs, fname) \n",
        "                for fname in train_dog_fname[ pic_index-8:pic_index]\n",
        "               ]\n",
        "\n",
        "for i, img_path in enumerate(next_cat_pix+next_dog_pix):\n",
        "  # Set up subplot; subplot indices start at 1\n",
        "  sp = plt.subplot(nrows, ncols, i + 1)\n",
        "  sp.axis('Off') # Don't show axes (or gridlines)\n",
        "\n",
        "  img = mpimg.imread(img_path)\n",
        "  plt.imshow(img)\n",
        "\n",
        "plt.show()\n"
      ],
      "execution_count": null,
      "outputs": []
    },
    {
      "cell_type": "code",
      "metadata": {
        "id": "mzLMTjhkDIoD",
        "colab_type": "code",
        "colab": {}
      },
      "source": [
        "import tensorflow as tf\n",
        "model = tf.keras.models.Sequential([\n",
        "    # Note the input shape is the desired size of the image 300x300 with 3 bytes color\n",
        "    # This is the first convolution\n",
        "    tf.keras.layers.Conv2D(16, (3,3), activation='relu', input_shape=(150, 150, 3)),\n",
        "    tf.keras.layers.MaxPooling2D(2, 2),\n",
        "    # The second convolution\n",
        "    tf.keras.layers.Conv2D(32, (3,3), activation='relu'),\n",
        "    tf.keras.layers.MaxPooling2D(2,2),\n",
        "    # The third convolution\n",
        "    tf.keras.layers.Conv2D(64, (3,3), activation='relu'),\n",
        "    tf.keras.layers.MaxPooling2D(2,2),\n",
        "    # The fourth convolution\n",
        "    tf.keras.layers.Conv2D(64, (3,3), activation='relu'),\n",
        "    tf.keras.layers.MaxPooling2D(2,2),\n",
        "    # The fifth convolution\n",
        "    tf.keras.layers.Conv2D(64, (3,3), activation='relu'),\n",
        "    tf.keras.layers.MaxPooling2D(2,2),\n",
        "    # Flatten the results to feed into a DNN\n",
        "    tf.keras.layers.Flatten(),\n",
        "    # 512 neuron hidden layer\n",
        "    tf.keras.layers.Dense(512, activation='relu'),\n",
        "    # Only 1 output neuron. It will contain a value from 0-1 where 0 for 1 class ('horses') and 1 for the other ('humans')\n",
        "    tf.keras.layers.Dense(1, activation='sigmoid')\n",
        "])"
      ],
      "execution_count": null,
      "outputs": []
    },
    {
      "cell_type": "code",
      "metadata": {
        "id": "QHu2_W7vD8Hl",
        "colab_type": "code",
        "colab": {}
      },
      "source": [
        "model.summary()"
      ],
      "execution_count": null,
      "outputs": []
    },
    {
      "cell_type": "code",
      "metadata": {
        "id": "7CYN2_lhD-bL",
        "colab_type": "code",
        "colab": {}
      },
      "source": [
        "from tensorflow.keras.optimizers import RMSprop"
      ],
      "execution_count": null,
      "outputs": []
    },
    {
      "cell_type": "code",
      "metadata": {
        "id": "eOI_JdMdEXFh",
        "colab_type": "code",
        "colab": {}
      },
      "source": [
        "model.compile(optimizer=RMSprop(lr=0.001),\n",
        "              loss='binary_crossentropy',metrics=['accuracy'])"
      ],
      "execution_count": null,
      "outputs": []
    },
    {
      "cell_type": "code",
      "metadata": {
        "id": "HQmBHZ_7VhUc",
        "colab_type": "code",
        "colab": {}
      },
      "source": [
        "# !sudo mkdir '/content/drive/My Drive/DogsCatsCnn'"
      ],
      "execution_count": null,
      "outputs": []
    },
    {
      "cell_type": "code",
      "metadata": {
        "id": "ywBgmE6yVodB",
        "colab_type": "code",
        "colab": {}
      },
      "source": [
        "from tensorflow.keras.preprocessing.image import ImageDataGenerator"
      ],
      "execution_count": null,
      "outputs": []
    },
    {
      "cell_type": "code",
      "metadata": {
        "id": "RBoHssFqYhE7",
        "colab_type": "code",
        "colab": {}
      },
      "source": [
        "train_datagen = ImageDataGenerator(rescale=1./255.,\n",
        "                                   rotation_range=40,\n",
        "                                   horizontal_flip = True,\n",
        "                                   vertical_flip = True,\n",
        "                                   fill_mode='nearest',\n",
        "                                   width_shift_range=0.2,\n",
        "                                   height_shift_range=0.2,\n",
        "                                   zoom_range=0.2,shear_range=0.2)\n",
        "test_datagen = ImageDataGenerator(rescale=1./255.,\n",
        "                                  rotation_range=40,\n",
        "                                   horizontal_flip = True,\n",
        "                                   vertical_flip = True,\n",
        "                                   fill_mode='nearest',\n",
        "                                   width_shift_range=0.2,\n",
        "                                   height_shift_range=0.2,\n",
        "                                   zoom_range=0.2,shear_range=0.2)"
      ],
      "execution_count": null,
      "outputs": []
    },
    {
      "cell_type": "code",
      "metadata": {
        "id": "ZB4wExIvYzYI",
        "colab_type": "code",
        "colab": {}
      },
      "source": [
        "train_generator = train_datagen.flow_from_directory(train_dir,target_size=(150,150),batch_size=20,class_mode='binary') #class_mode ='binary',,save_to_dir='/tmp',save_format='png'\n",
        "validation_generator = test_datagen.flow_from_directory(validation_dir,target_size=(150,150),batch_size=20,class_mode='binary')"
      ],
      "execution_count": null,
      "outputs": []
    },
    {
      "cell_type": "code",
      "metadata": {
        "id": "_nqt8kJEZcCd",
        "colab_type": "code",
        "colab": {}
      },
      "source": [
        "history = model.fit(train_generator,steps_per_epoch=100,epochs=50,verbose=2,validation_data=validation_generator,validation_steps=50)"
      ],
      "execution_count": null,
      "outputs": []
    },
    {
      "cell_type": "code",
      "metadata": {
        "id": "TGqq7B_-Z7gQ",
        "colab_type": "code",
        "colab": {}
      },
      "source": [
        "import numpy as np\n",
        "\n",
        "from google.colab import files\n",
        "from keras.preprocessing import image\n",
        "\n",
        "uploaded=files.upload()\n",
        "\n",
        "for fn in uploaded.keys():\n",
        " \n",
        "  # predicting images\n",
        "  path='/content/' + fn\n",
        "  img=image.load_img(path, target_size=(150, 150))\n",
        "  \n",
        "  x=image.img_to_array(img)\n",
        "  x=np.expand_dims(x, axis=0)\n",
        "  images = np.vstack([x])\n",
        "  \n",
        "  classes = model.predict(images, batch_size=10)\n",
        "  \n",
        "  print(classes[0])\n",
        "  \n",
        "  if classes[0]>0:\n",
        "    print(fn + \" is a dog\")\n",
        "    \n",
        "  else:\n",
        "    print(fn + \" is a cat\")"
      ],
      "execution_count": null,
      "outputs": []
    },
    {
      "cell_type": "code",
      "metadata": {
        "id": "PLhA-p31j0nA",
        "colab_type": "code",
        "colab": {}
      },
      "source": [
        "import numpy as np\n",
        "import random\n",
        "from   tensorflow.keras.preprocessing.image import img_to_array, load_img\n",
        "\n",
        "# Let's define a new Model that will take an image as input, and will output\n",
        "# intermediate representations for all layers in the previous model after\n",
        "# the first.\n",
        "successive_outputs = [layer.output for layer in model.layers[1:]]\n",
        "\n",
        "#visualization_model = Model(img_input, successive_outputs)\n",
        "visualization_model = tf.keras.models.Model(inputs = model.input, outputs = successive_outputs)\n",
        "\n",
        "# Let's prepare a random input image of a cat or dog from the training set.\n",
        "cat_img_files = [os.path.join(train_dir_cats, f) for f in train_cat_fname]\n",
        "dog_img_files = [os.path.join(train_dir_dogs, f) for f in train_dog_fname]\n",
        "\n",
        "img_path = random.choice(cat_img_files + dog_img_files)\n",
        "img = load_img(img_path, target_size=(150, 150))  # this is a PIL image\n",
        "\n",
        "x   = img_to_array(img)                           # Numpy array with shape (150, 150, 3)\n",
        "x   = x.reshape((1,) + x.shape)                   # Numpy array with shape (1, 150, 150, 3)\n",
        "\n",
        "# Rescale by 1/255\n",
        "x /= 255.0\n",
        "\n",
        "# Let's run our image through our network, thus obtaining all\n",
        "# intermediate representations for this image.\n",
        "successive_feature_maps = visualization_model.predict(x)\n",
        "\n",
        "# These are the names of the layers, so can have them as part of our plot\n",
        "layer_names = [layer.name for layer in model.layers]\n",
        "\n",
        "# -----------------------------------------------------------------------\n",
        "# Now let's display our representations\n",
        "# -----------------------------------------------------------------------\n",
        "for layer_name, feature_map in zip(layer_names, successive_feature_maps):\n",
        "  \n",
        "  if len(feature_map.shape) == 4:\n",
        "    \n",
        "    #-------------------------------------------\n",
        "    # Just do this for the conv / maxpool layers, not the fully-connected layers\n",
        "    #-------------------------------------------\n",
        "    n_features = feature_map.shape[-1]  # number of features in the feature map\n",
        "    size       = feature_map.shape[ 1]  # feature map shape (1, size, size, n_features)\n",
        "    \n",
        "    # We will tile our images in this matrix\n",
        "    display_grid = np.zeros((size, size * n_features))\n",
        "    \n",
        "    #-------------------------------------------------\n",
        "    # Postprocess the feature to be visually palatable\n",
        "    #-------------------------------------------------\n",
        "    for i in range(n_features):\n",
        "      x  = feature_map[0, :, :, i]\n",
        "      x -= x.mean()\n",
        "      x /= x.std ()\n",
        "      x *=  64\n",
        "      x += 128\n",
        "      x  = np.clip(x, 0, 255).astype('uint8')\n",
        "      display_grid[:, i * size : (i + 1) * size] = x # Tile each filter into a horizontal grid\n",
        "\n",
        "    #-----------------\n",
        "    # Display the grid\n",
        "    #-----------------\n",
        "\n",
        "    scale = 20. / n_features\n",
        "    plt.figure( figsize=(scale * n_features, scale) )\n",
        "    plt.title ( layer_name )\n",
        "    plt.grid  ( False )\n",
        "    plt.imshow( display_grid, aspect='auto', cmap='viridis' ) "
      ],
      "execution_count": null,
      "outputs": []
    },
    {
      "cell_type": "code",
      "metadata": {
        "id": "i--ED8FUkXAp",
        "colab_type": "code",
        "colab": {}
      },
      "source": [
        "#-----------------------------------------------------------\n",
        "# Retrieve a list of list results on training and test data\n",
        "# sets for each training epoch\n",
        "#-----------------------------------------------------------\n",
        "acc      = history.history[     'accuracy' ]\n",
        "val_acc  = history.history[ 'val_accuracy' ]\n",
        "loss     = history.history[    'loss' ]\n",
        "val_loss = history.history['val_loss' ]\n",
        "\n",
        "epochs   = range(len(acc)) # Get number of epochs\n",
        "\n",
        "#------------------------------------------------\n",
        "# Plot training and validation accuracy per epoch\n",
        "#------------------------------------------------\n",
        "plt.plot  ( epochs,     acc )\n",
        "plt.plot  ( epochs, val_acc )\n",
        "plt.title ('Training and validation accuracy')\n",
        "plt.ylabel('accuracy')\n",
        "plt.xlabel('epoch')\n",
        "plt.legend(['train', 'test'], loc='upper left')\n",
        "plt.figure()\n",
        "\n",
        "#------------------------------------------------\n",
        "# Plot training and validation loss per epoch\n",
        "#------------------------------------------------\n",
        "plt.plot  ( epochs,     loss )\n",
        "plt.plot  ( epochs, val_loss )\n",
        "plt.ylabel('loss')\n",
        "plt.xlabel('epoch')\n",
        "plt.legend(['train', 'test'], loc='upper left')\n",
        "plt.title ('Training and validation loss'   )"
      ],
      "execution_count": null,
      "outputs": []
    },
    {
      "cell_type": "code",
      "metadata": {
        "id": "Trerx0u5kgiC",
        "colab_type": "code",
        "colab": {}
      },
      "source": [
        ""
      ],
      "execution_count": null,
      "outputs": []
    },
    {
      "cell_type": "markdown",
      "metadata": {
        "id": "f9JT5PUTlo04",
        "colab_type": "text"
      },
      "source": [
        "# Transfer Learning"
      ]
    },
    {
      "cell_type": "code",
      "metadata": {
        "id": "nRkcXHKulrrQ",
        "colab_type": "code",
        "colab": {}
      },
      "source": [
        "import os\n",
        "import zipfile\n",
        "import matplotlib.pyplot as plt\n",
        "import tensorflow as tf"
      ],
      "execution_count": null,
      "outputs": []
    },
    {
      "cell_type": "code",
      "metadata": {
        "id": "HP1TV4yrl6_M",
        "colab_type": "code",
        "colab": {}
      },
      "source": [
        "base_dir = '/content/drive/My Drive/DogsCatsCnn/cats_and_dogs_filtered/cats_and_dogs_filtered'\n",
        "train_dir = os.path.join(base_dir,'train')\n",
        "validation_dir = os.path.join(base_dir,'validation')"
      ],
      "execution_count": null,
      "outputs": []
    },
    {
      "cell_type": "code",
      "metadata": {
        "id": "j2aBIWsBl_Tz",
        "colab_type": "code",
        "colab": {}
      },
      "source": [
        "train_dir_cats = os.path.join(train_dir,'cats')\n",
        "train_dir_dogs = os.path.join(train_dir,'dogs')\n",
        "\n",
        "validation_dir_cats = os.path.join(validation_dir,'cats')\n",
        "validation_dir_dogs = os.path.join(validation_dir,'dogs')"
      ],
      "execution_count": null,
      "outputs": []
    },
    {
      "cell_type": "code",
      "metadata": {
        "id": "pemESpgLmD08",
        "colab_type": "code",
        "colab": {}
      },
      "source": [
        "train_dog_fname = os.listdir(train_dir_dogs)\n",
        "train_cat_fname = os.listdir(train_dir_cats)"
      ],
      "execution_count": null,
      "outputs": []
    },
    {
      "cell_type": "code",
      "metadata": {
        "id": "dsbTfyJDmHGw",
        "colab_type": "code",
        "colab": {}
      },
      "source": [
        "valid_dog_fname = os.listdir(validation_dir_dogs)\n",
        "valid_cat_fname = os.listdir(validation_dir_cats)"
      ],
      "execution_count": null,
      "outputs": []
    },
    {
      "cell_type": "code",
      "metadata": {
        "id": "-3EvV_knmLqo",
        "colab_type": "code",
        "colab": {}
      },
      "source": [
        "print(f'Train dog images count {len(train_dog_fname)}')\n",
        "print(f'Train cat images count {len(train_cat_fname)}')\n",
        "print(f'valid dog images count {len(valid_dog_fname)}')\n",
        "print(f'valid cat images count {len(valid_cat_fname)}')"
      ],
      "execution_count": null,
      "outputs": []
    },
    {
      "cell_type": "code",
      "metadata": {
        "id": "glyER4RlmQTS",
        "colab_type": "code",
        "colab": {}
      },
      "source": [
        "model = tf.keras.models.Sequential([\n",
        "    # Note the input shape is the desired size of the image 300x300 with 3 bytes color\n",
        "    # This is the first convolution\n",
        "    tf.keras.layers.Conv2D(16, (3,3), activation='relu', input_shape=(150, 150, 3)),\n",
        "    tf.keras.layers.MaxPooling2D(2, 2),\n",
        "    # The second convolution\n",
        "    tf.keras.layers.Conv2D(32, (3,3), activation='relu'),\n",
        "    tf.keras.layers.MaxPooling2D(2,2),\n",
        "    # The third convolution\n",
        "    tf.keras.layers.Conv2D(64, (3,3), activation='relu'),\n",
        "    tf.keras.layers.MaxPooling2D(2,2),\n",
        "    # The fourth convolution\n",
        "    tf.keras.layers.Conv2D(64, (3,3), activation='relu'),\n",
        "    tf.keras.layers.MaxPooling2D(2,2),\n",
        "    # The fifth convolution\n",
        "    tf.keras.layers.Conv2D(64, (3,3), activation='relu'),\n",
        "    tf.keras.layers.MaxPooling2D(2,2),\n",
        "    # Flatten the results to feed into a DNN\n",
        "    tf.keras.layers.Flatten(),\n",
        "    # 512 neuron hidden layer\n",
        "    tf.keras.layers.Dense(512, activation='relu'),\n",
        "    # Only 1 output neuron. It will contain a value from 0-1 where 0 for 1 class ('horses') and 1 for the other ('humans')\n",
        "    tf.keras.layers.Dense(1, activation='sigmoid')\n",
        "])"
      ],
      "execution_count": null,
      "outputs": []
    },
    {
      "cell_type": "code",
      "metadata": {
        "id": "rm-YYGUGmVkY",
        "colab_type": "code",
        "colab": {}
      },
      "source": [
        "model.summary()"
      ],
      "execution_count": null,
      "outputs": []
    },
    {
      "cell_type": "code",
      "metadata": {
        "id": "e4qvw0pamW-W",
        "colab_type": "code",
        "colab": {}
      },
      "source": [
        "from tensorflow.keras.optimizers import RMSprop"
      ],
      "execution_count": null,
      "outputs": []
    },
    {
      "cell_type": "code",
      "metadata": {
        "id": "Z5OMep_YmbfJ",
        "colab_type": "code",
        "colab": {}
      },
      "source": [
        "model.compile(optimizer=RMSprop(lr=0.0001),\n",
        "              loss='binary_crossentropy',metrics=['accuracy'])"
      ],
      "execution_count": null,
      "outputs": []
    },
    {
      "cell_type": "code",
      "metadata": {
        "id": "a3UgOwvZmfq-",
        "colab_type": "code",
        "colab": {}
      },
      "source": [
        "from tensorflow.keras.preprocessing.image import ImageDataGenerator"
      ],
      "execution_count": null,
      "outputs": []
    },
    {
      "cell_type": "code",
      "metadata": {
        "id": "5GEHm_7xml6A",
        "colab_type": "code",
        "colab": {}
      },
      "source": [
        "train_datagen = ImageDataGenerator(rescale=1./255.,\n",
        "                                   rotation_range=40,\n",
        "                                   horizontal_flip = True,\n",
        "                                   vertical_flip = True,\n",
        "                                   fill_mode='nearest',\n",
        "                                   width_shift_range=0.2,\n",
        "                                   height_shift_range=0.2,\n",
        "                                   zoom_range=0.2,shear_range=0.2)\n",
        "test_datagen = ImageDataGenerator(rescale=1/255.)"
      ],
      "execution_count": null,
      "outputs": []
    },
    {
      "cell_type": "code",
      "metadata": {
        "id": "6st16dIUmrwO",
        "colab_type": "code",
        "colab": {}
      },
      "source": [
        "train_generator = train_datagen.flow_from_directory(train_dir,target_size=(150,150),batch_size=20,class_mode='binary')\n",
        "validation_generator = test_datagen.flow_from_directory(validation_dir,target_size=(150,150),batch_size=20,class_mode='binary')"
      ],
      "execution_count": null,
      "outputs": []
    },
    {
      "cell_type": "code",
      "metadata": {
        "id": "JwfWxE0tmwOF",
        "colab_type": "code",
        "colab": {}
      },
      "source": [
        "history = model.fit(train_generator,steps_per_epoch=8,epochs=15,verbose=2,validation_data=validation_generator,validation_steps=8)"
      ],
      "execution_count": null,
      "outputs": []
    },
    {
      "cell_type": "code",
      "metadata": {
        "id": "ltGMWhk0nfTf",
        "colab_type": "code",
        "colab": {}
      },
      "source": [
        "from tensorflow.keras import layers\n",
        "from tensorflow.keras import Model"
      ],
      "execution_count": null,
      "outputs": []
    },
    {
      "cell_type": "code",
      "metadata": {
        "id": "jmRvVmrs-wxt",
        "colab_type": "code",
        "colab": {}
      },
      "source": [
        "!wget --no-check-certificate \\\n",
        "    https://storage.googleapis.com/mledu-datasets/inception_v3_weights_tf_dim_ordering_tf_kernels_notop.h5 \\\n",
        "    -O /tmp/inception_v3_weights_tf_dim_ordering_tf_kernels_notop.h5"
      ],
      "execution_count": null,
      "outputs": []
    },
    {
      "cell_type": "code",
      "metadata": {
        "id": "gBH7pOpEBLQp",
        "colab_type": "code",
        "colab": {}
      },
      "source": [
        "from tensorflow.keras.applications.inception_v3 import InceptionV3"
      ],
      "execution_count": null,
      "outputs": []
    },
    {
      "cell_type": "code",
      "metadata": {
        "id": "5-gLMWZIBZhQ",
        "colab_type": "code",
        "colab": {}
      },
      "source": [
        "local_weight_file='/tmp/inception_v3_weights_tf_dim_ordering_tf_kernels_notop.h5'"
      ],
      "execution_count": null,
      "outputs": []
    },
    {
      "cell_type": "code",
      "metadata": {
        "id": "cYxBtSKmBoJX",
        "colab_type": "code",
        "colab": {}
      },
      "source": [
        "pre_trained_model = InceptionV3(input_shape=(150,150,3),include_top= False,weights = None)"
      ],
      "execution_count": null,
      "outputs": []
    },
    {
      "cell_type": "code",
      "metadata": {
        "id": "bwv3Sx3CCBbQ",
        "colab_type": "code",
        "colab": {}
      },
      "source": [
        "pre_trained_model.load_weights(local_weight_file)"
      ],
      "execution_count": null,
      "outputs": []
    },
    {
      "cell_type": "code",
      "metadata": {
        "id": "6yYWWjo_CDr7",
        "colab_type": "code",
        "colab": {}
      },
      "source": [
        "for layer in pre_trained_model.layers:\n",
        "  layer.trainable = False"
      ],
      "execution_count": null,
      "outputs": []
    },
    {
      "cell_type": "code",
      "metadata": {
        "id": "f5uSRP-RCooz",
        "colab_type": "code",
        "colab": {}
      },
      "source": [
        "pre_trained_model.summary()"
      ],
      "execution_count": null,
      "outputs": []
    },
    {
      "cell_type": "code",
      "metadata": {
        "id": "vyUkwfXFC6qr",
        "colab_type": "code",
        "colab": {}
      },
      "source": [
        "last_layer = pre_trained_model.get_layer('mixed7')\n",
        "print(\"Last layer output shape::\",last_layer.output_shape)"
      ],
      "execution_count": null,
      "outputs": []
    },
    {
      "cell_type": "code",
      "metadata": {
        "id": "99ozBA_rD42f",
        "colab_type": "code",
        "colab": {}
      },
      "source": [
        "last_output = last_layer.output"
      ],
      "execution_count": null,
      "outputs": []
    },
    {
      "cell_type": "code",
      "metadata": {
        "id": "YltpopHHEORb",
        "colab_type": "code",
        "colab": {}
      },
      "source": [
        "from tensorflow.keras.optimizers import RMSprop,Adam"
      ],
      "execution_count": null,
      "outputs": []
    },
    {
      "cell_type": "code",
      "metadata": {
        "id": "CRUKSH-WEW9S",
        "colab_type": "code",
        "colab": {}
      },
      "source": [
        "x = layers.Flatten()(last_output)\n",
        "x = layers.Dense(1024,activation= 'relu')(x)\n",
        "x = layers.Dropout(0.2)(x)\n",
        "x = layers.Dense(1,activation = 'sigmoid')(x)\n",
        "\n",
        "\n",
        "model = Model(pre_trained_model.input,x)\n",
        "\n",
        "model.compile(optimizer=RMSprop(lr = 0.0001),loss='binary_crossentropy',metrics=['accuracy'])"
      ],
      "execution_count": null,
      "outputs": []
    },
    {
      "cell_type": "code",
      "metadata": {
        "id": "hsv2mLHhFsJr",
        "colab_type": "code",
        "colab": {}
      },
      "source": [
        "history = model.fit(train_generator,steps_per_epoch=100,epochs=20,verbose=2,validation_data=validation_generator,validation_steps=50)"
      ],
      "execution_count": null,
      "outputs": []
    },
    {
      "cell_type": "code",
      "metadata": {
        "id": "4CoVtEwVGGfN",
        "colab_type": "code",
        "colab": {}
      },
      "source": [
        "import matplotlib.pyplot as plt\n",
        "acc = history.history['accuracy']\n",
        "val_acc = history.history['val_accuracy']\n",
        "loss = history.history['loss']\n",
        "val_loss = history.history['val_loss']\n",
        "\n",
        "epochs = range(len(acc))\n",
        "\n",
        "plt.plot(epochs, acc, 'r', label='Training accuracy')\n",
        "plt.plot(epochs, val_acc, 'b', label='Validation accuracy')\n",
        "plt.title('Training and validation accuracy')\n",
        "plt.legend(loc=0)\n",
        "plt.figure()\n",
        "\n",
        "\n",
        "plt.show()"
      ],
      "execution_count": null,
      "outputs": []
    },
    {
      "cell_type": "code",
      "metadata": {
        "id": "vhlTSuMkHN19",
        "colab_type": "code",
        "colab": {}
      },
      "source": [
        ""
      ],
      "execution_count": null,
      "outputs": []
    },
    {
      "cell_type": "markdown",
      "metadata": {
        "id": "CkOf5Kg6jD7w",
        "colab_type": "text"
      },
      "source": [
        "# Sign CNN"
      ]
    },
    {
      "cell_type": "code",
      "metadata": {
        "id": "CdNygGgPjXET",
        "colab_type": "code",
        "colab": {}
      },
      "source": [
        "!sudo mkdir sign-language-mnist\n",
        "!cd sign-language-mnist"
      ],
      "execution_count": null,
      "outputs": []
    },
    {
      "cell_type": "code",
      "metadata": {
        "id": "VdTTzszPjPct",
        "colab_type": "code",
        "colab": {}
      },
      "source": [
        "import os\n",
        "# os.chdir('/content/sign-language-mnist')\n",
        "# os.environ['KAGGLE_USERNAME'] = \"karma12\"\n",
        "# os.environ['KAGGLE_KEY'] = \"86e11f115781e9045f94c2b0ba1e31f4\""
      ],
      "execution_count": null,
      "outputs": []
    },
    {
      "cell_type": "code",
      "metadata": {
        "id": "M3J6XpnajFi5",
        "colab_type": "code",
        "colab": {}
      },
      "source": [
        "!kaggle datasets download -d datamunge/sign-language-mnist"
      ],
      "execution_count": null,
      "outputs": []
    },
    {
      "cell_type": "code",
      "metadata": {
        "id": "Yaq1PlwojVZO",
        "colab_type": "code",
        "colab": {}
      },
      "source": [
        "import zipfile\n",
        "local_zip  = 'sign-language-mnist.zip'\n",
        "zip_ref = zipfile.ZipFile(local_zip,'r')\n",
        "zip_ref.extractall('/content/sign-language-mnist')"
      ],
      "execution_count": null,
      "outputs": []
    },
    {
      "cell_type": "code",
      "metadata": {
        "id": "8qDBPFUGlK-L",
        "colab_type": "code",
        "colab": {}
      },
      "source": [
        "import csv\n",
        "import numpy as np\n",
        "from tensorflow.keras.preprocessing.image import ImageDataGenerator"
      ],
      "execution_count": null,
      "outputs": []
    },
    {
      "cell_type": "code",
      "metadata": {
        "id": "jJKOuNlHlONc",
        "colab_type": "code",
        "colab": {}
      },
      "source": [
        "def get_data(filename):\n",
        "  with open(filename) as training_file:\n",
        "    csv_reader  = csv.reader(training_file,delimiter = ',')\n",
        "    first_line = True\n",
        "    temp_images = []\n",
        "    temp_labels = []\n",
        "\n",
        "    for row in csv_reader:\n",
        "      if first_line:\n",
        "        first_line = False\n",
        "      else:\n",
        "        temp_labels.append(row[0])\n",
        "        images_data = row[1:785]\n",
        "        images_data_as_array = np.array_split(images_data,28)\n",
        "        temp_images.append(images_data_as_array)\n",
        "    images = np.array(temp_images).astype('float')\n",
        "    labels = np.array(temp_labels).astype('float')\n",
        "\n",
        "    return images,labels"
      ],
      "execution_count": null,
      "outputs": []
    },
    {
      "cell_type": "code",
      "metadata": {
        "id": "mDCNHjB3nt7Q",
        "colab_type": "code",
        "colab": {}
      },
      "source": [
        "training_images, training_labels = get_data('/content/sign-language-mnist/sign_mnist_train/sign_mnist_train.csv')\n",
        "testing_images, testing_labels = get_data('/content/sign-language-mnist/sign_mnist_test/sign_mnist_test.csv')"
      ],
      "execution_count": null,
      "outputs": []
    },
    {
      "cell_type": "code",
      "metadata": {
        "id": "CYysgNwqoCO_",
        "colab_type": "code",
        "colab": {}
      },
      "source": [
        "print(training_images.shape)\n",
        "\n",
        "print(training_labels.shape)"
      ],
      "execution_count": null,
      "outputs": []
    },
    {
      "cell_type": "code",
      "metadata": {
        "id": "dl5LSfwwo6g6",
        "colab_type": "code",
        "colab": {}
      },
      "source": [
        "training_images = np.expand_dims(training_images,axis=3)\n",
        "testing_images = np.expand_dims(testing_images,axis=3)"
      ],
      "execution_count": null,
      "outputs": []
    },
    {
      "cell_type": "code",
      "metadata": {
        "id": "wyH6mKfMpWHG",
        "colab_type": "code",
        "colab": {}
      },
      "source": [
        "print(training_images.shape)"
      ],
      "execution_count": null,
      "outputs": []
    },
    {
      "cell_type": "code",
      "metadata": {
        "id": "vJrlaBxGpyb4",
        "colab_type": "code",
        "colab": {}
      },
      "source": [
        "train_datagen = ImageDataGenerator(rescale=1./255.,\n",
        "                                   rotation_range=40,\n",
        "                                   horizontal_flip = True,\n",
        "                                   vertical_flip = True,\n",
        "                                   fill_mode='nearest',\n",
        "                                   width_shift_range=0.2,\n",
        "                                   height_shift_range=0.2,\n",
        "                                   zoom_range=0.2,shear_range=0.2)\n",
        "test_datagen = ImageDataGenerator(rescale=1/255.)"
      ],
      "execution_count": null,
      "outputs": []
    },
    {
      "cell_type": "code",
      "metadata": {
        "id": "wEUZ8BorqXrq",
        "colab_type": "code",
        "colab": {}
      },
      "source": [
        "train_generator = train_datagen.flow(training_images,training_labels,batch_size=32)\n",
        "test_generator = test_datagen.flow(testing_images,testing_labels,batch_size=32)"
      ],
      "execution_count": null,
      "outputs": []
    },
    {
      "cell_type": "code",
      "metadata": {
        "id": "31ySm5PLuSrk",
        "colab_type": "code",
        "colab": {}
      },
      "source": [
        "len(np.unique(testing_labels))"
      ],
      "execution_count": null,
      "outputs": []
    },
    {
      "cell_type": "code",
      "metadata": {
        "id": "kGkwe7katkiZ",
        "colab_type": "code",
        "colab": {}
      },
      "source": [
        "import tensorflow as tf\n",
        "model = tf.keras.models.Sequential([\n",
        "    tf.keras.layers.Conv2D(16, (3,3), activation='relu', input_shape=(28, 28, 1)),\n",
        "    tf.keras.layers.MaxPooling2D(2,2),\n",
        "    tf.keras.layers.Conv2D(32, (3,3), activation='relu'),\n",
        "    tf.keras.layers.MaxPooling2D(2,2),\n",
        "    tf.keras.layers.Conv2D(64, (3,3), activation='relu'),\n",
        "    tf.keras.layers.MaxPooling2D(2,2),\n",
        "    tf.keras.layers.Flatten(),\n",
        "    tf.keras.layers.Dense(512, activation='relu'),\n",
        "    tf.keras.layers.Dense(26, activation='softmax')\n",
        "    \n",
        "])"
      ],
      "execution_count": null,
      "outputs": []
    },
    {
      "cell_type": "code",
      "metadata": {
        "id": "HEUPTFodt2yd",
        "colab_type": "code",
        "colab": {}
      },
      "source": [
        "model.summary()"
      ],
      "execution_count": null,
      "outputs": []
    },
    {
      "cell_type": "code",
      "metadata": {
        "id": "MsXp09gct4P5",
        "colab_type": "code",
        "colab": {}
      },
      "source": [
        "model.compile(optimizer = 'adam',loss='sparse_categorical_crossentropy',\n",
        "              metrics = ['acc'])"
      ],
      "execution_count": null,
      "outputs": []
    },
    {
      "cell_type": "code",
      "metadata": {
        "id": "qeiuagEPwE8M",
        "colab_type": "code",
        "colab": {}
      },
      "source": [
        "class myCallBack(tf.keras.callbacks.Callback):\n",
        "  def on_epoch_end(self,epoch,logs={}):\n",
        "    if(logs.get('acc')>0.90):\n",
        "      print(\"ur reached 90% accuracy\")\n",
        "      self.model.stop_training = True"
      ],
      "execution_count": null,
      "outputs": []
    },
    {
      "cell_type": "code",
      "metadata": {
        "id": "ZlAErEyfxAoK",
        "colab_type": "code",
        "colab": {}
      },
      "source": [
        "callbacks = myCallBack()\n",
        "history = model.fit(train_generator,validation_data=test_generator,epochs=50,\n",
        "                    steps_per_epoch = len(training_images)/32,\n",
        "                    validation_steps=len(testing_images)/32,\n",
        "                    callbacks=[callbacks])"
      ],
      "execution_count": null,
      "outputs": []
    },
    {
      "cell_type": "code",
      "metadata": {
        "id": "OONE6ceTxuk4",
        "colab_type": "code",
        "colab": {}
      },
      "source": [
        "import matplotlib.pyplot as plt\n",
        "acc = history.history['acc']\n",
        "val_acc = history.history['val_acc']\n",
        "loss = history.history['loss']\n",
        "val_loss = history.history['val_loss']\n",
        "\n",
        "epochs = range(len(acc))\n",
        "\n",
        "plt.plot(epochs, acc, 'r', label='Training accuracy')\n",
        "plt.plot(epochs, val_acc, 'b', label='Validation accuracy')\n",
        "plt.title('Training and validation accuracy')\n",
        "plt.legend(loc=0)\n",
        "plt.figure()\n",
        "\n",
        "\n",
        "plt.show()"
      ],
      "execution_count": null,
      "outputs": []
    },
    {
      "cell_type": "code",
      "metadata": {
        "id": "sm_oGNx53NWf",
        "colab_type": "code",
        "colab": {}
      },
      "source": [
        "# Transfer learning\n",
        "from tensorflow.keras.applications import VGG16"
      ],
      "execution_count": null,
      "outputs": []
    },
    {
      "cell_type": "code",
      "metadata": {
        "id": "APnK1TS-3pS2",
        "colab_type": "code",
        "colab": {}
      },
      "source": [
        "from tensorflow.keras import layers,Model"
      ],
      "execution_count": null,
      "outputs": []
    },
    {
      "cell_type": "code",
      "metadata": {
        "id": "S43Dp-aE4afT",
        "colab_type": "code",
        "colab": {}
      },
      "source": [
        "# Download VGG16 weights\n",
        "!wget --no-check-certificate \\\n",
        "    https://storage.googleapis.com/tensorflow/keras-applications/vgg16/vgg16_weights_tf_dim_ordering_tf_kernels_notop.h5 \\\n",
        "    -O /content/sign-language-mnist/vgg16_weights_tf_dim_ordering_tf_kernels_notop.h5"
      ],
      "execution_count": null,
      "outputs": []
    },
    {
      "cell_type": "code",
      "metadata": {
        "id": "J5ST5agk4xkP",
        "colab_type": "code",
        "colab": {}
      },
      "source": [
        "local_weights = '/content/sign-language-mnist/vgg16_weights_tf_dim_ordering_tf_kernels_notop.h5'"
      ],
      "execution_count": null,
      "outputs": []
    },
    {
      "cell_type": "code",
      "metadata": {
        "id": "g8Q6STjH45tX",
        "colab_type": "code",
        "colab": {}
      },
      "source": [
        "pre_trained_model = VGG16(input_shape = (150,150,3),include_top=False,weights=None)"
      ],
      "execution_count": null,
      "outputs": []
    },
    {
      "cell_type": "code",
      "metadata": {
        "id": "WO_pNJY36Dan",
        "colab_type": "code",
        "colab": {}
      },
      "source": [
        "pre_trained_model.load_weights(local_weights)"
      ],
      "execution_count": null,
      "outputs": []
    },
    {
      "cell_type": "code",
      "metadata": {
        "id": "69JRPCM68Bkx",
        "colab_type": "code",
        "colab": {}
      },
      "source": [
        "for layer in pre_trained_model.layers:\n",
        "  layer.trainable = False"
      ],
      "execution_count": null,
      "outputs": []
    },
    {
      "cell_type": "code",
      "metadata": {
        "id": "BuR5IdE_8lFO",
        "colab_type": "code",
        "colab": {}
      },
      "source": [
        "pre_trained_model.summary()"
      ],
      "execution_count": null,
      "outputs": []
    },
    {
      "cell_type": "code",
      "metadata": {
        "id": "12SdecQi8Sdg",
        "colab_type": "code",
        "colab": {}
      },
      "source": [
        "last_layer = pre_trained_model.get_layer('block4_pool')\n",
        "print(\"Last layer output shape::\",last_layer.output_shape)"
      ],
      "execution_count": null,
      "outputs": []
    },
    {
      "cell_type": "code",
      "metadata": {
        "id": "zIvFyspc8noB",
        "colab_type": "code",
        "colab": {}
      },
      "source": [
        "last_output = last_layer.output"
      ],
      "execution_count": null,
      "outputs": []
    },
    {
      "cell_type": "code",
      "metadata": {
        "id": "2DcFq9ww9bHc",
        "colab_type": "code",
        "colab": {}
      },
      "source": [
        "from tensorflow.keras.optimizers import Adam,RMSprop\n",
        "\n",
        "x = layers.Flatten()(last_output)\n",
        "x = layers.Dense(1024,activation= 'relu')(x)\n",
        "x = layers.Dropout(0.2)(x)\n",
        "x = layers.Dense(24,activation = 'softmax')(x)\n",
        "\n",
        "\n",
        "model = Model(pre_trained_model.input,x)\n",
        "\n",
        "# model.compile(optimizer=RMSprop(lr = 0.0001),loss='binary_crossentropy',metrics=['accuracy'])\n",
        "model.compile(optimizer = 'adam',loss='sparse_categorical_crossentropy',\n",
        "              metrics = ['acc'])"
      ],
      "execution_count": null,
      "outputs": []
    },
    {
      "cell_type": "code",
      "metadata": {
        "id": "P5MTog5_97Du",
        "colab_type": "code",
        "colab": {}
      },
      "source": [
        "# history = model.fit(train_generator,steps_per_epoch=100,epochs=20,verbose=2,validation_data=validation_generator,validation_steps=50)\n",
        "history = model.fit(train_generator,validation_data=test_generator,epochs=50,\n",
        "                    steps_per_epoch = len(training_images)/32,\n",
        "                    validation_steps=len(testing_images)/32)"
      ],
      "execution_count": null,
      "outputs": []
    },
    {
      "cell_type": "code",
      "metadata": {
        "id": "6Pl3nARB_cf5",
        "colab_type": "code",
        "colab": {}
      },
      "source": [
        ""
      ],
      "execution_count": null,
      "outputs": []
    },
    {
      "cell_type": "markdown",
      "metadata": {
        "id": "WAWZdAFLHjGh",
        "colab_type": "text"
      },
      "source": [
        "# RockPapersScissors"
      ]
    },
    {
      "cell_type": "code",
      "metadata": {
        "id": "8mRjBQHjHrYK",
        "colab_type": "code",
        "colab": {}
      },
      "source": [
        "import os\n",
        "import numpy as np\n",
        "import pandas as pd\n",
        "import zipfile"
      ],
      "execution_count": null,
      "outputs": []
    },
    {
      "cell_type": "code",
      "metadata": {
        "id": "IoqYGnfFH2sL",
        "colab_type": "code",
        "colab": {}
      },
      "source": [
        "# get training and testing data\n",
        "!wget --no-check-certificate \\\n",
        "    https://storage.googleapis.com/laurencemoroney-blog.appspot.com/rps.zip \\\n",
        "    -O /tmp/rps.zip\n",
        "  \n",
        "!wget --no-check-certificate \\\n",
        "    https://storage.googleapis.com/laurencemoroney-blog.appspot.com/rps-test-set.zip \\\n",
        "    -O /tmp/rps-test-set.zip"
      ],
      "execution_count": null,
      "outputs": []
    },
    {
      "cell_type": "code",
      "metadata": {
        "id": "dHRnNKHcIIF1",
        "colab_type": "code",
        "colab": {}
      },
      "source": [
        "local_zip = '/tmp/rps.zip'\n",
        "train_rps_zip = zipfile.ZipFile(local_zip,'r')\n",
        "train_rps_zip.extractall('/tmp')"
      ],
      "execution_count": null,
      "outputs": []
    },
    {
      "cell_type": "code",
      "metadata": {
        "id": "N4QlDtJFIy1W",
        "colab_type": "code",
        "colab": {}
      },
      "source": [
        "local_zip = '/tmp/rps-test-set.zip'\n",
        "train_rps_zip = zipfile.ZipFile(local_zip,'r')\n",
        "train_rps_zip.extractall('/tmp')"
      ],
      "execution_count": null,
      "outputs": []
    },
    {
      "cell_type": "code",
      "metadata": {
        "id": "qut0EiS1I4tZ",
        "colab_type": "code",
        "colab": {}
      },
      "source": [
        "rock_dir = os.path.join('/tmp/rps/rock')\n",
        "paper_dir = os.path.join('/tmp/rps/paper')\n",
        "scissors_dir = os.path.join('/tmp/rps/scissors')"
      ],
      "execution_count": null,
      "outputs": []
    },
    {
      "cell_type": "code",
      "metadata": {
        "id": "HrRl1eWPJiNK",
        "colab_type": "code",
        "colab": {}
      },
      "source": [
        "print(\"total images in rock folder\",len(os.listdir(rock_dir)))\n",
        "sample_rock = os.listdir(rock_dir)\n",
        "sample_rock[:10]"
      ],
      "execution_count": null,
      "outputs": []
    },
    {
      "cell_type": "code",
      "metadata": {
        "id": "6gtbeOdSJx_N",
        "colab_type": "code",
        "colab": {}
      },
      "source": [
        "print(\"total images in paper folder\",len(os.listdir(paper_dir)))\n",
        "sample_paper = os.listdir(paper_dir)\n",
        "sample_paper[:10]"
      ],
      "execution_count": null,
      "outputs": []
    },
    {
      "cell_type": "code",
      "metadata": {
        "id": "Il4yr8sZKOIh",
        "colab_type": "code",
        "colab": {}
      },
      "source": [
        "print(\"total images in scissors_dir folder\",len(os.listdir(scissors_dir)))\n",
        "sample_scissors= os.listdir(scissors_dir)\n",
        "sample_scissors[:10]"
      ],
      "execution_count": null,
      "outputs": []
    },
    {
      "cell_type": "code",
      "metadata": {
        "id": "DXDydNMkKfIU",
        "colab_type": "code",
        "colab": {}
      },
      "source": [
        "TRAINING_DIR = '/tmp/rps'\n",
        "from tensorflow.keras.preprocessing.image import ImageDataGenerator\n",
        "\n",
        "training_datagen = ImageDataGenerator(rescale = 1/255.,\n",
        "                                      horizontal_flip = True,\n",
        "                                      vertical_flip = True,\n",
        "                                      shear_range = 0.2,\n",
        "                                      zoom_range = 0.2,\n",
        "                                      rotation_range = 40,\n",
        "                                      width_shift_range = 0.2,\n",
        "                                      height_shift_range = 0.2,\n",
        "                                      fill_mode = 'nearest'\n",
        ")\n",
        "VALIDATION_DIR = '/tmp/rps-test-set'\n",
        "validation_datagen = ImageDataGenerator(rescale = 1/255.)"
      ],
      "execution_count": null,
      "outputs": []
    },
    {
      "cell_type": "code",
      "metadata": {
        "id": "U64RPCgaLSTG",
        "colab_type": "code",
        "colab": {}
      },
      "source": [
        "train_generator = training_datagen.flow_from_directory(\n",
        "                                                      TRAINING_DIR,\n",
        "                                                      target_size=(150,150),\n",
        "                                                      batch_size = 126,\n",
        "                                                    class_mode = 'categorical')\n",
        "\n",
        "validation_generator = validation_datagen.flow_from_directory(\n",
        "                                                      VALIDATION_DIR,\n",
        "                                                      target_size=(150,150),\n",
        "                                                      batch_size = 126,\n",
        "                                                    class_mode = 'categorical')"
      ],
      "execution_count": null,
      "outputs": []
    },
    {
      "cell_type": "code",
      "metadata": {
        "id": "bG6vecjRNbf-",
        "colab_type": "code",
        "colab": {}
      },
      "source": [
        "import tensorflow as tf\n",
        "model = tf.keras.models.Sequential([\n",
        "    tf.keras.layers.Conv2D(64,(3,3),activation='relu',input_shape=(150,150,3)),\n",
        "    tf.keras.layers.MaxPooling2D(2,2),\n",
        "    tf.keras.layers.Conv2D(64,(3,3),activation='relu'),\n",
        "    tf.keras.layers.MaxPooling2D(2,2),\n",
        "    tf.keras.layers.Conv2D(128,(3,3),activation='relu'),\n",
        "    tf.keras.layers.MaxPooling2D(2,2),\n",
        "    tf.keras.layers.Conv2D(128,(3,3),activation='relu'),\n",
        "    tf.keras.layers.MaxPooling2D(2,2),\n",
        "    tf.keras.layers.Flatten(),\n",
        "    tf.keras.layers.Dropout(0.2),\n",
        "    tf.keras.layers.Dense(512,activation = 'relu'),\n",
        "    tf.keras.layers.Dense(3,activation = 'softmax')\n",
        "])"
      ],
      "execution_count": null,
      "outputs": []
    },
    {
      "cell_type": "code",
      "metadata": {
        "id": "5wSEOTvrNoQ5",
        "colab_type": "code",
        "colab": {}
      },
      "source": [
        "model.summary()"
      ],
      "execution_count": null,
      "outputs": []
    },
    {
      "cell_type": "code",
      "metadata": {
        "id": "DKjj3BOqQqzT",
        "colab_type": "code",
        "colab": {}
      },
      "source": [
        "model.compile(optimizer='adam',loss='categorical_crossentropy',metrics= ['accuracy'])"
      ],
      "execution_count": null,
      "outputs": []
    },
    {
      "cell_type": "code",
      "metadata": {
        "id": "HnSNd9NFRFu2",
        "colab_type": "code",
        "colab": {}
      },
      "source": [
        "history = model.fit(train_generator,validation_data = validation_generator,\n",
        "                    epochs = 50,steps_per_epoch = 20,verbose=2,\n",
        "                    validation_steps=3)"
      ],
      "execution_count": null,
      "outputs": []
    },
    {
      "cell_type": "code",
      "metadata": {
        "id": "pvJogdsORoDP",
        "colab_type": "code",
        "colab": {}
      },
      "source": [
        "import matplotlib.pyplot as plt\n",
        "acc = history.history['accuracy']\n",
        "val_acc = history.history['val_accuracy']\n",
        "loss = history.history['loss']\n",
        "val_loss = history.history['val_loss']\n",
        "\n",
        "epochs = range(len(acc))\n",
        "\n",
        "plt.plot(epochs, acc, 'r', label='Training accuracy')\n",
        "plt.plot(epochs, val_acc, 'b', label='Validation accuracy')\n",
        "plt.title('Training and validation accuracy')\n",
        "plt.legend(loc=0)\n",
        "plt.figure()\n",
        "\n",
        "\n",
        "plt.show()"
      ],
      "execution_count": null,
      "outputs": []
    },
    {
      "cell_type": "code",
      "metadata": {
        "id": "A59UnCBMXEGf",
        "colab_type": "code",
        "colab": {}
      },
      "source": [
        "import numpy as np\n",
        "from google.colab import files\n",
        "from keras.preprocessing import image\n",
        "\n",
        "uploaded = files.upload()\n",
        "\n",
        "for fn in uploaded.keys():\n",
        " \n",
        "  # predicting images\n",
        "  path = fn\n",
        "  img = image.load_img(path, target_size=(150, 150))\n",
        "  x = image.img_to_array(img)\n",
        "  x = np.expand_dims(x, axis=0)\n",
        "\n",
        "  images = np.vstack([x])\n",
        "  classes = model.predict(images, batch_size=10)\n",
        "  print(fn)\n",
        "  print(classes)"
      ],
      "execution_count": null,
      "outputs": []
    },
    {
      "cell_type": "markdown",
      "metadata": {
        "id": "E_IOyu1TbmhE",
        "colab_type": "text"
      },
      "source": [
        "# Intel"
      ]
    },
    {
      "cell_type": "code",
      "metadata": {
        "id": "7HgigzH-bt8p",
        "colab_type": "code",
        "colab": {}
      },
      "source": [
        "import os\n",
        "os.chdir('/tmp')\n",
        "os.environ['KAGGLE_USERNAME'] = \"karma12\"\n",
        "os.environ['KAGGLE_KEY'] = \"86e11f115781e9045f94c2b0ba1e31f4\""
      ],
      "execution_count": null,
      "outputs": []
    },
    {
      "cell_type": "code",
      "metadata": {
        "id": "GziWHYftboIQ",
        "colab_type": "code",
        "colab": {}
      },
      "source": [
        "!kaggle datasets download -d puneet6060/intel-image-classification"
      ],
      "execution_count": null,
      "outputs": []
    },
    {
      "cell_type": "code",
      "metadata": {
        "id": "iiCGGIhF5QxU",
        "colab_type": "code",
        "colab": {}
      },
      "source": [
        "# os.mkdir('/content/drive/My Drive/intel_images')"
      ],
      "execution_count": null,
      "outputs": []
    },
    {
      "cell_type": "code",
      "metadata": {
        "id": "DbwKTPic4uE-",
        "colab_type": "code",
        "colab": {}
      },
      "source": [
        "# import zipfile\n",
        "# file_dir = '/tmp/intel-image-classification.zip'\n",
        "# file = zipfile.ZipFile(file_dir,'r')\n",
        "# file.extractall('/content/drive/My Drive/intel_images')\n",
        "# file.close()"
      ],
      "execution_count": null,
      "outputs": []
    },
    {
      "cell_type": "code",
      "metadata": {
        "id": "Rz-upV845zcL",
        "colab_type": "code",
        "colab": {}
      },
      "source": [
        "train_images = os.path.join('/content/drive/My Drive/intel_images/seg_train/seg_train')\n",
        "test_images = os.path.join('/content/drive/My Drive/intel_images/seg_test/seg_test')"
      ],
      "execution_count": null,
      "outputs": []
    },
    {
      "cell_type": "code",
      "metadata": {
        "id": "9Pq64vGF6wsD",
        "colab_type": "code",
        "colab": {
          "base_uri": "https://localhost:8080/",
          "height": 34
        },
        "outputId": "26ac718f-e7a0-478c-bbf7-6adf783789b2"
      },
      "source": [
        "os.listdir(train_images)"
      ],
      "execution_count": null,
      "outputs": [
        {
          "output_type": "execute_result",
          "data": {
            "text/plain": [
              "['buildings', 'forest', 'glacier', 'mountain', 'sea', 'street']"
            ]
          },
          "metadata": {
            "tags": []
          },
          "execution_count": 4
        }
      ]
    },
    {
      "cell_type": "code",
      "metadata": {
        "id": "EVZrAos260r4",
        "colab_type": "code",
        "colab": {}
      },
      "source": [
        "train_images_buildings  = os.path.join('/content/drive/My Drive/intel_images/seg_train/seg_train/buildings')\n",
        "train_images_forest = os.path.join('/content/drive/My Drive/intel_images/seg_train/seg_train/forest')\n",
        "train_images_glacier = os.path.join('/content/drive/My Drive/intel_images/seg_train/seg_train/glacier')\n",
        "train_images_mountain = os.path.join('/content/drive/My Drive/intel_images/seg_train/seg_train/mountain')\n",
        "train_images_sea = os.path.join('/content/drive/My Drive/intel_images/seg_train/seg_train/sea')\n",
        "train_images_street = os.path.join('/content/drive/My Drive/intel_images/seg_train/seg_train/street')\n",
        "\n",
        "\n",
        "test_images_buildings  = os.path.join('/content/drive/My Drive/intel_images/seg_test/seg_test/buildings')\n",
        "test_images_forest = os.path.join('/content/drive/My Drive/intel_images/seg_test/seg_test/forest')\n",
        "test_images_glacier = os.path.join('/content/drive/My Drive/intel_images/seg_test/seg_test/glacier')\n",
        "test_images_mountain = os.path.join('/content/drive/My Drive/intel_images/seg_test/seg_test/mountain')\n",
        "test_images_sea = os.path.join('/content/drive/My Drive/intel_images/seg_test/seg_test/sea')\n",
        "test_images_street = os.path.join('/content/drive/My Drive/intel_images/seg_test/seg_test/street')"
      ],
      "execution_count": null,
      "outputs": []
    },
    {
      "cell_type": "code",
      "metadata": {
        "id": "wXktGNj38oAI",
        "colab_type": "code",
        "colab": {}
      },
      "source": [
        "train_build_fnames = os.listdir(train_images_buildings)\n",
        "train_forest_fnames = os.listdir(train_images_forest)\n",
        "train_glacier_fnames = os.listdir(train_images_glacier)\n",
        "train_mountain_fnames = os.listdir(train_images_mountain)\n",
        "train_sea_fnames = os.listdir(train_images_sea)\n",
        "train_street_fnames = os.listdir(train_images_street)\n",
        "\n",
        "test_build_fnames = os.listdir(test_images_buildings)\n",
        "test_forest_fnames = os.listdir(test_images_forest)\n",
        "test_glacier_fnames = os.listdir(test_images_glacier)\n",
        "test_mountain_fnames = os.listdir(test_images_mountain)\n",
        "test_sea_fnames = os.listdir(test_images_sea)\n",
        "test_street_fnames = os.listdir(test_images_street)"
      ],
      "execution_count": null,
      "outputs": []
    },
    {
      "cell_type": "code",
      "metadata": {
        "id": "DP8ZvaZx-h0s",
        "colab_type": "code",
        "colab": {
          "base_uri": "https://localhost:8080/",
          "height": 34
        },
        "outputId": "e504ed75-04a3-4b0d-9f57-85d7d83a4f14"
      },
      "source": [
        "import matplotlib.pyplot as plt\n",
        "import numpy as np\n",
        "from keras.preprocessing.image import ImageDataGenerator"
      ],
      "execution_count": null,
      "outputs": [
        {
          "output_type": "stream",
          "text": [
            "Using TensorFlow backend.\n"
          ],
          "name": "stderr"
        }
      ]
    },
    {
      "cell_type": "code",
      "metadata": {
        "id": "6NiHvaKg_f0m",
        "colab_type": "code",
        "colab": {}
      },
      "source": [
        "training_datagen = ImageDataGenerator(rescale = 1/255.,\n",
        "                                      horizontal_flip = True,\n",
        "                                      vertical_flip = True,\n",
        "                                      shear_range = 0.2,\n",
        "                                      zoom_range = 0.2,\n",
        "                                      rotation_range = 40,\n",
        "                                      width_shift_range = 0.2,\n",
        "                                      height_shift_range = 0.2,\n",
        "                                      fill_mode = 'nearest'\n",
        ")\n",
        "\n",
        "validation_datagen = ImageDataGenerator(rescale = 1/255.)"
      ],
      "execution_count": null,
      "outputs": []
    },
    {
      "cell_type": "code",
      "metadata": {
        "id": "1v3--veqFNY7",
        "colab_type": "code",
        "colab": {
          "base_uri": "https://localhost:8080/",
          "height": 51
        },
        "outputId": "fbcdd31c-cee0-427a-d67a-b2cd396d1ff0"
      },
      "source": [
        "TRAINING_DIR = '/content/drive/My Drive/intel_images/seg_train/seg_train'\n",
        "train_generator = training_datagen.flow_from_directory(\n",
        "                                                      TRAINING_DIR,\n",
        "                                                      target_size=(150,150),\n",
        "                                                      batch_size = 126,\n",
        "                                                    class_mode = 'categorical')\n",
        "\n",
        "VALIDATION_DIR ='/content/drive/My Drive/intel_images/seg_test/seg_test'\n",
        "validation_generator = validation_datagen.flow_from_directory(\n",
        "                                                      VALIDATION_DIR,\n",
        "                                                      target_size=(150,150),\n",
        "                                                      batch_size = 126,\n",
        "                                                    class_mode = 'categorical')"
      ],
      "execution_count": null,
      "outputs": [
        {
          "output_type": "stream",
          "text": [
            "Found 14034 images belonging to 6 classes.\n",
            "Found 3000 images belonging to 6 classes.\n"
          ],
          "name": "stdout"
        }
      ]
    },
    {
      "cell_type": "code",
      "metadata": {
        "id": "npX0FDOsGBiM",
        "colab_type": "code",
        "colab": {}
      },
      "source": [
        "import tensorflow as tf\n",
        "model = tf.keras.Sequential([\n",
        "    tf.keras.layers.Conv2D(32, (3, 3), activation = 'relu', input_shape = (150, 150, 3)), \n",
        "    tf.keras.layers.MaxPooling2D(2,2),\n",
        "    tf.keras.layers.Conv2D(32, (3, 3), activation = 'relu'),\n",
        "    tf.keras.layers.MaxPooling2D(2,2),\n",
        "    tf.keras.layers.Flatten(),\n",
        "    tf.keras.layers.Dense(128, activation=tf.nn.relu),\n",
        "    tf.keras.layers.Dense(6, activation=tf.nn.softmax)\n",
        "])"
      ],
      "execution_count": null,
      "outputs": []
    },
    {
      "cell_type": "code",
      "metadata": {
        "id": "nQB_fyrKGMhD",
        "colab_type": "code",
        "colab": {}
      },
      "source": [
        "from tensorflow.keras.utils import plot_model"
      ],
      "execution_count": null,
      "outputs": []
    },
    {
      "cell_type": "code",
      "metadata": {
        "id": "ZlPI4QOmGaQc",
        "colab_type": "code",
        "colab": {
          "base_uri": "https://localhost:8080/",
          "height": 391
        },
        "outputId": "48b7960e-5655-4114-93ca-4f80c1232140"
      },
      "source": [
        "model.summary()"
      ],
      "execution_count": null,
      "outputs": [
        {
          "output_type": "stream",
          "text": [
            "Model: \"sequential\"\n",
            "_________________________________________________________________\n",
            "Layer (type)                 Output Shape              Param #   \n",
            "=================================================================\n",
            "conv2d (Conv2D)              (None, 148, 148, 32)      896       \n",
            "_________________________________________________________________\n",
            "max_pooling2d (MaxPooling2D) (None, 74, 74, 32)        0         \n",
            "_________________________________________________________________\n",
            "conv2d_1 (Conv2D)            (None, 72, 72, 32)        9248      \n",
            "_________________________________________________________________\n",
            "max_pooling2d_1 (MaxPooling2 (None, 36, 36, 32)        0         \n",
            "_________________________________________________________________\n",
            "flatten (Flatten)            (None, 41472)             0         \n",
            "_________________________________________________________________\n",
            "dense (Dense)                (None, 128)               5308544   \n",
            "_________________________________________________________________\n",
            "dense_1 (Dense)              (None, 6)                 774       \n",
            "=================================================================\n",
            "Total params: 5,319,462\n",
            "Trainable params: 5,319,462\n",
            "Non-trainable params: 0\n",
            "_________________________________________________________________\n"
          ],
          "name": "stdout"
        }
      ]
    },
    {
      "cell_type": "code",
      "metadata": {
        "id": "T2FgOhSBGqa1",
        "colab_type": "code",
        "colab": {
          "base_uri": "https://localhost:8080/",
          "height": 758
        },
        "outputId": "3d61cef8-d20b-4bf0-9b1e-ae970e08bebc"
      },
      "source": [
        "plot_model(model)"
      ],
      "execution_count": null,
      "outputs": [
        {
          "output_type": "execute_result",
          "data": {
            "image/png": "[encoded data removed]",
            "text/plain": [
              "<IPython.core.display.Image object>"
            ]
          },
          "metadata": {
            "tags": []
          },
          "execution_count": 13
        }
      ]
    },
    {
      "cell_type": "code",
      "metadata": {
        "id": "vuj0q3BmG2DG",
        "colab_type": "code",
        "colab": {}
      },
      "source": [
        "model.compile(optimizer='adam',loss='categorical_crossentropy',metrics= ['accuracy'])"
      ],
      "execution_count": null,
      "outputs": []
    },
    {
      "cell_type": "code",
      "metadata": {
        "id": "f9iK1iLlHaj6",
        "colab_type": "code",
        "colab": {}
      },
      "source": [
        "history = model.fit(train_generator,validation_data = validation_generator,\n",
        "                    epochs = 50,steps_per_epoch = 20,verbose=2,\n",
        "                    validation_steps=3)"
      ],
      "execution_count": null,
      "outputs": []
    },
    {
      "cell_type": "code",
      "metadata": {
        "id": "Ya7-bjERHiPW",
        "colab_type": "code",
        "colab": {}
      },
      "source": [
        ""
      ],
      "execution_count": null,
      "outputs": []
    },
    {
      "cell_type": "markdown",
      "metadata": {
        "id": "RSER75ogCXmb",
        "colab_type": "text"
      },
      "source": [
        "# OneShot"
      ]
    },
    {
      "cell_type": "code",
      "metadata": {
        "id": "WV35xqC1HzEn",
        "colab_type": "code",
        "colab": {}
      },
      "source": [
        "!sudo mkdir '/content/drive/My Drive/siamese'\n",
        "# !cd '/content/drive/My Drive/siamese'"
      ],
      "execution_count": null,
      "outputs": []
    },
    {
      "cell_type": "code",
      "metadata": {
        "id": "XGH3H__FIbIJ",
        "colab_type": "code",
        "colab": {}
      },
      "source": [
        "!pwd"
      ],
      "execution_count": null,
      "outputs": []
    },
    {
      "cell_type": "code",
      "metadata": {
        "id": "Gl2ObX9eCZlu",
        "colab_type": "code",
        "colab": {}
      },
      "source": [
        "!git clone https://github.com/brendenlake/omniglot.git"
      ],
      "execution_count": null,
      "outputs": []
    },
    {
      "cell_type": "code",
      "metadata": {
        "id": "OEQUadfhKUkg",
        "colab_type": "code",
        "colab": {}
      },
      "source": [
        "import os\n",
        "import zipfile\n",
        "\n",
        "source_dir = '/content/omniglot/python/images_background.zip'\n",
        "file = zipfile.ZipFile(source_dir,'r')\n",
        "file.extractall('/content/drive/My Drive/siamese')\n",
        "file.close()"
      ],
      "execution_count": null,
      "outputs": []
    },
    {
      "cell_type": "code",
      "metadata": {
        "id": "6BwrFWQNLVGr",
        "colab_type": "code",
        "colab": {}
      },
      "source": [
        "source_dir = '/content/omniglot/python/images_evaluation.zip'\n",
        "file = zipfile.ZipFile(source_dir,'r')\n",
        "file.extractall('/content/drive/My Drive/siamese')\n",
        "file.close()"
      ],
      "execution_count": null,
      "outputs": []
    },
    {
      "cell_type": "code",
      "metadata": {
        "id": "SqX9PupXU7Cb",
        "colab_type": "code",
        "colab": {}
      },
      "source": [
        "import numpy as np\n",
        "import pandas as pd\n",
        "# import scipy.misc\n",
        "import imageio"
      ],
      "execution_count": null,
      "outputs": []
    },
    {
      "cell_type": "code",
      "metadata": {
        "id": "dhLWkfnWLe73",
        "colab_type": "code",
        "colab": {}
      },
      "source": [
        "def loadimgs(path, n = 0):\n",
        "  lang_dict= {}\n",
        "  curry_n = n\n",
        "\n",
        "  cat_dict = {}\n",
        "\n",
        "  X = []\n",
        "  y = []\n",
        "  for alphabet in os.listdir(path):\n",
        "    lang_dict[alphabet] = [curry_n,None]\n",
        "    alphabet_path  = os.path.join(path,alphabet)\n",
        "\n",
        "    for letter in os.listdir(alphabet_path):\n",
        "      cat_dict[curry_n] = [alphabet,letter]\n",
        "      category_names = []\n",
        "      letter_path = os.path.join(alphabet_path,letter)\n",
        "      for filename in os.listdir(letter_path):\n",
        "        image_path = os.path.join(letter_path,filename)\n",
        "        image = imageio.imread(image_path)\n",
        "        category_names.append(image)\n",
        "        y.append(curry_n)\n",
        "\n",
        "      try:\n",
        "        X.append(np.stack(category_names))\n",
        "      except ValueError as e:\n",
        "        print(e)\n",
        "        print(\"error - category_images:\", category_images)\n",
        "      curry_n +=1\n",
        "      lang_dict[alphabet][1] = curry_n - 1\n",
        "    X = np.stack(X)\n",
        "    y = np.vstack(y)\n",
        "\n",
        "    return X,y,lang_dict\n"
      ],
      "execution_count": null,
      "outputs": []
    },
    {
      "cell_type": "code",
      "metadata": {
        "id": "U0fKph47SKIv",
        "colab_type": "code",
        "colab": {}
      },
      "source": [
        "Xtrain,y,train_classes = loadimgs('/content/drive/My Drive/siamese/images_background')"
      ],
      "execution_count": null,
      "outputs": []
    },
    {
      "cell_type": "code",
      "metadata": {
        "id": "W_YLwUUTSNXg",
        "colab_type": "code",
        "colab": {}
      },
      "source": [
        "Xval,yval,val_classes = loadimgs('/content/drive/My Drive/siamese/images_evaluation')"
      ],
      "execution_count": null,
      "outputs": []
    },
    {
      "cell_type": "code",
      "metadata": {
        "id": "3K_Vzylcbmsf",
        "colab_type": "code",
        "colab": {}
      },
      "source": [
        "def initialize_weights(shape,name =None,dtype=None):\n",
        "  return np.random.normal(loc = 0.0,scale=1e-2,size=shape)"
      ],
      "execution_count": null,
      "outputs": []
    },
    {
      "cell_type": "code",
      "metadata": {
        "id": "kvB4TOArc68l",
        "colab_type": "code",
        "colab": {}
      },
      "source": [
        "def initialize_bias(shape, name = None,dtype=None):\n",
        "  return np.random.normal(loc = 0.5,scale = 1e-2,size=shape)"
      ],
      "execution_count": null,
      "outputs": []
    },
    {
      "cell_type": "code",
      "metadata": {
        "id": "ogp-zob292Qd",
        "colab_type": "code",
        "colab": {}
      },
      "source": [
        "from keras.layers import Input,Conv2D,MaxPooling2D\n",
        "from keras.models import Sequential\n",
        "from keras.regularizers import l2\n",
        "import tensorflow as tf\n",
        "from keras.layers.core import Lambda, Flatten, Dense\n",
        "from keras import backend as K\n",
        "from keras.models import Model"
      ],
      "execution_count": null,
      "outputs": []
    },
    {
      "cell_type": "code",
      "metadata": {
        "id": "RgJouAdDd14-",
        "colab_type": "code",
        "colab": {}
      },
      "source": [
        "def get_siamese_model(input_shape):\n",
        "    \"\"\"\n",
        "        Model architecture based on the one provided in: http://www.cs.utoronto.ca/~gkoch/files/msc-thesis.pdf\n",
        "    \"\"\"\n",
        "    \n",
        "    # Define the tensors for the two input images\n",
        "    left_input = Input(input_shape)\n",
        "    right_input = Input(input_shape)\n",
        "    \n",
        "    # Convolutional Neural Network\n",
        "    model = Sequential()\n",
        "    model.add(Conv2D(64, (10,10), activation='relu', input_shape=input_shape,\n",
        "                   kernel_initializer=initialize_weights, kernel_regularizer=l2(2e-4)))\n",
        "    model.add(MaxPooling2D())\n",
        "    model.add(Conv2D(128, (7,7), activation='relu',\n",
        "                     kernel_initializer=initialize_weights,\n",
        "                     bias_initializer=initialize_bias, kernel_regularizer=l2(2e-4)))\n",
        "    model.add(MaxPooling2D())\n",
        "    model.add(Conv2D(128, (4,4), activation='relu', kernel_initializer=initialize_weights,\n",
        "                     bias_initializer=initialize_bias, kernel_regularizer=l2(2e-4)))\n",
        "    model.add(MaxPooling2D())\n",
        "    model.add(Conv2D(256, (4,4), activation='relu', kernel_initializer=initialize_weights,\n",
        "                     bias_initializer=initialize_bias, kernel_regularizer=l2(2e-4)))\n",
        "    model.add(Flatten())\n",
        "    model.add(Dense(4096, activation='sigmoid',\n",
        "                   kernel_regularizer=l2(1e-3),\n",
        "                   kernel_initializer=initialize_weights,bias_initializer=initialize_bias))\n",
        "    \n",
        "    # Generate the encodings (feature vectors) for the two images\n",
        "    encoded_l = model(left_input)\n",
        "    encoded_r = model(right_input)\n",
        "    \n",
        "    # Add a customized layer to compute the absolute difference between the encodings\n",
        "    L1_layer = Lambda(lambda tensors:K.abs(tensors[0] - tensors[1]))\n",
        "    L1_distance = L1_layer([encoded_l, encoded_r])\n",
        "    \n",
        "    # Add a dense layer with a sigmoid unit to generate the similarity score\n",
        "    prediction = Dense(1,activation='sigmoid',bias_initializer=initialize_bias)(L1_distance)\n",
        "    \n",
        "    # Connect the inputs with the outputs\n",
        "    siamese_net = Model(inputs=[left_input,right_input],outputs=prediction)\n",
        "    \n",
        "    # return the model\n",
        "    return siamese_net"
      ],
      "execution_count": null,
      "outputs": []
    },
    {
      "cell_type": "code",
      "metadata": {
        "id": "B3Fzf8t-64Mi",
        "colab_type": "code",
        "colab": {}
      },
      "source": [
        "model = get_siamese_model((105, 105, 1))\n",
        "model.summary()"
      ],
      "execution_count": null,
      "outputs": []
    },
    {
      "cell_type": "code",
      "metadata": {
        "id": "-SC7uT_L9zzO",
        "colab_type": "code",
        "colab": {}
      },
      "source": [
        "tf.keras.utils.plot_model(model)"
      ],
      "execution_count": null,
      "outputs": []
    },
    {
      "cell_type": "code",
      "metadata": {
        "id": "LNK0nN1aADyn",
        "colab_type": "code",
        "colab": {}
      },
      "source": [
        "from keras.optimizers import Adam\n",
        "optimizer = Adam(lr = 0.00006)\n",
        "model.compile(loss=\"binary_crossentropy\",optimizer=optimizer)"
      ],
      "execution_count": null,
      "outputs": []
    },
    {
      "cell_type": "code",
      "metadata": {
        "id": "79eDDbC1WU6y",
        "colab_type": "code",
        "colab": {}
      },
      "source": [
        "import numpy.random as rng\n",
        "import time\n",
        "from sklearn.utils import shuffle"
      ],
      "execution_count": null,
      "outputs": []
    },
    {
      "cell_type": "code",
      "metadata": {
        "id": "795Ms3_wYgMv",
        "colab_type": "code",
        "colab": {}
      },
      "source": [
        ""
      ],
      "execution_count": null,
      "outputs": []
    },
    {
      "cell_type": "code",
      "metadata": {
        "id": "zkb8yBAfBWUc",
        "colab_type": "code",
        "colab": {}
      },
      "source": [
        "def get_batch(batch_size,s=\"train\"):\n",
        "  if s=='train':\n",
        "    X = Xtrain\n",
        "    categories = train_classes\n",
        "  else:\n",
        "    X = Xval\n",
        "    categories = val_classes\n",
        "  n_classes, n_examples, w, h = X.shape\n",
        "  categories = rng.choice(n_classes,size=(batch_size,)) #,replace=False\n",
        "  pairs=[np.zeros((batch_size, h, w,1)) for i in range(2)]\n",
        "  targets=np.zeros((batch_size,))\n",
        "  targets[batch_size//2:] = 1\n",
        "  for i in range(batch_size):\n",
        "      category = categories[i]\n",
        "      idx_1 = rng.randint(0, n_examples)\n",
        "      pairs[0][i,:,:,:] = X[category, idx_1].reshape(w, h, 1)\n",
        "      idx_2 = rng.randint(0, n_examples)\n",
        "      \n",
        "      # pick images of same class for 1st half, different for 2nd\n",
        "      if i >= batch_size // 2:\n",
        "          category_2 = category  \n",
        "      else: \n",
        "          # add a random number to the category modulo n classes to ensure 2nd image has a different category\n",
        "          category_2 = (category + rng.randint(1,n_classes)) % n_classes\n",
        "      \n",
        "      pairs[1][i,:,:,:] = X[category_2,idx_2].reshape(w, h,1)\n",
        "  \n",
        "  return pairs, targets  \n"
      ],
      "execution_count": null,
      "outputs": []
    },
    {
      "cell_type": "code",
      "metadata": {
        "id": "0PvvXzgDCqAl",
        "colab_type": "code",
        "colab": {}
      },
      "source": [
        "def generate(batch_size, s=\"train\"):\n",
        "    \"\"\"a generator for batches, so model.fit_generator can be used. \"\"\"\n",
        "    while True:\n",
        "        pairs, targets = get_batch(batch_size,s)\n",
        "        yield (pairs, targets)"
      ],
      "execution_count": null,
      "outputs": []
    },
    {
      "cell_type": "code",
      "metadata": {
        "id": "VzylUBqPW9tt",
        "colab_type": "code",
        "colab": {}
      },
      "source": [
        "def make_oneshot_task(N, s=\"val\", language=None):\n",
        "    \"\"\"Create pairs of test image, support set for testing N way one-shot learning. \"\"\"\n",
        "    if s == 'train':\n",
        "        X = Xtrain\n",
        "        categories = train_classes\n",
        "    else:\n",
        "        X = Xval\n",
        "        categories = val_classes\n",
        "    n_classes, n_examples, w, h = X.shape\n",
        "    \n",
        "    indices = rng.randint(0, n_examples,size=(N,))\n",
        "    if language is not None: # if language is specified, select characters for that language\n",
        "        low, high = categories[language]\n",
        "        if N > high - low:\n",
        "            raise ValueError(\"This language ({}) has less than {} letters\".format(language, N))\n",
        "        categories = rng.choice(range(low,high),size=(N,))#,replace=False\n",
        "\n",
        "    else: # if no language specified just pick a bunch of random letters\n",
        "        categories = rng.choice(range(n_classes),size=(N,))#,replace=False            \n",
        "    true_category = categories[0]\n",
        "    ex1, ex2 = rng.choice(n_examples,size=(2,)) #replace=False,\n",
        "    test_image = np.asarray([X[true_category,ex1,:,:]]*N).reshape(N, w, h,1)\n",
        "    support_set = X[categories,indices,:,:]\n",
        "    support_set[0,:,:] = X[true_category,ex2]\n",
        "    support_set = support_set.reshape(N, w, h,1)\n",
        "    targets = np.zeros((N,))\n",
        "    targets[0] = 1\n",
        "    targets, test_image, support_set = shuffle(targets, test_image, support_set)\n",
        "    pairs = [test_image,support_set]\n",
        "\n",
        "    return pairs, targets"
      ],
      "execution_count": null,
      "outputs": []
    },
    {
      "cell_type": "code",
      "metadata": {
        "id": "RXFTYRUOW9qL",
        "colab_type": "code",
        "colab": {}
      },
      "source": [
        "def test_oneshot(model, N, k, s = \"val\", verbose = 0):\n",
        "    \"\"\"Test average N way oneshot learning accuracy of a siamese neural net over k one-shot tasks\"\"\"\n",
        "    n_correct = 0\n",
        "    if verbose:\n",
        "        print(\"Evaluating model on {} random {} way one-shot learning tasks ... \\n\".format(k,N))\n",
        "    for i in range(k):\n",
        "        inputs, targets = make_oneshot_task(N,s)\n",
        "        probs = model.predict(inputs)\n",
        "        if np.argmax(probs) == np.argmax(targets):\n",
        "            n_correct+=1\n",
        "    percent_correct = (100.0 * n_correct / k)\n",
        "    if verbose:\n",
        "        print(\"Got an average of {}% {} way one-shot learning accuracy \\n\".format(percent_correct,N))\n",
        "    return percent_correct"
      ],
      "execution_count": null,
      "outputs": []
    },
    {
      "cell_type": "code",
      "metadata": {
        "id": "zIYENlyhW9mP",
        "colab_type": "code",
        "colab": {}
      },
      "source": [
        "# Hyper parameters\n",
        "evaluate_every = 200 # interval for evaluating on one-shot tasks\n",
        "batch_size = 32\n",
        "n_iter = 20000 # No. of training iterations\n",
        "N_way = 20 # how many classes for testing one-shot tasks\n",
        "n_val = 250 # how many one-shot tasks to validate on\n",
        "best = -1"
      ],
      "execution_count": null,
      "outputs": []
    },
    {
      "cell_type": "code",
      "metadata": {
        "id": "H7-KdaciW9iD",
        "colab_type": "code",
        "colab": {}
      },
      "source": [
        "model_path = '/content/drive/My Drive/siamese'\n",
        "print(\"Starting training process!\")\n",
        "print(\"-------------------------------------\")\n",
        "t_start = time.time()\n",
        "for i in range(1, n_iter+1):\n",
        "    (inputs,targets) = get_batch(batch_size)\n",
        "    loss = model.train_on_batch(inputs, targets)\n",
        "    if i % evaluate_every == 0:\n",
        "        print(\"\\n ------------- \\n\")\n",
        "        print(\"Time for {0} iterations: {1} mins\".format(i, (time.time()-t_start)/60.0))\n",
        "        print(\"Train Loss: {0}\".format(loss)) \n",
        "        val_acc = test_oneshot(model, N_way, n_val, verbose=True)\n",
        "        model.save_weights(os.path.join(model_path, 'weights.{}.h5'.format(i)))\n",
        "        if val_acc >= best:\n",
        "            print(\"Current best: {0}, previous best: {1}\".format(val_acc, best))\n",
        "            best = val_acc\n"
      ],
      "execution_count": null,
      "outputs": []
    },
    {
      "cell_type": "code",
      "metadata": {
        "id": "lQivvehwW9eM",
        "colab_type": "code",
        "colab": {}
      },
      "source": [
        ""
      ],
      "execution_count": null,
      "outputs": []
    },
    {
      "cell_type": "markdown",
      "metadata": {
        "id": "Gx5kaFmXMvln",
        "colab_type": "text"
      },
      "source": [
        "# PDD"
      ]
    },
    {
      "cell_type": "code",
      "metadata": {
        "id": "QcL4ak6DM4WX",
        "colab_type": "code",
        "colab": {}
      },
      "source": [
        "!git clone https://github.com/Kaliostrogoblin/PDD.git"
      ],
      "execution_count": null,
      "outputs": []
    },
    {
      "cell_type": "code",
      "metadata": {
        "id": "7-0Vnvd4M7wj",
        "colab_type": "code",
        "colab": {}
      },
      "source": [
        "import os\n",
        "os.chdir('/content/PDD')"
      ],
      "execution_count": null,
      "outputs": []
    },
    {
      "cell_type": "code",
      "metadata": {
        "id": "m-5Bu7PhXAMQ",
        "colab_type": "code",
        "colab": {}
      },
      "source": [
        "from pdd.datasets.grape import load_data\n",
        "train_data_path, test_data_path = load_data(split_on_train_test = True,random_state=13)"
      ],
      "execution_count": null,
      "outputs": []
    },
    {
      "cell_type": "code",
      "metadata": {
        "id": "Mw0J7Z_7XPVN",
        "colab_type": "code",
        "colab": {}
      },
      "source": [
        "os.listdir(test_data_path)"
      ],
      "execution_count": null,
      "outputs": []
    },
    {
      "cell_type": "code",
      "metadata": {
        "id": "XoBMiEVXXqw6",
        "colab_type": "code",
        "colab": {}
      },
      "source": [
        "from pdd.models import get_feature_extractor,make_siamese\n",
        "import tensorflow as tf\n",
        "import tensorflow.keras.backend as K\n",
        "\n",
        "# sess = tf.Session()\n",
        "# K.set_session(sess)"
      ],
      "execution_count": null,
      "outputs": []
    },
    {
      "cell_type": "code",
      "metadata": {
        "id": "xFSMGVxVZAGc",
        "colab_type": "code",
        "colab": {}
      },
      "source": [
        "input_shape =(256,256,3)\n",
        "print(\"building feature extractor...\")\n",
        "\n",
        "feature_extractor = get_feature_extractor(input_shape)\n",
        "\n",
        "print(\"constructing siamese network\")\n",
        "siams = make_siamese(feature_extractor,dist='l1',loss='cross_entropy')\n",
        "siams.summary()"
      ],
      "execution_count": null,
      "outputs": []
    },
    {
      "cell_type": "code",
      "metadata": {
        "id": "G1g2UdraatyS",
        "colab_type": "code",
        "colab": {}
      },
      "source": [
        "from pdd.utils.training import SiameseBatchGenerator"
      ],
      "execution_count": null,
      "outputs": []
    },
    {
      "cell_type": "code",
      "metadata": {
        "id": "sGBHMA6tbVQV",
        "colab_type": "code",
        "colab": {}
      },
      "source": [
        "train_batch_gen = SiameseBatchGenerator.from_directory(dirname=train_data_path,augment= True)\n",
        "test_batch_gen = SiameseBatchGenerator.from_directory(dirname=test_data_path)\n",
        "\n",
        "def siams_generator(batch_gen, batch_size=None):\n",
        "    while True:\n",
        "        batch_xs, batch_ys = batch_gen.next_batch(batch_size)\n",
        "        yield [batch_xs[0], batch_xs[1]], batch_ys"
      ],
      "execution_count": null,
      "outputs": []
    },
    {
      "cell_type": "code",
      "metadata": {
        "id": "hAzRG8itcj0O",
        "colab_type": "code",
        "colab": {}
      },
      "source": [
        "siams.fit_generator(\n",
        "    generator=siams_generator(train_batch_gen),\n",
        "    steps_per_epoch=100,\n",
        "    epochs=50,\n",
        "    verbose=1,\n",
        "    validation_data=siams_generator(test_batch_gen),\n",
        "    validation_steps=30,\n",
        "    shuffle=True\n",
        ")"
      ],
      "execution_count": null,
      "outputs": []
    },
    {
      "cell_type": "code",
      "metadata": {
        "id": "Ksjkhj7Kc2XJ",
        "colab_type": "code",
        "colab": {}
      },
      "source": [
        "print(\"Saving feature extractor...\")\n",
        "feature_extractor.save('/content/drive/My Drive/pdd_feature_extractor.h5')"
      ],
      "execution_count": null,
      "outputs": []
    },
    {
      "cell_type": "code",
      "metadata": {
        "id": "u6wZjrJUnmWp",
        "colab_type": "code",
        "colab": {}
      },
      "source": [
        "from sklearn.metrics import accuracy_score\n",
        "from tensorflow.keras.models import load_model\n",
        "from pdd.models import TfKNN\n",
        "from pdd.utils.data_utils import create_dataset_from_dir"
      ],
      "execution_count": null,
      "outputs": []
    },
    {
      "cell_type": "code",
      "metadata": {
        "id": "0ZseyVSsQNte",
        "colab_type": "code",
        "colab": {}
      },
      "source": [
        "print(\"Loading feature extractor...\")\n",
        "feature_extractor = load_model(\"/content/drive/My Drive/pdd_feature_extractor.h5\")"
      ],
      "execution_count": null,
      "outputs": []
    },
    {
      "cell_type": "code",
      "metadata": {
        "id": "bwaTJMBnQRZ0",
        "colab_type": "code",
        "colab": {}
      },
      "source": [
        "print(\"Loading datasets...\")\n",
        "train_dataset = create_dataset_from_dir(train_data_path, shuffle=True)\n",
        "test_dataset = create_dataset_from_dir(test_data_path, shuffle=True)"
      ],
      "execution_count": null,
      "outputs": []
    },
    {
      "cell_type": "code",
      "metadata": {
        "id": "PPa_6JcPQo6r",
        "colab_type": "code",
        "colab": {}
      },
      "source": [
        "sess = tf.Session()\n",
        "tfknn = TfKNN(feature_extractor, \n",
        "              (train_dataset['data'], train_dataset['target']))"
      ],
      "execution_count": null,
      "outputs": []
    },
    {
      "cell_type": "code",
      "metadata": {
        "id": "p5RSY6m2QwqF",
        "colab_type": "code",
        "colab": {}
      },
      "source": [
        ""
      ],
      "execution_count": null,
      "outputs": []
    },
    {
      "cell_type": "markdown",
      "metadata": {
        "id": "PT5ZydFmiI1F",
        "colab_type": "text"
      },
      "source": [
        "# Nlp-Sentiment"
      ]
    },
    {
      "cell_type": "code",
      "metadata": {
        "id": "_qxBr5wMiMMj",
        "colab_type": "code",
        "colab": {}
      },
      "source": [
        "import tensorflow as tf\n",
        "from tensorflow import keras\n",
        "from tensorflow.keras.preprocessing.text import Tokenizer"
      ],
      "execution_count": null,
      "outputs": []
    },
    {
      "cell_type": "code",
      "metadata": {
        "id": "kI9d_GtAiiTP",
        "colab_type": "code",
        "colab": {}
      },
      "source": [
        "sentences = ['I love my dog','i love my cat','you love my dog!','Do you think my dog is amazing?']"
      ],
      "execution_count": null,
      "outputs": []
    },
    {
      "cell_type": "code",
      "metadata": {
        "id": "jz7m9-gjipYB",
        "colab_type": "code",
        "colab": {}
      },
      "source": [
        "tokenizer = Tokenizer(num_words =100,oov_token='<OOV>')\n",
        "tokenizer.fit_on_texts(sentences)\n",
        "word_index = tokenizer.word_index\n",
        "print(word_index)"
      ],
      "execution_count": null,
      "outputs": []
    },
    {
      "cell_type": "code",
      "metadata": {
        "id": "HOHQxE5Zi2LH",
        "colab_type": "code",
        "colab": {}
      },
      "source": [
        "sequences = tokenizer.texts_to_sequences(sentences)\n",
        "print(sequences)"
      ],
      "execution_count": null,
      "outputs": []
    },
    {
      "cell_type": "code",
      "metadata": {
        "id": "qnz1j5DxkshF",
        "colab_type": "code",
        "colab": {}
      },
      "source": [
        "test_data = ['i really love my dog','my dog loves my manatee']"
      ],
      "execution_count": null,
      "outputs": []
    },
    {
      "cell_type": "code",
      "metadata": {
        "id": "tlo80IGmnod1",
        "colab_type": "code",
        "colab": {}
      },
      "source": [
        "test_seq = tokenizer.texts_to_sequences(test_data)\n",
        "test_seq"
      ],
      "execution_count": null,
      "outputs": []
    },
    {
      "cell_type": "code",
      "metadata": {
        "id": "hBW39s9sn9O5",
        "colab_type": "code",
        "colab": {}
      },
      "source": [
        "from keras.preprocessing.sequence import pad_sequences"
      ],
      "execution_count": null,
      "outputs": []
    },
    {
      "cell_type": "code",
      "metadata": {
        "id": "FmqX5YDss43Q",
        "colab_type": "code",
        "colab": {}
      },
      "source": [
        "padded = pad_sequences(sequences,padding='post',truncating='post',maxlen=5)\n",
        "padded"
      ],
      "execution_count": null,
      "outputs": []
    },
    {
      "cell_type": "code",
      "metadata": {
        "id": "zIMdiVyhtDd4",
        "colab_type": "code",
        "colab": {}
      },
      "source": [
        "padded = pad_sequences(sequences,padding='post',maxlen=5)\n",
        "padded"
      ],
      "execution_count": null,
      "outputs": []
    },
    {
      "cell_type": "code",
      "metadata": {
        "id": "xasZyQ5GvUma",
        "colab_type": "code",
        "colab": {}
      },
      "source": [
        "import json\n",
        "sentences =[]\n",
        "urls = []\n",
        "labels = []\n",
        "# with open('/content/Sarcasm_Headlines_Dataset.json','r') as f:\n",
        "#   ds = f.read()\n",
        "# for item in ds:\n",
        "#   sentences.append(item['headline'])\n",
        "#   urls.append(item['article_link'])\n",
        "#   labels.append(item['is_sarcastic'])\n"
      ],
      "execution_count": null,
      "outputs": []
    },
    {
      "cell_type": "code",
      "metadata": {
        "id": "8zLSzkcLxfQ5",
        "colab_type": "code",
        "colab": {}
      },
      "source": [
        "import pandas as pd\n",
        "datastore = pd.read_json('/content/Sarcasm_Headlines_Dataset.json', lines=True)\n",
        "datastore"
      ],
      "execution_count": null,
      "outputs": []
    },
    {
      "cell_type": "code",
      "metadata": {
        "id": "aDi86NJseQ5A",
        "colab_type": "code",
        "colab": {}
      },
      "source": [
        "sentences = []\n",
        "for i in datastore['headline']:\n",
        "  sentences.append(i)"
      ],
      "execution_count": null,
      "outputs": []
    },
    {
      "cell_type": "code",
      "metadata": {
        "id": "Dk8mZEW1frDV",
        "colab_type": "code",
        "colab": {}
      },
      "source": [
        "len(sentences)"
      ],
      "execution_count": null,
      "outputs": []
    },
    {
      "cell_type": "code",
      "metadata": {
        "id": "8ph5p_Ezftza",
        "colab_type": "code",
        "colab": {}
      },
      "source": [
        "tokenizer = Tokenizer(oov_token='<OOV>')\n",
        "tokenizer.fit_on_texts(sentences)"
      ],
      "execution_count": null,
      "outputs": []
    },
    {
      "cell_type": "code",
      "metadata": {
        "id": "SOiGpm7lh9F7",
        "colab_type": "code",
        "colab": {}
      },
      "source": [
        "word_index = tokenizer.word_index"
      ],
      "execution_count": null,
      "outputs": []
    },
    {
      "cell_type": "code",
      "metadata": {
        "id": "DEFN9nnGiZCE",
        "colab_type": "code",
        "colab": {}
      },
      "source": [
        "word_index"
      ],
      "execution_count": null,
      "outputs": []
    },
    {
      "cell_type": "code",
      "metadata": {
        "id": "ZiQLViyXidG3",
        "colab_type": "code",
        "colab": {}
      },
      "source": [
        "len(word_index)"
      ],
      "execution_count": null,
      "outputs": []
    },
    {
      "cell_type": "code",
      "metadata": {
        "id": "LicCxbVcvEUP",
        "colab_type": "code",
        "colab": {}
      },
      "source": [
        "\n",
        "sequences = tokenizer.texts_to_sequences(sentences)\n",
        "padded = pad_sequences(sequences,padding='post')"
      ],
      "execution_count": null,
      "outputs": []
    },
    {
      "cell_type": "code",
      "metadata": {
        "id": "vjlCClYpwbj1",
        "colab_type": "code",
        "colab": {}
      },
      "source": [
        "padded[2]"
      ],
      "execution_count": null,
      "outputs": []
    },
    {
      "cell_type": "code",
      "metadata": {
        "id": "EzH2Mwuk0JL7",
        "colab_type": "code",
        "colab": {}
      },
      "source": [
        "sentences[2]"
      ],
      "execution_count": null,
      "outputs": []
    },
    {
      "cell_type": "code",
      "metadata": {
        "id": "loukh4bMyPm6",
        "colab_type": "code",
        "colab": {}
      },
      "source": [
        "padded.shape"
      ],
      "execution_count": null,
      "outputs": []
    },
    {
      "cell_type": "code",
      "metadata": {
        "id": "gjk2UslvjWjL",
        "colab_type": "code",
        "colab": {}
      },
      "source": [
        "import tensorflow\n",
        "print(tensorflow.__version__)"
      ],
      "execution_count": null,
      "outputs": []
    },
    {
      "cell_type": "code",
      "metadata": {
        "id": "zH7n4bx4lsKm",
        "colab_type": "code",
        "colab": {}
      },
      "source": [
        "import tensorflow_datasets as tfds\n",
        "imdb, info = tfds.load(\"imdb_reviews\",with_info=True,as_supervised=True)"
      ],
      "execution_count": null,
      "outputs": []
    },
    {
      "cell_type": "code",
      "metadata": {
        "id": "7CwOlogjmNEo",
        "colab_type": "code",
        "colab": {}
      },
      "source": [
        "train_data,test_data=imdb['train'],imdb['test']"
      ],
      "execution_count": null,
      "outputs": []
    },
    {
      "cell_type": "code",
      "metadata": {
        "id": "hkkG4RjbnKnB",
        "colab_type": "code",
        "colab": {}
      },
      "source": [
        "import numpy as np\n",
        "train_sentences = []\n",
        "train_labels = []\n",
        "for k,v in train_data:\n",
        "  train_sentences.append(str(k.numpy()))\n",
        "  train_labels.append(v.numpy())\n",
        "train_labels = np.array(train_labels)"
      ],
      "execution_count": null,
      "outputs": []
    },
    {
      "cell_type": "code",
      "metadata": {
        "id": "0y7-34JGnbfA",
        "colab_type": "code",
        "colab": {}
      },
      "source": [
        "# train_sentences"
      ],
      "execution_count": null,
      "outputs": []
    },
    {
      "cell_type": "code",
      "metadata": {
        "id": "kqlLYcRlnfAi",
        "colab_type": "code",
        "colab": {}
      },
      "source": [
        "test_sentences = []\n",
        "test_labels = []\n",
        "for k,v in test_data:\n",
        "  test_sentences.append(str(k.numpy()))\n",
        "  test_labels.append(v.numpy())\n",
        "test_labels = np.array(test_labels)"
      ],
      "execution_count": null,
      "outputs": []
    },
    {
      "cell_type": "code",
      "metadata": {
        "id": "wE4QZYlFoE-p",
        "colab_type": "code",
        "colab": {}
      },
      "source": [
        "len(train_sentences)"
      ],
      "execution_count": null,
      "outputs": []
    },
    {
      "cell_type": "code",
      "metadata": {
        "id": "D8Bswk8VoKUD",
        "colab_type": "code",
        "colab": {}
      },
      "source": [
        "oov_token = '<OOV>'\n",
        "vocab_size = 10000\n",
        "trunc_type ='post'\n",
        "max_length = 120\n",
        "embedding_dim = 16"
      ],
      "execution_count": null,
      "outputs": []
    },
    {
      "cell_type": "code",
      "metadata": {
        "id": "LFrI7xxvoxE2",
        "colab_type": "code",
        "colab": {}
      },
      "source": [
        "tokenizer = Tokenizer(num_words=vocab_size,oov_token=oov_token)\n",
        "tokenizer.fit_on_texts(train_sentences)"
      ],
      "execution_count": null,
      "outputs": []
    },
    {
      "cell_type": "code",
      "metadata": {
        "id": "WTilWKGzpFQf",
        "colab_type": "code",
        "colab": {}
      },
      "source": [
        "word_index = tokenizer.word_index"
      ],
      "execution_count": null,
      "outputs": []
    },
    {
      "cell_type": "code",
      "metadata": {
        "id": "84VXrfDapMSE",
        "colab_type": "code",
        "colab": {}
      },
      "source": [
        "train_sequences = tokenizer.texts_to_sequences(train_sentences)\n",
        "train_padded = pad_sequences(train_sequences,maxlen=max_length,truncating=trunc_type)"
      ],
      "execution_count": null,
      "outputs": []
    },
    {
      "cell_type": "code",
      "metadata": {
        "id": "Xg4TpK22p5Wg",
        "colab_type": "code",
        "colab": {}
      },
      "source": [
        "test_sequences = tokenizer.texts_to_sequences(test_sentences)\n",
        "test_padded = pad_sequences(test_sequences,maxlen=max_length,truncating=trunc_type)"
      ],
      "execution_count": null,
      "outputs": []
    },
    {
      "cell_type": "code",
      "metadata": {
        "id": "LAMIqy7AqKWx",
        "colab_type": "code",
        "colab": {}
      },
      "source": [
        "reversed_word_index = dict([(v,k)for k,v in word_index.items()])"
      ],
      "execution_count": null,
      "outputs": []
    },
    {
      "cell_type": "code",
      "metadata": {
        "id": "jcuH4Blzr14D",
        "colab_type": "code",
        "colab": {}
      },
      "source": [
        "def decode_review(text):\n",
        "  return ' '.join([reversed_word_index.get(i,'?') for i in text])\n",
        "\n",
        "print(decode_review(train_padded[3]))\n",
        "print(train_sentences[3])"
      ],
      "execution_count": null,
      "outputs": []
    },
    {
      "cell_type": "code",
      "metadata": {
        "id": "C9YENnZXsdxC",
        "colab_type": "code",
        "colab": {}
      },
      "source": [
        "model = tf.keras.Sequential([\n",
        "    tf.keras.layers.Embedding(vocab_size,embedding_dim,input_length=max_length),\n",
        "    tf.keras.layers.Flatten(),\n",
        "    # tf.keras.layers.GlobalAveragePooling1D(),\n",
        "    tf.keras.layers.Dense(6,activation='relu'),\n",
        "    tf.keras.layers.Dense(1,activation='sigmoid')\n",
        "])"
      ],
      "execution_count": null,
      "outputs": []
    },
    {
      "cell_type": "code",
      "metadata": {
        "id": "RDdE1hHetuQ5",
        "colab_type": "code",
        "colab": {}
      },
      "source": [
        "model.compile(optimizer='adam',loss='binary_crossentropy',metrics =['accuracy'])\n",
        "model.summary()"
      ],
      "execution_count": null,
      "outputs": []
    },
    {
      "cell_type": "code",
      "metadata": {
        "id": "q-2W_OFUugIh",
        "colab_type": "code",
        "colab": {}
      },
      "source": [
        "num_epochs = 10\n",
        "model.fit(train_padded,train_labels,epochs=num_epochs,verbose=2,validation_data=(test_padded,test_labels))"
      ],
      "execution_count": null,
      "outputs": []
    },
    {
      "cell_type": "code",
      "metadata": {
        "id": "M5YRkjaIu602",
        "colab_type": "code",
        "colab": {}
      },
      "source": [
        "e = model.layers[0]\n",
        "weights = e.get_weights()[0]\n",
        "print(weights.shape)"
      ],
      "execution_count": null,
      "outputs": []
    },
    {
      "cell_type": "code",
      "metadata": {
        "id": "wZlEbAEwxGkA",
        "colab_type": "code",
        "colab": {}
      },
      "source": [
        "import io\n",
        "\n",
        "out_v = io.open('vecs.tsv', 'w', encoding='utf-8')\n",
        "out_m = io.open('meta.tsv', 'w', encoding='utf-8')\n",
        "for word_num in range(1, vocab_size):\n",
        "  word = reversed_word_index[word_num]\n",
        "  embeddings = weights[word_num]\n",
        "  out_m.write(word + \"\\n\")\n",
        "  out_v.write('\\t'.join([str(x) for x in embeddings]) + \"\\n\")\n",
        "out_v.close()\n",
        "out_m.close()\n",
        "\n",
        "# http://projector.tensorflow.org/"
      ],
      "execution_count": null,
      "outputs": []
    },
    {
      "cell_type": "code",
      "metadata": {
        "id": "qK_VHVrRxoTf",
        "colab_type": "code",
        "colab": {}
      },
      "source": [
        "# Embedding on Sarcasm\n",
        "sentences = []\n",
        "for i in datastore['headline']:\n",
        "  sentences.append(i)\n",
        "\n",
        "labels = []\n",
        "for i in datastore['is_sarcastic']:\n",
        "  labels.append(i)"
      ],
      "execution_count": null,
      "outputs": []
    },
    {
      "cell_type": "code",
      "metadata": {
        "id": "RCRR6ko72q5Q",
        "colab_type": "code",
        "colab": {}
      },
      "source": [
        "len(sentences)"
      ],
      "execution_count": null,
      "outputs": []
    },
    {
      "cell_type": "code",
      "metadata": {
        "id": "34EEOI7Z2vM5",
        "colab_type": "code",
        "colab": {}
      },
      "source": [
        "\n",
        "vocab_size = 1000 #10000\n",
        "embedding_dim = 32 # 16\n",
        "max_length = 32\n",
        "trunc_type = 'post'\n",
        "padding_type = 'post'\n",
        "oov_tok ='<OOV>'\n",
        "training_size = 20000"
      ],
      "execution_count": null,
      "outputs": []
    },
    {
      "cell_type": "code",
      "metadata": {
        "id": "RIYWX1Nq3OIf",
        "colab_type": "code",
        "colab": {}
      },
      "source": [
        "train_sentences = sentences[0:training_size]\n",
        "test_sentences = sentences[training_size:]\n",
        "\n",
        "train_labels = np.array(labels[0:training_size])\n",
        "test_labels = np.array(labels[training_size:])"
      ],
      "execution_count": null,
      "outputs": []
    },
    {
      "cell_type": "code",
      "metadata": {
        "id": "N96EzK7Q4Omc",
        "colab_type": "code",
        "colab": {}
      },
      "source": [
        "tokenizer = Tokenizer(num_words = vocab_size,oov_token=oov_tok)\n",
        "tokenizer.fit_on_texts(train_sentences)\n",
        "\n",
        "word_index = tokenizer.word_index\n",
        "\n",
        "training_sequences = tokenizer.texts_to_sequences(train_sentences)\n",
        "training_padded = pad_sequences(sequences=training_sequences,maxlen=max_length,padding=padding_type,truncating=trunc_type)\n",
        "\n",
        "testing_sequences = tokenizer.texts_to_sequences(test_sentences)\n",
        "testing_padded = pad_sequences(sequences=testing_sequences,maxlen=max_length,padding=padding_type,truncating=trunc_type)"
      ],
      "execution_count": null,
      "outputs": []
    },
    {
      "cell_type": "code",
      "metadata": {
        "id": "vSNE7lVn5tZH",
        "colab_type": "code",
        "colab": {}
      },
      "source": [
        "model = tf.keras.Sequential([\n",
        "    tf.keras.layers.Embedding(vocab_size,embedding_dim,input_length=max_length),\n",
        "    tf.keras.layers.Flatten(),\n",
        "    # tf.keras.layers.GlobalAveragePooling1D(),\n",
        "    tf.keras.layers.Dense(6,activation='relu'),\n",
        "    tf.keras.layers.Dense(1,activation='sigmoid')\n",
        "])\n",
        "\n",
        "model.compile(optimizer='adam',loss='binary_crossentropy',metrics =['accuracy'])\n",
        "model.summary()"
      ],
      "execution_count": null,
      "outputs": []
    },
    {
      "cell_type": "code",
      "metadata": {
        "id": "wYTmbuek6I0e",
        "colab_type": "code",
        "colab": {}
      },
      "source": [
        "num_epochs = 30\n",
        "history = model.fit(training_padded,train_labels,epochs=num_epochs,verbose=2,validation_data=(testing_padded,test_labels))"
      ],
      "execution_count": null,
      "outputs": []
    },
    {
      "cell_type": "code",
      "metadata": {
        "id": "8QgcSM8_6l3c",
        "colab_type": "code",
        "colab": {}
      },
      "source": [
        "import matplotlib.pyplot as plt\n",
        "\n",
        "def plot_graphs(history,string):\n",
        "  plt.plot(history.history[string])\n",
        "  plt.plot(history.history['val_'+string])\n",
        "  plt.xlabel('epochs')\n",
        "  plt.ylabel(string)\n",
        "  plt.legend([string,'val_'+string])\n",
        "  plt.show()\n",
        "\n",
        "plot_graphs(history,'accuracy')\n",
        "plot_graphs(history,'loss')"
      ],
      "execution_count": null,
      "outputs": []
    },
    {
      "cell_type": "code",
      "metadata": {
        "id": "0MJLHSKs8JcY",
        "colab_type": "code",
        "colab": {}
      },
      "source": [
        "#### \n",
        "imdb, info = tfds.load(\"imdb_reviews/subwords8k\",with_info=True,as_supervised=True)"
      ],
      "execution_count": null,
      "outputs": []
    },
    {
      "cell_type": "code",
      "metadata": {
        "id": "InNgHr9caOpz",
        "colab_type": "code",
        "colab": {}
      },
      "source": [
        "train_data = imdb['train']\n",
        "test_data = imdb['test']"
      ],
      "execution_count": null,
      "outputs": []
    },
    {
      "cell_type": "code",
      "metadata": {
        "id": "WmPeHmTHadNC",
        "colab_type": "code",
        "colab": {}
      },
      "source": [
        "tokenizer = info.features['text'].encoder"
      ],
      "execution_count": null,
      "outputs": []
    },
    {
      "cell_type": "code",
      "metadata": {
        "id": "Z3MG5qOScoJX",
        "colab_type": "code",
        "colab": {}
      },
      "source": [
        "print(tokenizer.subwords)"
      ],
      "execution_count": null,
      "outputs": []
    },
    {
      "cell_type": "code",
      "metadata": {
        "id": "TqKeRedqs2X0",
        "colab_type": "code",
        "colab": {}
      },
      "source": [
        "sample_string = 'TensorFlow, from basic to mastery'\n",
        "tokenized_string = tokenizer.encode(sample_string)\n",
        "print(f'tokenized string is encode ---{tokenized_string}')"
      ],
      "execution_count": null,
      "outputs": []
    },
    {
      "cell_type": "code",
      "metadata": {
        "colab_type": "code",
        "id": "_FtgOzPutl8p",
        "colab": {}
      },
      "source": [
        "original_string = tokenizer.decode(tokenized_string)\n",
        "print(f'tokenized string is decode--- {original_string}')"
      ],
      "execution_count": null,
      "outputs": []
    },
    {
      "cell_type": "code",
      "metadata": {
        "id": "Xht58JL3twt5",
        "colab_type": "code",
        "colab": {}
      },
      "source": [
        "for st in tokenized_string:\n",
        "  print(f'{st}-->{tokenizer.decode([st])}')"
      ],
      "execution_count": null,
      "outputs": []
    },
    {
      "cell_type": "code",
      "metadata": {
        "id": "EdjKN7hrvOm1",
        "colab_type": "code",
        "colab": {}
      },
      "source": [
        "# vocab_size = 1000 #10000\n",
        "embedding_dim = 64 # 16\n",
        "max_length = 32\n",
        "trunc_type = 'post'\n",
        "padding_type = 'post'\n",
        "oov_tok ='<OOV>'\n",
        "training_size = 20000"
      ],
      "execution_count": null,
      "outputs": []
    },
    {
      "cell_type": "code",
      "metadata": {
        "id": "nO86Q2DfuB5p",
        "colab_type": "code",
        "colab": {}
      },
      "source": [
        "model = tf.keras.Sequential([\n",
        "    tf.keras.layers.Embedding(tokenizer.vocab_size,embedding_dim,input_length=max_length),\n",
        "    # tf.keras.layers.Flatten(),\n",
        "    tf.keras.layers.GlobalAveragePooling1D(),\n",
        "    tf.keras.layers.Dense(6,activation='relu'),\n",
        "    tf.keras.layers.Dense(1,activation='sigmoid')\n",
        "])\n",
        "\n",
        "model.compile(optimizer='adam',loss='binary_crossentropy',metrics =['accuracy'])\n",
        "model.summary()"
      ],
      "execution_count": null,
      "outputs": []
    },
    {
      "cell_type": "code",
      "metadata": {
        "id": "8LcGOs8YvmCB",
        "colab_type": "code",
        "colab": {}
      },
      "source": [
        "num_epochs = 10\n",
        "history = model.fit(train_data,epochs=num_epochs,verbose=2,validation_data=test_data)"
      ],
      "execution_count": null,
      "outputs": []
    },
    {
      "cell_type": "code",
      "metadata": {
        "id": "lUYbX1a6wrUJ",
        "colab_type": "code",
        "colab": {}
      },
      "source": [
        ""
      ],
      "execution_count": null,
      "outputs": []
    },
    {
      "cell_type": "markdown",
      "metadata": {
        "id": "idC_wYfRb8RB",
        "colab_type": "text"
      },
      "source": [
        "# Single layer LSTM"
      ]
    },
    {
      "cell_type": "code",
      "metadata": {
        "id": "Ky2fJ2n_3dFy",
        "colab_type": "code",
        "colab": {}
      },
      "source": [
        "import tensorflow_datasets as tfds\n",
        "import tensorflow as tf"
      ],
      "execution_count": null,
      "outputs": []
    },
    {
      "cell_type": "code",
      "metadata": {
        "id": "rAIQKnnWcSnc",
        "colab_type": "code",
        "colab": {}
      },
      "source": [
        "dataset,info = tfds.load('imdb_reviews/subwords8k',with_info=True,as_supervised = False)\n",
        "train_dataset,test_dataset = dataset['train'],dataset['test']"
      ],
      "execution_count": null,
      "outputs": []
    },
    {
      "cell_type": "code",
      "metadata": {
        "id": "CT3RSLE1c_xc",
        "colab_type": "code",
        "colab": {}
      },
      "source": [
        "tokenizer = info.features['text'].encoder"
      ],
      "execution_count": null,
      "outputs": []
    },
    {
      "cell_type": "code",
      "metadata": {
        "id": "g-S7Yl3ydMFL",
        "colab_type": "code",
        "colab": {}
      },
      "source": [
        "BUFFER_SIZE = 10000\n",
        "BATCH_SIZE = 64\n",
        "\n",
        "train_dataset = train_dataset.shuffle(BUFFER_SIZE)\n",
        "train_dataset = train_dataset.padded_batch(BATCH_SIZE, tf.compat.v1.data.get_output_shapes(train_dataset))\n",
        "test_dataset = test_dataset.padded_batch(BATCH_SIZE, tf.compat.v1.data.get_output_shapes(test_dataset))"
      ],
      "execution_count": null,
      "outputs": []
    },
    {
      "cell_type": "code",
      "metadata": {
        "id": "onrIHjHfdhL7",
        "colab_type": "code",
        "colab": {}
      },
      "source": [
        "model = tf.keras.Sequential([\n",
        "    tf.keras.layers.Embedding(tokenizer.vocab_size, 64),\n",
        "    # 1. tf.keras.layers.Bidirectional(tf.keras.layers.LSTM(64)),\n",
        "    # 2. # tf.keras.layers.Bidirectional(tf.keras.layers.LSTM(64, return_sequences=True)),\n",
        "    # tf.keras.layers.Bidirectional(tf.keras.layers.LSTM(32)),\n",
        "    # 3. tf.keras.layers.Conv1D(128, 5, activation='relu'),\n",
        "    # tf.keras.layers.GlobalAveragePooling1D(),\n",
        "    tf.keras.layers.Dense(64, activation='relu'),\n",
        "    tf.keras.layers.Dense(1, activation='sigmoid')\n",
        "])"
      ],
      "execution_count": null,
      "outputs": []
    },
    {
      "cell_type": "code",
      "metadata": {
        "id": "jjT_FXzUeWBQ",
        "colab_type": "code",
        "colab": {}
      },
      "source": [
        "model.summary()"
      ],
      "execution_count": null,
      "outputs": []
    },
    {
      "cell_type": "code",
      "metadata": {
        "id": "_0749779eXql",
        "colab_type": "code",
        "colab": {}
      },
      "source": [
        "model.compile(loss='binary_crossentropy', optimizer='adam', metrics=['accuracy'])"
      ],
      "execution_count": null,
      "outputs": []
    },
    {
      "cell_type": "code",
      "metadata": {
        "id": "6XgzQYKFeukZ",
        "colab_type": "code",
        "colab": {}
      },
      "source": [
        "NUM_EPOCHS = 1\n",
        "history = model.fit(train_dataset, epochs=NUM_EPOCHS, validation_data=test_dataset)"
      ],
      "execution_count": null,
      "outputs": []
    },
    {
      "cell_type": "code",
      "metadata": {
        "id": "eUbgkmTYfGAU",
        "colab_type": "code",
        "colab": {}
      },
      "source": [
        "import matplotlib.pyplot as plt\n",
        "\n",
        "\n",
        "def plot_graphs(history, string):\n",
        "  plt.plot(history.history[string])\n",
        "  plt.plot(history.history['val_'+string])\n",
        "  plt.xlabel(\"Epochs\")\n",
        "  plt.ylabel(string)\n",
        "  plt.legend([string, 'val_'+string])\n",
        "  plt.show()"
      ],
      "execution_count": null,
      "outputs": []
    },
    {
      "cell_type": "code",
      "metadata": {
        "id": "vzZ-c8W8fKrI",
        "colab_type": "code",
        "colab": {}
      },
      "source": [
        "plot_graphs(history, 'accuracy')"
      ],
      "execution_count": null,
      "outputs": []
    },
    {
      "cell_type": "code",
      "metadata": {
        "id": "TBSM6chQfN0S",
        "colab_type": "code",
        "colab": {}
      },
      "source": [
        "plot_graphs(history, 'loss')"
      ],
      "execution_count": null,
      "outputs": []
    },
    {
      "cell_type": "code",
      "metadata": {
        "id": "epcdaV8nfRzv",
        "colab_type": "code",
        "colab": {}
      },
      "source": [
        "tf.__version__"
      ],
      "execution_count": null,
      "outputs": []
    },
    {
      "cell_type": "code",
      "metadata": {
        "id": "h1uYnpYZivH8",
        "colab_type": "code",
        "colab": {}
      },
      "source": [
        ""
      ],
      "execution_count": null,
      "outputs": []
    },
    {
      "cell_type": "markdown",
      "metadata": {
        "id": "7JZxm3-Wuos6",
        "colab_type": "text"
      },
      "source": [
        "# LSTM--sarcasm"
      ]
    },
    {
      "cell_type": "code",
      "metadata": {
        "id": "q2ugV0tSutix",
        "colab_type": "code",
        "colab": {}
      },
      "source": [
        "import tensorflow as tf\n",
        "import json\n",
        "\n",
        "from tensorflow.keras.preprocessing.text import Tokenizer\n",
        "from tensorflow.keras.preprocessing.sequence import pad_sequences"
      ],
      "execution_count": null,
      "outputs": []
    },
    {
      "cell_type": "code",
      "metadata": {
        "id": "cedi0MmdvF6K",
        "colab_type": "code",
        "colab": {}
      },
      "source": [
        "!wget --no-check-certificate \\\n",
        "    https://storage.googleapis.com/laurencemoroney-blog.appspot.com/sarcasm.json \\\n",
        "    -O /tmp/sarcasm.json\n"
      ],
      "execution_count": null,
      "outputs": []
    },
    {
      "cell_type": "code",
      "metadata": {
        "id": "K8OWKpGSvKq6",
        "colab_type": "code",
        "colab": {}
      },
      "source": [
        "vocab_size = 1000\n",
        "embedding_dim = 16\n",
        "max_length = 120\n",
        "trunc_type='post'\n",
        "padding_type='post'\n",
        "oov_tok = '<OOV>'\n",
        "training_size = 20000"
      ],
      "execution_count": null,
      "outputs": []
    },
    {
      "cell_type": "code",
      "metadata": {
        "id": "EUemjxeWvdY4",
        "colab_type": "code",
        "colab": {}
      },
      "source": [
        "with open('/tmp/sarcasm.json','r') as f:\n",
        "  datastore = json.load(f)"
      ],
      "execution_count": null,
      "outputs": []
    },
    {
      "cell_type": "code",
      "metadata": {
        "id": "GFSevkXjvsIp",
        "colab_type": "code",
        "colab": {}
      },
      "source": [
        "sentences = []\n",
        "labels = []\n",
        "for row in datastore:\n",
        "  sentences.append(row['headline'])\n",
        "  labels.append(row['is_sarcastic'])"
      ],
      "execution_count": null,
      "outputs": []
    },
    {
      "cell_type": "code",
      "metadata": {
        "id": "ktpuYaN6v_xe",
        "colab_type": "code",
        "colab": {}
      },
      "source": [
        "training_sentences = sentences[0:training_size]\n",
        "testing_sentences = sentences[training_size:]\n",
        "training_labels = labels[0:training_size]\n",
        "testing_labels = labels[training_size:]"
      ],
      "execution_count": null,
      "outputs": []
    },
    {
      "cell_type": "code",
      "metadata": {
        "id": "x-nYQ74rwaJv",
        "colab_type": "code",
        "colab": {}
      },
      "source": [
        "tokenizer = Tokenizer(num_words=vocab_size, oov_token=oov_tok)\n",
        "tokenizer.fit_on_texts(training_sentences)\n",
        "\n",
        "word_index = tokenizer.word_index\n",
        "\n",
        "training_sequences = tokenizer.texts_to_sequences(training_sentences)\n",
        "training_padded = pad_sequences(training_sequences, maxlen=max_length, padding=padding_type, truncating=trunc_type)\n",
        "\n",
        "testing_sequences = tokenizer.texts_to_sequences(testing_sentences)\n",
        "testing_padded = pad_sequences(testing_sequences, maxlen=max_length, padding=padding_type, truncating=trunc_type)"
      ],
      "execution_count": null,
      "outputs": []
    },
    {
      "cell_type": "code",
      "metadata": {
        "id": "09m-RWzLwl10",
        "colab_type": "code",
        "colab": {}
      },
      "source": [
        "model = tf.keras.Sequential([\n",
        "                             tf.keras.layers.Embedding(vocab_size,embedding_dim,input_length=max_length),\n",
        "                            #  tf.keras.layers.Bidirectional(tf.keras.layers.LSTM(32)),\n",
        "                             tf.keras.layers.Conv1D(128, 5, activation='relu'),\n",
        "                             tf.keras.layers.GlobalMaxPooling1D(),\n",
        "                             tf.keras.layers.Dense(24,activation = 'relu'),\n",
        "                             tf.keras.layers.Dense(1,activation='sigmoid')\n",
        "])"
      ],
      "execution_count": null,
      "outputs": []
    },
    {
      "cell_type": "code",
      "metadata": {
        "id": "XnFsVwlTyLB-",
        "colab_type": "code",
        "colab": {}
      },
      "source": [
        "model.compile(loss='binary_crossentropy',metrics=['accuracy'],optimizer='adam')"
      ],
      "execution_count": null,
      "outputs": []
    },
    {
      "cell_type": "code",
      "metadata": {
        "id": "pgZE8y2sy5ia",
        "colab_type": "code",
        "colab": {}
      },
      "source": [
        "import numpy as np\n",
        "training_padded = np.array(training_padded)\n",
        "training_labels = np.array(training_labels)\n",
        "testing_padded = np.array(testing_padded)\n",
        "testing_labels = np.array(testing_labels)"
      ],
      "execution_count": null,
      "outputs": []
    },
    {
      "cell_type": "code",
      "metadata": {
        "id": "yd3vZl7SyZBx",
        "colab_type": "code",
        "colab": {}
      },
      "source": [
        "history = model.fit(training_padded,training_labels,validation_data=(testing_padded,testing_labels),epochs=5,verbose=1)"
      ],
      "execution_count": null,
      "outputs": []
    },
    {
      "cell_type": "code",
      "metadata": {
        "id": "TG-wy3Ipyv-5",
        "colab_type": "code",
        "colab": {}
      },
      "source": [
        "import matplotlib.pyplot as plt\n",
        "\n",
        "\n",
        "def plot_graphs(history, string):\n",
        "  plt.plot(history.history[string])\n",
        "  plt.plot(history.history['val_'+string])\n",
        "  plt.xlabel(\"Epochs\")\n",
        "  plt.ylabel(string)\n",
        "  plt.legend([string, 'val_'+string])\n",
        "  plt.show()\n",
        "\n",
        "plot_graphs(history, 'accuracy')\n",
        "plot_graphs(history, 'loss')"
      ],
      "execution_count": null,
      "outputs": []
    },
    {
      "cell_type": "code",
      "metadata": {
        "id": "GdaK_zHWzjoO",
        "colab_type": "code",
        "colab": {}
      },
      "source": [
        "print(\"Conv1D and Global MAxpooling\")\n",
        "\n",
        "\n",
        "def plot_graphs(history, string):\n",
        "  plt.plot(history.history[string])\n",
        "  plt.plot(history.history['val_'+string])\n",
        "  plt.xlabel(\"Epochs\")\n",
        "  plt.ylabel(string)\n",
        "  plt.legend([string, 'val_'+string])\n",
        "  plt.show()\n",
        "\n",
        "plot_graphs(history, 'accuracy')\n",
        "plot_graphs(history, 'loss')"
      ],
      "execution_count": null,
      "outputs": []
    },
    {
      "cell_type": "code",
      "metadata": {
        "id": "xYy8gq1R0aED",
        "colab_type": "code",
        "colab": {}
      },
      "source": [
        ""
      ],
      "execution_count": null,
      "outputs": []
    },
    {
      "cell_type": "markdown",
      "metadata": {
        "id": "qjVYWGXEmY6m",
        "colab_type": "text"
      },
      "source": [
        "# Text Classification"
      ]
    },
    {
      "cell_type": "code",
      "metadata": {
        "id": "n_KgcdgtmcL1",
        "colab_type": "code",
        "colab": {}
      },
      "source": [
        "import pandas as pd"
      ],
      "execution_count": null,
      "outputs": []
    },
    {
      "cell_type": "code",
      "metadata": {
        "id": "RoauvCK3meE8",
        "colab_type": "code",
        "colab": {}
      },
      "source": [
        "data = pd.read_csv(r'/content/spam.csv',encoding='latin-1')"
      ],
      "execution_count": null,
      "outputs": []
    },
    {
      "cell_type": "code",
      "metadata": {
        "id": "1W_js_qImjvs",
        "colab_type": "code",
        "colab": {}
      },
      "source": [
        "data.head()"
      ],
      "execution_count": null,
      "outputs": []
    },
    {
      "cell_type": "code",
      "metadata": {
        "id": "OUgKg_8xnCio",
        "colab_type": "code",
        "colab": {}
      },
      "source": [
        "data = data.drop(columns=['Unnamed: 2','Unnamed: 3','Unnamed: 4'])"
      ],
      "execution_count": null,
      "outputs": []
    },
    {
      "cell_type": "code",
      "metadata": {
        "id": "aR32oW4ZnLKN",
        "colab_type": "code",
        "colab": {}
      },
      "source": [
        "data['v1'].value_counts()"
      ],
      "execution_count": null,
      "outputs": []
    },
    {
      "cell_type": "code",
      "metadata": {
        "id": "dw-CqgRsnMxL",
        "colab_type": "code",
        "colab": {}
      },
      "source": [
        "from sklearn.preprocessing import LabelEncoder\n",
        "le = LabelEncoder()"
      ],
      "execution_count": null,
      "outputs": []
    },
    {
      "cell_type": "code",
      "metadata": {
        "id": "uG0tvDQcn2ek",
        "colab_type": "code",
        "colab": {}
      },
      "source": [
        "y = le.fit_transform(data['v1'])"
      ],
      "execution_count": null,
      "outputs": []
    },
    {
      "cell_type": "code",
      "metadata": {
        "id": "D0wKwyTCn_3K",
        "colab_type": "code",
        "colab": {}
      },
      "source": [
        "y = y.reshape(-1,1)"
      ],
      "execution_count": null,
      "outputs": []
    },
    {
      "cell_type": "code",
      "metadata": {
        "id": "InQl6rTtoGnk",
        "colab_type": "code",
        "colab": {}
      },
      "source": [
        "y.shape"
      ],
      "execution_count": null,
      "outputs": []
    },
    {
      "cell_type": "code",
      "metadata": {
        "id": "VXMcZ7JkoSOx",
        "colab_type": "code",
        "colab": {}
      },
      "source": [
        "from sklearn.model_selection import train_test_split\n",
        "X_train,X_test,y_train,y_test = train_test_split(data['v2'],y,test_size = 0.2)"
      ],
      "execution_count": null,
      "outputs": []
    },
    {
      "cell_type": "code",
      "metadata": {
        "id": "Jbm11SRkovqO",
        "colab_type": "code",
        "colab": {}
      },
      "source": [
        "print(f'x train shape {X_train.shape}')"
      ],
      "execution_count": null,
      "outputs": []
    },
    {
      "cell_type": "code",
      "metadata": {
        "id": "HSRXO6F_o0cE",
        "colab_type": "code",
        "colab": {}
      },
      "source": [
        "import tensorflow as tf\n",
        "from tensorflow.keras.preprocessing.text import Tokenizer\n",
        "from tensorflow.keras.preprocessing.sequence import pad_sequences"
      ],
      "execution_count": null,
      "outputs": []
    },
    {
      "cell_type": "code",
      "metadata": {
        "id": "maZKVH8epcnt",
        "colab_type": "code",
        "colab": {}
      },
      "source": [
        "vocab_size = 1000\n",
        "oov_token = '<OOV>'\n",
        "max_length = 150\n",
        "trunc = 'post'\n",
        "padding_type = 'post'\n",
        "embedding_dim = 50\n",
        "tokenizer = Tokenizer(vocab_size,oov_token=oov_token)\n",
        "tokenizer.fit_on_texts(X_train)"
      ],
      "execution_count": null,
      "outputs": []
    },
    {
      "cell_type": "code",
      "metadata": {
        "id": "M0pYTZD6qzjM",
        "colab_type": "code",
        "colab": {}
      },
      "source": [
        "len(tokenizer.word_index)"
      ],
      "execution_count": null,
      "outputs": []
    },
    {
      "cell_type": "code",
      "metadata": {
        "id": "JUzAcQUYq2VH",
        "colab_type": "code",
        "colab": {}
      },
      "source": [
        "sequences = tokenizer.texts_to_sequences(X_train)\n",
        "seq_pad = pad_sequences(sequences=sequences,maxlen=max_length,truncating=trunc,padding=padding_type)"
      ],
      "execution_count": null,
      "outputs": []
    },
    {
      "cell_type": "code",
      "metadata": {
        "id": "Ml9QDChWrzit",
        "colab_type": "code",
        "colab": {}
      },
      "source": [
        "max([len(i) for i in sequences])"
      ],
      "execution_count": null,
      "outputs": []
    },
    {
      "cell_type": "code",
      "metadata": {
        "id": "aLBTAh3Er1Y2",
        "colab_type": "code",
        "colab": {}
      },
      "source": [
        "model = tf.keras.Sequential([\n",
        "                             tf.keras.layers.Embedding(vocab_size,embedding_dim,input_length=max_length),\n",
        "                             tf.keras.layers.Bidirectional(tf.keras.layers.LSTM(32)),\n",
        "                            #  tf.keras.layers.Conv1D(128, 5, activation='relu'),\n",
        "                            #  tf.keras.layers.GlobalMaxPooling1D(),\n",
        "                             tf.keras.layers.Dense(24,activation = 'relu'),\n",
        "                             tf.keras.layers.Dense(1,activation='sigmoid')\n",
        "])"
      ],
      "execution_count": null,
      "outputs": []
    },
    {
      "cell_type": "code",
      "metadata": {
        "id": "dwai5j5Lsjzk",
        "colab_type": "code",
        "colab": {}
      },
      "source": [
        "model.compile(optimizer = 'adam',loss='binary_crossentropy',metrics =['accuracy'])"
      ],
      "execution_count": null,
      "outputs": []
    },
    {
      "cell_type": "code",
      "metadata": {
        "id": "WMks_--qtGrI",
        "colab_type": "code",
        "colab": {}
      },
      "source": [
        "history = model.fit(seq_pad,y_train,epochs=10,validation_data=(test_sequences_matrix,y_test))"
      ],
      "execution_count": null,
      "outputs": []
    },
    {
      "cell_type": "code",
      "metadata": {
        "id": "1mSTWzDFtv8w",
        "colab_type": "code",
        "colab": {}
      },
      "source": [
        "test_sequences = tokenizer.texts_to_sequences(X_test)\n",
        "test_sequences_matrix = pad_sequences(test_sequences,maxlen=max_length)"
      ],
      "execution_count": null,
      "outputs": []
    },
    {
      "cell_type": "code",
      "metadata": {
        "id": "_JdTwzyOubvM",
        "colab_type": "code",
        "colab": {}
      },
      "source": [
        "accr = model.evaluate(test_sequences_matrix,y_test)\n",
        "print('Test set\\n  Loss: {:0.3f}\\n  Accuracy: {:0.3f}'.format(accr[0],accr[1]))"
      ],
      "execution_count": null,
      "outputs": []
    },
    {
      "cell_type": "code",
      "metadata": {
        "id": "5Aj8pirluuvq",
        "colab_type": "code",
        "colab": {}
      },
      "source": [
        ""
      ],
      "execution_count": null,
      "outputs": []
    },
    {
      "cell_type": "markdown",
      "metadata": {
        "id": "HVri7Jc31OSE",
        "colab_type": "text"
      },
      "source": [
        "# Text Generation"
      ]
    },
    {
      "cell_type": "code",
      "metadata": {
        "id": "VmzJiYMm1QxV",
        "colab_type": "code",
        "colab": {}
      },
      "source": [
        "data = []\n",
        "with open('/content/poetry.txt','r') as txt:\n",
        "  data.append(txt.read())"
      ],
      "execution_count": null,
      "outputs": []
    },
    {
      "cell_type": "code",
      "metadata": {
        "id": "llnUr47Q1tFB",
        "colab_type": "code",
        "colab": {
          "base_uri": "https://localhost:8080/",
          "height": 54
        },
        "outputId": "ab8234eb-4092-4ec2-bc6b-8e6b40b38bc4"
      },
      "source": [
        "data"
      ],
      "execution_count": null,
      "outputs": [
        {
          "output_type": "execute_result",
          "data": {
            "text/plain": [
              "[\"battered away till he hadn't a pound\\nhis father he died and made him a man again\\nleft a farm with ten acres of ground\\nhe gave a grand party for friends a relations\\nwho did not forget him when come to the will\\nand if you'll but listen I'll make you're eyes glisten\\nof rows and ructions at Lanigan's Ball\\n\\nMyself to be sure got free invitaions\\nfor all the nice boys and girls I did ask\\nin less than 10 minutes the friends and relations\\nwere dancing as merry as bee 'round a cask\\nThere was lashing of punch and wine for the ladies\\npotatoes and cakes there was bacon a tay\\nthere were the O'Shaughnessys, Murphys, Walshes, O'Gradys\\ncourtin' the girls and dancing away\\n\\nthey were doing all kinds of nonsensical polkas\\nall 'round the room in a whirly gig\\nbut Julia and I soon banished their nonsense\\nand tipped them a twist of a real Irish jig\\nOh how that girl got mad on me\\nand danced till you'd think the ceilings would fall\\nfor I spent three weeks at Brook's academy\\nlearning to dance for Lanigan's Ball CHORUS\\n\"]"
            ]
          },
          "metadata": {
            "tags": []
          },
          "execution_count": 62
        }
      ]
    },
    {
      "cell_type": "code",
      "metadata": {
        "id": "ZCDxLiQG1zUm",
        "colab_type": "code",
        "colab": {}
      },
      "source": [
        "corpus = data[0].lower().split('\\n')"
      ],
      "execution_count": null,
      "outputs": []
    },
    {
      "cell_type": "code",
      "metadata": {
        "id": "3ZklUYco2AZS",
        "colab_type": "code",
        "colab": {}
      },
      "source": [
        "tokenizer = Tokenizer() #oov_token='<OOV>'\n",
        "tokenizer.fit_on_texts(corpus)"
      ],
      "execution_count": null,
      "outputs": []
    },
    {
      "cell_type": "code",
      "metadata": {
        "id": "Dr7qWEad2Had",
        "colab_type": "code",
        "colab": {
          "base_uri": "https://localhost:8080/",
          "height": 34
        },
        "outputId": "4e28c88d-9f3d-4291-9a7f-566d34643551"
      },
      "source": [
        "total_words = len(tokenizer.word_index) +1\n",
        "total_words"
      ],
      "execution_count": null,
      "outputs": [
        {
          "output_type": "execute_result",
          "data": {
            "text/plain": [
              "131"
            ]
          },
          "metadata": {
            "tags": []
          },
          "execution_count": 67
        }
      ]
    },
    {
      "cell_type": "code",
      "metadata": {
        "id": "40RpeqDx2eFW",
        "colab_type": "code",
        "colab": {}
      },
      "source": [
        "input_sequences= []\n",
        "for line in corpus:\n",
        "  token_list = tokenizer.texts_to_sequences([line])[0]\n",
        "  for i in range(0,len(token_list)):\n",
        "    n_gram_sequences = token_list[:i+1]\n",
        "    input_sequences.append(n_gram_sequences)"
      ],
      "execution_count": null,
      "outputs": []
    },
    {
      "cell_type": "code",
      "metadata": {
        "id": "htb1a8_E3Bzj",
        "colab_type": "code",
        "colab": {
          "base_uri": "https://localhost:8080/",
          "height": 1000
        },
        "outputId": "24839aae-7ee6-4967-ae86-6740eee6abf1"
      },
      "source": [
        "input_sequences"
      ],
      "execution_count": null,
      "outputs": [
        {
          "output_type": "execute_result",
          "data": {
            "text/plain": [
              "[[29],\n",
              " [29, 12],\n",
              " [29, 12, 13],\n",
              " [29, 12, 13, 6],\n",
              " [29, 12, 13, 6, 30],\n",
              " [29, 12, 13, 6, 30, 2],\n",
              " [29, 12, 13, 6, 30, 2, 31],\n",
              " [32],\n",
              " [32, 33],\n",
              " [32, 33, 6],\n",
              " [32, 33, 6, 34],\n",
              " [32, 33, 6, 34, 1],\n",
              " [32, 33, 6, 34, 1, 35],\n",
              " [32, 33, 6, 34, 1, 35, 14],\n",
              " [32, 33, 6, 34, 1, 35, 14, 2],\n",
              " [32, 33, 6, 34, 1, 35, 14, 2, 36],\n",
              " [32, 33, 6, 34, 1, 35, 14, 2, 36, 37],\n",
              " [38],\n",
              " [38, 2],\n",
              " [38, 2, 39],\n",
              " [38, 2, 39, 40],\n",
              " [38, 2, 39, 40, 41],\n",
              " [38, 2, 39, 40, 41, 42],\n",
              " [38, 2, 39, 40, 41, 42, 4],\n",
              " [38, 2, 39, 40, 41, 42, 4, 43],\n",
              " [6],\n",
              " [6, 44],\n",
              " [6, 44, 2],\n",
              " [6, 44, 2, 45],\n",
              " [6, 44, 2, 45, 46],\n",
              " [6, 44, 2, 45, 46, 5],\n",
              " [6, 44, 2, 45, 46, 5, 15],\n",
              " [6, 44, 2, 45, 46, 5, 15, 2],\n",
              " [6, 44, 2, 45, 46, 5, 15, 2, 16],\n",
              " [47],\n",
              " [47, 17],\n",
              " [47, 17, 48],\n",
              " [47, 17, 48, 49],\n",
              " [47, 17, 48, 49, 14],\n",
              " [47, 17, 48, 49, 14, 50],\n",
              " [47, 17, 48, 49, 14, 50, 51],\n",
              " [47, 17, 48, 49, 14, 50, 51, 7],\n",
              " [47, 17, 48, 49, 14, 50, 51, 7, 3],\n",
              " [47, 17, 48, 49, 14, 50, 51, 7, 3, 52],\n",
              " [1],\n",
              " [1, 53],\n",
              " [1, 53, 54],\n",
              " [1, 53, 54, 18],\n",
              " [1, 53, 54, 18, 55],\n",
              " [1, 53, 54, 18, 55, 56],\n",
              " [1, 53, 54, 18, 55, 56, 57],\n",
              " [1, 53, 54, 18, 55, 56, 57, 58],\n",
              " [1, 53, 54, 18, 55, 56, 57, 58, 59],\n",
              " [1, 53, 54, 18, 55, 56, 57, 58, 59, 60],\n",
              " [4],\n",
              " [4, 61],\n",
              " [4, 61, 1],\n",
              " [4, 61, 1, 62],\n",
              " [4, 61, 1, 62, 19],\n",
              " [4, 61, 1, 62, 19, 20],\n",
              " [4, 61, 1, 62, 19, 20, 21],\n",
              " [63],\n",
              " [63, 7],\n",
              " [63, 7, 64],\n",
              " [63, 7, 64, 65],\n",
              " [63, 7, 64, 65, 22],\n",
              " [63, 7, 64, 65, 22, 66],\n",
              " [63, 7, 64, 65, 22, 66, 67],\n",
              " [5],\n",
              " [5, 8],\n",
              " [5, 8, 3],\n",
              " [5, 8, 3, 68],\n",
              " [5, 8, 3, 68, 69],\n",
              " [5, 8, 3, 68, 69, 1],\n",
              " [5, 8, 3, 68, 69, 1, 23],\n",
              " [5, 8, 3, 68, 69, 1, 23, 9],\n",
              " [5, 8, 3, 68, 69, 1, 23, 9, 17],\n",
              " [5, 8, 3, 68, 69, 1, 23, 9, 17, 70],\n",
              " [24],\n",
              " [24, 71],\n",
              " [24, 71, 72],\n",
              " [24, 71, 72, 73],\n",
              " [24, 71, 72, 73, 74],\n",
              " [24, 71, 72, 73, 74, 3],\n",
              " [24, 71, 72, 73, 74, 3, 15],\n",
              " [24, 71, 72, 73, 74, 3, 15, 1],\n",
              " [24, 71, 72, 73, 74, 3, 15, 1, 16],\n",
              " [10],\n",
              " [10, 25],\n",
              " [10, 25, 26],\n",
              " [10, 25, 26, 75],\n",
              " [10, 25, 26, 75, 26],\n",
              " [10, 25, 26, 75, 26, 76],\n",
              " [10, 25, 26, 75, 26, 76, 27],\n",
              " [10, 25, 26, 75, 26, 76, 27, 2],\n",
              " [10, 25, 26, 75, 26, 76, 27, 2, 77],\n",
              " [11],\n",
              " [11, 28],\n",
              " [11, 28, 78],\n",
              " [11, 28, 78, 4],\n",
              " [11, 28, 78, 4, 79],\n",
              " [11, 28, 78, 4, 79, 1],\n",
              " [11, 28, 78, 4, 79, 1, 80],\n",
              " [11, 28, 78, 4, 79, 1, 80, 5],\n",
              " [11, 28, 78, 4, 79, 1, 80, 5, 3],\n",
              " [11, 28, 78, 4, 79, 1, 80, 5, 3, 81],\n",
              " [82],\n",
              " [82, 1],\n",
              " [82, 1, 83],\n",
              " [82, 1, 83, 11],\n",
              " [82, 1, 83, 11, 28],\n",
              " [82, 1, 83, 11, 28, 84],\n",
              " [82, 1, 83, 11, 28, 84, 2],\n",
              " [82, 1, 83, 11, 28, 84, 2, 85],\n",
              " [11],\n",
              " [11, 10],\n",
              " [11, 10, 3],\n",
              " [11, 10, 3, 86],\n",
              " [11, 10, 3, 86, 87],\n",
              " [11, 10, 3, 86, 87, 88],\n",
              " [11, 10, 3, 86, 87, 88, 89],\n",
              " [90],\n",
              " [90, 3],\n",
              " [90, 3, 23],\n",
              " [90, 3, 23, 1],\n",
              " [90, 3, 23, 1, 25],\n",
              " [90, 3, 23, 1, 25, 12],\n",
              " [91],\n",
              " [91, 10],\n",
              " [91, 10, 92],\n",
              " [91, 10, 92, 8],\n",
              " [91, 10, 92, 8, 93],\n",
              " [91, 10, 92, 8, 93, 4],\n",
              " [91, 10, 92, 8, 93, 4, 94],\n",
              " [91, 10, 92, 8, 93, 4, 94, 95],\n",
              " [8],\n",
              " [8, 27],\n",
              " [8, 27, 3],\n",
              " [8, 27, 3, 96],\n",
              " [8, 27, 3, 96, 24],\n",
              " [8, 27, 3, 96, 24, 2],\n",
              " [8, 27, 3, 96, 24, 2, 97],\n",
              " [8, 27, 3, 96, 24, 2, 97, 98],\n",
              " [18],\n",
              " [18, 99],\n",
              " [18, 99, 1],\n",
              " [18, 99, 1, 9],\n",
              " [18, 99, 1, 9, 100],\n",
              " [18, 99, 1, 9, 100, 101],\n",
              " [18, 99, 1, 9, 100, 101, 102],\n",
              " [18, 99, 1, 9, 100, 101, 102, 103],\n",
              " [1],\n",
              " [1, 104],\n",
              " [1, 104, 105],\n",
              " [1, 104, 105, 2],\n",
              " [1, 104, 105, 2, 106],\n",
              " [1, 104, 105, 2, 106, 4],\n",
              " [1, 104, 105, 2, 106, 4, 2],\n",
              " [1, 104, 105, 2, 106, 4, 2, 107],\n",
              " [1, 104, 105, 2, 106, 4, 2, 107, 108],\n",
              " [1, 104, 105, 2, 106, 4, 2, 107, 108, 109],\n",
              " [110],\n",
              " [110, 111],\n",
              " [110, 111, 112],\n",
              " [110, 111, 112, 113],\n",
              " [110, 111, 112, 113, 22],\n",
              " [110, 111, 112, 113, 22, 114],\n",
              " [110, 111, 112, 113, 22, 114, 115],\n",
              " [110, 111, 112, 113, 22, 114, 115, 116],\n",
              " [1],\n",
              " [1, 117],\n",
              " [1, 117, 13],\n",
              " [1, 117, 13, 118],\n",
              " [1, 117, 13, 118, 119],\n",
              " [1, 117, 13, 118, 119, 3],\n",
              " [1, 117, 13, 118, 119, 3, 120],\n",
              " [1, 117, 13, 118, 119, 3, 120, 121],\n",
              " [1, 117, 13, 118, 119, 3, 120, 121, 122],\n",
              " [5],\n",
              " [5, 9],\n",
              " [5, 9, 123],\n",
              " [5, 9, 123, 124],\n",
              " [5, 9, 123, 124, 125],\n",
              " [5, 9, 123, 124, 125, 19],\n",
              " [5, 9, 123, 124, 125, 19, 126],\n",
              " [5, 9, 123, 124, 125, 19, 126, 127],\n",
              " [128],\n",
              " [128, 7],\n",
              " [128, 7, 129],\n",
              " [128, 7, 129, 5],\n",
              " [128, 7, 129, 5, 20],\n",
              " [128, 7, 129, 5, 20, 21],\n",
              " [128, 7, 129, 5, 20, 21, 130]]"
            ]
          },
          "metadata": {
            "tags": []
          },
          "execution_count": 69
        }
      ]
    },
    {
      "cell_type": "code",
      "metadata": {
        "id": "r5mA4pM83RSH",
        "colab_type": "code",
        "colab": {
          "base_uri": "https://localhost:8080/",
          "height": 34
        },
        "outputId": "798cb8a0-7258-45ed-a862-e75745dbd641"
      },
      "source": [
        "max_seq_len = max([len(x) for x in input_sequences])\n",
        "max_seq_len"
      ],
      "execution_count": null,
      "outputs": [
        {
          "output_type": "execute_result",
          "data": {
            "text/plain": [
              "10"
            ]
          },
          "metadata": {
            "tags": []
          },
          "execution_count": 70
        }
      ]
    },
    {
      "cell_type": "code",
      "metadata": {
        "id": "tAYsk9LL5DOW",
        "colab_type": "code",
        "colab": {}
      },
      "source": [
        "import numpy as np\n",
        "input_sequneces = np.array(pad_sequences(input_sequences,maxlen=max_seq_len,padding='pre'))"
      ],
      "execution_count": null,
      "outputs": []
    },
    {
      "cell_type": "code",
      "metadata": {
        "id": "sXu6b4f_5r0j",
        "colab_type": "code",
        "colab": {
          "base_uri": "https://localhost:8080/",
          "height": 34
        },
        "outputId": "ce40dab5-7783-4181-b173-12b5fec8e7b9"
      },
      "source": [
        "input_sequneces[0]"
      ],
      "execution_count": null,
      "outputs": [
        {
          "output_type": "execute_result",
          "data": {
            "text/plain": [
              "array([ 0,  0,  0,  0,  0,  0,  0,  0,  0, 29], dtype=int32)"
            ]
          },
          "metadata": {
            "tags": []
          },
          "execution_count": 72
        }
      ]
    },
    {
      "cell_type": "code",
      "metadata": {
        "id": "6aaBhXXg5zeP",
        "colab_type": "code",
        "colab": {}
      },
      "source": [
        "xs,label = input_sequneces[:,:-1], input_sequneces[:,-1]"
      ],
      "execution_count": null,
      "outputs": []
    },
    {
      "cell_type": "code",
      "metadata": {
        "id": "zA-NhBtF7oHu",
        "colab_type": "code",
        "colab": {
          "base_uri": "https://localhost:8080/",
          "height": 34
        },
        "outputId": "1d66aab0-d68a-464e-878e-45c8aa1fbd5a"
      },
      "source": [
        "len(label)"
      ],
      "execution_count": null,
      "outputs": [
        {
          "output_type": "execute_result",
          "data": {
            "text/plain": [
              "193"
            ]
          },
          "metadata": {
            "tags": []
          },
          "execution_count": 74
        }
      ]
    },
    {
      "cell_type": "code",
      "metadata": {
        "id": "toY04T1-6izE",
        "colab_type": "code",
        "colab": {}
      },
      "source": [
        "ys = tf.keras.utils.to_categorical(label,num_classes=total_words)"
      ],
      "execution_count": null,
      "outputs": []
    },
    {
      "cell_type": "code",
      "metadata": {
        "id": "3luzjZy47gyW",
        "colab_type": "code",
        "colab": {
          "base_uri": "https://localhost:8080/",
          "height": 34
        },
        "outputId": "19effacb-a903-4045-c09f-8d3b8fc50173"
      },
      "source": [
        "print(tokenizer.word_index['in'])"
      ],
      "execution_count": null,
      "outputs": [
        {
          "output_type": "stream",
          "text": [
            "24\n"
          ],
          "name": "stdout"
        }
      ]
    },
    {
      "cell_type": "code",
      "metadata": {
        "id": "IFGM9YjY-Lcv",
        "colab_type": "code",
        "colab": {
          "base_uri": "https://localhost:8080/",
          "height": 34
        },
        "outputId": "716520c4-81ee-489e-eb22-b400b319eb5d"
      },
      "source": [
        "xs[6]"
      ],
      "execution_count": null,
      "outputs": [
        {
          "output_type": "execute_result",
          "data": {
            "text/plain": [
              "array([ 0,  0,  0, 29, 12, 13,  6, 30,  2], dtype=int32)"
            ]
          },
          "metadata": {
            "tags": []
          },
          "execution_count": 77
        }
      ]
    },
    {
      "cell_type": "code",
      "metadata": {
        "id": "84h8RiYT-2Wm",
        "colab_type": "code",
        "colab": {
          "base_uri": "https://localhost:8080/",
          "height": 153
        },
        "outputId": "e0bd9aab-dbe9-47f1-dd16-efd4e7d661dc"
      },
      "source": [
        "ys[6]"
      ],
      "execution_count": null,
      "outputs": [
        {
          "output_type": "execute_result",
          "data": {
            "text/plain": [
              "array([0., 0., 0., 0., 0., 0., 0., 0., 0., 0., 0., 0., 0., 0., 0., 0., 0.,\n",
              "       0., 0., 0., 0., 0., 0., 0., 0., 0., 0., 0., 0., 0., 0., 1., 0., 0.,\n",
              "       0., 0., 0., 0., 0., 0., 0., 0., 0., 0., 0., 0., 0., 0., 0., 0., 0.,\n",
              "       0., 0., 0., 0., 0., 0., 0., 0., 0., 0., 0., 0., 0., 0., 0., 0., 0.,\n",
              "       0., 0., 0., 0., 0., 0., 0., 0., 0., 0., 0., 0., 0., 0., 0., 0., 0.,\n",
              "       0., 0., 0., 0., 0., 0., 0., 0., 0., 0., 0., 0., 0., 0., 0., 0., 0.,\n",
              "       0., 0., 0., 0., 0., 0., 0., 0., 0., 0., 0., 0., 0., 0., 0., 0., 0.,\n",
              "       0., 0., 0., 0., 0., 0., 0., 0., 0., 0., 0., 0.], dtype=float32)"
            ]
          },
          "metadata": {
            "tags": []
          },
          "execution_count": 78
        }
      ]
    },
    {
      "cell_type": "code",
      "metadata": {
        "id": "SsIBrGGq_CKT",
        "colab_type": "code",
        "colab": {
          "base_uri": "https://localhost:8080/",
          "height": 1000
        },
        "outputId": "963415aa-1c45-4a80-c937-9f21e120d725"
      },
      "source": [
        "tokenizer.word_index"
      ],
      "execution_count": null,
      "outputs": [
        {
          "output_type": "execute_result",
          "data": {
            "text/plain": [
              "{\"'round\": 27,\n",
              " '10': 73,\n",
              " 'a': 2,\n",
              " 'academy': 127,\n",
              " 'acres': 42,\n",
              " 'again': 37,\n",
              " 'all': 8,\n",
              " 'and': 1,\n",
              " 'as': 26,\n",
              " 'ask': 70,\n",
              " 'at': 19,\n",
              " 'away': 12,\n",
              " 'bacon': 84,\n",
              " 'ball': 21,\n",
              " 'banished': 101,\n",
              " 'battered': 29,\n",
              " 'be': 64,\n",
              " 'bee': 76,\n",
              " 'boys': 69,\n",
              " \"brook's\": 126,\n",
              " 'but': 18,\n",
              " 'cakes': 83,\n",
              " 'cask': 77,\n",
              " 'ceilings': 120,\n",
              " 'chorus': 130,\n",
              " 'come': 51,\n",
              " \"courtin'\": 90,\n",
              " 'dance': 129,\n",
              " 'danced': 117,\n",
              " 'dancing': 25,\n",
              " 'did': 17,\n",
              " 'died': 34,\n",
              " 'doing': 92,\n",
              " 'eyes': 59,\n",
              " 'fall': 122,\n",
              " 'farm': 39,\n",
              " 'father': 33,\n",
              " 'for': 5,\n",
              " 'forget': 49,\n",
              " 'free': 66,\n",
              " 'friends': 15,\n",
              " 'gave': 44,\n",
              " 'gig': 98,\n",
              " 'girl': 113,\n",
              " 'girls': 23,\n",
              " 'glisten': 60,\n",
              " 'got': 22,\n",
              " 'grand': 45,\n",
              " 'ground': 43,\n",
              " \"hadn't\": 30,\n",
              " 'he': 6,\n",
              " 'him': 14,\n",
              " 'his': 32,\n",
              " 'how': 111,\n",
              " 'i': 9,\n",
              " \"i'll\": 56,\n",
              " 'if': 53,\n",
              " 'in': 24,\n",
              " 'invitaions': 67,\n",
              " 'irish': 108,\n",
              " 'jig': 109,\n",
              " 'julia': 99,\n",
              " 'kinds': 93,\n",
              " 'ladies': 81,\n",
              " \"lanigan's\": 20,\n",
              " 'lashing': 78,\n",
              " 'learning': 128,\n",
              " 'left': 38,\n",
              " 'less': 71,\n",
              " 'listen': 55,\n",
              " 'mad': 114,\n",
              " 'made': 35,\n",
              " 'make': 57,\n",
              " 'man': 36,\n",
              " 'me': 116,\n",
              " 'merry': 75,\n",
              " 'minutes': 74,\n",
              " 'murphys': 87,\n",
              " 'myself': 63,\n",
              " 'nice': 68,\n",
              " 'nonsense': 103,\n",
              " 'nonsensical': 94,\n",
              " 'not': 48,\n",
              " \"o'gradys\": 89,\n",
              " \"o'shaughnessys\": 86,\n",
              " 'of': 4,\n",
              " 'oh': 110,\n",
              " 'on': 115,\n",
              " 'party': 46,\n",
              " 'polkas': 95,\n",
              " 'potatoes': 82,\n",
              " 'pound': 31,\n",
              " 'punch': 79,\n",
              " 'real': 107,\n",
              " 'relations': 16,\n",
              " 'room': 96,\n",
              " 'rows': 61,\n",
              " 'ructions': 62,\n",
              " 'soon': 100,\n",
              " 'spent': 123,\n",
              " 'sure': 65,\n",
              " 'tay': 85,\n",
              " 'ten': 41,\n",
              " 'than': 72,\n",
              " 'that': 112,\n",
              " 'the': 3,\n",
              " 'their': 102,\n",
              " 'them': 105,\n",
              " 'there': 11,\n",
              " 'they': 91,\n",
              " 'think': 119,\n",
              " 'three': 124,\n",
              " 'till': 13,\n",
              " 'tipped': 104,\n",
              " 'to': 7,\n",
              " 'twist': 106,\n",
              " 'walshes': 88,\n",
              " 'was': 28,\n",
              " 'weeks': 125,\n",
              " 'were': 10,\n",
              " 'when': 50,\n",
              " 'whirly': 97,\n",
              " 'who': 47,\n",
              " 'will': 52,\n",
              " 'wine': 80,\n",
              " 'with': 40,\n",
              " 'would': 121,\n",
              " \"you'd\": 118,\n",
              " \"you'll\": 54,\n",
              " \"you're\": 58}"
            ]
          },
          "metadata": {
            "tags": []
          },
          "execution_count": 79
        }
      ]
    },
    {
      "cell_type": "code",
      "metadata": {
        "id": "08GyoA0D_UHU",
        "colab_type": "code",
        "colab": {}
      },
      "source": [
        "model = tf.keras.Sequential([\n",
        "                             tf.keras.layers.Embedding(total_words,64,input_length=max_seq_len-1),\n",
        "                             tf.keras.layers.Bidirectional(tf.keras.layers.LSTM(32)),\n",
        "                            #  tf.keras.layers.Conv1D(128, 5, activation='relu'),\n",
        "                            #  tf.keras.layers.GlobalMaxPooling1D(),\n",
        "                             tf.keras.layers.Dense(24,activation = 'relu'),\n",
        "                             tf.keras.layers.Dense(total_words,activation='softmax')])"
      ],
      "execution_count": null,
      "outputs": []
    },
    {
      "cell_type": "code",
      "metadata": {
        "id": "v8Ek4UZ1OZbQ",
        "colab_type": "code",
        "colab": {
          "base_uri": "https://localhost:8080/",
          "height": 289
        },
        "outputId": "b781ea8d-65b5-4c09-a951-50e876904f80"
      },
      "source": [
        "model.summary()"
      ],
      "execution_count": null,
      "outputs": [
        {
          "output_type": "stream",
          "text": [
            "Model: \"sequential\"\n",
            "_________________________________________________________________\n",
            "Layer (type)                 Output Shape              Param #   \n",
            "=================================================================\n",
            "embedding (Embedding)        (None, 9, 64)             8384      \n",
            "_________________________________________________________________\n",
            "bidirectional (Bidirectional (None, 64)                24832     \n",
            "_________________________________________________________________\n",
            "dense (Dense)                (None, 24)                1560      \n",
            "_________________________________________________________________\n",
            "dense_1 (Dense)              (None, 131)               3275      \n",
            "=================================================================\n",
            "Total params: 38,051\n",
            "Trainable params: 38,051\n",
            "Non-trainable params: 0\n",
            "_________________________________________________________________\n"
          ],
          "name": "stdout"
        }
      ]
    },
    {
      "cell_type": "code",
      "metadata": {
        "id": "5iv5Q6JJOeaI",
        "colab_type": "code",
        "colab": {}
      },
      "source": [
        "model.compile(loss='categorical_crossentropy',optimizer='adam',metrics=['accuracy'])"
      ],
      "execution_count": null,
      "outputs": []
    },
    {
      "cell_type": "code",
      "metadata": {
        "id": "BL7JOnYdOu6_",
        "colab_type": "code",
        "colab": {
          "base_uri": "https://localhost:8080/",
          "height": 1000
        },
        "outputId": "b11a0cf7-b064-468c-b63f-c46a3717a67c"
      },
      "source": [
        "model.fit(xs,ys,epochs=500,verbose=2)"
      ],
      "execution_count": null,
      "outputs": [
        {
          "output_type": "stream",
          "text": [
            "Epoch 1/500\n",
            "7/7 - 0s - loss: 4.8759 - accuracy: 0.0104\n",
            "Epoch 2/500\n",
            "7/7 - 0s - loss: 4.8686 - accuracy: 0.0777\n",
            "Epoch 3/500\n",
            "7/7 - 0s - loss: 4.8631 - accuracy: 0.0777\n",
            "Epoch 4/500\n",
            "7/7 - 0s - loss: 4.8563 - accuracy: 0.0777\n",
            "Epoch 5/500\n",
            "7/7 - 0s - loss: 4.8477 - accuracy: 0.0829\n",
            "Epoch 6/500\n",
            "7/7 - 0s - loss: 4.8329 - accuracy: 0.0777\n",
            "Epoch 7/500\n",
            "7/7 - 0s - loss: 4.8094 - accuracy: 0.0725\n",
            "Epoch 8/500\n",
            "7/7 - 0s - loss: 4.7673 - accuracy: 0.0777\n",
            "Epoch 9/500\n",
            "7/7 - 0s - loss: 4.7076 - accuracy: 0.0570\n",
            "Epoch 10/500\n",
            "7/7 - 0s - loss: 4.6589 - accuracy: 0.0674\n",
            "Epoch 11/500\n",
            "7/7 - 0s - loss: 4.6190 - accuracy: 0.0829\n",
            "Epoch 12/500\n",
            "7/7 - 0s - loss: 4.5848 - accuracy: 0.0725\n",
            "Epoch 13/500\n",
            "7/7 - 0s - loss: 4.5525 - accuracy: 0.0829\n",
            "Epoch 14/500\n",
            "7/7 - 0s - loss: 4.5257 - accuracy: 0.0777\n",
            "Epoch 15/500\n",
            "7/7 - 0s - loss: 4.5045 - accuracy: 0.1036\n",
            "Epoch 16/500\n",
            "7/7 - 0s - loss: 4.4792 - accuracy: 0.0829\n",
            "Epoch 17/500\n",
            "7/7 - 0s - loss: 4.4436 - accuracy: 0.0829\n",
            "Epoch 18/500\n",
            "7/7 - 0s - loss: 4.4121 - accuracy: 0.0777\n",
            "Epoch 19/500\n",
            "7/7 - 0s - loss: 4.3830 - accuracy: 0.0881\n",
            "Epoch 20/500\n",
            "7/7 - 0s - loss: 4.3562 - accuracy: 0.0881\n",
            "Epoch 21/500\n",
            "7/7 - 0s - loss: 4.3189 - accuracy: 0.0881\n",
            "Epoch 22/500\n",
            "7/7 - 0s - loss: 4.2827 - accuracy: 0.0829\n",
            "Epoch 23/500\n",
            "7/7 - 0s - loss: 4.2334 - accuracy: 0.0933\n",
            "Epoch 24/500\n",
            "7/7 - 0s - loss: 4.1931 - accuracy: 0.0881\n",
            "Epoch 25/500\n",
            "7/7 - 0s - loss: 4.1340 - accuracy: 0.0933\n",
            "Epoch 26/500\n",
            "7/7 - 0s - loss: 4.0657 - accuracy: 0.0881\n",
            "Epoch 27/500\n",
            "7/7 - 0s - loss: 4.0244 - accuracy: 0.0933\n",
            "Epoch 28/500\n",
            "7/7 - 0s - loss: 3.9443 - accuracy: 0.0933\n",
            "Epoch 29/500\n",
            "7/7 - 0s - loss: 3.8959 - accuracy: 0.1036\n",
            "Epoch 30/500\n",
            "7/7 - 0s - loss: 3.8299 - accuracy: 0.1192\n",
            "Epoch 31/500\n",
            "7/7 - 0s - loss: 3.7723 - accuracy: 0.1140\n",
            "Epoch 32/500\n",
            "7/7 - 0s - loss: 3.7261 - accuracy: 0.1192\n",
            "Epoch 33/500\n",
            "7/7 - 0s - loss: 3.6847 - accuracy: 0.1244\n",
            "Epoch 34/500\n",
            "7/7 - 0s - loss: 3.6378 - accuracy: 0.1399\n",
            "Epoch 35/500\n",
            "7/7 - 0s - loss: 3.5889 - accuracy: 0.1503\n",
            "Epoch 36/500\n",
            "7/7 - 0s - loss: 3.5523 - accuracy: 0.1606\n",
            "Epoch 37/500\n",
            "7/7 - 0s - loss: 3.5085 - accuracy: 0.1658\n",
            "Epoch 38/500\n",
            "7/7 - 0s - loss: 3.4537 - accuracy: 0.1813\n",
            "Epoch 39/500\n",
            "7/7 - 0s - loss: 3.4174 - accuracy: 0.1865\n",
            "Epoch 40/500\n",
            "7/7 - 0s - loss: 3.3841 - accuracy: 0.1917\n",
            "Epoch 41/500\n",
            "7/7 - 0s - loss: 3.3516 - accuracy: 0.1865\n",
            "Epoch 42/500\n",
            "7/7 - 0s - loss: 3.3057 - accuracy: 0.1917\n",
            "Epoch 43/500\n",
            "7/7 - 0s - loss: 3.2667 - accuracy: 0.1762\n",
            "Epoch 44/500\n",
            "7/7 - 0s - loss: 3.2273 - accuracy: 0.1917\n",
            "Epoch 45/500\n",
            "7/7 - 0s - loss: 3.1967 - accuracy: 0.2073\n",
            "Epoch 46/500\n",
            "7/7 - 0s - loss: 3.1612 - accuracy: 0.2124\n",
            "Epoch 47/500\n",
            "7/7 - 0s - loss: 3.1045 - accuracy: 0.2073\n",
            "Epoch 48/500\n",
            "7/7 - 0s - loss: 3.0652 - accuracy: 0.2228\n",
            "Epoch 49/500\n",
            "7/7 - 0s - loss: 3.0334 - accuracy: 0.2124\n",
            "Epoch 50/500\n",
            "7/7 - 0s - loss: 2.9957 - accuracy: 0.2176\n",
            "Epoch 51/500\n",
            "7/7 - 0s - loss: 2.9653 - accuracy: 0.2176\n",
            "Epoch 52/500\n",
            "7/7 - 0s - loss: 2.9240 - accuracy: 0.2487\n",
            "Epoch 53/500\n",
            "7/7 - 0s - loss: 2.9068 - accuracy: 0.2591\n",
            "Epoch 54/500\n",
            "7/7 - 0s - loss: 2.9101 - accuracy: 0.2746\n",
            "Epoch 55/500\n",
            "7/7 - 0s - loss: 2.8963 - accuracy: 0.2591\n",
            "Epoch 56/500\n",
            "7/7 - 0s - loss: 2.8615 - accuracy: 0.2591\n",
            "Epoch 57/500\n",
            "7/7 - 0s - loss: 2.8079 - accuracy: 0.2798\n",
            "Epoch 58/500\n",
            "7/7 - 0s - loss: 2.7612 - accuracy: 0.3161\n",
            "Epoch 59/500\n",
            "7/7 - 0s - loss: 2.7238 - accuracy: 0.3316\n",
            "Epoch 60/500\n",
            "7/7 - 0s - loss: 2.6875 - accuracy: 0.3212\n",
            "Epoch 61/500\n",
            "7/7 - 0s - loss: 2.6655 - accuracy: 0.3212\n",
            "Epoch 62/500\n",
            "7/7 - 0s - loss: 2.6374 - accuracy: 0.3575\n",
            "Epoch 63/500\n",
            "7/7 - 0s - loss: 2.6068 - accuracy: 0.3782\n",
            "Epoch 64/500\n",
            "7/7 - 0s - loss: 2.5819 - accuracy: 0.3782\n",
            "Epoch 65/500\n",
            "7/7 - 0s - loss: 2.6016 - accuracy: 0.3627\n",
            "Epoch 66/500\n",
            "7/7 - 0s - loss: 2.5690 - accuracy: 0.3731\n",
            "Epoch 67/500\n",
            "7/7 - 0s - loss: 2.5400 - accuracy: 0.3523\n",
            "Epoch 68/500\n",
            "7/7 - 0s - loss: 2.4957 - accuracy: 0.3990\n",
            "Epoch 69/500\n",
            "7/7 - 0s - loss: 2.4701 - accuracy: 0.3990\n",
            "Epoch 70/500\n",
            "7/7 - 0s - loss: 2.4438 - accuracy: 0.4093\n",
            "Epoch 71/500\n",
            "7/7 - 0s - loss: 2.3962 - accuracy: 0.4352\n",
            "Epoch 72/500\n",
            "7/7 - 0s - loss: 2.3838 - accuracy: 0.4249\n",
            "Epoch 73/500\n",
            "7/7 - 0s - loss: 2.3491 - accuracy: 0.4456\n",
            "Epoch 74/500\n",
            "7/7 - 0s - loss: 2.3138 - accuracy: 0.4301\n",
            "Epoch 75/500\n",
            "7/7 - 0s - loss: 2.2981 - accuracy: 0.4611\n",
            "Epoch 76/500\n",
            "7/7 - 0s - loss: 2.2796 - accuracy: 0.4715\n",
            "Epoch 77/500\n",
            "7/7 - 0s - loss: 2.2668 - accuracy: 0.4249\n",
            "Epoch 78/500\n",
            "7/7 - 0s - loss: 2.2755 - accuracy: 0.4456\n",
            "Epoch 79/500\n",
            "7/7 - 0s - loss: 2.2548 - accuracy: 0.4456\n",
            "Epoch 80/500\n",
            "7/7 - 0s - loss: 2.2237 - accuracy: 0.4560\n",
            "Epoch 81/500\n",
            "7/7 - 0s - loss: 2.1965 - accuracy: 0.4404\n",
            "Epoch 82/500\n",
            "7/7 - 0s - loss: 2.1467 - accuracy: 0.4611\n",
            "Epoch 83/500\n",
            "7/7 - 0s - loss: 2.1408 - accuracy: 0.4819\n",
            "Epoch 84/500\n",
            "7/7 - 0s - loss: 2.1063 - accuracy: 0.4922\n",
            "Epoch 85/500\n",
            "7/7 - 0s - loss: 2.0751 - accuracy: 0.5233\n",
            "Epoch 86/500\n",
            "7/7 - 0s - loss: 2.0558 - accuracy: 0.5130\n",
            "Epoch 87/500\n",
            "7/7 - 0s - loss: 2.0500 - accuracy: 0.4819\n",
            "Epoch 88/500\n",
            "7/7 - 0s - loss: 2.0131 - accuracy: 0.4922\n",
            "Epoch 89/500\n",
            "7/7 - 0s - loss: 1.9959 - accuracy: 0.4922\n",
            "Epoch 90/500\n",
            "7/7 - 0s - loss: 1.9958 - accuracy: 0.5130\n",
            "Epoch 91/500\n",
            "7/7 - 0s - loss: 1.9738 - accuracy: 0.5078\n",
            "Epoch 92/500\n",
            "7/7 - 0s - loss: 1.9483 - accuracy: 0.5026\n",
            "Epoch 93/500\n",
            "7/7 - 0s - loss: 1.9066 - accuracy: 0.5492\n",
            "Epoch 94/500\n",
            "7/7 - 0s - loss: 1.8892 - accuracy: 0.5803\n",
            "Epoch 95/500\n",
            "7/7 - 0s - loss: 1.8648 - accuracy: 0.5855\n",
            "Epoch 96/500\n",
            "7/7 - 0s - loss: 1.8523 - accuracy: 0.5596\n",
            "Epoch 97/500\n",
            "7/7 - 0s - loss: 1.8385 - accuracy: 0.5648\n",
            "Epoch 98/500\n",
            "7/7 - 0s - loss: 1.8328 - accuracy: 0.6010\n",
            "Epoch 99/500\n",
            "7/7 - 0s - loss: 1.8064 - accuracy: 0.5803\n",
            "Epoch 100/500\n",
            "7/7 - 0s - loss: 1.7861 - accuracy: 0.5907\n",
            "Epoch 101/500\n",
            "7/7 - 0s - loss: 1.7781 - accuracy: 0.5803\n",
            "Epoch 102/500\n",
            "7/7 - 0s - loss: 1.7472 - accuracy: 0.5959\n",
            "Epoch 103/500\n",
            "7/7 - 0s - loss: 1.7572 - accuracy: 0.6218\n",
            "Epoch 104/500\n",
            "7/7 - 0s - loss: 1.7491 - accuracy: 0.6218\n",
            "Epoch 105/500\n",
            "7/7 - 0s - loss: 1.7279 - accuracy: 0.5855\n",
            "Epoch 106/500\n",
            "7/7 - 0s - loss: 1.7271 - accuracy: 0.5907\n",
            "Epoch 107/500\n",
            "7/7 - 0s - loss: 1.7257 - accuracy: 0.5803\n",
            "Epoch 108/500\n",
            "7/7 - 0s - loss: 1.6926 - accuracy: 0.6218\n",
            "Epoch 109/500\n",
            "7/7 - 0s - loss: 1.6546 - accuracy: 0.6218\n",
            "Epoch 110/500\n",
            "7/7 - 0s - loss: 1.6397 - accuracy: 0.6114\n",
            "Epoch 111/500\n",
            "7/7 - 0s - loss: 1.6234 - accuracy: 0.6062\n",
            "Epoch 112/500\n",
            "7/7 - 0s - loss: 1.6115 - accuracy: 0.6010\n",
            "Epoch 113/500\n",
            "7/7 - 0s - loss: 1.5915 - accuracy: 0.6062\n",
            "Epoch 114/500\n",
            "7/7 - 0s - loss: 1.6203 - accuracy: 0.6114\n",
            "Epoch 115/500\n",
            "7/7 - 0s - loss: 1.5874 - accuracy: 0.6166\n",
            "Epoch 116/500\n",
            "7/7 - 0s - loss: 1.5591 - accuracy: 0.6269\n",
            "Epoch 117/500\n",
            "7/7 - 0s - loss: 1.5298 - accuracy: 0.6580\n",
            "Epoch 118/500\n",
            "7/7 - 0s - loss: 1.5198 - accuracy: 0.6684\n",
            "Epoch 119/500\n",
            "7/7 - 0s - loss: 1.4976 - accuracy: 0.6632\n",
            "Epoch 120/500\n",
            "7/7 - 0s - loss: 1.4766 - accuracy: 0.6839\n",
            "Epoch 121/500\n",
            "7/7 - 0s - loss: 1.4602 - accuracy: 0.6736\n",
            "Epoch 122/500\n",
            "7/7 - 0s - loss: 1.4435 - accuracy: 0.6788\n",
            "Epoch 123/500\n",
            "7/7 - 0s - loss: 1.4543 - accuracy: 0.6839\n",
            "Epoch 124/500\n",
            "7/7 - 0s - loss: 1.4307 - accuracy: 0.6943\n",
            "Epoch 125/500\n",
            "7/7 - 0s - loss: 1.4201 - accuracy: 0.6891\n",
            "Epoch 126/500\n",
            "7/7 - 0s - loss: 1.4047 - accuracy: 0.6891\n",
            "Epoch 127/500\n",
            "7/7 - 0s - loss: 1.4007 - accuracy: 0.6943\n",
            "Epoch 128/500\n",
            "7/7 - 0s - loss: 1.3808 - accuracy: 0.6736\n",
            "Epoch 129/500\n",
            "7/7 - 0s - loss: 1.3613 - accuracy: 0.6839\n",
            "Epoch 130/500\n",
            "7/7 - 0s - loss: 1.3511 - accuracy: 0.6839\n",
            "Epoch 131/500\n",
            "7/7 - 0s - loss: 1.3300 - accuracy: 0.6943\n",
            "Epoch 132/500\n",
            "7/7 - 0s - loss: 1.3037 - accuracy: 0.7047\n",
            "Epoch 133/500\n",
            "7/7 - 0s - loss: 1.2946 - accuracy: 0.6943\n",
            "Epoch 134/500\n",
            "7/7 - 0s - loss: 1.3037 - accuracy: 0.7047\n",
            "Epoch 135/500\n",
            "7/7 - 0s - loss: 1.3035 - accuracy: 0.7047\n",
            "Epoch 136/500\n",
            "7/7 - 0s - loss: 1.2764 - accuracy: 0.7202\n",
            "Epoch 137/500\n",
            "7/7 - 0s - loss: 1.3416 - accuracy: 0.6943\n",
            "Epoch 138/500\n",
            "7/7 - 0s - loss: 1.3498 - accuracy: 0.6943\n",
            "Epoch 139/500\n",
            "7/7 - 0s - loss: 1.3342 - accuracy: 0.6891\n",
            "Epoch 140/500\n",
            "7/7 - 0s - loss: 1.3131 - accuracy: 0.6995\n",
            "Epoch 141/500\n",
            "7/7 - 0s - loss: 1.3570 - accuracy: 0.6943\n",
            "Epoch 142/500\n",
            "7/7 - 0s - loss: 1.3144 - accuracy: 0.6995\n",
            "Epoch 143/500\n",
            "7/7 - 0s - loss: 1.2744 - accuracy: 0.7047\n",
            "Epoch 144/500\n",
            "7/7 - 0s - loss: 1.3654 - accuracy: 0.6580\n",
            "Epoch 145/500\n",
            "7/7 - 0s - loss: 1.3824 - accuracy: 0.6580\n",
            "Epoch 146/500\n",
            "7/7 - 0s - loss: 1.3353 - accuracy: 0.6788\n",
            "Epoch 147/500\n",
            "7/7 - 0s - loss: 1.2845 - accuracy: 0.6995\n",
            "Epoch 148/500\n",
            "7/7 - 0s - loss: 1.2559 - accuracy: 0.7098\n",
            "Epoch 149/500\n",
            "7/7 - 0s - loss: 1.2191 - accuracy: 0.7306\n",
            "Epoch 150/500\n",
            "7/7 - 0s - loss: 1.1709 - accuracy: 0.7513\n",
            "Epoch 151/500\n",
            "7/7 - 0s - loss: 1.1550 - accuracy: 0.7720\n",
            "Epoch 152/500\n",
            "7/7 - 0s - loss: 1.1565 - accuracy: 0.7720\n",
            "Epoch 153/500\n",
            "7/7 - 0s - loss: 1.1269 - accuracy: 0.7876\n",
            "Epoch 154/500\n",
            "7/7 - 0s - loss: 1.1299 - accuracy: 0.7565\n",
            "Epoch 155/500\n",
            "7/7 - 0s - loss: 1.1115 - accuracy: 0.7513\n",
            "Epoch 156/500\n",
            "7/7 - 0s - loss: 1.0852 - accuracy: 0.7617\n",
            "Epoch 157/500\n",
            "7/7 - 0s - loss: 1.0708 - accuracy: 0.7720\n",
            "Epoch 158/500\n",
            "7/7 - 0s - loss: 1.0630 - accuracy: 0.7720\n",
            "Epoch 159/500\n",
            "7/7 - 0s - loss: 1.0757 - accuracy: 0.7876\n",
            "Epoch 160/500\n",
            "7/7 - 0s - loss: 1.0595 - accuracy: 0.7772\n",
            "Epoch 161/500\n",
            "7/7 - 0s - loss: 1.0673 - accuracy: 0.7720\n",
            "Epoch 162/500\n",
            "7/7 - 0s - loss: 1.0429 - accuracy: 0.7927\n",
            "Epoch 163/500\n",
            "7/7 - 0s - loss: 1.0361 - accuracy: 0.7824\n",
            "Epoch 164/500\n",
            "7/7 - 0s - loss: 1.0203 - accuracy: 0.7876\n",
            "Epoch 165/500\n",
            "7/7 - 0s - loss: 1.0085 - accuracy: 0.7824\n",
            "Epoch 166/500\n",
            "7/7 - 0s - loss: 1.0088 - accuracy: 0.7876\n",
            "Epoch 167/500\n",
            "7/7 - 0s - loss: 0.9951 - accuracy: 0.7927\n",
            "Epoch 168/500\n",
            "7/7 - 0s - loss: 0.9942 - accuracy: 0.8031\n",
            "Epoch 169/500\n",
            "7/7 - 0s - loss: 0.9851 - accuracy: 0.8031\n",
            "Epoch 170/500\n",
            "7/7 - 0s - loss: 0.9756 - accuracy: 0.7927\n",
            "Epoch 171/500\n",
            "7/7 - 0s - loss: 0.9616 - accuracy: 0.8031\n",
            "Epoch 172/500\n",
            "7/7 - 0s - loss: 0.9516 - accuracy: 0.7979\n",
            "Epoch 173/500\n",
            "7/7 - 0s - loss: 0.9442 - accuracy: 0.8083\n",
            "Epoch 174/500\n",
            "7/7 - 0s - loss: 0.9521 - accuracy: 0.8031\n",
            "Epoch 175/500\n",
            "7/7 - 0s - loss: 0.9419 - accuracy: 0.8083\n",
            "Epoch 176/500\n",
            "7/7 - 0s - loss: 0.9286 - accuracy: 0.8083\n",
            "Epoch 177/500\n",
            "7/7 - 0s - loss: 0.9251 - accuracy: 0.7979\n",
            "Epoch 178/500\n",
            "7/7 - 0s - loss: 0.9212 - accuracy: 0.8031\n",
            "Epoch 179/500\n",
            "7/7 - 0s - loss: 0.9956 - accuracy: 0.7876\n",
            "Epoch 180/500\n",
            "7/7 - 0s - loss: 1.0030 - accuracy: 0.7720\n",
            "Epoch 181/500\n",
            "7/7 - 0s - loss: 0.9634 - accuracy: 0.7824\n",
            "Epoch 182/500\n",
            "7/7 - 0s - loss: 0.9438 - accuracy: 0.7927\n",
            "Epoch 183/500\n",
            "7/7 - 0s - loss: 0.9196 - accuracy: 0.7876\n",
            "Epoch 184/500\n",
            "7/7 - 0s - loss: 0.9075 - accuracy: 0.7876\n",
            "Epoch 185/500\n",
            "7/7 - 0s - loss: 0.8923 - accuracy: 0.8031\n",
            "Epoch 186/500\n",
            "7/7 - 0s - loss: 0.8859 - accuracy: 0.8083\n",
            "Epoch 187/500\n",
            "7/7 - 0s - loss: 0.8901 - accuracy: 0.8031\n",
            "Epoch 188/500\n",
            "7/7 - 0s - loss: 0.8800 - accuracy: 0.8083\n",
            "Epoch 189/500\n",
            "7/7 - 0s - loss: 0.8621 - accuracy: 0.8187\n",
            "Epoch 190/500\n",
            "7/7 - 0s - loss: 0.8461 - accuracy: 0.8083\n",
            "Epoch 191/500\n",
            "7/7 - 0s - loss: 0.8309 - accuracy: 0.8187\n",
            "Epoch 192/500\n",
            "7/7 - 0s - loss: 0.8297 - accuracy: 0.8290\n",
            "Epoch 193/500\n",
            "7/7 - 0s - loss: 0.8368 - accuracy: 0.8342\n",
            "Epoch 194/500\n",
            "7/7 - 0s - loss: 0.8271 - accuracy: 0.8290\n",
            "Epoch 195/500\n",
            "7/7 - 0s - loss: 0.8263 - accuracy: 0.8238\n",
            "Epoch 196/500\n",
            "7/7 - 0s - loss: 0.8134 - accuracy: 0.8238\n",
            "Epoch 197/500\n",
            "7/7 - 0s - loss: 0.8048 - accuracy: 0.8135\n",
            "Epoch 198/500\n",
            "7/7 - 0s - loss: 0.8287 - accuracy: 0.8187\n",
            "Epoch 199/500\n",
            "7/7 - 0s - loss: 0.8313 - accuracy: 0.8083\n",
            "Epoch 200/500\n",
            "7/7 - 0s - loss: 0.8109 - accuracy: 0.8083\n",
            "Epoch 201/500\n",
            "7/7 - 0s - loss: 0.8155 - accuracy: 0.8031\n",
            "Epoch 202/500\n",
            "7/7 - 0s - loss: 0.8115 - accuracy: 0.8083\n",
            "Epoch 203/500\n",
            "7/7 - 0s - loss: 0.7950 - accuracy: 0.8290\n",
            "Epoch 204/500\n",
            "7/7 - 0s - loss: 0.7923 - accuracy: 0.8342\n",
            "Epoch 205/500\n",
            "7/7 - 0s - loss: 0.7810 - accuracy: 0.8290\n",
            "Epoch 206/500\n",
            "7/7 - 0s - loss: 0.7676 - accuracy: 0.8238\n",
            "Epoch 207/500\n",
            "7/7 - 0s - loss: 0.7646 - accuracy: 0.8238\n",
            "Epoch 208/500\n",
            "7/7 - 0s - loss: 0.7590 - accuracy: 0.8290\n",
            "Epoch 209/500\n",
            "7/7 - 0s - loss: 0.7521 - accuracy: 0.8342\n",
            "Epoch 210/500\n",
            "7/7 - 0s - loss: 0.7594 - accuracy: 0.8394\n",
            "Epoch 211/500\n",
            "7/7 - 0s - loss: 0.7563 - accuracy: 0.8497\n",
            "Epoch 212/500\n",
            "7/7 - 0s - loss: 0.7518 - accuracy: 0.8497\n",
            "Epoch 213/500\n",
            "7/7 - 0s - loss: 0.7484 - accuracy: 0.8497\n",
            "Epoch 214/500\n",
            "7/7 - 0s - loss: 0.7397 - accuracy: 0.8497\n",
            "Epoch 215/500\n",
            "7/7 - 0s - loss: 0.7339 - accuracy: 0.8446\n",
            "Epoch 216/500\n",
            "7/7 - 0s - loss: 0.7235 - accuracy: 0.8497\n",
            "Epoch 217/500\n",
            "7/7 - 0s - loss: 0.7155 - accuracy: 0.8446\n",
            "Epoch 218/500\n",
            "7/7 - 0s - loss: 0.7243 - accuracy: 0.8394\n",
            "Epoch 219/500\n",
            "7/7 - 0s - loss: 0.7255 - accuracy: 0.8549\n",
            "Epoch 220/500\n",
            "7/7 - 0s - loss: 0.7189 - accuracy: 0.8601\n",
            "Epoch 221/500\n",
            "7/7 - 0s - loss: 0.7106 - accuracy: 0.8497\n",
            "Epoch 222/500\n",
            "7/7 - 0s - loss: 0.7042 - accuracy: 0.8549\n",
            "Epoch 223/500\n",
            "7/7 - 0s - loss: 0.6990 - accuracy: 0.8497\n",
            "Epoch 224/500\n",
            "7/7 - 0s - loss: 0.6953 - accuracy: 0.8549\n",
            "Epoch 225/500\n",
            "7/7 - 0s - loss: 0.6991 - accuracy: 0.8497\n",
            "Epoch 226/500\n",
            "7/7 - 0s - loss: 0.7056 - accuracy: 0.8238\n",
            "Epoch 227/500\n",
            "7/7 - 0s - loss: 0.7091 - accuracy: 0.8290\n",
            "Epoch 228/500\n",
            "7/7 - 0s - loss: 0.7035 - accuracy: 0.8135\n",
            "Epoch 229/500\n",
            "7/7 - 0s - loss: 0.6986 - accuracy: 0.8135\n",
            "Epoch 230/500\n",
            "7/7 - 0s - loss: 0.6972 - accuracy: 0.8342\n",
            "Epoch 231/500\n",
            "7/7 - 0s - loss: 0.6969 - accuracy: 0.8238\n",
            "Epoch 232/500\n",
            "7/7 - 0s - loss: 0.7040 - accuracy: 0.8290\n",
            "Epoch 233/500\n",
            "7/7 - 0s - loss: 0.6843 - accuracy: 0.8446\n",
            "Epoch 234/500\n",
            "7/7 - 0s - loss: 0.6715 - accuracy: 0.8497\n",
            "Epoch 235/500\n",
            "7/7 - 0s - loss: 0.6636 - accuracy: 0.8446\n",
            "Epoch 236/500\n",
            "7/7 - 0s - loss: 0.6598 - accuracy: 0.8497\n",
            "Epoch 237/500\n",
            "7/7 - 0s - loss: 0.6543 - accuracy: 0.8446\n",
            "Epoch 238/500\n",
            "7/7 - 0s - loss: 0.6513 - accuracy: 0.8446\n",
            "Epoch 239/500\n",
            "7/7 - 0s - loss: 0.6454 - accuracy: 0.8446\n",
            "Epoch 240/500\n",
            "7/7 - 0s - loss: 0.6380 - accuracy: 0.8497\n",
            "Epoch 241/500\n",
            "7/7 - 0s - loss: 0.6322 - accuracy: 0.8497\n",
            "Epoch 242/500\n",
            "7/7 - 0s - loss: 0.6278 - accuracy: 0.8549\n",
            "Epoch 243/500\n",
            "7/7 - 0s - loss: 0.6244 - accuracy: 0.8497\n",
            "Epoch 244/500\n",
            "7/7 - 0s - loss: 0.6221 - accuracy: 0.8497\n",
            "Epoch 245/500\n",
            "7/7 - 0s - loss: 0.6173 - accuracy: 0.8549\n",
            "Epoch 246/500\n",
            "7/7 - 0s - loss: 0.6308 - accuracy: 0.8549\n",
            "Epoch 247/500\n",
            "7/7 - 0s - loss: 0.6494 - accuracy: 0.8549\n",
            "Epoch 248/500\n",
            "7/7 - 0s - loss: 0.6393 - accuracy: 0.8497\n",
            "Epoch 249/500\n",
            "7/7 - 0s - loss: 0.6252 - accuracy: 0.8446\n",
            "Epoch 250/500\n",
            "7/7 - 0s - loss: 0.6132 - accuracy: 0.8549\n",
            "Epoch 251/500\n",
            "7/7 - 0s - loss: 0.6055 - accuracy: 0.8549\n",
            "Epoch 252/500\n",
            "7/7 - 0s - loss: 0.6008 - accuracy: 0.8549\n",
            "Epoch 253/500\n",
            "7/7 - 0s - loss: 0.6026 - accuracy: 0.8653\n",
            "Epoch 254/500\n",
            "7/7 - 0s - loss: 0.6059 - accuracy: 0.8549\n",
            "Epoch 255/500\n",
            "7/7 - 0s - loss: 0.6132 - accuracy: 0.8446\n",
            "Epoch 256/500\n",
            "7/7 - 0s - loss: 0.6071 - accuracy: 0.8549\n",
            "Epoch 257/500\n",
            "7/7 - 0s - loss: 0.5976 - accuracy: 0.8549\n",
            "Epoch 258/500\n",
            "7/7 - 0s - loss: 0.5981 - accuracy: 0.8653\n",
            "Epoch 259/500\n",
            "7/7 - 0s - loss: 0.5991 - accuracy: 0.8601\n",
            "Epoch 260/500\n",
            "7/7 - 0s - loss: 0.5991 - accuracy: 0.8601\n",
            "Epoch 261/500\n",
            "7/7 - 0s - loss: 0.6038 - accuracy: 0.8549\n",
            "Epoch 262/500\n",
            "7/7 - 0s - loss: 0.5941 - accuracy: 0.8497\n",
            "Epoch 263/500\n",
            "7/7 - 0s - loss: 0.6111 - accuracy: 0.8549\n",
            "Epoch 264/500\n",
            "7/7 - 0s - loss: 0.6246 - accuracy: 0.8497\n",
            "Epoch 265/500\n",
            "7/7 - 0s - loss: 0.6088 - accuracy: 0.8497\n",
            "Epoch 266/500\n",
            "7/7 - 0s - loss: 0.5965 - accuracy: 0.8601\n",
            "Epoch 267/500\n",
            "7/7 - 0s - loss: 0.5983 - accuracy: 0.8497\n",
            "Epoch 268/500\n",
            "7/7 - 0s - loss: 0.5846 - accuracy: 0.8549\n",
            "Epoch 269/500\n",
            "7/7 - 0s - loss: 0.5856 - accuracy: 0.8497\n",
            "Epoch 270/500\n",
            "7/7 - 0s - loss: 0.5755 - accuracy: 0.8497\n",
            "Epoch 271/500\n",
            "7/7 - 0s - loss: 0.5707 - accuracy: 0.8549\n",
            "Epoch 272/500\n",
            "7/7 - 0s - loss: 0.5659 - accuracy: 0.8653\n",
            "Epoch 273/500\n",
            "7/7 - 0s - loss: 0.5779 - accuracy: 0.8549\n",
            "Epoch 274/500\n",
            "7/7 - 0s - loss: 0.5893 - accuracy: 0.8497\n",
            "Epoch 275/500\n",
            "7/7 - 0s - loss: 0.5827 - accuracy: 0.8497\n",
            "Epoch 276/500\n",
            "7/7 - 0s - loss: 0.5753 - accuracy: 0.8497\n",
            "Epoch 277/500\n",
            "7/7 - 0s - loss: 0.5681 - accuracy: 0.8601\n",
            "Epoch 278/500\n",
            "7/7 - 0s - loss: 0.5608 - accuracy: 0.8653\n",
            "Epoch 279/500\n",
            "7/7 - 0s - loss: 0.5518 - accuracy: 0.8653\n",
            "Epoch 280/500\n",
            "7/7 - 0s - loss: 0.5516 - accuracy: 0.8653\n",
            "Epoch 281/500\n",
            "7/7 - 0s - loss: 0.5596 - accuracy: 0.8549\n",
            "Epoch 282/500\n",
            "7/7 - 0s - loss: 0.5569 - accuracy: 0.8549\n",
            "Epoch 283/500\n",
            "7/7 - 0s - loss: 0.5480 - accuracy: 0.8601\n",
            "Epoch 284/500\n",
            "7/7 - 0s - loss: 0.5496 - accuracy: 0.8653\n",
            "Epoch 285/500\n",
            "7/7 - 0s - loss: 0.5530 - accuracy: 0.8601\n",
            "Epoch 286/500\n",
            "7/7 - 0s - loss: 0.5489 - accuracy: 0.8653\n",
            "Epoch 287/500\n",
            "7/7 - 0s - loss: 0.5434 - accuracy: 0.8705\n",
            "Epoch 288/500\n",
            "7/7 - 0s - loss: 0.5391 - accuracy: 0.8705\n",
            "Epoch 289/500\n",
            "7/7 - 0s - loss: 0.5349 - accuracy: 0.8601\n",
            "Epoch 290/500\n",
            "7/7 - 0s - loss: 0.5308 - accuracy: 0.8705\n",
            "Epoch 291/500\n",
            "7/7 - 0s - loss: 0.5270 - accuracy: 0.8705\n",
            "Epoch 292/500\n",
            "7/7 - 0s - loss: 0.5225 - accuracy: 0.8705\n",
            "Epoch 293/500\n",
            "7/7 - 0s - loss: 0.5199 - accuracy: 0.8705\n",
            "Epoch 294/500\n",
            "7/7 - 0s - loss: 0.5172 - accuracy: 0.8705\n",
            "Epoch 295/500\n",
            "7/7 - 0s - loss: 0.5153 - accuracy: 0.8653\n",
            "Epoch 296/500\n",
            "7/7 - 0s - loss: 0.5130 - accuracy: 0.8653\n",
            "Epoch 297/500\n",
            "7/7 - 0s - loss: 0.5111 - accuracy: 0.8705\n",
            "Epoch 298/500\n",
            "7/7 - 0s - loss: 0.5105 - accuracy: 0.8705\n",
            "Epoch 299/500\n",
            "7/7 - 0s - loss: 0.5088 - accuracy: 0.8756\n",
            "Epoch 300/500\n",
            "7/7 - 0s - loss: 0.5100 - accuracy: 0.8653\n",
            "Epoch 301/500\n",
            "7/7 - 0s - loss: 0.5100 - accuracy: 0.8756\n",
            "Epoch 302/500\n",
            "7/7 - 0s - loss: 0.5085 - accuracy: 0.8705\n",
            "Epoch 303/500\n",
            "7/7 - 0s - loss: 0.5065 - accuracy: 0.8705\n",
            "Epoch 304/500\n",
            "7/7 - 0s - loss: 0.5283 - accuracy: 0.8653\n",
            "Epoch 305/500\n",
            "7/7 - 0s - loss: 0.5360 - accuracy: 0.8653\n",
            "Epoch 306/500\n",
            "7/7 - 0s - loss: 0.5258 - accuracy: 0.8653\n",
            "Epoch 307/500\n",
            "7/7 - 0s - loss: 0.5150 - accuracy: 0.8601\n",
            "Epoch 308/500\n",
            "7/7 - 0s - loss: 0.5051 - accuracy: 0.8705\n",
            "Epoch 309/500\n",
            "7/7 - 0s - loss: 0.5010 - accuracy: 0.8705\n",
            "Epoch 310/500\n",
            "7/7 - 0s - loss: 0.4972 - accuracy: 0.8653\n",
            "Epoch 311/500\n",
            "7/7 - 0s - loss: 0.4969 - accuracy: 0.8705\n",
            "Epoch 312/500\n",
            "7/7 - 0s - loss: 0.4984 - accuracy: 0.8705\n",
            "Epoch 313/500\n",
            "7/7 - 0s - loss: 0.4970 - accuracy: 0.8705\n",
            "Epoch 314/500\n",
            "7/7 - 0s - loss: 0.4985 - accuracy: 0.8756\n",
            "Epoch 315/500\n",
            "7/7 - 0s - loss: 0.4981 - accuracy: 0.8756\n",
            "Epoch 316/500\n",
            "7/7 - 0s - loss: 0.5111 - accuracy: 0.8653\n",
            "Epoch 317/500\n",
            "7/7 - 0s - loss: 0.5085 - accuracy: 0.8653\n",
            "Epoch 318/500\n",
            "7/7 - 0s - loss: 0.5003 - accuracy: 0.8653\n",
            "Epoch 319/500\n",
            "7/7 - 0s - loss: 0.5046 - accuracy: 0.8653\n",
            "Epoch 320/500\n",
            "7/7 - 0s - loss: 0.5217 - accuracy: 0.8705\n",
            "Epoch 321/500\n",
            "7/7 - 0s - loss: 0.5116 - accuracy: 0.8653\n",
            "Epoch 322/500\n",
            "7/7 - 0s - loss: 0.4988 - accuracy: 0.8705\n",
            "Epoch 323/500\n",
            "7/7 - 0s - loss: 0.4894 - accuracy: 0.8705\n",
            "Epoch 324/500\n",
            "7/7 - 0s - loss: 0.4852 - accuracy: 0.8653\n",
            "Epoch 325/500\n",
            "7/7 - 0s - loss: 0.4881 - accuracy: 0.8705\n",
            "Epoch 326/500\n",
            "7/7 - 0s - loss: 0.4889 - accuracy: 0.8705\n",
            "Epoch 327/500\n",
            "7/7 - 0s - loss: 0.4892 - accuracy: 0.8705\n",
            "Epoch 328/500\n",
            "7/7 - 0s - loss: 0.4842 - accuracy: 0.8756\n",
            "Epoch 329/500\n",
            "7/7 - 0s - loss: 0.4888 - accuracy: 0.8653\n",
            "Epoch 330/500\n",
            "7/7 - 0s - loss: 0.4882 - accuracy: 0.8601\n",
            "Epoch 331/500\n",
            "7/7 - 0s - loss: 0.4877 - accuracy: 0.8653\n",
            "Epoch 332/500\n",
            "7/7 - 0s - loss: 0.4834 - accuracy: 0.8601\n",
            "Epoch 333/500\n",
            "7/7 - 0s - loss: 0.4789 - accuracy: 0.8705\n",
            "Epoch 334/500\n",
            "7/7 - 0s - loss: 0.4748 - accuracy: 0.8705\n",
            "Epoch 335/500\n",
            "7/7 - 0s - loss: 0.4731 - accuracy: 0.8705\n",
            "Epoch 336/500\n",
            "7/7 - 0s - loss: 0.4699 - accuracy: 0.8705\n",
            "Epoch 337/500\n",
            "7/7 - 0s - loss: 0.4689 - accuracy: 0.8653\n",
            "Epoch 338/500\n",
            "7/7 - 0s - loss: 0.4671 - accuracy: 0.8756\n",
            "Epoch 339/500\n",
            "7/7 - 0s - loss: 0.4667 - accuracy: 0.8705\n",
            "Epoch 340/500\n",
            "7/7 - 0s - loss: 0.4650 - accuracy: 0.8705\n",
            "Epoch 341/500\n",
            "7/7 - 0s - loss: 0.4690 - accuracy: 0.8705\n",
            "Epoch 342/500\n",
            "7/7 - 0s - loss: 0.4767 - accuracy: 0.8653\n",
            "Epoch 343/500\n",
            "7/7 - 0s - loss: 0.4775 - accuracy: 0.8653\n",
            "Epoch 344/500\n",
            "7/7 - 0s - loss: 0.5246 - accuracy: 0.8653\n",
            "Epoch 345/500\n",
            "7/7 - 0s - loss: 0.5304 - accuracy: 0.8601\n",
            "Epoch 346/500\n",
            "7/7 - 0s - loss: 0.5141 - accuracy: 0.8601\n",
            "Epoch 347/500\n",
            "7/7 - 0s - loss: 0.5174 - accuracy: 0.8549\n",
            "Epoch 348/500\n",
            "7/7 - 0s - loss: 0.4957 - accuracy: 0.8653\n",
            "Epoch 349/500\n",
            "7/7 - 0s - loss: 0.4905 - accuracy: 0.8756\n",
            "Epoch 350/500\n",
            "7/7 - 0s - loss: 0.5028 - accuracy: 0.8705\n",
            "Epoch 351/500\n",
            "7/7 - 0s - loss: 0.4949 - accuracy: 0.8705\n",
            "Epoch 352/500\n",
            "7/7 - 0s - loss: 0.4846 - accuracy: 0.8756\n",
            "Epoch 353/500\n",
            "7/7 - 0s - loss: 0.4769 - accuracy: 0.8756\n",
            "Epoch 354/500\n",
            "7/7 - 0s - loss: 0.4915 - accuracy: 0.8756\n",
            "Epoch 355/500\n",
            "7/7 - 0s - loss: 0.4881 - accuracy: 0.8756\n",
            "Epoch 356/500\n",
            "7/7 - 0s - loss: 0.5009 - accuracy: 0.8756\n",
            "Epoch 357/500\n",
            "7/7 - 0s - loss: 0.5117 - accuracy: 0.8705\n",
            "Epoch 358/500\n",
            "7/7 - 0s - loss: 0.5011 - accuracy: 0.8756\n",
            "Epoch 359/500\n",
            "7/7 - 0s - loss: 0.4838 - accuracy: 0.8756\n",
            "Epoch 360/500\n",
            "7/7 - 0s - loss: 0.4731 - accuracy: 0.8756\n",
            "Epoch 361/500\n",
            "7/7 - 0s - loss: 0.4645 - accuracy: 0.8756\n",
            "Epoch 362/500\n",
            "7/7 - 0s - loss: 0.4629 - accuracy: 0.8756\n",
            "Epoch 363/500\n",
            "7/7 - 0s - loss: 0.4581 - accuracy: 0.8756\n",
            "Epoch 364/500\n",
            "7/7 - 0s - loss: 0.4576 - accuracy: 0.8756\n",
            "Epoch 365/500\n",
            "7/7 - 0s - loss: 0.4571 - accuracy: 0.8756\n",
            "Epoch 366/500\n",
            "7/7 - 0s - loss: 0.4638 - accuracy: 0.8756\n",
            "Epoch 367/500\n",
            "7/7 - 0s - loss: 0.4693 - accuracy: 0.8653\n",
            "Epoch 368/500\n",
            "7/7 - 0s - loss: 0.4882 - accuracy: 0.8601\n",
            "Epoch 369/500\n",
            "7/7 - 0s - loss: 0.4877 - accuracy: 0.8601\n",
            "Epoch 370/500\n",
            "7/7 - 0s - loss: 0.4773 - accuracy: 0.8653\n",
            "Epoch 371/500\n",
            "7/7 - 0s - loss: 0.4707 - accuracy: 0.8653\n",
            "Epoch 372/500\n",
            "7/7 - 0s - loss: 0.4639 - accuracy: 0.8653\n",
            "Epoch 373/500\n",
            "7/7 - 0s - loss: 0.4587 - accuracy: 0.8653\n",
            "Epoch 374/500\n",
            "7/7 - 0s - loss: 0.4544 - accuracy: 0.8705\n",
            "Epoch 375/500\n",
            "7/7 - 0s - loss: 0.4514 - accuracy: 0.8756\n",
            "Epoch 376/500\n",
            "7/7 - 0s - loss: 0.4489 - accuracy: 0.8756\n",
            "Epoch 377/500\n",
            "7/7 - 0s - loss: 0.4508 - accuracy: 0.8705\n",
            "Epoch 378/500\n",
            "7/7 - 0s - loss: 0.4575 - accuracy: 0.8653\n",
            "Epoch 379/500\n",
            "7/7 - 0s - loss: 0.4596 - accuracy: 0.8653\n",
            "Epoch 380/500\n",
            "7/7 - 0s - loss: 0.4556 - accuracy: 0.8653\n",
            "Epoch 381/500\n",
            "7/7 - 0s - loss: 0.4509 - accuracy: 0.8601\n",
            "Epoch 382/500\n",
            "7/7 - 0s - loss: 0.4461 - accuracy: 0.8653\n",
            "Epoch 383/500\n",
            "7/7 - 0s - loss: 0.4437 - accuracy: 0.8653\n",
            "Epoch 384/500\n",
            "7/7 - 0s - loss: 0.4411 - accuracy: 0.8756\n",
            "Epoch 385/500\n",
            "7/7 - 0s - loss: 0.4416 - accuracy: 0.8756\n",
            "Epoch 386/500\n",
            "7/7 - 0s - loss: 0.4402 - accuracy: 0.8756\n",
            "Epoch 387/500\n",
            "7/7 - 0s - loss: 0.4391 - accuracy: 0.8756\n",
            "Epoch 388/500\n",
            "7/7 - 0s - loss: 0.4369 - accuracy: 0.8756\n",
            "Epoch 389/500\n",
            "7/7 - 0s - loss: 0.4364 - accuracy: 0.8756\n",
            "Epoch 390/500\n",
            "7/7 - 0s - loss: 0.4472 - accuracy: 0.8653\n",
            "Epoch 391/500\n",
            "7/7 - 0s - loss: 0.4580 - accuracy: 0.8705\n",
            "Epoch 392/500\n",
            "7/7 - 0s - loss: 0.4694 - accuracy: 0.8705\n",
            "Epoch 393/500\n",
            "7/7 - 0s - loss: 0.4690 - accuracy: 0.8653\n",
            "Epoch 394/500\n",
            "7/7 - 0s - loss: 0.4594 - accuracy: 0.8653\n",
            "Epoch 395/500\n",
            "7/7 - 0s - loss: 0.4524 - accuracy: 0.8705\n",
            "Epoch 396/500\n",
            "7/7 - 0s - loss: 0.4464 - accuracy: 0.8808\n",
            "Epoch 397/500\n",
            "7/7 - 0s - loss: 0.4405 - accuracy: 0.8756\n",
            "Epoch 398/500\n",
            "7/7 - 0s - loss: 0.4365 - accuracy: 0.8756\n",
            "Epoch 399/500\n",
            "7/7 - 0s - loss: 0.4338 - accuracy: 0.8705\n",
            "Epoch 400/500\n",
            "7/7 - 0s - loss: 0.4319 - accuracy: 0.8705\n",
            "Epoch 401/500\n",
            "7/7 - 0s - loss: 0.4306 - accuracy: 0.8705\n",
            "Epoch 402/500\n",
            "7/7 - 0s - loss: 0.4336 - accuracy: 0.8705\n",
            "Epoch 403/500\n",
            "7/7 - 0s - loss: 0.4376 - accuracy: 0.8653\n",
            "Epoch 404/500\n",
            "7/7 - 0s - loss: 0.4420 - accuracy: 0.8653\n",
            "Epoch 405/500\n",
            "7/7 - 0s - loss: 0.4392 - accuracy: 0.8653\n",
            "Epoch 406/500\n",
            "7/7 - 0s - loss: 0.4438 - accuracy: 0.8601\n",
            "Epoch 407/500\n",
            "7/7 - 0s - loss: 0.4513 - accuracy: 0.8653\n",
            "Epoch 408/500\n",
            "7/7 - 0s - loss: 0.4568 - accuracy: 0.8653\n",
            "Epoch 409/500\n",
            "7/7 - 0s - loss: 0.4538 - accuracy: 0.8653\n",
            "Epoch 410/500\n",
            "7/7 - 0s - loss: 0.4506 - accuracy: 0.8653\n",
            "Epoch 411/500\n",
            "7/7 - 0s - loss: 0.4440 - accuracy: 0.8653\n",
            "Epoch 412/500\n",
            "7/7 - 0s - loss: 0.4397 - accuracy: 0.8756\n",
            "Epoch 413/500\n",
            "7/7 - 0s - loss: 0.4348 - accuracy: 0.8756\n",
            "Epoch 414/500\n",
            "7/7 - 0s - loss: 0.4333 - accuracy: 0.8705\n",
            "Epoch 415/500\n",
            "7/7 - 0s - loss: 0.4313 - accuracy: 0.8705\n",
            "Epoch 416/500\n",
            "7/7 - 0s - loss: 0.4287 - accuracy: 0.8705\n",
            "Epoch 417/500\n",
            "7/7 - 0s - loss: 0.4261 - accuracy: 0.8756\n",
            "Epoch 418/500\n",
            "7/7 - 0s - loss: 0.4253 - accuracy: 0.8756\n",
            "Epoch 419/500\n",
            "7/7 - 0s - loss: 0.4234 - accuracy: 0.8705\n",
            "Epoch 420/500\n",
            "7/7 - 0s - loss: 0.4215 - accuracy: 0.8756\n",
            "Epoch 421/500\n",
            "7/7 - 0s - loss: 0.4209 - accuracy: 0.8705\n",
            "Epoch 422/500\n",
            "7/7 - 0s - loss: 0.4239 - accuracy: 0.8705\n",
            "Epoch 423/500\n",
            "7/7 - 0s - loss: 0.4305 - accuracy: 0.8653\n",
            "Epoch 424/500\n",
            "7/7 - 0s - loss: 0.4343 - accuracy: 0.8653\n",
            "Epoch 425/500\n",
            "7/7 - 0s - loss: 0.4326 - accuracy: 0.8549\n",
            "Epoch 426/500\n",
            "7/7 - 0s - loss: 0.4297 - accuracy: 0.8601\n",
            "Epoch 427/500\n",
            "7/7 - 0s - loss: 0.4249 - accuracy: 0.8653\n",
            "Epoch 428/500\n",
            "7/7 - 0s - loss: 0.4229 - accuracy: 0.8653\n",
            "Epoch 429/500\n",
            "7/7 - 0s - loss: 0.4272 - accuracy: 0.8705\n",
            "Epoch 430/500\n",
            "7/7 - 0s - loss: 0.4532 - accuracy: 0.8705\n",
            "Epoch 431/500\n",
            "7/7 - 0s - loss: 0.4648 - accuracy: 0.8705\n",
            "Epoch 432/500\n",
            "7/7 - 0s - loss: 0.4554 - accuracy: 0.8705\n",
            "Epoch 433/500\n",
            "7/7 - 0s - loss: 0.4455 - accuracy: 0.8705\n",
            "Epoch 434/500\n",
            "7/7 - 0s - loss: 0.4391 - accuracy: 0.8705\n",
            "Epoch 435/500\n",
            "7/7 - 0s - loss: 0.4438 - accuracy: 0.8756\n",
            "Epoch 436/500\n",
            "7/7 - 0s - loss: 0.4633 - accuracy: 0.8756\n",
            "Epoch 437/500\n",
            "7/7 - 0s - loss: 0.4550 - accuracy: 0.8756\n",
            "Epoch 438/500\n",
            "7/7 - 0s - loss: 0.4375 - accuracy: 0.8756\n",
            "Epoch 439/500\n",
            "7/7 - 0s - loss: 0.4289 - accuracy: 0.8756\n",
            "Epoch 440/500\n",
            "7/7 - 0s - loss: 0.4219 - accuracy: 0.8756\n",
            "Epoch 441/500\n",
            "7/7 - 0s - loss: 0.4189 - accuracy: 0.8756\n",
            "Epoch 442/500\n",
            "7/7 - 0s - loss: 0.4174 - accuracy: 0.8756\n",
            "Epoch 443/500\n",
            "7/7 - 0s - loss: 0.4163 - accuracy: 0.8756\n",
            "Epoch 444/500\n",
            "7/7 - 0s - loss: 0.4156 - accuracy: 0.8756\n",
            "Epoch 445/500\n",
            "7/7 - 0s - loss: 0.4157 - accuracy: 0.8756\n",
            "Epoch 446/500\n",
            "7/7 - 0s - loss: 0.4404 - accuracy: 0.8653\n",
            "Epoch 447/500\n",
            "7/7 - 0s - loss: 0.4684 - accuracy: 0.8601\n",
            "Epoch 448/500\n",
            "7/7 - 0s - loss: 0.4458 - accuracy: 0.8756\n",
            "Epoch 449/500\n",
            "7/7 - 0s - loss: 0.4308 - accuracy: 0.8756\n",
            "Epoch 450/500\n",
            "7/7 - 0s - loss: 0.4244 - accuracy: 0.8756\n",
            "Epoch 451/500\n",
            "7/7 - 0s - loss: 0.4179 - accuracy: 0.8756\n",
            "Epoch 452/500\n",
            "7/7 - 0s - loss: 0.4164 - accuracy: 0.8756\n",
            "Epoch 453/500\n",
            "7/7 - 0s - loss: 0.4155 - accuracy: 0.8756\n",
            "Epoch 454/500\n",
            "7/7 - 0s - loss: 0.4144 - accuracy: 0.8756\n",
            "Epoch 455/500\n",
            "7/7 - 0s - loss: 0.4130 - accuracy: 0.8756\n",
            "Epoch 456/500\n",
            "7/7 - 0s - loss: 0.4119 - accuracy: 0.8756\n",
            "Epoch 457/500\n",
            "7/7 - 0s - loss: 0.4127 - accuracy: 0.8756\n",
            "Epoch 458/500\n",
            "7/7 - 0s - loss: 0.4111 - accuracy: 0.8756\n",
            "Epoch 459/500\n",
            "7/7 - 0s - loss: 0.4104 - accuracy: 0.8756\n",
            "Epoch 460/500\n",
            "7/7 - 0s - loss: 0.4104 - accuracy: 0.8756\n",
            "Epoch 461/500\n",
            "7/7 - 0s - loss: 0.4101 - accuracy: 0.8756\n",
            "Epoch 462/500\n",
            "7/7 - 0s - loss: 0.4098 - accuracy: 0.8653\n",
            "Epoch 463/500\n",
            "7/7 - 0s - loss: 0.4091 - accuracy: 0.8705\n",
            "Epoch 464/500\n",
            "7/7 - 0s - loss: 0.4086 - accuracy: 0.8756\n",
            "Epoch 465/500\n",
            "7/7 - 0s - loss: 0.4085 - accuracy: 0.8756\n",
            "Epoch 466/500\n",
            "7/7 - 0s - loss: 0.4082 - accuracy: 0.8705\n",
            "Epoch 467/500\n",
            "7/7 - 0s - loss: 0.4075 - accuracy: 0.8756\n",
            "Epoch 468/500\n",
            "7/7 - 0s - loss: 0.4071 - accuracy: 0.8756\n",
            "Epoch 469/500\n",
            "7/7 - 0s - loss: 0.4072 - accuracy: 0.8756\n",
            "Epoch 470/500\n",
            "7/7 - 0s - loss: 0.4070 - accuracy: 0.8756\n",
            "Epoch 471/500\n",
            "7/7 - 0s - loss: 0.4070 - accuracy: 0.8705\n",
            "Epoch 472/500\n",
            "7/7 - 0s - loss: 0.4062 - accuracy: 0.8756\n",
            "Epoch 473/500\n",
            "7/7 - 0s - loss: 0.4061 - accuracy: 0.8653\n",
            "Epoch 474/500\n",
            "7/7 - 0s - loss: 0.4064 - accuracy: 0.8601\n",
            "Epoch 475/500\n",
            "7/7 - 0s - loss: 0.4052 - accuracy: 0.8756\n",
            "Epoch 476/500\n",
            "7/7 - 0s - loss: 0.4053 - accuracy: 0.8756\n",
            "Epoch 477/500\n",
            "7/7 - 0s - loss: 0.4054 - accuracy: 0.8756\n",
            "Epoch 478/500\n",
            "7/7 - 0s - loss: 0.4053 - accuracy: 0.8705\n",
            "Epoch 479/500\n",
            "7/7 - 0s - loss: 0.4051 - accuracy: 0.8756\n",
            "Epoch 480/500\n",
            "7/7 - 0s - loss: 0.4057 - accuracy: 0.8756\n",
            "Epoch 481/500\n",
            "7/7 - 0s - loss: 0.4098 - accuracy: 0.8601\n",
            "Epoch 482/500\n",
            "7/7 - 0s - loss: 0.4182 - accuracy: 0.8653\n",
            "Epoch 483/500\n",
            "7/7 - 0s - loss: 0.4208 - accuracy: 0.8653\n",
            "Epoch 484/500\n",
            "7/7 - 0s - loss: 0.4182 - accuracy: 0.8653\n",
            "Epoch 485/500\n",
            "7/7 - 0s - loss: 0.4145 - accuracy: 0.8601\n",
            "Epoch 486/500\n",
            "7/7 - 0s - loss: 0.4109 - accuracy: 0.8601\n",
            "Epoch 487/500\n",
            "7/7 - 0s - loss: 0.4153 - accuracy: 0.8601\n",
            "Epoch 488/500\n",
            "7/7 - 0s - loss: 0.4189 - accuracy: 0.8653\n",
            "Epoch 489/500\n",
            "7/7 - 0s - loss: 0.4258 - accuracy: 0.8653\n",
            "Epoch 490/500\n",
            "7/7 - 0s - loss: 0.4207 - accuracy: 0.8653\n",
            "Epoch 491/500\n",
            "7/7 - 0s - loss: 0.4141 - accuracy: 0.8653\n",
            "Epoch 492/500\n",
            "7/7 - 0s - loss: 0.4110 - accuracy: 0.8653\n",
            "Epoch 493/500\n",
            "7/7 - 0s - loss: 0.4078 - accuracy: 0.8756\n",
            "Epoch 494/500\n",
            "7/7 - 0s - loss: 0.4062 - accuracy: 0.8756\n",
            "Epoch 495/500\n",
            "7/7 - 0s - loss: 0.4042 - accuracy: 0.8705\n",
            "Epoch 496/500\n",
            "7/7 - 0s - loss: 0.4036 - accuracy: 0.8705\n",
            "Epoch 497/500\n",
            "7/7 - 0s - loss: 0.4026 - accuracy: 0.8756\n",
            "Epoch 498/500\n",
            "7/7 - 0s - loss: 0.4024 - accuracy: 0.8756\n",
            "Epoch 499/500\n",
            "7/7 - 0s - loss: 0.4024 - accuracy: 0.8756\n",
            "Epoch 500/500\n",
            "7/7 - 0s - loss: 0.4019 - accuracy: 0.8705\n"
          ],
          "name": "stdout"
        },
        {
          "output_type": "execute_result",
          "data": {
            "text/plain": [
              "<tensorflow.python.keras.callbacks.History at 0x7f746892c208>"
            ]
          },
          "metadata": {
            "tags": []
          },
          "execution_count": 83
        }
      ]
    },
    {
      "cell_type": "code",
      "metadata": {
        "id": "NpBHQ3-fO3DZ",
        "colab_type": "code",
        "colab": {}
      },
      "source": [
        "import matplotlib.pyplot as plt\n",
        "def plot_graphs(history,string):\n",
        "  plt.plot(history.history[string])\n",
        "  plt.xlabel(\"epoch\")\n",
        "  plt.ylabel(string)\n",
        "  plt.show()\n"
      ],
      "execution_count": null,
      "outputs": []
    },
    {
      "cell_type": "code",
      "metadata": {
        "id": "Al8lkRpsPOTw",
        "colab_type": "code",
        "colab": {
          "base_uri": "https://localhost:8080/",
          "height": 163
        },
        "outputId": "d55e1bfa-e0e6-4f98-a6ba-9a3d2f93f1ea"
      },
      "source": [
        "plot_graphs(history,\"accuracy\")"
      ],
      "execution_count": null,
      "outputs": [
        {
          "output_type": "error",
          "ename": "NameError",
          "evalue": "ignored",
          "traceback": [
            "\u001b[0;31m---------------------------------------------------------------------------\u001b[0m",
            "\u001b[0;31mNameError\u001b[0m                                 Traceback (most recent call last)",
            "\u001b[0;32m<ipython-input-85-87b50ecaee35>\u001b[0m in \u001b[0;36m<module>\u001b[0;34m()\u001b[0m\n\u001b[0;32m----> 1\u001b[0;31m \u001b[0mplot_graphs\u001b[0m\u001b[0;34m(\u001b[0m\u001b[0mhistory\u001b[0m\u001b[0;34m,\u001b[0m\u001b[0;34m\"accuracy\"\u001b[0m\u001b[0;34m)\u001b[0m\u001b[0;34m\u001b[0m\u001b[0;34m\u001b[0m\u001b[0m\n\u001b[0m",
            "\u001b[0;31mNameError\u001b[0m: name 'history' is not defined"
          ]
        }
      ]
    },
    {
      "cell_type": "code",
      "metadata": {
        "id": "W5mOI0XtPsI4",
        "colab_type": "code",
        "colab": {}
      },
      "source": [
        "seed_text = \"battered away till\"\n",
        "next_words = 100\n",
        "\n",
        "for _ in range(next_words):\n",
        "  token_list = tokenizer.texts_to_sequences([seed_text])[0]\n",
        "  token_list = pad_sequences([token_list],maxlen=max_seq_len-1,padding='pre')\n",
        "  predicted = model.predict_classes(token_list,verbose=1)\n",
        "  output_word = \"\"\n",
        "  for word,index in tokenizer.word_index.items():\n",
        "    if index == predicted:\n",
        "      output_word = word\n",
        "      break\n",
        "  seed_text += \"\" + output_word\n",
        "print(seed_text)\n"
      ],
      "execution_count": null,
      "outputs": []
    },
    {
      "cell_type": "code",
      "metadata": {
        "id": "ehY-PrSWSPTq",
        "colab_type": "code",
        "colab": {
          "base_uri": "https://localhost:8080/",
          "height": 204
        },
        "outputId": "8fe1498c-131e-4765-99b2-5483be09814d"
      },
      "source": [
        "!wget --no-check-certificate \\\n",
        "    https://storage.googleapis.com/laurencemoroney-blog.appspot.com/sonnets.txt \\\n",
        "    -O /tmp/sonnets.txt"
      ],
      "execution_count": null,
      "outputs": [
        {
          "output_type": "stream",
          "text": [
            "--2020-05-22 03:07:13--  https://storage.googleapis.com/laurencemoroney-blog.appspot.com/sonnets.txt\n",
            "Resolving storage.googleapis.com (storage.googleapis.com)... 173.194.216.128, 2607:f8b0:400c:c0b::80\n",
            "Connecting to storage.googleapis.com (storage.googleapis.com)|173.194.216.128|:443... connected.\n",
            "HTTP request sent, awaiting response... 200 OK\n",
            "Length: 93578 (91K) [text/plain]\n",
            "Saving to: ‘/tmp/sonnets.txt’\n",
            "\n",
            "\r/tmp/sonnets.txt      0%[                    ]       0  --.-KB/s               \r/tmp/sonnets.txt    100%[===================>]  91.38K  --.-KB/s    in 0.001s  \n",
            "\n",
            "2020-05-22 03:07:14 (103 MB/s) - ‘/tmp/sonnets.txt’ saved [93578/93578]\n",
            "\n"
          ],
          "name": "stdout"
        }
      ]
    },
    {
      "cell_type": "code",
      "metadata": {
        "id": "t9Tcis30dXbR",
        "colab_type": "code",
        "colab": {}
      },
      "source": [
        "data = open('/tmp/sonnets.txt').read()"
      ],
      "execution_count": null,
      "outputs": []
    },
    {
      "cell_type": "code",
      "metadata": {
        "id": "Vdc4dL7ldg5l",
        "colab_type": "code",
        "colab": {}
      },
      "source": [
        "corpus = data.lower().split('\\n')"
      ],
      "execution_count": null,
      "outputs": []
    },
    {
      "cell_type": "code",
      "metadata": {
        "id": "FkjdUaUcdh08",
        "colab_type": "code",
        "colab": {}
      },
      "source": [
        "tokenizer = Tokenizer()\n",
        "tokenizer.fit_on_texts(corpus)"
      ],
      "execution_count": null,
      "outputs": []
    },
    {
      "cell_type": "code",
      "metadata": {
        "id": "IHDOZMioeXyN",
        "colab_type": "code",
        "colab": {}
      },
      "source": [
        "total_words= len(tokenizer.word_index)+1"
      ],
      "execution_count": null,
      "outputs": []
    },
    {
      "cell_type": "code",
      "metadata": {
        "id": "IZEWNrtwecM8",
        "colab_type": "code",
        "colab": {}
      },
      "source": [
        "input_sequences = []\n",
        "for line in corpus:\n",
        "\ttoken_list = tokenizer.texts_to_sequences([line])[0]\n",
        "\tfor i in range(1, len(token_list)):\n",
        "\t\tn_gram_sequence = token_list[:i+1]\n",
        "\t\tinput_sequences.append(n_gram_sequence)"
      ],
      "execution_count": null,
      "outputs": []
    },
    {
      "cell_type": "code",
      "metadata": {
        "id": "Zvm2Jfz3ehVa",
        "colab_type": "code",
        "colab": {}
      },
      "source": [
        "max_sequence_len = max([len(x) for x in input_sequences])\n",
        "input_sequences = np.array(pad_sequences(input_sequences, maxlen=max_sequence_len, padding='pre'))"
      ],
      "execution_count": null,
      "outputs": []
    },
    {
      "cell_type": "code",
      "metadata": {
        "id": "7C_PdOm7enDU",
        "colab_type": "code",
        "colab": {}
      },
      "source": [
        "predictors, label = input_sequences[:,:-1],input_sequences[:,-1]\n",
        "\n",
        "label = tf.keras.utils.to_categorical(label, num_classes=total_words)"
      ],
      "execution_count": null,
      "outputs": []
    },
    {
      "cell_type": "code",
      "metadata": {
        "id": "1I57mgKigTTp",
        "colab_type": "code",
        "colab": {}
      },
      "source": [
        "from tensorflow.keras import regularizers\n",
        "model = tf.keras.Sequential([\n",
        "                             tf.keras.layers.Embedding(total_words,100,input_length=max_sequence_len-1),\n",
        "                             tf.keras.layers.Bidirectional(tf.keras.layers.LSTM(150,return_sequences=True)),\n",
        "                             tf.keras.layers.Dropout(0.2),\n",
        "                             tf.keras.layers.LSTM(100),\n",
        "                             tf.keras.layers.Dense(total_words/2, activation='relu', kernel_regularizer=regularizers.l2(0.01)),\n",
        "                             tf.keras.layers.Dense(total_words, activation='softmax')])"
      ],
      "execution_count": null,
      "outputs": []
    },
    {
      "cell_type": "code",
      "metadata": {
        "id": "KfKaPkOehIBT",
        "colab_type": "code",
        "colab": {
          "base_uri": "https://localhost:8080/",
          "height": 374
        },
        "outputId": "bb8e4582-d90c-4ca0-9183-0da3d0b0f017"
      },
      "source": [
        "model.compile(loss='categorical_crossentropy', optimizer='adam', metrics=['accuracy'])\n",
        "print(model.summary())"
      ],
      "execution_count": null,
      "outputs": [
        {
          "output_type": "stream",
          "text": [
            "Model: \"sequential_1\"\n",
            "_________________________________________________________________\n",
            "Layer (type)                 Output Shape              Param #   \n",
            "=================================================================\n",
            "embedding_1 (Embedding)      (None, 10, 100)           321100    \n",
            "_________________________________________________________________\n",
            "bidirectional_1 (Bidirection (None, 10, 300)           301200    \n",
            "_________________________________________________________________\n",
            "dropout (Dropout)            (None, 10, 300)           0         \n",
            "_________________________________________________________________\n",
            "lstm_2 (LSTM)                (None, 100)               160400    \n",
            "_________________________________________________________________\n",
            "dense_2 (Dense)              (None, 1605)              162105    \n",
            "_________________________________________________________________\n",
            "dense_3 (Dense)              (None, 3211)              5156866   \n",
            "=================================================================\n",
            "Total params: 6,101,671\n",
            "Trainable params: 6,101,671\n",
            "Non-trainable params: 0\n",
            "_________________________________________________________________\n",
            "None\n"
          ],
          "name": "stdout"
        }
      ]
    },
    {
      "cell_type": "code",
      "metadata": {
        "id": "QRBaN9mnhmVv",
        "colab_type": "code",
        "colab": {
          "base_uri": "https://localhost:8080/",
          "height": 1000
        },
        "outputId": "3b387b15-7b06-4eec-ee64-db916b181c08"
      },
      "source": [
        "history = model.fit(predictors, label, epochs=100, verbose=1)"
      ],
      "execution_count": null,
      "outputs": [
        {
          "output_type": "stream",
          "text": [
            "Epoch 1/100\n",
            "484/484 [==============================] - 52s 107ms/step - loss: 6.9020 - accuracy: 0.0223\n",
            "Epoch 2/100\n",
            "484/484 [==============================] - 52s 107ms/step - loss: 6.4972 - accuracy: 0.0229\n",
            "Epoch 3/100\n",
            "484/484 [==============================] - 51s 106ms/step - loss: 6.3909 - accuracy: 0.0275\n",
            "Epoch 4/100\n",
            "484/484 [==============================] - 51s 106ms/step - loss: 6.2650 - accuracy: 0.0314\n",
            "Epoch 5/100\n",
            "484/484 [==============================] - 51s 106ms/step - loss: 6.1759 - accuracy: 0.0365\n",
            "Epoch 6/100\n",
            "484/484 [==============================] - 51s 106ms/step - loss: 6.0952 - accuracy: 0.0382\n",
            "Epoch 7/100\n",
            "484/484 [==============================] - 52s 107ms/step - loss: 6.0190 - accuracy: 0.0417\n",
            "Epoch 8/100\n",
            "484/484 [==============================] - 52s 107ms/step - loss: 5.9331 - accuracy: 0.0457\n",
            "Epoch 9/100\n",
            "484/484 [==============================] - 51s 105ms/step - loss: 5.8421 - accuracy: 0.0510\n",
            "Epoch 10/100\n",
            "484/484 [==============================] - 51s 105ms/step - loss: 5.7338 - accuracy: 0.0585\n",
            "Epoch 11/100\n",
            "484/484 [==============================] - 51s 105ms/step - loss: 5.6209 - accuracy: 0.0650\n",
            "Epoch 12/100\n",
            "484/484 [==============================] - 51s 105ms/step - loss: 5.5130 - accuracy: 0.0713\n",
            "Epoch 13/100\n",
            "484/484 [==============================] - 51s 106ms/step - loss: 5.4167 - accuracy: 0.0754\n",
            "Epoch 14/100\n",
            "484/484 [==============================] - 51s 106ms/step - loss: 5.3101 - accuracy: 0.0805\n",
            "Epoch 15/100\n",
            "484/484 [==============================] - 51s 105ms/step - loss: 5.2045 - accuracy: 0.0896\n",
            "Epoch 16/100\n",
            "484/484 [==============================] - 51s 106ms/step - loss: 5.1055 - accuracy: 0.0947\n",
            "Epoch 17/100\n",
            "484/484 [==============================] - 51s 106ms/step - loss: 4.9992 - accuracy: 0.1036\n",
            "Epoch 18/100\n",
            "484/484 [==============================] - 51s 106ms/step - loss: 4.8934 - accuracy: 0.1117\n",
            "Epoch 19/100\n",
            "484/484 [==============================] - 51s 106ms/step - loss: 4.7935 - accuracy: 0.1184\n",
            "Epoch 20/100\n",
            "484/484 [==============================] - 52s 107ms/step - loss: 4.6896 - accuracy: 0.1310\n",
            "Epoch 21/100\n",
            "484/484 [==============================] - 51s 106ms/step - loss: 4.5864 - accuracy: 0.1387\n",
            "Epoch 22/100\n",
            "484/484 [==============================] - 51s 106ms/step - loss: 4.4836 - accuracy: 0.1502\n",
            "Epoch 23/100\n",
            "484/484 [==============================] - 51s 106ms/step - loss: 4.3823 - accuracy: 0.1617\n",
            "Epoch 24/100\n",
            "484/484 [==============================] - 56s 115ms/step - loss: 4.2825 - accuracy: 0.1709\n",
            "Epoch 25/100\n",
            "484/484 [==============================] - 58s 120ms/step - loss: 4.1733 - accuracy: 0.1841\n",
            "Epoch 26/100\n",
            "484/484 [==============================] - 56s 115ms/step - loss: 4.0739 - accuracy: 0.1971\n",
            "Epoch 27/100\n",
            "484/484 [==============================] - 54s 111ms/step - loss: 3.9766 - accuracy: 0.2125\n",
            "Epoch 28/100\n",
            "484/484 [==============================] - 55s 114ms/step - loss: 3.8750 - accuracy: 0.2315\n",
            "Epoch 29/100\n",
            "484/484 [==============================] - 57s 119ms/step - loss: 3.7765 - accuracy: 0.2485\n",
            "Epoch 30/100\n",
            "484/484 [==============================] - 54s 112ms/step - loss: 3.6899 - accuracy: 0.2661\n",
            "Epoch 31/100\n",
            "484/484 [==============================] - 51s 106ms/step - loss: 3.5999 - accuracy: 0.2768\n",
            "Epoch 32/100\n",
            "484/484 [==============================] - 51s 106ms/step - loss: 3.5070 - accuracy: 0.2980\n",
            "Epoch 33/100\n",
            "484/484 [==============================] - 53s 109ms/step - loss: 3.4151 - accuracy: 0.3212\n",
            "Epoch 34/100\n",
            "484/484 [==============================] - 54s 111ms/step - loss: 3.3322 - accuracy: 0.3376\n",
            "Epoch 35/100\n",
            "484/484 [==============================] - 57s 119ms/step - loss: 3.2499 - accuracy: 0.3549\n",
            "Epoch 36/100\n",
            "484/484 [==============================] - 62s 129ms/step - loss: 3.1780 - accuracy: 0.3667\n",
            "Epoch 37/100\n",
            "484/484 [==============================] - 60s 124ms/step - loss: 3.1029 - accuracy: 0.3880\n",
            "Epoch 38/100\n",
            "484/484 [==============================] - 51s 106ms/step - loss: 3.0366 - accuracy: 0.4034\n",
            "Epoch 39/100\n",
            "484/484 [==============================] - 52s 106ms/step - loss: 2.9663 - accuracy: 0.4144\n",
            "Epoch 40/100\n",
            "484/484 [==============================] - 51s 106ms/step - loss: 2.8907 - accuracy: 0.4388\n",
            "Epoch 41/100\n",
            "484/484 [==============================] - 51s 106ms/step - loss: 2.8196 - accuracy: 0.4520\n",
            "Epoch 42/100\n",
            "484/484 [==============================] - 51s 106ms/step - loss: 2.7698 - accuracy: 0.4611\n",
            "Epoch 43/100\n",
            "484/484 [==============================] - 52s 107ms/step - loss: 2.6948 - accuracy: 0.4842\n",
            "Epoch 44/100\n",
            "484/484 [==============================] - 51s 106ms/step - loss: 2.6365 - accuracy: 0.4967\n",
            "Epoch 45/100\n",
            "484/484 [==============================] - 51s 106ms/step - loss: 2.5860 - accuracy: 0.5034\n",
            "Epoch 46/100\n",
            "484/484 [==============================] - 52s 106ms/step - loss: 2.5291 - accuracy: 0.5188\n",
            "Epoch 47/100\n",
            "484/484 [==============================] - 54s 111ms/step - loss: 2.4732 - accuracy: 0.5318\n",
            "Epoch 48/100\n",
            "484/484 [==============================] - 54s 113ms/step - loss: 2.4123 - accuracy: 0.5447\n",
            "Epoch 49/100\n",
            "484/484 [==============================] - 51s 106ms/step - loss: 2.3658 - accuracy: 0.5563\n",
            "Epoch 50/100\n",
            "484/484 [==============================] - 51s 106ms/step - loss: 2.3099 - accuracy: 0.5664\n",
            "Epoch 51/100\n",
            "484/484 [==============================] - 51s 106ms/step - loss: 2.2703 - accuracy: 0.5758\n",
            "Epoch 52/100\n",
            "484/484 [==============================] - 51s 106ms/step - loss: 2.2151 - accuracy: 0.5922\n",
            "Epoch 53/100\n",
            "484/484 [==============================] - 52s 107ms/step - loss: 2.1925 - accuracy: 0.5897\n",
            "Epoch 54/100\n",
            "484/484 [==============================] - 52s 107ms/step - loss: 2.1428 - accuracy: 0.6058\n",
            "Epoch 55/100\n",
            "484/484 [==============================] - 52s 107ms/step - loss: 2.0967 - accuracy: 0.6163\n",
            "Epoch 56/100\n",
            "484/484 [==============================] - 52s 107ms/step - loss: 2.0464 - accuracy: 0.6247\n",
            "Epoch 57/100\n",
            "484/484 [==============================] - 52s 106ms/step - loss: 2.0193 - accuracy: 0.6341\n",
            "Epoch 58/100\n",
            "484/484 [==============================] - 52s 107ms/step - loss: 1.9810 - accuracy: 0.6409\n",
            "Epoch 59/100\n",
            "484/484 [==============================] - 58s 119ms/step - loss: 1.9579 - accuracy: 0.6457\n",
            "Epoch 60/100\n",
            "484/484 [==============================] - 52s 107ms/step - loss: 1.8993 - accuracy: 0.6574\n",
            "Epoch 61/100\n",
            "484/484 [==============================] - 52s 107ms/step - loss: 1.8627 - accuracy: 0.6653\n",
            "Epoch 62/100\n",
            "484/484 [==============================] - 52s 107ms/step - loss: 1.8411 - accuracy: 0.6738\n",
            "Epoch 63/100\n",
            "484/484 [==============================] - 51s 106ms/step - loss: 1.8160 - accuracy: 0.6762\n",
            "Epoch 64/100\n",
            "484/484 [==============================] - 51s 106ms/step - loss: 1.7808 - accuracy: 0.6860\n",
            "Epoch 65/100\n",
            "484/484 [==============================] - 51s 106ms/step - loss: 1.7684 - accuracy: 0.6863\n",
            "Epoch 66/100\n",
            "484/484 [==============================] - 51s 106ms/step - loss: 1.7135 - accuracy: 0.6973\n",
            "Epoch 67/100\n",
            "484/484 [==============================] - 51s 105ms/step - loss: 1.6857 - accuracy: 0.7028\n",
            "Epoch 68/100\n",
            "484/484 [==============================] - 51s 106ms/step - loss: 1.6651 - accuracy: 0.7059\n",
            "Epoch 69/100\n",
            "484/484 [==============================] - 51s 106ms/step - loss: 1.6490 - accuracy: 0.7094\n",
            "Epoch 70/100\n",
            "484/484 [==============================] - 51s 105ms/step - loss: 1.6153 - accuracy: 0.7171\n",
            "Epoch 71/100\n",
            "484/484 [==============================] - 51s 106ms/step - loss: 1.5812 - accuracy: 0.7258\n",
            "Epoch 72/100\n",
            "484/484 [==============================] - 51s 106ms/step - loss: 1.5643 - accuracy: 0.7249\n",
            "Epoch 73/100\n",
            "484/484 [==============================] - 51s 106ms/step - loss: 1.5456 - accuracy: 0.7308\n",
            "Epoch 74/100\n",
            "484/484 [==============================] - 51s 106ms/step - loss: 1.5241 - accuracy: 0.7333\n",
            "Epoch 75/100\n",
            "484/484 [==============================] - 51s 106ms/step - loss: 1.5045 - accuracy: 0.7385\n",
            "Epoch 76/100\n",
            "484/484 [==============================] - 51s 106ms/step - loss: 1.4872 - accuracy: 0.7378\n",
            "Epoch 77/100\n",
            "484/484 [==============================] - 51s 106ms/step - loss: 1.4643 - accuracy: 0.7478\n",
            "Epoch 78/100\n",
            "484/484 [==============================] - 52s 106ms/step - loss: 1.4519 - accuracy: 0.7473\n",
            "Epoch 79/100\n",
            "484/484 [==============================] - 52s 107ms/step - loss: 1.4241 - accuracy: 0.7560\n",
            "Epoch 80/100\n",
            "484/484 [==============================] - 51s 106ms/step - loss: 1.4285 - accuracy: 0.7491\n",
            "Epoch 81/100\n",
            "484/484 [==============================] - 51s 106ms/step - loss: 1.3959 - accuracy: 0.7595\n",
            "Epoch 82/100\n",
            "484/484 [==============================] - 51s 106ms/step - loss: 1.3664 - accuracy: 0.7667\n",
            "Epoch 83/100\n",
            "484/484 [==============================] - 51s 106ms/step - loss: 1.3482 - accuracy: 0.7696\n",
            "Epoch 84/100\n",
            "484/484 [==============================] - 51s 106ms/step - loss: 1.3398 - accuracy: 0.7680\n",
            "Epoch 85/100\n",
            "484/484 [==============================] - 52s 106ms/step - loss: 1.3240 - accuracy: 0.7740\n",
            "Epoch 86/100\n",
            "484/484 [==============================] - 51s 106ms/step - loss: 1.3216 - accuracy: 0.7711\n",
            "Epoch 87/100\n",
            "484/484 [==============================] - 51s 105ms/step - loss: 1.2976 - accuracy: 0.7764\n",
            "Epoch 88/100\n",
            "484/484 [==============================] - 51s 106ms/step - loss: 1.2820 - accuracy: 0.7802\n",
            "Epoch 89/100\n",
            "484/484 [==============================] - 51s 106ms/step - loss: 1.2743 - accuracy: 0.7791\n",
            "Epoch 90/100\n",
            "484/484 [==============================] - 51s 105ms/step - loss: 1.2614 - accuracy: 0.7839\n",
            "Epoch 91/100\n",
            "484/484 [==============================] - 51s 106ms/step - loss: 1.2419 - accuracy: 0.7862\n",
            "Epoch 92/100\n",
            "484/484 [==============================] - 51s 105ms/step - loss: 1.2292 - accuracy: 0.7890\n",
            "Epoch 93/100\n",
            "484/484 [==============================] - 51s 105ms/step - loss: 1.2167 - accuracy: 0.7919\n",
            "Epoch 94/100\n",
            "484/484 [==============================] - 51s 105ms/step - loss: 1.2126 - accuracy: 0.7902\n",
            "Epoch 95/100\n",
            "484/484 [==============================] - 51s 105ms/step - loss: 1.2056 - accuracy: 0.7927\n",
            "Epoch 96/100\n",
            "484/484 [==============================] - 51s 106ms/step - loss: 1.1895 - accuracy: 0.7945\n",
            "Epoch 97/100\n",
            "484/484 [==============================] - 51s 106ms/step - loss: 1.1792 - accuracy: 0.7978\n",
            "Epoch 98/100\n",
            "484/484 [==============================] - 51s 105ms/step - loss: 1.1786 - accuracy: 0.7930\n",
            "Epoch 99/100\n",
            "484/484 [==============================] - 51s 105ms/step - loss: 1.1577 - accuracy: 0.7996\n",
            "Epoch 100/100\n",
            "484/484 [==============================] - 51s 105ms/step - loss: 1.1446 - accuracy: 0.8037\n"
          ],
          "name": "stdout"
        }
      ]
    },
    {
      "cell_type": "code",
      "metadata": {
        "id": "J6r_swdEhpXb",
        "colab_type": "code",
        "colab": {
          "base_uri": "https://localhost:8080/",
          "height": 545
        },
        "outputId": "2d2b7685-c796-44da-c3b0-7a57f593da9e"
      },
      "source": [
        "import matplotlib.pyplot as plt\n",
        "acc = history.history['accuracy']\n",
        "loss = history.history['loss']\n",
        "\n",
        "epochs = range(len(acc))\n",
        "\n",
        "plt.plot(epochs, acc, 'b', label='Training accuracy')\n",
        "plt.title('Training accuracy')\n",
        "\n",
        "plt.figure()\n",
        "\n",
        "plt.plot(epochs, loss, 'b', label='Training Loss')\n",
        "plt.title('Training loss')\n",
        "plt.legend()\n",
        "\n",
        "plt.show()"
      ],
      "execution_count": null,
      "outputs": [
        {
          "output_type": "display_data",
          "data": {
            "image/png": "[encoded data removed]",
            "text/plain": [
              "<Figure size 432x288 with 1 Axes>"
            ]
          },
          "metadata": {
            "tags": [],
            "needs_background": "light"
          }
        },
        {
          "output_type": "display_data",
          "data": {
            "image/png": "[encoded data removed]",
            "text/plain": [
              "<Figure size 432x288 with 1 Axes>"
            ]
          },
          "metadata": {
            "tags": [],
            "needs_background": "light"
          }
        }
      ]
    },
    {
      "cell_type": "code",
      "metadata": {
        "id": "WYqd3aaSkfO3",
        "colab_type": "code",
        "colab": {
          "base_uri": "https://localhost:8080/",
          "height": 105
        },
        "outputId": "fd185168-ec86-442d-c1fa-369c43c31989"
      },
      "source": [
        "seed_text = \"Help me Obi Wan Kenobi, you're my only hope\"\n",
        "next_words = 100\n",
        "  \n",
        "for _ in range(next_words):\n",
        "\ttoken_list = tokenizer.texts_to_sequences([seed_text])[0]\n",
        "\ttoken_list = pad_sequences([token_list], maxlen=max_sequence_len-1, padding='pre')\n",
        "\tpredicted = model.predict_classes(token_list, verbose=0)\n",
        "\toutput_word = \"\"\n",
        "\tfor word, index in tokenizer.word_index.items():\n",
        "\t\tif index == predicted:\n",
        "\t\t\toutput_word = word\n",
        "\t\t\tbreak\n",
        "\tseed_text += \" \" + output_word\n",
        "print(seed_text)"
      ],
      "execution_count": null,
      "outputs": [
        {
          "output_type": "stream",
          "text": [
            "WARNING:tensorflow:From <ipython-input-99-622d307fa19a>:7: Sequential.predict_classes (from tensorflow.python.keras.engine.sequential) is deprecated and will be removed after 2021-01-01.\n",
            "Instructions for updating:\n",
            "Please use instead:* `np.argmax(model.predict(x), axis=-1)`,   if your model does multi-class classification   (e.g. if it uses a `softmax` last-layer activation).* `(model.predict(x) > 0.5).astype(\"int32\")`,   if your model does binary classification   (e.g. if it uses a `sigmoid` last-layer activation).\n",
            "Help me Obi Wan Kenobi, you're my only hope set him to mow back away his place away thee me so shown seen bring forth shame alone none seem before seem truth and make thine hue kings young men control thee in their way place alone find me hast her near forsworn to thee worms him see fullness bright bad back in doubt ye ye doth win his glory decrease forth compounds strange height 'tis decay decay torn torn decay another crime ride bow torn rage doth ride light light light forth forth ghastly night did scope in injury ' to go about up gems woe grow cold long\n"
          ],
          "name": "stdout"
        }
      ]
    },
    {
      "cell_type": "code",
      "metadata": {
        "id": "Ow6_V4LLkh-K",
        "colab_type": "code",
        "colab": {}
      },
      "source": [
        ""
      ],
      "execution_count": null,
      "outputs": []
    },
    {
      "cell_type": "markdown",
      "metadata": {
        "id": "_IJy8WrgKTSq",
        "colab_type": "text"
      },
      "source": [
        "# Time series"
      ]
    },
    {
      "cell_type": "code",
      "metadata": {
        "id": "ece3RPSmg7gG",
        "colab_type": "code",
        "colab": {}
      },
      "source": [
        "def plot_series(time, series, format=\"-\", start=0, end=None):\n",
        "    plt.plot(time[start:end], series[start:end], format)\n",
        "    plt.xlabel(\"Time\")\n",
        "    plt.ylabel(\"Value\")\n",
        "    plt.grid(True)\n",
        "\n",
        "def trend(time, slope=0):\n",
        "    return slope * time\n",
        "\n",
        "def seasonal_pattern(season_time):\n",
        "    \"\"\"Just an arbitrary pattern, you can change it if you wish\"\"\"\n",
        "    return np.where(season_time < 0.4,\n",
        "                    np.cos(season_time * 2 * np.pi),\n",
        "                    1 / np.exp(3 * season_time))\n",
        "\n",
        "def seasonality(time, period, amplitude=1, phase=0):\n",
        "    \"\"\"Repeats the same pattern at each period\"\"\"\n",
        "    season_time = ((time + phase) % period) / period\n",
        "    return amplitude * seasonal_pattern(season_time)\n",
        "\n",
        "def noise(time, noise_level=1, seed=None):\n",
        "    rnd = np.random.RandomState(seed)\n",
        "    return rnd.randn(len(time)) * noise_level\n",
        "\n",
        "time = np.arange(4 * 365 + 1, dtype=\"float32\")\n",
        "baseline = 10\n",
        "series = trend(time, 0.1)  \n",
        "baseline = 10\n",
        "amplitude = 40\n",
        "slope = 0.05\n",
        "noise_level = 5\n",
        "\n",
        "# Create the series\n",
        "series = baseline + trend(time, slope) + seasonality(time, period=365, amplitude=amplitude)\n",
        "# Update with noise\n",
        "series += noise(time, noise_level, seed=42)"
      ],
      "execution_count": null,
      "outputs": []
    },
    {
      "cell_type": "code",
      "metadata": {
        "id": "SzbOKdZ7hT0B",
        "colab_type": "code",
        "colab": {}
      },
      "source": [
        "split_time = 1000\n",
        "time_train = time[:split_time]\n",
        "x_train = series[:split_time]\n",
        "time_valid = time[split_time:]\n",
        "x_valid = series[split_time:]"
      ],
      "execution_count": null,
      "outputs": []
    },
    {
      "cell_type": "code",
      "metadata": {
        "id": "G_XmAdOpKYkX",
        "colab_type": "code",
        "colab": {}
      },
      "source": [
        "import tensorflow as tf\n",
        "import numpy as np\n",
        "import matplotlib.pyplot as plt\n"
      ],
      "execution_count": null,
      "outputs": []
    },
    {
      "cell_type": "code",
      "metadata": {
        "id": "iUU2vz9PK9lw",
        "colab_type": "code",
        "colab": {
          "base_uri": "https://localhost:8080/",
          "height": 119
        },
        "outputId": "6d5ebee0-daf4-4ba8-d93f-4878c7d6dc4c"
      },
      "source": [
        "dataset = tf.data.Dataset.range(10)\n",
        "dataset = dataset.window(5,shift=1,drop_remainder=True)\n",
        "for windowset in dataset:\n",
        "  for val in windowset:\n",
        "    print(val.numpy(),end = \" \")\n",
        "  print()"
      ],
      "execution_count": null,
      "outputs": [
        {
          "output_type": "stream",
          "text": [
            "0 1 2 3 4 \n",
            "1 2 3 4 5 \n",
            "2 3 4 5 6 \n",
            "3 4 5 6 7 \n",
            "4 5 6 7 8 \n",
            "5 6 7 8 9 \n"
          ],
          "name": "stdout"
        }
      ]
    },
    {
      "cell_type": "code",
      "metadata": {
        "id": "rFYq5oakLgce",
        "colab_type": "code",
        "colab": {
          "base_uri": "https://localhost:8080/",
          "height": 221
        },
        "outputId": "3694dbc4-e83a-4e5f-aa97-f96e525a8bdd"
      },
      "source": [
        "dataset = tf.data.Dataset.range(10)\n",
        "dataset = dataset.window(5,shift = 1,drop_remainder=True)\n",
        "#\n",
        "dataset = dataset.flat_map(lambda window:window.batch(5))\n",
        "#\n",
        "dataset = dataset.map(lambda window:(window[:-1],window[-1:]))\n",
        "#\n",
        "dataset = dataset.shuffle(buffer_size=10)\n",
        "#\n",
        "dataset = dataset.batch(2).prefetch(1)\n",
        "# for window in dataset:\n",
        "#   print(window.numpy())\n",
        "\n",
        "for x,y in dataset:\n",
        "  print(\"x = \",x.numpy())\n",
        "  print(\"y = \",y.numpy())"
      ],
      "execution_count": null,
      "outputs": [
        {
          "output_type": "stream",
          "text": [
            "x =  [[4 5 6 7]\n",
            " [2 3 4 5]]\n",
            "y =  [[8]\n",
            " [6]]\n",
            "x =  [[5 6 7 8]\n",
            " [1 2 3 4]]\n",
            "y =  [[9]\n",
            " [5]]\n",
            "x =  [[0 1 2 3]\n",
            " [3 4 5 6]]\n",
            "y =  [[4]\n",
            " [7]]\n"
          ],
          "name": "stdout"
        }
      ]
    },
    {
      "cell_type": "code",
      "metadata": {
        "id": "ROwPB4fcOUBf",
        "colab_type": "code",
        "colab": {}
      },
      "source": [
        "def windowed_dataset(series,window_size,batch_size,shuffle_buffer):\n",
        "  dataset = tf.data.Dataset.from_tensor_slices(series)\n",
        "  dataset = dataset.window(window_size+1,shift = 1,drop_remainder=True)\n",
        "  dataset = dataset.flat_map(lambda window:window.batch(window_size+1))\n",
        "  dataset = dataset.shuffle(shuffle_buffer).map(lambda window:(window[:-1],window[-1]))\n",
        "  dataset = dataset.batch(batch_size).prefetch(1)\n",
        "\n",
        "  return dataset"
      ],
      "execution_count": null,
      "outputs": []
    },
    {
      "cell_type": "code",
      "metadata": {
        "id": "XjyT_8AmYNvD",
        "colab_type": "code",
        "colab": {
          "base_uri": "https://localhost:8080/",
          "height": 1000
        },
        "outputId": "fcfca14a-3769-465b-b85c-3e05870b84c7"
      },
      "source": [
        "window_size = 20\n",
        "batch_size = 32\n",
        "shuffle_buffer_size = 1000\n",
        "\n",
        "dataset = windowed_dataset(series,window_size,batch_size,shuffle_buffer_size)\n",
        "l0 = tf.keras.layers.Dense(1,input_shape = [window_size])\n",
        "model = tf.keras.models.Sequential([l0])\n",
        "\n",
        "model.compile(loss='mse',optimizer = tf.keras.optimizers.SGD(lr =1e-6,momentum=0.9))\n",
        "model.fit(dataset,epochs = 100,verbose = 2)"
      ],
      "execution_count": null,
      "outputs": [
        {
          "output_type": "stream",
          "text": [
            "Epoch 1/100\n",
            "46/46 - 0s - loss: 1150.7990\n",
            "Epoch 2/100\n",
            "46/46 - 0s - loss: 237.1634\n",
            "Epoch 3/100\n",
            "46/46 - 0s - loss: 155.0108\n",
            "Epoch 4/100\n",
            "46/46 - 0s - loss: 137.6553\n",
            "Epoch 5/100\n",
            "46/46 - 0s - loss: 121.3838\n",
            "Epoch 6/100\n",
            "46/46 - 0s - loss: 112.2165\n",
            "Epoch 7/100\n",
            "46/46 - 0s - loss: 104.7365\n",
            "Epoch 8/100\n",
            "46/46 - 0s - loss: 98.9529\n",
            "Epoch 9/100\n",
            "46/46 - 0s - loss: 93.7767\n",
            "Epoch 10/100\n",
            "46/46 - 0s - loss: 89.1632\n",
            "Epoch 11/100\n",
            "46/46 - 0s - loss: 93.1608\n",
            "Epoch 12/100\n",
            "46/46 - 0s - loss: 82.3952\n",
            "Epoch 13/100\n",
            "46/46 - 0s - loss: 81.1397\n",
            "Epoch 14/100\n",
            "46/46 - 0s - loss: 77.4343\n",
            "Epoch 15/100\n",
            "46/46 - 0s - loss: 77.5413\n",
            "Epoch 16/100\n",
            "46/46 - 0s - loss: 72.2297\n",
            "Epoch 17/100\n",
            "46/46 - 0s - loss: 69.8642\n",
            "Epoch 18/100\n",
            "46/46 - 0s - loss: 73.7306\n",
            "Epoch 19/100\n",
            "46/46 - 0s - loss: 67.9025\n",
            "Epoch 20/100\n",
            "46/46 - 0s - loss: 67.6060\n",
            "Epoch 21/100\n",
            "46/46 - 0s - loss: 64.5139\n",
            "Epoch 22/100\n",
            "46/46 - 0s - loss: 63.0565\n",
            "Epoch 23/100\n",
            "46/46 - 0s - loss: 63.9416\n",
            "Epoch 24/100\n",
            "46/46 - 0s - loss: 60.2301\n",
            "Epoch 25/100\n",
            "46/46 - 0s - loss: 59.2655\n",
            "Epoch 26/100\n",
            "46/46 - 0s - loss: 59.9866\n",
            "Epoch 27/100\n",
            "46/46 - 0s - loss: 58.2678\n",
            "Epoch 28/100\n",
            "46/46 - 0s - loss: 59.4073\n",
            "Epoch 29/100\n",
            "46/46 - 0s - loss: 56.8352\n",
            "Epoch 30/100\n",
            "46/46 - 0s - loss: 57.4902\n",
            "Epoch 31/100\n",
            "46/46 - 0s - loss: 54.6791\n",
            "Epoch 32/100\n",
            "46/46 - 0s - loss: 54.4738\n",
            "Epoch 33/100\n",
            "46/46 - 0s - loss: 54.0400\n",
            "Epoch 34/100\n",
            "46/46 - 0s - loss: 56.0178\n",
            "Epoch 35/100\n",
            "46/46 - 0s - loss: 52.9556\n",
            "Epoch 36/100\n",
            "46/46 - 0s - loss: 53.3698\n",
            "Epoch 37/100\n",
            "46/46 - 0s - loss: 51.2863\n",
            "Epoch 38/100\n",
            "46/46 - 0s - loss: 52.4831\n",
            "Epoch 39/100\n",
            "46/46 - 0s - loss: 51.7928\n",
            "Epoch 40/100\n",
            "46/46 - 0s - loss: 50.3885\n",
            "Epoch 41/100\n",
            "46/46 - 0s - loss: 52.2478\n",
            "Epoch 42/100\n",
            "46/46 - 0s - loss: 48.8519\n",
            "Epoch 43/100\n",
            "46/46 - 0s - loss: 48.9456\n",
            "Epoch 44/100\n",
            "46/46 - 0s - loss: 49.6112\n",
            "Epoch 45/100\n",
            "46/46 - 0s - loss: 50.2755\n",
            "Epoch 46/100\n",
            "46/46 - 0s - loss: 51.6340\n",
            "Epoch 47/100\n",
            "46/46 - 0s - loss: 48.4084\n",
            "Epoch 48/100\n",
            "46/46 - 0s - loss: 47.3169\n",
            "Epoch 49/100\n",
            "46/46 - 0s - loss: 49.1293\n",
            "Epoch 50/100\n",
            "46/46 - 0s - loss: 47.8754\n",
            "Epoch 51/100\n",
            "46/46 - 0s - loss: 47.6711\n",
            "Epoch 52/100\n",
            "46/46 - 0s - loss: 48.3348\n",
            "Epoch 53/100\n",
            "46/46 - 0s - loss: 47.5571\n",
            "Epoch 54/100\n",
            "46/46 - 0s - loss: 46.7693\n",
            "Epoch 55/100\n",
            "46/46 - 0s - loss: 47.5871\n",
            "Epoch 56/100\n",
            "46/46 - 0s - loss: 48.6351\n",
            "Epoch 57/100\n",
            "46/46 - 0s - loss: 46.9898\n",
            "Epoch 58/100\n",
            "46/46 - 0s - loss: 47.4006\n",
            "Epoch 59/100\n",
            "46/46 - 0s - loss: 45.9864\n",
            "Epoch 60/100\n",
            "46/46 - 0s - loss: 46.6222\n",
            "Epoch 61/100\n",
            "46/46 - 0s - loss: 46.2421\n",
            "Epoch 62/100\n",
            "46/46 - 0s - loss: 46.8811\n",
            "Epoch 63/100\n",
            "46/46 - 0s - loss: 45.4827\n",
            "Epoch 64/100\n",
            "46/46 - 0s - loss: 44.8932\n",
            "Epoch 65/100\n",
            "46/46 - 0s - loss: 47.6477\n",
            "Epoch 66/100\n",
            "46/46 - 0s - loss: 49.1929\n",
            "Epoch 67/100\n",
            "46/46 - 0s - loss: 45.0087\n",
            "Epoch 68/100\n",
            "46/46 - 0s - loss: 45.0554\n",
            "Epoch 69/100\n",
            "46/46 - 0s - loss: 44.7918\n",
            "Epoch 70/100\n",
            "46/46 - 0s - loss: 46.5743\n",
            "Epoch 71/100\n",
            "46/46 - 0s - loss: 46.3557\n",
            "Epoch 72/100\n",
            "46/46 - 0s - loss: 44.9203\n",
            "Epoch 73/100\n",
            "46/46 - 0s - loss: 44.5313\n",
            "Epoch 74/100\n",
            "46/46 - 0s - loss: 44.5243\n",
            "Epoch 75/100\n",
            "46/46 - 0s - loss: 44.7140\n",
            "Epoch 76/100\n",
            "46/46 - 0s - loss: 45.3364\n",
            "Epoch 77/100\n",
            "46/46 - 0s - loss: 47.6967\n",
            "Epoch 78/100\n",
            "46/46 - 0s - loss: 44.4378\n",
            "Epoch 79/100\n",
            "46/46 - 0s - loss: 45.2798\n",
            "Epoch 80/100\n",
            "46/46 - 0s - loss: 44.5187\n",
            "Epoch 81/100\n",
            "46/46 - 0s - loss: 44.7653\n",
            "Epoch 82/100\n",
            "46/46 - 0s - loss: 44.2517\n",
            "Epoch 83/100\n",
            "46/46 - 0s - loss: 43.8136\n",
            "Epoch 84/100\n",
            "46/46 - 0s - loss: 44.0836\n",
            "Epoch 85/100\n",
            "46/46 - 0s - loss: 44.3314\n",
            "Epoch 86/100\n",
            "46/46 - 0s - loss: 44.3753\n",
            "Epoch 87/100\n",
            "46/46 - 0s - loss: 43.8385\n",
            "Epoch 88/100\n",
            "46/46 - 0s - loss: 43.7536\n",
            "Epoch 89/100\n",
            "46/46 - 0s - loss: 45.7311\n",
            "Epoch 90/100\n",
            "46/46 - 0s - loss: 46.2801\n",
            "Epoch 91/100\n",
            "46/46 - 0s - loss: 44.0582\n",
            "Epoch 92/100\n",
            "46/46 - 0s - loss: 44.9007\n",
            "Epoch 93/100\n",
            "46/46 - 0s - loss: 47.1706\n",
            "Epoch 94/100\n",
            "46/46 - 0s - loss: 44.0598\n",
            "Epoch 95/100\n",
            "46/46 - 0s - loss: 43.7344\n",
            "Epoch 96/100\n",
            "46/46 - 0s - loss: 43.8423\n",
            "Epoch 97/100\n",
            "46/46 - 0s - loss: 43.9572\n",
            "Epoch 98/100\n",
            "46/46 - 0s - loss: 44.0131\n",
            "Epoch 99/100\n",
            "46/46 - 0s - loss: 45.4535\n",
            "Epoch 100/100\n",
            "46/46 - 0s - loss: 44.0363\n"
          ],
          "name": "stdout"
        },
        {
          "output_type": "execute_result",
          "data": {
            "text/plain": [
              "<tensorflow.python.keras.callbacks.History at 0x7fe185301dd8>"
            ]
          },
          "metadata": {
            "tags": []
          },
          "execution_count": 114
        }
      ]
    },
    {
      "cell_type": "code",
      "metadata": {
        "id": "1uGQ7dCpbDH-",
        "colab_type": "code",
        "colab": {
          "base_uri": "https://localhost:8080/",
          "height": 357
        },
        "outputId": "bd84a6c5-b767-4e30-a01b-08210e7b4e05"
      },
      "source": [
        "print(f'layer weights {l0.get_weights()}')"
      ],
      "execution_count": null,
      "outputs": [
        {
          "output_type": "stream",
          "text": [
            "layer weights [array([[ 0.01885327],\n",
            "       [-0.06478272],\n",
            "       [ 0.01010147],\n",
            "       [ 0.01313338],\n",
            "       [ 0.07613501],\n",
            "       [-0.06929076],\n",
            "       [-0.00577699],\n",
            "       [ 0.02544632],\n",
            "       [-0.00945606],\n",
            "       [-0.01126758],\n",
            "       [ 0.04405962],\n",
            "       [-0.00239932],\n",
            "       [-0.05823845],\n",
            "       [ 0.03929992],\n",
            "       [ 0.04711935],\n",
            "       [ 0.04248326],\n",
            "       [ 0.03939468],\n",
            "       [ 0.18217975],\n",
            "       [ 0.26964593],\n",
            "       [ 0.42197567]], dtype=float32), array([0.0211358], dtype=float32)]\n"
          ],
          "name": "stdout"
        }
      ]
    },
    {
      "cell_type": "code",
      "metadata": {
        "id": "nB007yYVjbPM",
        "colab_type": "code",
        "colab": {
          "base_uri": "https://localhost:8080/",
          "height": 34
        },
        "outputId": "e1807951-6240-47a8-d691-46022431163f"
      },
      "source": [
        "len(series)"
      ],
      "execution_count": null,
      "outputs": [
        {
          "output_type": "execute_result",
          "data": {
            "text/plain": [
              "1461"
            ]
          },
          "metadata": {
            "tags": []
          },
          "execution_count": 116
        }
      ]
    },
    {
      "cell_type": "code",
      "metadata": {
        "id": "AY5FScbLi_vf",
        "colab_type": "code",
        "colab": {
          "base_uri": "https://localhost:8080/",
          "height": 388
        },
        "outputId": "c23d974f-156a-4c0c-9309-ddf658c443b5"
      },
      "source": [
        "forecast = []\n",
        "\n",
        "for time in range(len(series) - window_size):\n",
        "  forecast.append(model.predict(series[time:time + window_size][np.newaxis]))\n",
        "\n",
        "forecast = forecast[split_time-window_size:]\n",
        "results = np.array(forecast)[:, 0, 0]\n",
        "\n",
        "\n",
        "plt.figure(figsize=(10, 6))\n",
        "\n",
        "plot_series(time_valid, x_valid)\n",
        "plot_series(time_valid, results)"
      ],
      "execution_count": null,
      "outputs": [
        {
          "output_type": "display_data",
          "data": {
            "image/png": "[encoded data removed]",
            "text/plain": [
              "<Figure size 720x432 with 1 Axes>"
            ]
          },
          "metadata": {
            "tags": [],
            "needs_background": "light"
          }
        }
      ]
    },
    {
      "cell_type": "code",
      "metadata": {
        "id": "f1894uSajKHb",
        "colab_type": "code",
        "colab": {
          "base_uri": "https://localhost:8080/",
          "height": 34
        },
        "outputId": "a8d902f2-9df1-4cbf-a121-f6d46801c676"
      },
      "source": [
        "tf.keras.metrics.mean_absolute_error(x_valid, results).numpy()"
      ],
      "execution_count": null,
      "outputs": [
        {
          "output_type": "execute_result",
          "data": {
            "text/plain": [
              "4.900249"
            ]
          },
          "metadata": {
            "tags": []
          },
          "execution_count": 118
        }
      ]
    },
    {
      "cell_type": "code",
      "metadata": {
        "id": "xLc0otatjUrI",
        "colab_type": "code",
        "colab": {}
      },
      "source": [
        "#############\n",
        "dataset = windowed_dataset(x_train,window_size,batch_size,shuffle_buffer_size)\n",
        "\n",
        "model = tf.keras.models.Sequential([\n",
        "      tf.keras.layers.Dense(10,input_shape=[window_size],activation = 'relu'),\n",
        "      tf.keras.layers.Dense(10,activation='relu'),\n",
        "      tf.keras.layers.Dense(1)\n",
        "\n",
        "])"
      ],
      "execution_count": null,
      "outputs": []
    },
    {
      "cell_type": "code",
      "metadata": {
        "id": "fptKxkolw2al",
        "colab_type": "code",
        "colab": {}
      },
      "source": [
        "lr_schedule = tf.keras.callbacks.LearningRateScheduler(lambda epoch:1e-8*10**(epoch/20))"
      ],
      "execution_count": null,
      "outputs": []
    },
    {
      "cell_type": "code",
      "metadata": {
        "id": "p4v8TBi0vbi9",
        "colab_type": "code",
        "colab": {
          "base_uri": "https://localhost:8080/",
          "height": 1000
        },
        "outputId": "3cc00110-eee2-46f5-9949-5fb8deabb7e3"
      },
      "source": [
        "model.compile(loss='mse',optimizer=tf.keras.optimizers.SGD(lr=5e-5,momentum=0.9))\n",
        "history= model.fit(dataset,epochs=200,verbose=2,callbacks = [lr_schedule])"
      ],
      "execution_count": null,
      "outputs": [
        {
          "output_type": "stream",
          "text": [
            "Epoch 1/200\n",
            "31/31 - 0s - loss: 4707.7520 - lr: 1.0000e-08\n",
            "Epoch 2/200\n",
            "31/31 - 0s - loss: 3678.5115 - lr: 1.1220e-08\n",
            "Epoch 3/200\n",
            "31/31 - 0s - loss: 2666.5715 - lr: 1.2589e-08\n",
            "Epoch 4/200\n",
            "31/31 - 0s - loss: 1852.3101 - lr: 1.4125e-08\n",
            "Epoch 5/200\n",
            "31/31 - 0s - loss: 1269.5581 - lr: 1.5849e-08\n",
            "Epoch 6/200\n",
            "31/31 - 0s - loss: 929.3815 - lr: 1.7783e-08\n",
            "Epoch 7/200\n",
            "31/31 - 0s - loss: 694.7313 - lr: 1.9953e-08\n",
            "Epoch 8/200\n",
            "31/31 - 0s - loss: 511.5547 - lr: 2.2387e-08\n",
            "Epoch 9/200\n",
            "31/31 - 0s - loss: 368.3912 - lr: 2.5119e-08\n",
            "Epoch 10/200\n",
            "31/31 - 0s - loss: 266.6427 - lr: 2.8184e-08\n",
            "Epoch 11/200\n",
            "31/31 - 0s - loss: 200.3077 - lr: 3.1623e-08\n",
            "Epoch 12/200\n",
            "31/31 - 0s - loss: 165.2534 - lr: 3.5481e-08\n",
            "Epoch 13/200\n",
            "31/31 - 0s - loss: 149.2415 - lr: 3.9811e-08\n",
            "Epoch 14/200\n",
            "31/31 - 0s - loss: 142.4086 - lr: 4.4668e-08\n",
            "Epoch 15/200\n",
            "31/31 - 0s - loss: 139.4722 - lr: 5.0119e-08\n",
            "Epoch 16/200\n",
            "31/31 - 0s - loss: 137.6677 - lr: 5.6234e-08\n",
            "Epoch 17/200\n",
            "31/31 - 0s - loss: 136.0134 - lr: 6.3096e-08\n",
            "Epoch 18/200\n",
            "31/31 - 0s - loss: 134.3456 - lr: 7.0795e-08\n",
            "Epoch 19/200\n",
            "31/31 - 0s - loss: 132.5381 - lr: 7.9433e-08\n",
            "Epoch 20/200\n",
            "31/31 - 0s - loss: 130.6704 - lr: 8.9125e-08\n",
            "Epoch 21/200\n",
            "31/31 - 0s - loss: 128.8203 - lr: 1.0000e-07\n",
            "Epoch 22/200\n",
            "31/31 - 0s - loss: 126.8257 - lr: 1.1220e-07\n",
            "Epoch 23/200\n",
            "31/31 - 0s - loss: 124.6335 - lr: 1.2589e-07\n",
            "Epoch 24/200\n",
            "31/31 - 0s - loss: 122.3679 - lr: 1.4125e-07\n",
            "Epoch 25/200\n",
            "31/31 - 0s - loss: 120.0303 - lr: 1.5849e-07\n",
            "Epoch 26/200\n",
            "31/31 - 0s - loss: 117.7381 - lr: 1.7783e-07\n",
            "Epoch 27/200\n",
            "31/31 - 0s - loss: 114.9227 - lr: 1.9953e-07\n",
            "Epoch 28/200\n",
            "31/31 - 0s - loss: 112.2948 - lr: 2.2387e-07\n",
            "Epoch 29/200\n",
            "31/31 - 0s - loss: 109.6146 - lr: 2.5119e-07\n",
            "Epoch 30/200\n",
            "31/31 - 0s - loss: 106.6514 - lr: 2.8184e-07\n",
            "Epoch 31/200\n",
            "31/31 - 0s - loss: 103.7316 - lr: 3.1623e-07\n",
            "Epoch 32/200\n",
            "31/31 - 0s - loss: 100.5735 - lr: 3.5481e-07\n",
            "Epoch 33/200\n",
            "31/31 - 0s - loss: 97.7353 - lr: 3.9811e-07\n",
            "Epoch 34/200\n",
            "31/31 - 0s - loss: 94.1849 - lr: 4.4668e-07\n",
            "Epoch 35/200\n",
            "31/31 - 0s - loss: 90.7912 - lr: 5.0119e-07\n",
            "Epoch 36/200\n",
            "31/31 - 0s - loss: 87.1099 - lr: 5.6234e-07\n",
            "Epoch 37/200\n",
            "31/31 - 0s - loss: 83.4838 - lr: 6.3096e-07\n",
            "Epoch 38/200\n",
            "31/31 - 0s - loss: 79.8282 - lr: 7.0795e-07\n",
            "Epoch 39/200\n",
            "31/31 - 0s - loss: 76.5823 - lr: 7.9433e-07\n",
            "Epoch 40/200\n",
            "31/31 - 0s - loss: 72.5964 - lr: 8.9125e-07\n",
            "Epoch 41/200\n",
            "31/31 - 0s - loss: 69.5486 - lr: 1.0000e-06\n",
            "Epoch 42/200\n",
            "31/31 - 0s - loss: 67.2036 - lr: 1.1220e-06\n",
            "Epoch 43/200\n",
            "31/31 - 0s - loss: 64.5540 - lr: 1.2589e-06\n",
            "Epoch 44/200\n",
            "31/31 - 0s - loss: 62.5005 - lr: 1.4125e-06\n",
            "Epoch 45/200\n",
            "31/31 - 0s - loss: 60.5588 - lr: 1.5849e-06\n",
            "Epoch 46/200\n",
            "31/31 - 0s - loss: 60.5713 - lr: 1.7783e-06\n",
            "Epoch 47/200\n",
            "31/31 - 0s - loss: 57.5457 - lr: 1.9953e-06\n",
            "Epoch 48/200\n",
            "31/31 - 0s - loss: 56.0967 - lr: 2.2387e-06\n",
            "Epoch 49/200\n",
            "31/31 - 0s - loss: 54.5129 - lr: 2.5119e-06\n",
            "Epoch 50/200\n",
            "31/31 - 0s - loss: 54.5685 - lr: 2.8184e-06\n",
            "Epoch 51/200\n",
            "31/31 - 0s - loss: 52.4605 - lr: 3.1623e-06\n",
            "Epoch 52/200\n",
            "31/31 - 0s - loss: 51.0945 - lr: 3.5481e-06\n",
            "Epoch 53/200\n",
            "31/31 - 0s - loss: 51.9572 - lr: 3.9811e-06\n",
            "Epoch 54/200\n",
            "31/31 - 0s - loss: 49.0130 - lr: 4.4668e-06\n",
            "Epoch 55/200\n",
            "31/31 - 0s - loss: 48.0851 - lr: 5.0119e-06\n",
            "Epoch 56/200\n",
            "31/31 - 0s - loss: 47.4268 - lr: 5.6234e-06\n",
            "Epoch 57/200\n",
            "31/31 - 0s - loss: 46.6620 - lr: 6.3096e-06\n",
            "Epoch 58/200\n",
            "31/31 - 0s - loss: 46.2658 - lr: 7.0795e-06\n",
            "Epoch 59/200\n",
            "31/31 - 0s - loss: 50.1324 - lr: 7.9433e-06\n",
            "Epoch 60/200\n",
            "31/31 - 0s - loss: 44.9685 - lr: 8.9125e-06\n",
            "Epoch 61/200\n",
            "31/31 - 0s - loss: 49.0110 - lr: 1.0000e-05\n",
            "Epoch 62/200\n",
            "31/31 - 0s - loss: 44.9322 - lr: 1.1220e-05\n",
            "Epoch 63/200\n",
            "31/31 - 0s - loss: 54.6095 - lr: 1.2589e-05\n",
            "Epoch 64/200\n",
            "31/31 - 0s - loss: 46.2525 - lr: 1.4125e-05\n",
            "Epoch 65/200\n",
            "31/31 - 0s - loss: 47.3471 - lr: 1.5849e-05\n",
            "Epoch 66/200\n",
            "31/31 - 0s - loss: 48.9658 - lr: 1.7783e-05\n",
            "Epoch 67/200\n",
            "31/31 - 0s - loss: 44.9623 - lr: 1.9953e-05\n",
            "Epoch 68/200\n",
            "31/31 - 0s - loss: 43.8631 - lr: 2.2387e-05\n",
            "Epoch 69/200\n",
            "31/31 - 0s - loss: 44.5560 - lr: 2.5119e-05\n",
            "Epoch 70/200\n",
            "31/31 - 0s - loss: 46.4425 - lr: 2.8184e-05\n",
            "Epoch 71/200\n",
            "31/31 - 0s - loss: 50.3990 - lr: 3.1623e-05\n",
            "Epoch 72/200\n",
            "31/31 - 0s - loss: 44.0183 - lr: 3.5481e-05\n",
            "Epoch 73/200\n",
            "31/31 - 0s - loss: 61.8687 - lr: 3.9811e-05\n",
            "Epoch 74/200\n",
            "31/31 - 0s - loss: 48.5062 - lr: 4.4668e-05\n",
            "Epoch 75/200\n",
            "31/31 - 0s - loss: 55.1325 - lr: 5.0119e-05\n",
            "Epoch 76/200\n",
            "31/31 - 0s - loss: 46.3131 - lr: 5.6234e-05\n",
            "Epoch 77/200\n",
            "31/31 - 0s - loss: 97.3984 - lr: 6.3096e-05\n",
            "Epoch 78/200\n",
            "31/31 - 0s - loss: 2290.1228 - lr: 7.0795e-05\n",
            "Epoch 79/200\n",
            "31/31 - 0s - loss: 2075.6025 - lr: 7.9433e-05\n",
            "Epoch 80/200\n",
            "31/31 - 0s - loss: 1918.3057 - lr: 8.9125e-05\n",
            "Epoch 81/200\n",
            "31/31 - 0s - loss: 1757.6768 - lr: 1.0000e-04\n",
            "Epoch 82/200\n",
            "31/31 - 0s - loss: 1594.6455 - lr: 1.1220e-04\n",
            "Epoch 83/200\n",
            "31/31 - 0s - loss: 1436.4573 - lr: 1.2589e-04\n",
            "Epoch 84/200\n",
            "31/31 - 0s - loss: 1280.4178 - lr: 1.4125e-04\n",
            "Epoch 85/200\n",
            "31/31 - 0s - loss: 1131.5981 - lr: 1.5849e-04\n",
            "Epoch 86/200\n",
            "31/31 - 0s - loss: 994.6190 - lr: 1.7783e-04\n",
            "Epoch 87/200\n",
            "31/31 - 0s - loss: 872.6575 - lr: 1.9953e-04\n",
            "Epoch 88/200\n",
            "31/31 - 0s - loss: 761.5948 - lr: 2.2387e-04\n",
            "Epoch 89/200\n",
            "31/31 - 0s - loss: 676.2911 - lr: 2.5119e-04\n",
            "Epoch 90/200\n",
            "31/31 - 0s - loss: 602.7050 - lr: 2.8184e-04\n",
            "Epoch 91/200\n",
            "31/31 - 0s - loss: 547.4711 - lr: 3.1623e-04\n",
            "Epoch 92/200\n",
            "31/31 - 0s - loss: 520.6665 - lr: 3.5481e-04\n",
            "Epoch 93/200\n",
            "31/31 - 0s - loss: 488.2402 - lr: 3.9811e-04\n",
            "Epoch 94/200\n",
            "31/31 - 0s - loss: 477.4945 - lr: 4.4668e-04\n",
            "Epoch 95/200\n",
            "31/31 - 0s - loss: 458.4059 - lr: 5.0119e-04\n",
            "Epoch 96/200\n",
            "31/31 - 0s - loss: 451.1531 - lr: 5.6234e-04\n",
            "Epoch 97/200\n",
            "31/31 - 0s - loss: 447.3253 - lr: 6.3096e-04\n",
            "Epoch 98/200\n",
            "31/31 - 0s - loss: 445.4593 - lr: 7.0795e-04\n",
            "Epoch 99/200\n",
            "31/31 - 0s - loss: 445.1312 - lr: 7.9433e-04\n",
            "Epoch 100/200\n",
            "31/31 - 0s - loss: 446.5220 - lr: 8.9125e-04\n",
            "Epoch 101/200\n",
            "31/31 - 0s - loss: 445.8488 - lr: 0.0010\n",
            "Epoch 102/200\n",
            "31/31 - 0s - loss: 445.0342 - lr: 0.0011\n",
            "Epoch 103/200\n",
            "31/31 - 0s - loss: 445.0781 - lr: 0.0013\n",
            "Epoch 104/200\n",
            "31/31 - 0s - loss: 445.0835 - lr: 0.0014\n",
            "Epoch 105/200\n",
            "31/31 - 0s - loss: 445.0952 - lr: 0.0016\n",
            "Epoch 106/200\n",
            "31/31 - 0s - loss: 445.0977 - lr: 0.0018\n",
            "Epoch 107/200\n",
            "31/31 - 0s - loss: 445.3468 - lr: 0.0020\n",
            "Epoch 108/200\n",
            "31/31 - 0s - loss: 445.1619 - lr: 0.0022\n",
            "Epoch 109/200\n",
            "31/31 - 0s - loss: 445.3666 - lr: 0.0025\n",
            "Epoch 110/200\n",
            "31/31 - 0s - loss: 445.3680 - lr: 0.0028\n",
            "Epoch 111/200\n",
            "31/31 - 0s - loss: 445.7693 - lr: 0.0032\n",
            "Epoch 112/200\n",
            "31/31 - 0s - loss: 445.2057 - lr: 0.0035\n",
            "Epoch 113/200\n",
            "31/31 - 0s - loss: 445.3487 - lr: 0.0040\n",
            "Epoch 114/200\n",
            "31/31 - 0s - loss: 445.6348 - lr: 0.0045\n",
            "Epoch 115/200\n",
            "31/31 - 0s - loss: 446.5221 - lr: 0.0050\n",
            "Epoch 116/200\n",
            "31/31 - 0s - loss: 445.3651 - lr: 0.0056\n",
            "Epoch 117/200\n",
            "31/31 - 0s - loss: 445.5336 - lr: 0.0063\n",
            "Epoch 118/200\n",
            "31/31 - 0s - loss: 445.1646 - lr: 0.0071\n",
            "Epoch 119/200\n",
            "31/31 - 0s - loss: 446.0338 - lr: 0.0079\n",
            "Epoch 120/200\n",
            "31/31 - 0s - loss: 451.7052 - lr: 0.0089\n",
            "Epoch 121/200\n",
            "31/31 - 0s - loss: 444.3593 - lr: 0.0100\n",
            "Epoch 122/200\n",
            "31/31 - 0s - loss: 447.2607 - lr: 0.0112\n",
            "Epoch 123/200\n",
            "31/31 - 0s - loss: 446.0526 - lr: 0.0126\n",
            "Epoch 124/200\n",
            "31/31 - 0s - loss: 445.6872 - lr: 0.0141\n",
            "Epoch 125/200\n",
            "31/31 - 0s - loss: 446.6537 - lr: 0.0158\n",
            "Epoch 126/200\n",
            "31/31 - 0s - loss: 448.7374 - lr: 0.0178\n",
            "Epoch 127/200\n",
            "31/31 - 0s - loss: 452.1148 - lr: 0.0200\n",
            "Epoch 128/200\n",
            "31/31 - 0s - loss: 446.4715 - lr: 0.0224\n",
            "Epoch 129/200\n",
            "31/31 - 0s - loss: 447.5606 - lr: 0.0251\n",
            "Epoch 130/200\n",
            "31/31 - 0s - loss: 450.5896 - lr: 0.0282\n",
            "Epoch 131/200\n",
            "31/31 - 0s - loss: 449.4196 - lr: 0.0316\n",
            "Epoch 132/200\n",
            "31/31 - 0s - loss: 451.5187 - lr: 0.0355\n",
            "Epoch 133/200\n",
            "31/31 - 0s - loss: 457.8619 - lr: 0.0398\n",
            "Epoch 134/200\n",
            "31/31 - 0s - loss: 451.8951 - lr: 0.0447\n",
            "Epoch 135/200\n",
            "31/31 - 0s - loss: 456.0605 - lr: 0.0501\n",
            "Epoch 136/200\n",
            "31/31 - 0s - loss: 448.0612 - lr: 0.0562\n",
            "Epoch 137/200\n",
            "31/31 - 0s - loss: 449.1046 - lr: 0.0631\n",
            "Epoch 138/200\n",
            "31/31 - 0s - loss: 450.8902 - lr: 0.0708\n",
            "Epoch 139/200\n",
            "31/31 - 0s - loss: 479.1645 - lr: 0.0794\n",
            "Epoch 140/200\n",
            "31/31 - 0s - loss: 464.0638 - lr: 0.0891\n",
            "Epoch 141/200\n",
            "31/31 - 0s - loss: 470.3721 - lr: 0.1000\n",
            "Epoch 142/200\n",
            "31/31 - 0s - loss: 460.8228 - lr: 0.1122\n",
            "Epoch 143/200\n",
            "31/31 - 0s - loss: 481.8791 - lr: 0.1259\n",
            "Epoch 144/200\n",
            "31/31 - 0s - loss: 465.3578 - lr: 0.1413\n",
            "Epoch 145/200\n",
            "31/31 - 0s - loss: 475.9283 - lr: 0.1585\n",
            "Epoch 146/200\n",
            "31/31 - 0s - loss: 506.8576 - lr: 0.1778\n",
            "Epoch 147/200\n",
            "31/31 - 0s - loss: 477.9789 - lr: 0.1995\n",
            "Epoch 148/200\n",
            "31/31 - 0s - loss: 464.3701 - lr: 0.2239\n",
            "Epoch 149/200\n",
            "31/31 - 0s - loss: 550.0627 - lr: 0.2512\n",
            "Epoch 150/200\n",
            "31/31 - 0s - loss: 502.0610 - lr: 0.2818\n",
            "Epoch 151/200\n",
            "31/31 - 0s - loss: 459.4175 - lr: 0.3162\n",
            "Epoch 152/200\n",
            "31/31 - 0s - loss: 465.9439 - lr: 0.3548\n",
            "Epoch 153/200\n",
            "31/31 - 0s - loss: 522.6014 - lr: 0.3981\n",
            "Epoch 154/200\n",
            "31/31 - 0s - loss: 544.9123 - lr: 0.4467\n",
            "Epoch 155/200\n",
            "31/31 - 0s - loss: 531.4009 - lr: 0.5012\n",
            "Epoch 156/200\n",
            "31/31 - 0s - loss: 614.0699 - lr: 0.5623\n",
            "Epoch 157/200\n",
            "31/31 - 0s - loss: 649.7537 - lr: 0.6310\n",
            "Epoch 158/200\n",
            "31/31 - 0s - loss: 550.0566 - lr: 0.7079\n",
            "Epoch 159/200\n",
            "31/31 - 0s - loss: 603.2089 - lr: 0.7943\n",
            "Epoch 160/200\n",
            "31/31 - 0s - loss: 765.8536 - lr: 0.8913\n",
            "Epoch 161/200\n",
            "31/31 - 0s - loss: 752.8113 - lr: 1.0000\n",
            "Epoch 162/200\n",
            "31/31 - 0s - loss: 1607.0277 - lr: 1.1220\n",
            "Epoch 163/200\n",
            "31/31 - 0s - loss: 746.4512 - lr: 1.2589\n",
            "Epoch 164/200\n",
            "31/31 - 0s - loss: 1563.7251 - lr: 1.4125\n",
            "Epoch 165/200\n",
            "31/31 - 0s - loss: 2315.4602 - lr: 1.5849\n",
            "Epoch 166/200\n",
            "31/31 - 0s - loss: 5108.9077 - lr: 1.7783\n",
            "Epoch 167/200\n",
            "31/31 - 0s - loss: 1270229630976.0000 - lr: 1.9953\n",
            "Epoch 168/200\n",
            "31/31 - 0s - loss: 164133672791196339800309646753792.0000 - lr: 2.2387\n",
            "Epoch 169/200\n",
            "31/31 - 0s - loss: inf - lr: 2.5119\n",
            "Epoch 170/200\n",
            "31/31 - 0s - loss: nan - lr: 2.8184\n",
            "Epoch 171/200\n",
            "31/31 - 0s - loss: nan - lr: 3.1623\n",
            "Epoch 172/200\n",
            "31/31 - 0s - loss: nan - lr: 3.5481\n",
            "Epoch 173/200\n",
            "31/31 - 0s - loss: nan - lr: 3.9811\n",
            "Epoch 174/200\n",
            "31/31 - 0s - loss: nan - lr: 4.4668\n",
            "Epoch 175/200\n",
            "31/31 - 0s - loss: nan - lr: 5.0119\n",
            "Epoch 176/200\n",
            "31/31 - 0s - loss: nan - lr: 5.6234\n",
            "Epoch 177/200\n",
            "31/31 - 0s - loss: nan - lr: 6.3096\n",
            "Epoch 178/200\n",
            "31/31 - 0s - loss: nan - lr: 7.0795\n",
            "Epoch 179/200\n",
            "31/31 - 0s - loss: nan - lr: 7.9433\n",
            "Epoch 180/200\n",
            "31/31 - 0s - loss: nan - lr: 8.9125\n",
            "Epoch 181/200\n",
            "31/31 - 0s - loss: nan - lr: 10.0000\n",
            "Epoch 182/200\n",
            "31/31 - 0s - loss: nan - lr: 11.2202\n",
            "Epoch 183/200\n",
            "31/31 - 0s - loss: nan - lr: 12.5893\n",
            "Epoch 184/200\n",
            "31/31 - 0s - loss: nan - lr: 14.1254\n",
            "Epoch 185/200\n",
            "31/31 - 0s - loss: nan - lr: 15.8489\n",
            "Epoch 186/200\n",
            "31/31 - 0s - loss: nan - lr: 17.7828\n",
            "Epoch 187/200\n",
            "31/31 - 0s - loss: nan - lr: 19.9526\n",
            "Epoch 188/200\n",
            "31/31 - 0s - loss: nan - lr: 22.3872\n",
            "Epoch 189/200\n",
            "31/31 - 0s - loss: nan - lr: 25.1189\n",
            "Epoch 190/200\n",
            "31/31 - 0s - loss: nan - lr: 28.1838\n",
            "Epoch 191/200\n",
            "31/31 - 0s - loss: nan - lr: 31.6228\n",
            "Epoch 192/200\n",
            "31/31 - 0s - loss: nan - lr: 35.4813\n",
            "Epoch 193/200\n",
            "31/31 - 0s - loss: nan - lr: 39.8107\n",
            "Epoch 194/200\n",
            "31/31 - 0s - loss: nan - lr: 44.6684\n",
            "Epoch 195/200\n",
            "31/31 - 0s - loss: nan - lr: 50.1187\n",
            "Epoch 196/200\n",
            "31/31 - 0s - loss: nan - lr: 56.2341\n",
            "Epoch 197/200\n",
            "31/31 - 0s - loss: nan - lr: 63.0957\n",
            "Epoch 198/200\n",
            "31/31 - 0s - loss: nan - lr: 70.7946\n",
            "Epoch 199/200\n",
            "31/31 - 0s - loss: nan - lr: 79.4328\n",
            "Epoch 200/200\n",
            "31/31 - 0s - loss: nan - lr: 89.1251\n"
          ],
          "name": "stdout"
        }
      ]
    },
    {
      "cell_type": "code",
      "metadata": {
        "id": "9ifQ0zrezOSB",
        "colab_type": "code",
        "colab": {
          "base_uri": "https://localhost:8080/",
          "height": 596
        },
        "outputId": "f882f040-730a-483b-a44d-293725040ca6"
      },
      "source": [
        "lrs = 1e-8 * (10 ** (np.arange(100) / 20))\n",
        "plt.semilogx(lrs, history.history[\"loss\"])\n",
        "plt.axis([1e-8, 1e-3, 0, 300])"
      ],
      "execution_count": null,
      "outputs": [
        {
          "output_type": "error",
          "ename": "ValueError",
          "evalue": "ignored",
          "traceback": [
            "\u001b[0;31m---------------------------------------------------------------------------\u001b[0m",
            "\u001b[0;31mValueError\u001b[0m                                Traceback (most recent call last)",
            "\u001b[0;32m<ipython-input-135-67d848d3dd3f>\u001b[0m in \u001b[0;36m<module>\u001b[0;34m()\u001b[0m\n\u001b[1;32m      1\u001b[0m \u001b[0mlrs\u001b[0m \u001b[0;34m=\u001b[0m \u001b[0;36m1e-8\u001b[0m \u001b[0;34m*\u001b[0m \u001b[0;34m(\u001b[0m\u001b[0;36m10\u001b[0m \u001b[0;34m**\u001b[0m \u001b[0;34m(\u001b[0m\u001b[0mnp\u001b[0m\u001b[0;34m.\u001b[0m\u001b[0marange\u001b[0m\u001b[0;34m(\u001b[0m\u001b[0;36m100\u001b[0m\u001b[0;34m)\u001b[0m \u001b[0;34m/\u001b[0m \u001b[0;36m20\u001b[0m\u001b[0;34m)\u001b[0m\u001b[0;34m)\u001b[0m\u001b[0;34m\u001b[0m\u001b[0;34m\u001b[0m\u001b[0m\n\u001b[0;32m----> 2\u001b[0;31m \u001b[0mplt\u001b[0m\u001b[0;34m.\u001b[0m\u001b[0msemilogx\u001b[0m\u001b[0;34m(\u001b[0m\u001b[0mlrs\u001b[0m\u001b[0;34m,\u001b[0m \u001b[0mhistory\u001b[0m\u001b[0;34m.\u001b[0m\u001b[0mhistory\u001b[0m\u001b[0;34m[\u001b[0m\u001b[0;34m\"loss\"\u001b[0m\u001b[0;34m]\u001b[0m\u001b[0;34m)\u001b[0m\u001b[0;34m\u001b[0m\u001b[0;34m\u001b[0m\u001b[0m\n\u001b[0m\u001b[1;32m      3\u001b[0m \u001b[0mplt\u001b[0m\u001b[0;34m.\u001b[0m\u001b[0maxis\u001b[0m\u001b[0;34m(\u001b[0m\u001b[0;34m[\u001b[0m\u001b[0;36m1e-8\u001b[0m\u001b[0;34m,\u001b[0m \u001b[0;36m1e-3\u001b[0m\u001b[0;34m,\u001b[0m \u001b[0;36m0\u001b[0m\u001b[0;34m,\u001b[0m \u001b[0;36m300\u001b[0m\u001b[0;34m]\u001b[0m\u001b[0;34m)\u001b[0m\u001b[0;34m\u001b[0m\u001b[0;34m\u001b[0m\u001b[0m\n",
            "\u001b[0;32m/usr/local/lib/python3.6/dist-packages/matplotlib/pyplot.py\u001b[0m in \u001b[0;36msemilogx\u001b[0;34m(*args, **kwargs)\u001b[0m\n\u001b[1;32m   2822\u001b[0m \u001b[0;34m@\u001b[0m\u001b[0mdocstring\u001b[0m\u001b[0;34m.\u001b[0m\u001b[0mcopy\u001b[0m\u001b[0;34m(\u001b[0m\u001b[0mAxes\u001b[0m\u001b[0;34m.\u001b[0m\u001b[0msemilogx\u001b[0m\u001b[0;34m)\u001b[0m\u001b[0;34m\u001b[0m\u001b[0;34m\u001b[0m\u001b[0m\n\u001b[1;32m   2823\u001b[0m \u001b[0;32mdef\u001b[0m \u001b[0msemilogx\u001b[0m\u001b[0;34m(\u001b[0m\u001b[0;34m*\u001b[0m\u001b[0margs\u001b[0m\u001b[0;34m,\u001b[0m \u001b[0;34m**\u001b[0m\u001b[0mkwargs\u001b[0m\u001b[0;34m)\u001b[0m\u001b[0;34m:\u001b[0m\u001b[0;34m\u001b[0m\u001b[0;34m\u001b[0m\u001b[0m\n\u001b[0;32m-> 2824\u001b[0;31m     \u001b[0;32mreturn\u001b[0m \u001b[0mgca\u001b[0m\u001b[0;34m(\u001b[0m\u001b[0;34m)\u001b[0m\u001b[0;34m.\u001b[0m\u001b[0msemilogx\u001b[0m\u001b[0;34m(\u001b[0m\u001b[0;34m*\u001b[0m\u001b[0margs\u001b[0m\u001b[0;34m,\u001b[0m \u001b[0;34m**\u001b[0m\u001b[0mkwargs\u001b[0m\u001b[0;34m)\u001b[0m\u001b[0;34m\u001b[0m\u001b[0;34m\u001b[0m\u001b[0m\n\u001b[0m\u001b[1;32m   2825\u001b[0m \u001b[0;34m\u001b[0m\u001b[0m\n\u001b[1;32m   2826\u001b[0m \u001b[0;34m\u001b[0m\u001b[0m\n",
            "\u001b[0;32m/usr/local/lib/python3.6/dist-packages/matplotlib/axes/_axes.py\u001b[0m in \u001b[0;36msemilogx\u001b[0;34m(self, *args, **kwargs)\u001b[0m\n\u001b[1;32m   1825\u001b[0m \u001b[0;34m\u001b[0m\u001b[0m\n\u001b[1;32m   1826\u001b[0m         \u001b[0mself\u001b[0m\u001b[0;34m.\u001b[0m\u001b[0mset_xscale\u001b[0m\u001b[0;34m(\u001b[0m\u001b[0;34m'log'\u001b[0m\u001b[0;34m,\u001b[0m \u001b[0;34m**\u001b[0m\u001b[0md\u001b[0m\u001b[0;34m)\u001b[0m\u001b[0;34m\u001b[0m\u001b[0;34m\u001b[0m\u001b[0m\n\u001b[0;32m-> 1827\u001b[0;31m         \u001b[0ml\u001b[0m \u001b[0;34m=\u001b[0m \u001b[0mself\u001b[0m\u001b[0;34m.\u001b[0m\u001b[0mplot\u001b[0m\u001b[0;34m(\u001b[0m\u001b[0;34m*\u001b[0m\u001b[0margs\u001b[0m\u001b[0;34m,\u001b[0m \u001b[0;34m**\u001b[0m\u001b[0mkwargs\u001b[0m\u001b[0;34m)\u001b[0m\u001b[0;34m\u001b[0m\u001b[0;34m\u001b[0m\u001b[0m\n\u001b[0m\u001b[1;32m   1828\u001b[0m         \u001b[0;32mreturn\u001b[0m \u001b[0ml\u001b[0m\u001b[0;34m\u001b[0m\u001b[0;34m\u001b[0m\u001b[0m\n\u001b[1;32m   1829\u001b[0m \u001b[0;34m\u001b[0m\u001b[0m\n",
            "\u001b[0;32m/usr/local/lib/python3.6/dist-packages/matplotlib/axes/_axes.py\u001b[0m in \u001b[0;36mplot\u001b[0;34m(self, scalex, scaley, data, *args, **kwargs)\u001b[0m\n\u001b[1;32m   1644\u001b[0m         \"\"\"\n\u001b[1;32m   1645\u001b[0m         \u001b[0mkwargs\u001b[0m \u001b[0;34m=\u001b[0m \u001b[0mcbook\u001b[0m\u001b[0;34m.\u001b[0m\u001b[0mnormalize_kwargs\u001b[0m\u001b[0;34m(\u001b[0m\u001b[0mkwargs\u001b[0m\u001b[0;34m,\u001b[0m \u001b[0mmlines\u001b[0m\u001b[0;34m.\u001b[0m\u001b[0mLine2D\u001b[0m\u001b[0;34m)\u001b[0m\u001b[0;34m\u001b[0m\u001b[0;34m\u001b[0m\u001b[0m\n\u001b[0;32m-> 1646\u001b[0;31m         \u001b[0mlines\u001b[0m \u001b[0;34m=\u001b[0m \u001b[0;34m[\u001b[0m\u001b[0;34m*\u001b[0m\u001b[0mself\u001b[0m\u001b[0;34m.\u001b[0m\u001b[0m_get_lines\u001b[0m\u001b[0;34m(\u001b[0m\u001b[0;34m*\u001b[0m\u001b[0margs\u001b[0m\u001b[0;34m,\u001b[0m \u001b[0mdata\u001b[0m\u001b[0;34m=\u001b[0m\u001b[0mdata\u001b[0m\u001b[0;34m,\u001b[0m \u001b[0;34m**\u001b[0m\u001b[0mkwargs\u001b[0m\u001b[0;34m)\u001b[0m\u001b[0;34m]\u001b[0m\u001b[0;34m\u001b[0m\u001b[0;34m\u001b[0m\u001b[0m\n\u001b[0m\u001b[1;32m   1647\u001b[0m         \u001b[0;32mfor\u001b[0m \u001b[0mline\u001b[0m \u001b[0;32min\u001b[0m \u001b[0mlines\u001b[0m\u001b[0;34m:\u001b[0m\u001b[0;34m\u001b[0m\u001b[0;34m\u001b[0m\u001b[0m\n\u001b[1;32m   1648\u001b[0m             \u001b[0mself\u001b[0m\u001b[0;34m.\u001b[0m\u001b[0madd_line\u001b[0m\u001b[0;34m(\u001b[0m\u001b[0mline\u001b[0m\u001b[0;34m)\u001b[0m\u001b[0;34m\u001b[0m\u001b[0;34m\u001b[0m\u001b[0m\n",
            "\u001b[0;32m/usr/local/lib/python3.6/dist-packages/matplotlib/axes/_base.py\u001b[0m in \u001b[0;36m__call__\u001b[0;34m(self, *args, **kwargs)\u001b[0m\n\u001b[1;32m    214\u001b[0m                 \u001b[0mthis\u001b[0m \u001b[0;34m+=\u001b[0m \u001b[0margs\u001b[0m\u001b[0;34m[\u001b[0m\u001b[0;36m0\u001b[0m\u001b[0;34m]\u001b[0m\u001b[0;34m,\u001b[0m\u001b[0;34m\u001b[0m\u001b[0;34m\u001b[0m\u001b[0m\n\u001b[1;32m    215\u001b[0m                 \u001b[0margs\u001b[0m \u001b[0;34m=\u001b[0m \u001b[0margs\u001b[0m\u001b[0;34m[\u001b[0m\u001b[0;36m1\u001b[0m\u001b[0;34m:\u001b[0m\u001b[0;34m]\u001b[0m\u001b[0;34m\u001b[0m\u001b[0;34m\u001b[0m\u001b[0m\n\u001b[0;32m--> 216\u001b[0;31m             \u001b[0;32myield\u001b[0m \u001b[0;32mfrom\u001b[0m \u001b[0mself\u001b[0m\u001b[0;34m.\u001b[0m\u001b[0m_plot_args\u001b[0m\u001b[0;34m(\u001b[0m\u001b[0mthis\u001b[0m\u001b[0;34m,\u001b[0m \u001b[0mkwargs\u001b[0m\u001b[0;34m)\u001b[0m\u001b[0;34m\u001b[0m\u001b[0;34m\u001b[0m\u001b[0m\n\u001b[0m\u001b[1;32m    217\u001b[0m \u001b[0;34m\u001b[0m\u001b[0m\n\u001b[1;32m    218\u001b[0m     \u001b[0;32mdef\u001b[0m \u001b[0mget_next_color\u001b[0m\u001b[0;34m(\u001b[0m\u001b[0mself\u001b[0m\u001b[0;34m)\u001b[0m\u001b[0;34m:\u001b[0m\u001b[0;34m\u001b[0m\u001b[0;34m\u001b[0m\u001b[0m\n",
            "\u001b[0;32m/usr/local/lib/python3.6/dist-packages/matplotlib/axes/_base.py\u001b[0m in \u001b[0;36m_plot_args\u001b[0;34m(self, tup, kwargs)\u001b[0m\n\u001b[1;32m    340\u001b[0m \u001b[0;34m\u001b[0m\u001b[0m\n\u001b[1;32m    341\u001b[0m         \u001b[0;32mif\u001b[0m \u001b[0mx\u001b[0m\u001b[0;34m.\u001b[0m\u001b[0mshape\u001b[0m\u001b[0;34m[\u001b[0m\u001b[0;36m0\u001b[0m\u001b[0;34m]\u001b[0m \u001b[0;34m!=\u001b[0m \u001b[0my\u001b[0m\u001b[0;34m.\u001b[0m\u001b[0mshape\u001b[0m\u001b[0;34m[\u001b[0m\u001b[0;36m0\u001b[0m\u001b[0;34m]\u001b[0m\u001b[0;34m:\u001b[0m\u001b[0;34m\u001b[0m\u001b[0;34m\u001b[0m\u001b[0m\n\u001b[0;32m--> 342\u001b[0;31m             raise ValueError(f\"x and y must have same first dimension, but \"\n\u001b[0m\u001b[1;32m    343\u001b[0m                              f\"have shapes {x.shape} and {y.shape}\")\n\u001b[1;32m    344\u001b[0m         \u001b[0;32mif\u001b[0m \u001b[0mx\u001b[0m\u001b[0;34m.\u001b[0m\u001b[0mndim\u001b[0m \u001b[0;34m>\u001b[0m \u001b[0;36m2\u001b[0m \u001b[0;32mor\u001b[0m \u001b[0my\u001b[0m\u001b[0;34m.\u001b[0m\u001b[0mndim\u001b[0m \u001b[0;34m>\u001b[0m \u001b[0;36m2\u001b[0m\u001b[0;34m:\u001b[0m\u001b[0;34m\u001b[0m\u001b[0;34m\u001b[0m\u001b[0m\n",
            "\u001b[0;31mValueError\u001b[0m: x and y must have same first dimension, but have shapes (100,) and (300,)"
          ]
        },
        {
          "output_type": "display_data",
          "data": {
            "image/png": "[encoded data removed]",
            "text/plain": [
              "<Figure size 432x288 with 1 Axes>"
            ]
          },
          "metadata": {
            "tags": [],
            "needs_background": "light"
          }
        }
      ]
    },
    {
      "cell_type": "code",
      "metadata": {
        "id": "FyuhtzzYv9hg",
        "colab_type": "code",
        "colab": {
          "base_uri": "https://localhost:8080/",
          "height": 388
        },
        "outputId": "a3db06a8-6bd6-4bbf-cc17-85f51e4b9cfb"
      },
      "source": [
        "forecast = []\n",
        "\n",
        "for time in range(len(series) - window_size):\n",
        "  forecast.append(model.predict(series[time:time + window_size][np.newaxis]))\n",
        "\n",
        "forecast = forecast[split_time-window_size:]\n",
        "results = np.array(forecast)[:, 0, 0]\n",
        "\n",
        "\n",
        "plt.figure(figsize=(10, 6))\n",
        "\n",
        "plot_series(time_valid, x_valid)\n",
        "plot_series(time_valid, results)"
      ],
      "execution_count": null,
      "outputs": [
        {
          "output_type": "display_data",
          "data": {
            "image/png": "[encoded data removed]",
            "text/plain": [
              "<Figure size 720x432 with 1 Axes>"
            ]
          },
          "metadata": {
            "tags": [],
            "needs_background": "light"
          }
        }
      ]
    },
    {
      "cell_type": "code",
      "metadata": {
        "id": "K0UcqG2mwQCI",
        "colab_type": "code",
        "colab": {
          "base_uri": "https://localhost:8080/",
          "height": 34
        },
        "outputId": "0fc5f6f8-23ad-4767-9fcd-becaba84b497"
      },
      "source": [
        "tf.keras.metrics.mean_absolute_error(x_valid, results).numpy()"
      ],
      "execution_count": null,
      "outputs": [
        {
          "output_type": "execute_result",
          "data": {
            "text/plain": [
              "29.879322"
            ]
          },
          "metadata": {
            "tags": []
          },
          "execution_count": 128
        }
      ]
    },
    {
      "cell_type": "code",
      "metadata": {
        "id": "iJxhcbuOwdyv",
        "colab_type": "code",
        "colab": {
          "base_uri": "https://localhost:8080/",
          "height": 265
        },
        "outputId": "2a3fbfde-b4be-44cb-d75d-f044598268a7"
      },
      "source": [
        "loss = history.history['loss']\n",
        "epochs = range(len(loss))\n",
        "plt.plot(epochs, loss, 'b', label='Training Loss')\n",
        "plt.show()"
      ],
      "execution_count": null,
      "outputs": [
        {
          "output_type": "display_data",
          "data": {
            "image/png": "[encoded data removed]",
            "text/plain": [
              "<Figure size 432x288 with 1 Axes>"
            ]
          },
          "metadata": {
            "tags": [],
            "needs_background": "light"
          }
        }
      ]
    },
    {
      "cell_type": "code",
      "metadata": {
        "id": "5qlf5ZZd0K_3",
        "colab_type": "code",
        "colab": {
          "base_uri": "https://localhost:8080/",
          "height": 302
        },
        "outputId": "5e54ee9c-9a6b-47ca-f79f-6ba71d61ea89"
      },
      "source": [
        "# Plot all but the first 10\n",
        "loss = history.history['loss']\n",
        "epochs = range(10, len(loss))\n",
        "plot_loss = loss[10:]\n",
        "print(plot_loss)\n",
        "plt.plot(epochs, plot_loss, 'b', label='Training Loss')\n",
        "plt.show()"
      ],
      "execution_count": null,
      "outputs": [
        {
          "output_type": "stream",
          "text": [
            "[181.10928344726562, 180.08262634277344, 178.96023559570312, 177.7513885498047, 176.4224395751953, 174.98184204101562, 173.36126708984375, 171.64483642578125, 169.77841186523438, 167.6594696044922, 165.2558135986328, 162.49684143066406, 159.5115966796875, 156.4794921875, 153.29063415527344, 149.73609924316406, 146.46319580078125, 142.79322814941406, 139.53744506835938, 135.87156677246094, 132.07102966308594, 128.73257446289062, 124.71733856201172, 120.6044692993164, 116.59712982177734, 112.32601165771484, 108.43302917480469, 104.95863342285156, 100.57909393310547, 96.73759460449219, 94.11365509033203, 89.71614837646484, 86.52667999267578, 82.6328353881836, 79.8421859741211, 77.04293823242188, 74.75181579589844, 72.43903350830078, 70.4747314453125, 68.26338958740234, 65.4545669555664, 63.31864547729492, 61.104522705078125, 60.5661735534668, 56.99128341674805, 57.2425537109375, 53.79084014892578, 53.30108642578125, 51.200252532958984, 51.328125, 49.59700393676758, 55.01411819458008, 57.075687408447266, 56.81354522705078, 51.30890655517578, 52.507545471191406, 46.34886169433594, 47.39091491699219, 55.08890151977539, 47.95570373535156, 52.214385986328125, 56.076541900634766, 52.52920913696289, 50.398529052734375, 67.15840911865234, 63.646392822265625, 101.09759521484375, 1277.1490478515625, 2157.831298828125, 1980.6591796875, 1650.57275390625, 653.336181640625, 3552.859619140625, 726.4715576171875, 382.7618408203125, 385.0011901855469, 382.04779052734375, 383.32940673828125, 379.5849914550781, 379.7920227050781, 381.0427551269531, 388.12628173828125, 382.23028564453125, 381.204833984375, 382.0866394042969, 386.5764465332031, 385.4242248535156, 381.1632385253906, 385.9014587402344, 388.3643798828125]\n"
          ],
          "name": "stdout"
        },
        {
          "output_type": "display_data",
          "data": {
            "image/png": "[encoded data removed]",
            "text/plain": [
              "<Figure size 432x288 with 1 Axes>"
            ]
          },
          "metadata": {
            "tags": [],
            "needs_background": "light"
          }
        }
      ]
    },
    {
      "cell_type": "code",
      "metadata": {
        "id": "yeVr63bO0NZo",
        "colab_type": "code",
        "colab": {
          "base_uri": "https://localhost:8080/",
          "height": 388
        },
        "outputId": "238d4398-fbc7-491b-c325-7420f4af5e00"
      },
      "source": [
        "forecast = []\n",
        "for time in range(len(series) - window_size):\n",
        "  forecast.append(model.predict(series[time:time + window_size][np.newaxis]))\n",
        "\n",
        "forecast = forecast[split_time-window_size:]\n",
        "results = np.array(forecast)[:, 0, 0]\n",
        "\n",
        "\n",
        "plt.figure(figsize=(10, 6))\n",
        "\n",
        "plot_series(time_valid, x_valid)\n",
        "plot_series(time_valid, results)"
      ],
      "execution_count": null,
      "outputs": [
        {
          "output_type": "display_data",
          "data": {
            "image/png": "[encoded data removed]",
            "text/plain": [
              "<Figure size 720x432 with 1 Axes>"
            ]
          },
          "metadata": {
            "tags": [],
            "needs_background": "light"
          }
        }
      ]
    },
    {
      "cell_type": "code",
      "metadata": {
        "id": "8TuKqU6y0TZd",
        "colab_type": "code",
        "colab": {
          "base_uri": "https://localhost:8080/",
          "height": 34
        },
        "outputId": "e02ea99b-b815-4d11-dd0e-47478babdeac"
      },
      "source": [
        "tf.keras.metrics.mean_absolute_error(x_valid, results).numpy()"
      ],
      "execution_count": null,
      "outputs": [
        {
          "output_type": "execute_result",
          "data": {
            "text/plain": [
              "5.3822327"
            ]
          },
          "metadata": {
            "tags": []
          },
          "execution_count": 107
        }
      ]
    },
    {
      "cell_type": "code",
      "metadata": {
        "id": "U4PN4Bdg0cIY",
        "colab_type": "code",
        "colab": {}
      },
      "source": [
        ""
      ],
      "execution_count": null,
      "outputs": []
    },
    {
      "cell_type": "markdown",
      "metadata": {
        "id": "teNB-U8I6zUy",
        "colab_type": "text"
      },
      "source": [
        "# PyMaths"
      ]
    },
    {
      "cell_type": "code",
      "metadata": {
        "id": "H5cKV7_V61O7",
        "colab_type": "code",
        "colab": {}
      },
      "source": [
        "import numpy as np\n",
        "import pandas as pd"
      ],
      "execution_count": null,
      "outputs": []
    },
    {
      "cell_type": "code",
      "metadata": {
        "id": "r42sa--n64Xz",
        "colab_type": "code",
        "colab": {
          "base_uri": "https://localhost:8080/",
          "height": 34
        },
        "outputId": "bd77def5-6df8-4f6f-e552-0d0c77a1a2fe"
      },
      "source": [
        "import altair as alt\n",
        "alt.themes.enable('dark')"
      ],
      "execution_count": null,
      "outputs": [
        {
          "output_type": "execute_result",
          "data": {
            "text/plain": [
              "ThemeRegistry.enable('dark')"
            ]
          },
          "metadata": {
            "tags": []
          },
          "execution_count": 2
        }
      ]
    },
    {
      "cell_type": "code",
      "metadata": {
        "id": "uY9CtBE-6_i5",
        "colab_type": "code",
        "colab": {}
      },
      "source": [
        "x = np.array([[1],[2],[3]])"
      ],
      "execution_count": null,
      "outputs": []
    },
    {
      "cell_type": "code",
      "metadata": {
        "id": "A-8EB3NW7Ofz",
        "colab_type": "code",
        "colab": {
          "base_uri": "https://localhost:8080/",
          "height": 85
        },
        "outputId": "098a6a60-1cb5-4167-ebd1-3282eca84268"
      },
      "source": [
        "print(x)\n",
        "print(x.shape)"
      ],
      "execution_count": null,
      "outputs": [
        {
          "output_type": "stream",
          "text": [
            "[[1]\n",
            " [2]\n",
            " [3]]\n",
            "(3, 1)\n"
          ],
          "name": "stdout"
        }
      ]
    },
    {
      "cell_type": "code",
      "metadata": {
        "id": "mAbTA_Ra7Tdn",
        "colab_type": "code",
        "colab": {
          "base_uri": "https://localhost:8080/",
          "height": 187
        },
        "outputId": "f10fb0a8-56fb-41e2-d09a-620f6dfbbc1b"
      },
      "source": [
        "# vector-vector addition\n",
        "x =y = np.array([[1],[2],[3]])\n",
        "print(\"x:::\",x)\n",
        "print(\"y:::\",y)\n",
        "print(\"x+y::\\n\",np.add(x,y))"
      ],
      "execution_count": null,
      "outputs": [
        {
          "output_type": "stream",
          "text": [
            "x::: [[1]\n",
            " [2]\n",
            " [3]]\n",
            "y::: [[1]\n",
            " [2]\n",
            " [3]]\n",
            "x+y::\n",
            " [[2]\n",
            " [4]\n",
            " [6]]\n"
          ],
          "name": "stdout"
        }
      ]
    },
    {
      "cell_type": "code",
      "metadata": {
        "id": "SCp7XWLG-1gZ",
        "colab_type": "code",
        "colab": {
          "base_uri": "https://localhost:8080/",
          "height": 68
        },
        "outputId": "0a08740b-4c1c-4a9c-e0c3-0d77ecb352bf"
      },
      "source": [
        "# scalar-vector multiplication\n",
        "alpha = 2\n",
        "x = np.array([[1],[2],[3]])\n",
        "ax = alpha*x\n",
        "print(ax)"
      ],
      "execution_count": null,
      "outputs": [
        {
          "output_type": "stream",
          "text": [
            "[[2]\n",
            " [4]\n",
            " [6]]\n"
          ],
          "name": "stdout"
        }
      ]
    },
    {
      "cell_type": "code",
      "metadata": {
        "id": "CgDM6BfJ_yE8",
        "colab_type": "code",
        "colab": {
          "base_uri": "https://localhost:8080/",
          "height": 51
        },
        "outputId": "9cc38afe-d224-4d39-99c6-621584fe3fef"
      },
      "source": [
        "# linear combination\n",
        "x, y = np.array([[2],[3]]), np.array([[4],[5]])\n",
        "a, b = 2,3\n",
        "z = a*x+b*y\n",
        "print(z)"
      ],
      "execution_count": null,
      "outputs": [
        {
          "output_type": "stream",
          "text": [
            "[[16]\n",
            " [21]]\n"
          ],
          "name": "stdout"
        }
      ]
    },
    {
      "cell_type": "code",
      "metadata": {
        "id": "7to7mEyQA893",
        "colab_type": "code",
        "colab": {
          "base_uri": "https://localhost:8080/",
          "height": 119
        },
        "outputId": "a344446c-810e-4cd7-c74d-7858b6fb41b8"
      },
      "source": [
        "# VECTOR-VECTOR multiplication\n",
        "x, y = np.array([[-2],[2]]), np.array([[4],[-3]])\n",
        "print(x*y)\n",
        "print(\"#\"*10)\n",
        "print(np.dot(x.T,y))\n",
        "print(\"#\"*10)\n",
        "print((x.T @ y))"
      ],
      "execution_count": null,
      "outputs": [
        {
          "output_type": "stream",
          "text": [
            "[[-8]\n",
            " [-6]]\n",
            "##########\n",
            "[[-14]]\n",
            "##########\n",
            "[[-14]]\n"
          ],
          "name": "stdout"
        }
      ]
    },
    {
      "cell_type": "code",
      "metadata": {
        "id": "TVO8bYVhB-A0",
        "colab_type": "code",
        "colab": {
          "base_uri": "https://localhost:8080/",
          "height": 68
        },
        "outputId": "0383fc17-9d18-4916-b7b1-984bd54d0bc2"
      },
      "source": [
        "# Vector Norms\n",
        "# Euclidean Norm\n",
        "x = np.array([[3],[-4]])\n",
        "Ec = np.linalg.norm(x,2)\n",
        "print(f\"Euclidean {Ec}\")\n",
        "\n",
        "mn = np.linalg.norm(x,1)\n",
        "print(f\"Manhatton {mn}\")\n",
        "\n",
        "inf = np.linalg.norm(x,np.inf)\n",
        "print(f'max {inf}')"
      ],
      "execution_count": null,
      "outputs": [
        {
          "output_type": "stream",
          "text": [
            "Euclidean 5.0\n",
            "Manhatton 7.0\n",
            "max 4.0\n"
          ],
          "name": "stdout"
        }
      ]
    },
    {
      "cell_type": "code",
      "metadata": {
        "id": "N5SddKryUzmn",
        "colab_type": "code",
        "colab": {
          "base_uri": "https://localhost:8080/",
          "height": 34
        },
        "outputId": "c2791abe-d6ea-4fec-881a-e146d903b492"
      },
      "source": [
        "# vector inner product, length,distance\n",
        "x,y = np.array([[-2],[2]]), np.array([[4],[-3]])\n",
        "x.T @ y"
      ],
      "execution_count": null,
      "outputs": [
        {
          "output_type": "execute_result",
          "data": {
            "text/plain": [
              "array([[-14]])"
            ]
          },
          "metadata": {
            "tags": []
          },
          "execution_count": 10
        }
      ]
    },
    {
      "cell_type": "code",
      "metadata": {
        "id": "IQKpl0ajbaGU",
        "colab_type": "code",
        "colab": {
          "base_uri": "https://localhost:8080/",
          "height": 34
        },
        "outputId": "4daa57f6-b69f-4a4a-9e20-e9db6d774ee6"
      },
      "source": [
        "distance = np.linalg.norm(x-y,2)\n",
        "print(distance)"
      ],
      "execution_count": null,
      "outputs": [
        {
          "output_type": "stream",
          "text": [
            "7.810249675906656\n"
          ],
          "name": "stdout"
        }
      ]
    },
    {
      "cell_type": "code",
      "metadata": {
        "id": "waufMAgcbtXd",
        "colab_type": "code",
        "colab": {
          "base_uri": "https://localhost:8080/",
          "height": 34
        },
        "outputId": "b6618c0a-4a86-450f-dbfa-c8ee045384e6"
      },
      "source": [
        "x,y = np.array([[1],[2]]),np.array([[5],[7]])\n",
        "cos_theta = (x.T @y)/(np.linalg.norm(x,2)*np.linalg.norm(y,2))\n",
        "print(f\"Cos theta:::{cos_theta}\")"
      ],
      "execution_count": null,
      "outputs": [
        {
          "output_type": "stream",
          "text": [
            "Cos theta:::[[0.98776297]]\n"
          ],
          "name": "stdout"
        }
      ]
    },
    {
      "cell_type": "code",
      "metadata": {
        "id": "FNWW0oaIgW5g",
        "colab_type": "code",
        "colab": {
          "base_uri": "https://localhost:8080/",
          "height": 34
        },
        "outputId": "011c2174-7f20-42ac-f199-dbf3fc22e7a5"
      },
      "source": [
        "cos_inv = np.arccos(cos_theta)\n",
        "print(\"angle in radians\",np.round(cos_inv,3))\n"
      ],
      "execution_count": null,
      "outputs": [
        {
          "output_type": "stream",
          "text": [
            "angle in radians [[0.157]]\n"
          ],
          "name": "stdout"
        }
      ]
    },
    {
      "cell_type": "code",
      "metadata": {
        "id": "AsUVgh39gxd_",
        "colab_type": "code",
        "colab": {
          "base_uri": "https://localhost:8080/",
          "height": 34
        },
        "outputId": "17bc68bb-d215-411f-c163-23df21e2301a"
      },
      "source": [
        "np.round(cos_inv*((180)/np.pi),3)"
      ],
      "execution_count": null,
      "outputs": [
        {
          "output_type": "execute_result",
          "data": {
            "text/plain": [
              "array([[8.973]])"
            ]
          },
          "metadata": {
            "tags": []
          },
          "execution_count": 14
        }
      ]
    },
    {
      "cell_type": "code",
      "metadata": {
        "id": "urXVkYEThieK",
        "colab_type": "code",
        "colab": {}
      },
      "source": [
        "df = pd.DataFrame({\"x1\": [0, 2], \"y1\":[8, 3], \"x2\": [0.5, 2], \"y2\": [0, 3]})"
      ],
      "execution_count": null,
      "outputs": []
    },
    {
      "cell_type": "code",
      "metadata": {
        "id": "zNr4PMAdBGZy",
        "colab_type": "code",
        "colab": {
          "base_uri": "https://localhost:8080/",
          "height": 368
        },
        "outputId": "22cefb4a-754b-4130-cb86-d9b161d87e9c"
      },
      "source": [
        "equation1 = alt.Chart(df).mark_line().encode(x=\"x1\", y=\"y1\")\n",
        "equation2 = alt.Chart(df).mark_line(color=\"red\").encode(x=\"x2\", y=\"y2\")\n",
        "equation1 + equation2"
      ],
      "execution_count": null,
      "outputs": [
        {
          "output_type": "execute_result",
          "data": {
            "text/plain": [
              "alt.LayerChart(...)"
            ],
            "text/html": [
              "\n",
              "<div id=\"altair-viz-c200545b66314dd392133f6df26b1610\"></div>\n",
              "<script type=\"text/javascript\">\n",
              "  (function(spec, embedOpt){\n",
              "    let outputDiv = document.currentScript.previousElementSibling;\n",
              "    if (outputDiv.id !== \"altair-viz-c200545b66314dd392133f6df26b1610\") {\n",
              "      outputDiv = document.getElementById(\"altair-viz-c200545b66314dd392133f6df26b1610\");\n",
              "    }\n",
              "    const paths = {\n",
              "      \"vega\": \"https://cdn.jsdelivr.net/npm//vega@5?noext\",\n",
              "      \"vega-lib\": \"https://cdn.jsdelivr.net/npm//vega-lib?noext\",\n",
              "      \"vega-lite\": \"https://cdn.jsdelivr.net/npm//vega-lite@4.8.1?noext\",\n",
              "      \"vega-embed\": \"https://cdn.jsdelivr.net/npm//vega-embed@6?noext\",\n",
              "    };\n",
              "\n",
              "    function loadScript(lib) {\n",
              "      return new Promise(function(resolve, reject) {\n",
              "        var s = document.createElement('script');\n",
              "        s.src = paths[lib];\n",
              "        s.async = true;\n",
              "        s.onload = () => resolve(paths[lib]);\n",
              "        s.onerror = () => reject(`Error loading script: ${paths[lib]}`);\n",
              "        document.getElementsByTagName(\"head\")[0].appendChild(s);\n",
              "      });\n",
              "    }\n",
              "\n",
              "    function showError(err) {\n",
              "      outputDiv.innerHTML = `<div class=\"error\" style=\"color:red;\">${err}</div>`;\n",
              "      throw err;\n",
              "    }\n",
              "\n",
              "    function displayChart(vegaEmbed) {\n",
              "      vegaEmbed(outputDiv, spec, embedOpt)\n",
              "        .catch(err => showError(`Javascript Error: ${err.message}<br>This usually means there's a typo in your chart specification. See the javascript console for the full traceback.`));\n",
              "    }\n",
              "\n",
              "    if(typeof define === \"function\" && define.amd) {\n",
              "      requirejs.config({paths});\n",
              "      require([\"vega-embed\"], displayChart, err => showError(`Error loading script: ${err.message}`));\n",
              "    } else if (typeof vegaEmbed === \"function\") {\n",
              "      displayChart(vegaEmbed);\n",
              "    } else {\n",
              "      loadScript(\"vega\")\n",
              "        .then(() => loadScript(\"vega-lite\"))\n",
              "        .then(() => loadScript(\"vega-embed\"))\n",
              "        .catch(showError)\n",
              "        .then(() => displayChart(vegaEmbed));\n",
              "    }\n",
              "  })({\"usermeta\": {\"embedOptions\": {\"theme\": \"dark\"}}, \"config\": {\"view\": {\"continuousWidth\": 400, \"continuousHeight\": 300}}, \"layer\": [{\"mark\": \"line\", \"encoding\": {\"x\": {\"type\": \"quantitative\", \"field\": \"x1\"}, \"y\": {\"type\": \"quantitative\", \"field\": \"y1\"}}}, {\"mark\": {\"type\": \"line\", \"color\": \"red\"}, \"encoding\": {\"x\": {\"type\": \"quantitative\", \"field\": \"x2\"}, \"y\": {\"type\": \"quantitative\", \"field\": \"y2\"}}}], \"data\": {\"name\": \"data-57ffab6a26a928c2ff17e40b29b8a272\"}, \"$schema\": \"https://vega.github.io/schema/vega-lite/v4.8.1.json\", \"datasets\": {\"data-57ffab6a26a928c2ff17e40b29b8a272\": [{\"x1\": 0, \"y1\": 8, \"x2\": 0.5, \"y2\": 0}, {\"x1\": 2, \"y1\": 3, \"x2\": 2.0, \"y2\": 3}]}}, {\"mode\": \"vega-lite\"});\n",
              "</script>"
            ]
          },
          "metadata": {
            "tags": []
          },
          "execution_count": 16
        }
      ]
    },
    {
      "cell_type": "code",
      "metadata": {
        "id": "hjPUxCpiBJDx",
        "colab_type": "code",
        "colab": {
          "base_uri": "https://localhost:8080/",
          "height": 68
        },
        "outputId": "ce7cd8f2-1548-4e17-f8fa-08954eacda53"
      },
      "source": [
        "A = np.array([[1,2],[3,4]])\n",
        "print(A)\n",
        "print(f'Matrix shape ::{A.shape}')"
      ],
      "execution_count": null,
      "outputs": [
        {
          "output_type": "stream",
          "text": [
            "[[1 2]\n",
            " [3 4]]\n",
            "Matrix shape ::(2, 2)\n"
          ],
          "name": "stdout"
        }
      ]
    },
    {
      "cell_type": "code",
      "metadata": {
        "id": "XdBH_DU7CKNG",
        "colab_type": "code",
        "colab": {
          "base_uri": "https://localhost:8080/",
          "height": 136
        },
        "outputId": "1b679e95-9eb5-4fb6-c315-7ef7ca0242ef"
      },
      "source": [
        "A = np.array([[0,1],[2,3]])\n",
        "B = np.array([[5,6],[7,8]])\n",
        "\n",
        "print(f'addition ::\\n{A+B}')\n",
        "\n",
        "print(\"#\"*10)\n",
        "\n",
        "print(f'Addition using numpy \\n {np.add(A,B)}')"
      ],
      "execution_count": null,
      "outputs": [
        {
          "output_type": "stream",
          "text": [
            "addition ::\n",
            "[[ 5  7]\n",
            " [ 9 11]]\n",
            "##########\n",
            "Addition using numpy \n",
            " [[ 5  7]\n",
            " [ 9 11]]\n"
          ],
          "name": "stdout"
        }
      ]
    },
    {
      "cell_type": "code",
      "metadata": {
        "id": "umRG9f6IC0Kj",
        "colab_type": "code",
        "colab": {
          "base_uri": "https://localhost:8080/",
          "height": 68
        },
        "outputId": "99823830-b62b-482c-87f7-dfcdab45b866"
      },
      "source": [
        "# Matrix scalar multiplication\n",
        "alpha = 2\n",
        "C = np.array([[1,2],[3,4]])\n",
        "print(f'Multiplication using numpy \\n {np.multiply(alpha,C)}')"
      ],
      "execution_count": null,
      "outputs": [
        {
          "output_type": "stream",
          "text": [
            "Multiplication using numpy \n",
            " [[2 4]\n",
            " [6 8]]\n"
          ],
          "name": "stdout"
        }
      ]
    },
    {
      "cell_type": "code",
      "metadata": {
        "id": "45mxPsuYD5oQ",
        "colab_type": "code",
        "colab": {
          "base_uri": "https://localhost:8080/",
          "height": 119
        },
        "outputId": "6b8b58d1-96e6-4998-fa51-c20f329c41cc"
      },
      "source": [
        "# matrix vector multiplication\n",
        "A = np.array([[0,2],[1,4]])\n",
        "v = np.array([[1],[2]])\n",
        "\n",
        "print(f'Multiplication vector and matrix \\n{np.dot(A,v)}')\n",
        "\n",
        "print(f'withot dot. \\n{A @ v}')\n"
      ],
      "execution_count": null,
      "outputs": [
        {
          "output_type": "stream",
          "text": [
            "Multiplication vector and matrix \n",
            "[[4]\n",
            " [9]]\n",
            "withot dot. \n",
            "[[4]\n",
            " [9]]\n"
          ],
          "name": "stdout"
        }
      ]
    },
    {
      "cell_type": "code",
      "metadata": {
        "id": "y76mvGqtE9Tc",
        "colab_type": "code",
        "colab": {
          "base_uri": "https://localhost:8080/",
          "height": 85
        },
        "outputId": "e51423cc-af68-48c7-dc2a-13051aca58c3"
      },
      "source": [
        "A = np.array([[1,2,1],[4,4,5],[6,7,7]])\n",
        "A_i = np.linalg.inv(A)\n",
        "print(f\"Inverse matrix:: \\n{A_i}\")"
      ],
      "execution_count": null,
      "outputs": [
        {
          "output_type": "stream",
          "text": [
            "Inverse matrix:: \n",
            "[[-7. -7.  6.]\n",
            " [ 2.  1. -1.]\n",
            " [ 4.  5. -4.]]\n"
          ],
          "name": "stdout"
        }
      ]
    },
    {
      "cell_type": "code",
      "metadata": {
        "id": "JEj8jbdiKgnm",
        "colab_type": "code",
        "colab": {
          "base_uri": "https://localhost:8080/",
          "height": 68
        },
        "outputId": "8333ca1b-6468-49d1-92da-f50216bb1124"
      },
      "source": [
        "I = np.round(np.dot(A_i,A))\n",
        "I"
      ],
      "execution_count": null,
      "outputs": [
        {
          "output_type": "execute_result",
          "data": {
            "text/plain": [
              "array([[ 1.,  0.,  0.],\n",
              "       [ 0.,  1., -0.],\n",
              "       [ 0., -0.,  1.]])"
            ]
          },
          "metadata": {
            "tags": []
          },
          "execution_count": 22
        }
      ]
    },
    {
      "cell_type": "code",
      "metadata": {
        "id": "udQSUO5nLzns",
        "colab_type": "code",
        "colab": {
          "base_uri": "https://localhost:8080/",
          "height": 68
        },
        "outputId": "a301d17b-f13d-4d15-f48e-2a5693ddf2a2"
      },
      "source": [
        "# Solving systems of linear equations with Matrices\n",
        "# Gaussian Elimination\n",
        "A = np.array([[1,3,5],[2,2,-1],[1,3,2]])\n",
        "y = np.array([[-1],[1],[2]])\n",
        "\n",
        "W=np.linalg.solve(A,y)\n",
        "print(W)"
      ],
      "execution_count": null,
      "outputs": [
        {
          "output_type": "stream",
          "text": [
            "[[-2.]\n",
            " [ 2.]\n",
            " [-1.]]\n"
          ],
          "name": "stdout"
        }
      ]
    },
    {
      "cell_type": "code",
      "metadata": {
        "id": "ZCvCwpQHZBWP",
        "colab_type": "code",
        "colab": {}
      },
      "source": [
        "# NumPy does not have a method to obtain the row echelon form of a matrix. But, we can use Sympy, a Python library for symbolic mathematics that counts with a module for Matrices operations.SymPy has a method to obtain the reduced row echelon form and the pivots, rref.\n",
        "from sympy import Matrix"
      ],
      "execution_count": null,
      "outputs": []
    },
    {
      "cell_type": "code",
      "metadata": {
        "id": "70c6tnLzdsjE",
        "colab_type": "code",
        "colab": {
          "base_uri": "https://localhost:8080/",
          "height": 68
        },
        "outputId": "63b516f9-309c-465c-b546-4919a623006a"
      },
      "source": [
        "A = Matrix([[1,0,1],[0,1,0]])\n",
        "A_rref, A_pivots = A.rref()\n",
        "print(f\"Reduced form of A is:: \\n{A_rref}\")\n",
        "print(f\"Pivots of A is ::{A_pivots}\")"
      ],
      "execution_count": null,
      "outputs": [
        {
          "output_type": "stream",
          "text": [
            "Reduced form of A is:: \n",
            "Matrix([[1, 0, 1], [0, 1, 0]])\n",
            "Pivots of A is ::(0, 1)\n"
          ],
          "name": "stdout"
        }
      ]
    },
    {
      "cell_type": "code",
      "metadata": {
        "id": "_V6-1SgOeHEY",
        "colab_type": "code",
        "colab": {
          "base_uri": "https://localhost:8080/",
          "height": 68
        },
        "outputId": "42c987d2-96fd-41b0-a68c-4512043066c2"
      },
      "source": [
        "B = Matrix([[1,2,1],[4,4,5],[6,7,7]])\n",
        "B_rref, B_pivots = B.rref()\n",
        "print(f\"Reduced form of B is:: \\n{B_rref}\")\n",
        "print(f\"Pivots of B is ::{B_pivots}\")"
      ],
      "execution_count": null,
      "outputs": [
        {
          "output_type": "stream",
          "text": [
            "Reduced form of B is:: \n",
            "Matrix([[1, 0, 0], [0, 1, 0], [0, 0, 1]])\n",
            "Pivots of B is ::(0, 1, 2)\n"
          ],
          "name": "stdout"
        }
      ]
    },
    {
      "cell_type": "code",
      "metadata": {
        "id": "_t6FsS9BesBW",
        "colab_type": "code",
        "colab": {
          "base_uri": "https://localhost:8080/",
          "height": 68
        },
        "outputId": "2fc4ee14-ebdc-4c0f-ba96-efa60889f2f0"
      },
      "source": [
        "C= Matrix([[1, 2, 3, -1],\n",
        "            [2, -1, -4, 8],\n",
        "            [-1, 1, 3, -5],\n",
        "            [-1, 2, 5, -6],\n",
        "            [-1, -2, -3, 1]])\n",
        "C_rref, C_pivots = C.rref()\n",
        "print(f\"Reduced form of B is:: \\n{C_rref}\")\n",
        "print(f\"Pivots of B is ::{C_pivots}\")"
      ],
      "execution_count": null,
      "outputs": [
        {
          "output_type": "stream",
          "text": [
            "Reduced form of B is:: \n",
            "Matrix([[1, 0, -1, 0], [0, 1, 2, 0], [0, 0, 0, 1], [0, 0, 0, 0], [0, 0, 0, 0]])\n",
            "Pivots of B is ::(0, 1, 3)\n"
          ],
          "name": "stdout"
        }
      ]
    },
    {
      "cell_type": "code",
      "metadata": {
        "id": "2yyWB6BYe9xK",
        "colab_type": "code",
        "colab": {
          "base_uri": "https://localhost:8080/",
          "height": 34
        },
        "outputId": "8e76db58-b315-4cd3-90de-b36677ca89a6"
      },
      "source": [
        "# Froboneious Norm\n",
        "A = np.array([[1, 2, 3],\n",
        "              [4, 5, 6], \n",
        "              [7, 8, 9]])\n",
        "np.linalg.norm(A,'fro')"
      ],
      "execution_count": null,
      "outputs": [
        {
          "output_type": "execute_result",
          "data": {
            "text/plain": [
              "16.881943016134134"
            ]
          },
          "metadata": {
            "tags": []
          },
          "execution_count": 28
        }
      ]
    },
    {
      "cell_type": "code",
      "metadata": {
        "id": "QnPB72W3by0E",
        "colab_type": "code",
        "colab": {
          "base_uri": "https://localhost:8080/",
          "height": 34
        },
        "outputId": "7a1edd1f-c500-4b85-e20d-e056c0e6e4d2"
      },
      "source": [
        "# Max Norm or Infinite Norm\n",
        "A = np.array([[1, 2, 3],\n",
        "              [4, 5, 6], \n",
        "              [7, 8, 9]])\n",
        "np.linalg.norm(A,np.inf)"
      ],
      "execution_count": null,
      "outputs": [
        {
          "output_type": "execute_result",
          "data": {
            "text/plain": [
              "24.0"
            ]
          },
          "metadata": {
            "tags": []
          },
          "execution_count": 29
        }
      ]
    },
    {
      "cell_type": "code",
      "metadata": {
        "id": "ZDf7QBmDcZlt",
        "colab_type": "code",
        "colab": {
          "base_uri": "https://localhost:8080/",
          "height": 34
        },
        "outputId": "2264b9eb-6cf5-4a41-cb7a-48e9e96823db"
      },
      "source": [
        "# Spectral Norm\n",
        "A = np.array([[1, 2, 3],\n",
        "              [4, 5, 6], \n",
        "              [7, 8, 9]])\n",
        "np.linalg.norm(A,2)"
      ],
      "execution_count": null,
      "outputs": [
        {
          "output_type": "execute_result",
          "data": {
            "text/plain": [
              "16.84810335261421"
            ]
          },
          "metadata": {
            "tags": []
          },
          "execution_count": 30
        }
      ]
    },
    {
      "cell_type": "code",
      "metadata": {
        "id": "p7l7z38QeVeH",
        "colab_type": "code",
        "colab": {}
      },
      "source": [
        "# Linear Mappings\n",
        "x = np.array([[-1],\n",
        "              [0],\n",
        "              [1]])\n",
        "\n",
        "y = np.array([[-3],\n",
        "              [0],\n",
        "              [2]])\n",
        "\n",
        "T = np.array([[-1,0,0],\n",
        "              [0,-1,0],\n",
        "              [0,0,-1]])"
      ],
      "execution_count": null,
      "outputs": []
    },
    {
      "cell_type": "code",
      "metadata": {
        "id": "H0R_4q8A9KDP",
        "colab_type": "code",
        "colab": {
          "base_uri": "https://localhost:8080/",
          "height": 153
        },
        "outputId": "7171d6ed-ae6f-4908-b028-f829ab635aee"
      },
      "source": [
        "left_side1 = T @(x + y)\n",
        "right_side1 = T@x+T@y\n",
        "print(\"Left side result''\\n\",left_side1)\n",
        "print(\"Right side result''\\n\",right_side1)"
      ],
      "execution_count": null,
      "outputs": [
        {
          "output_type": "stream",
          "text": [
            "Left side result''\n",
            " [[ 4]\n",
            " [ 0]\n",
            " [-3]]\n",
            "Right side result''\n",
            " [[ 4]\n",
            " [ 0]\n",
            " [-3]]\n"
          ],
          "name": "stdout"
        }
      ]
    },
    {
      "cell_type": "code",
      "metadata": {
        "id": "41_Zt1M59kZd",
        "colab_type": "code",
        "colab": {
          "base_uri": "https://localhost:8080/",
          "height": 153
        },
        "outputId": "414550a8-ba94-4517-9c33-0407f895cf8d"
      },
      "source": [
        "alpha = 2\n",
        "leftside2 = T@(alpha*x)\n",
        "right_side2 =alpha*(T@x)\n",
        "print(\"Left side result''\\n\",leftside2)\n",
        "print(\"Right side result''\\n\",right_side2)"
      ],
      "execution_count": null,
      "outputs": [
        {
          "output_type": "stream",
          "text": [
            "Left side result''\n",
            " [[ 2]\n",
            " [ 0]\n",
            " [-2]]\n",
            "Right side result''\n",
            " [[ 2]\n",
            " [ 0]\n",
            " [-2]]\n"
          ],
          "name": "stdout"
        }
      ]
    },
    {
      "cell_type": "code",
      "metadata": {
        "id": "CV9xctL0-RKp",
        "colab_type": "code",
        "colab": {}
      },
      "source": [
        "# Reversal Matrix\n",
        "x = np.array([[-1],\n",
        "              [0],\n",
        "              [1]])\n",
        "\n",
        "y = np.array([[-3],\n",
        "              [0],\n",
        "              [2]])\n",
        "\n",
        "T = np.array([[0,0,1],\n",
        "              [0,1,0],\n",
        "              [1,0,0]])"
      ],
      "execution_count": null,
      "outputs": []
    },
    {
      "cell_type": "code",
      "metadata": {
        "id": "9kWXuk0c-1Vb",
        "colab_type": "code",
        "colab": {
          "base_uri": "https://localhost:8080/",
          "height": 323
        },
        "outputId": "6a538fee-dcb8-4012-bfc4-fbea5dcd73af"
      },
      "source": [
        "x_rev = T @x\n",
        "y_rev = T@y\n",
        "left_side3 = T @(x+y)\n",
        "right_side3 = T@x + T@y\n",
        "\n",
        "print(f\"x is {x} \\n reversal is {x_rev}\")\n",
        "print(f\"x is {y} \\n reversal is {y_rev}\")\n",
        "\n",
        "print(f\"Left side result = right side result \\n {left_side3}=={right_side3}\")"
      ],
      "execution_count": null,
      "outputs": [
        {
          "output_type": "stream",
          "text": [
            "x is [[-1]\n",
            " [ 0]\n",
            " [ 1]] \n",
            " reversal is [[ 1]\n",
            " [ 0]\n",
            " [-1]]\n",
            "x is [[-3]\n",
            " [ 0]\n",
            " [ 2]] \n",
            " reversal is [[ 2]\n",
            " [ 0]\n",
            " [-3]]\n",
            "Left side result = right side result \n",
            " [[ 3]\n",
            " [ 0]\n",
            " [-4]]==[[ 3]\n",
            " [ 0]\n",
            " [-4]]\n"
          ],
          "name": "stdout"
        }
      ]
    },
    {
      "cell_type": "code",
      "metadata": {
        "id": "B_VpoLnXAJ5S",
        "colab_type": "code",
        "colab": {
          "base_uri": "https://localhost:8080/",
          "height": 153
        },
        "outputId": "24503b89-084e-4928-d62d-4f85ac4bfcbd"
      },
      "source": [
        "alpha = 2\n",
        "left_side_2 = T @ (alpha * x)\n",
        "right_side_2 = alpha * (T @ x)\n",
        "print(f\"Left side of the equation:\\n{left_side_2}\")\n",
        "print(f\"Right side of the equation:\\n{right_side_2}\")"
      ],
      "execution_count": null,
      "outputs": [
        {
          "output_type": "stream",
          "text": [
            "Left side of the equation:\n",
            "[[ 2]\n",
            " [ 0]\n",
            " [-2]]\n",
            "Right side of the equation:\n",
            "[[ 2]\n",
            " [ 0]\n",
            " [-2]]\n"
          ],
          "name": "stdout"
        }
      ]
    },
    {
      "cell_type": "code",
      "metadata": {
        "id": "UaNBf-SgAzmb",
        "colab_type": "code",
        "colab": {}
      },
      "source": [
        "# Linear Mappings\n",
        "# Scaling\n",
        "# y = Ax\n",
        "\n",
        "A = np.array([[2.0, 0],\n",
        "              [0, 2.0]])\n",
        "\n",
        "x = np.array([[0, 2.0,],\n",
        "              [0, 4.0,]])\n",
        "\n",
        "y = A @ x"
      ],
      "execution_count": null,
      "outputs": []
    },
    {
      "cell_type": "code",
      "metadata": {
        "id": "sbQ1WbTSKfA8",
        "colab_type": "code",
        "colab": {
          "base_uri": "https://localhost:8080/",
          "height": 173
        },
        "outputId": "dd38e7ce-f32c-4069-d92d-4c517d1300ce"
      },
      "source": [
        "z = np.column_stack((y,x))\n",
        "df = pd.DataFrame({\"dim-1\":z[0],\"dim-2\":z[1],'type': ['tran', 'tran', 'base', 'base']})\n",
        "df"
      ],
      "execution_count": null,
      "outputs": [
        {
          "output_type": "execute_result",
          "data": {
            "text/html": [
              "<div>\n",
              "<style scoped>\n",
              "    .dataframe tbody tr th:only-of-type {\n",
              "        vertical-align: middle;\n",
              "    }\n",
              "\n",
              "    .dataframe tbody tr th {\n",
              "        vertical-align: top;\n",
              "    }\n",
              "\n",
              "    .dataframe thead th {\n",
              "        text-align: right;\n",
              "    }\n",
              "</style>\n",
              "<table border=\"1\" class=\"dataframe\">\n",
              "  <thead>\n",
              "    <tr style=\"text-align: right;\">\n",
              "      <th></th>\n",
              "      <th>dim-1</th>\n",
              "      <th>dim-2</th>\n",
              "      <th>type</th>\n",
              "    </tr>\n",
              "  </thead>\n",
              "  <tbody>\n",
              "    <tr>\n",
              "      <th>0</th>\n",
              "      <td>0.0</td>\n",
              "      <td>0.0</td>\n",
              "      <td>tran</td>\n",
              "    </tr>\n",
              "    <tr>\n",
              "      <th>1</th>\n",
              "      <td>4.0</td>\n",
              "      <td>8.0</td>\n",
              "      <td>tran</td>\n",
              "    </tr>\n",
              "    <tr>\n",
              "      <th>2</th>\n",
              "      <td>0.0</td>\n",
              "      <td>0.0</td>\n",
              "      <td>base</td>\n",
              "    </tr>\n",
              "    <tr>\n",
              "      <th>3</th>\n",
              "      <td>2.0</td>\n",
              "      <td>4.0</td>\n",
              "      <td>base</td>\n",
              "    </tr>\n",
              "  </tbody>\n",
              "</table>\n",
              "</div>"
            ],
            "text/plain": [
              "   dim-1  dim-2  type\n",
              "0    0.0    0.0  tran\n",
              "1    4.0    8.0  tran\n",
              "2    0.0    0.0  base\n",
              "3    2.0    4.0  base"
            ]
          },
          "metadata": {
            "tags": []
          },
          "execution_count": 38
        }
      ]
    },
    {
      "cell_type": "code",
      "metadata": {
        "id": "m3k9hUMDK5he",
        "colab_type": "code",
        "colab": {
          "base_uri": "https://localhost:8080/",
          "height": 368
        },
        "outputId": "b069fbd2-2c6c-4ac5-ba67-e61d0f8bf41f"
      },
      "source": [
        "chart = alt.Chart(df).mark_line(opacity =0.8).encode(x = 'dim-1',y = 'dim-2',color='type',strokeDash= 'type')\n",
        "chart"
      ],
      "execution_count": null,
      "outputs": [
        {
          "output_type": "execute_result",
          "data": {
            "text/plain": [
              "alt.Chart(...)"
            ],
            "text/html": [
              "\n",
              "<div id=\"altair-viz-0bc8312e03554627ba99be7a6b587f44\"></div>\n",
              "<script type=\"text/javascript\">\n",
              "  (function(spec, embedOpt){\n",
              "    let outputDiv = document.currentScript.previousElementSibling;\n",
              "    if (outputDiv.id !== \"altair-viz-0bc8312e03554627ba99be7a6b587f44\") {\n",
              "      outputDiv = document.getElementById(\"altair-viz-0bc8312e03554627ba99be7a6b587f44\");\n",
              "    }\n",
              "    const paths = {\n",
              "      \"vega\": \"https://cdn.jsdelivr.net/npm//vega@5?noext\",\n",
              "      \"vega-lib\": \"https://cdn.jsdelivr.net/npm//vega-lib?noext\",\n",
              "      \"vega-lite\": \"https://cdn.jsdelivr.net/npm//vega-lite@4.8.1?noext\",\n",
              "      \"vega-embed\": \"https://cdn.jsdelivr.net/npm//vega-embed@6?noext\",\n",
              "    };\n",
              "\n",
              "    function loadScript(lib) {\n",
              "      return new Promise(function(resolve, reject) {\n",
              "        var s = document.createElement('script');\n",
              "        s.src = paths[lib];\n",
              "        s.async = true;\n",
              "        s.onload = () => resolve(paths[lib]);\n",
              "        s.onerror = () => reject(`Error loading script: ${paths[lib]}`);\n",
              "        document.getElementsByTagName(\"head\")[0].appendChild(s);\n",
              "      });\n",
              "    }\n",
              "\n",
              "    function showError(err) {\n",
              "      outputDiv.innerHTML = `<div class=\"error\" style=\"color:red;\">${err}</div>`;\n",
              "      throw err;\n",
              "    }\n",
              "\n",
              "    function displayChart(vegaEmbed) {\n",
              "      vegaEmbed(outputDiv, spec, embedOpt)\n",
              "        .catch(err => showError(`Javascript Error: ${err.message}<br>This usually means there's a typo in your chart specification. See the javascript console for the full traceback.`));\n",
              "    }\n",
              "\n",
              "    if(typeof define === \"function\" && define.amd) {\n",
              "      requirejs.config({paths});\n",
              "      require([\"vega-embed\"], displayChart, err => showError(`Error loading script: ${err.message}`));\n",
              "    } else if (typeof vegaEmbed === \"function\") {\n",
              "      displayChart(vegaEmbed);\n",
              "    } else {\n",
              "      loadScript(\"vega\")\n",
              "        .then(() => loadScript(\"vega-lite\"))\n",
              "        .then(() => loadScript(\"vega-embed\"))\n",
              "        .catch(showError)\n",
              "        .then(() => displayChart(vegaEmbed));\n",
              "    }\n",
              "  })({\"usermeta\": {\"embedOptions\": {\"theme\": \"dark\"}}, \"config\": {\"view\": {\"continuousWidth\": 400, \"continuousHeight\": 300}}, \"data\": {\"name\": \"data-9f7a3cb65390d8e1f055fe5dbda17177\"}, \"mark\": {\"type\": \"line\", \"opacity\": 0.8}, \"encoding\": {\"color\": {\"type\": \"nominal\", \"field\": \"type\"}, \"strokeDash\": {\"type\": \"nominal\", \"field\": \"type\"}, \"x\": {\"type\": \"quantitative\", \"field\": \"dim-1\"}, \"y\": {\"type\": \"quantitative\", \"field\": \"dim-2\"}}, \"$schema\": \"https://vega.github.io/schema/vega-lite/v4.8.1.json\", \"datasets\": {\"data-9f7a3cb65390d8e1f055fe5dbda17177\": [{\"dim-1\": 0.0, \"dim-2\": 0.0, \"type\": \"tran\"}, {\"dim-1\": 4.0, \"dim-2\": 8.0, \"type\": \"tran\"}, {\"dim-1\": 0.0, \"dim-2\": 0.0, \"type\": \"base\"}, {\"dim-1\": 2.0, \"dim-2\": 4.0, \"type\": \"base\"}]}}, {\"mode\": \"vega-lite\"});\n",
              "</script>"
            ]
          },
          "metadata": {
            "tags": []
          },
          "execution_count": 39
        }
      ]
    },
    {
      "cell_type": "code",
      "metadata": {
        "id": "iue58ONwLhaQ",
        "colab_type": "code",
        "colab": {}
      },
      "source": [
        "# Reflection\n",
        "# rotation along the horiontal axis\n",
        "A1 = np.array([[1.0, 0],\n",
        "               [0, -1.0]])\n",
        "\n",
        "# rotation along the vertical axis\n",
        "A2 = np.array([[-1.0, 0],\n",
        "               [0, 1.0]])\n",
        "\n",
        "# rotation along the line at 45 degrees from the origin\n",
        "A3 = np.array([[0, 1.0],\n",
        "               [1.0, 0]])\n",
        "\n",
        "# rotation along the line at -45 degrees from the origin\n",
        "A4 = np.array([[0, -1.0],\n",
        "               [-1.0, 0]])\n",
        "\n",
        "x = np.array([[0, 2.0,],\n",
        "              [0, 4.0,]])"
      ],
      "execution_count": null,
      "outputs": []
    },
    {
      "cell_type": "code",
      "metadata": {
        "id": "JurCShxzMuQA",
        "colab_type": "code",
        "colab": {
          "base_uri": "https://localhost:8080/",
          "height": 359
        },
        "outputId": "8083b6c0-7e02-4312-964c-21dee2b311d3"
      },
      "source": [
        "y1 = A1@x\n",
        "y2 = A2@x\n",
        "y3 = A3@x\n",
        "y4 = A4@x\n",
        "\n",
        "z = np.column_stack((x,y1,y2,y3,y4))\n",
        "df = pd.DataFrame({\"dim-1\":z[0],\"dim-2\":z[1],'reflection': ['original', 'original',\n",
        "                                  '0-degrees', '0-degrees',\n",
        "                                  '90-degrees', '90-degrees', \n",
        "                                  '45-degrees', '45-degrees', \n",
        "                                  'neg-45-degrees', 'neg-45-degrees']})\n",
        "df"
      ],
      "execution_count": null,
      "outputs": [
        {
          "output_type": "execute_result",
          "data": {
            "text/html": [
              "<div>\n",
              "<style scoped>\n",
              "    .dataframe tbody tr th:only-of-type {\n",
              "        vertical-align: middle;\n",
              "    }\n",
              "\n",
              "    .dataframe tbody tr th {\n",
              "        vertical-align: top;\n",
              "    }\n",
              "\n",
              "    .dataframe thead th {\n",
              "        text-align: right;\n",
              "    }\n",
              "</style>\n",
              "<table border=\"1\" class=\"dataframe\">\n",
              "  <thead>\n",
              "    <tr style=\"text-align: right;\">\n",
              "      <th></th>\n",
              "      <th>dim-1</th>\n",
              "      <th>dim-2</th>\n",
              "      <th>reflection</th>\n",
              "    </tr>\n",
              "  </thead>\n",
              "  <tbody>\n",
              "    <tr>\n",
              "      <th>0</th>\n",
              "      <td>0.0</td>\n",
              "      <td>0.0</td>\n",
              "      <td>original</td>\n",
              "    </tr>\n",
              "    <tr>\n",
              "      <th>1</th>\n",
              "      <td>2.0</td>\n",
              "      <td>4.0</td>\n",
              "      <td>original</td>\n",
              "    </tr>\n",
              "    <tr>\n",
              "      <th>2</th>\n",
              "      <td>0.0</td>\n",
              "      <td>0.0</td>\n",
              "      <td>0-degrees</td>\n",
              "    </tr>\n",
              "    <tr>\n",
              "      <th>3</th>\n",
              "      <td>2.0</td>\n",
              "      <td>-4.0</td>\n",
              "      <td>0-degrees</td>\n",
              "    </tr>\n",
              "    <tr>\n",
              "      <th>4</th>\n",
              "      <td>0.0</td>\n",
              "      <td>0.0</td>\n",
              "      <td>90-degrees</td>\n",
              "    </tr>\n",
              "    <tr>\n",
              "      <th>5</th>\n",
              "      <td>-2.0</td>\n",
              "      <td>4.0</td>\n",
              "      <td>90-degrees</td>\n",
              "    </tr>\n",
              "    <tr>\n",
              "      <th>6</th>\n",
              "      <td>0.0</td>\n",
              "      <td>0.0</td>\n",
              "      <td>45-degrees</td>\n",
              "    </tr>\n",
              "    <tr>\n",
              "      <th>7</th>\n",
              "      <td>4.0</td>\n",
              "      <td>2.0</td>\n",
              "      <td>45-degrees</td>\n",
              "    </tr>\n",
              "    <tr>\n",
              "      <th>8</th>\n",
              "      <td>0.0</td>\n",
              "      <td>0.0</td>\n",
              "      <td>neg-45-degrees</td>\n",
              "    </tr>\n",
              "    <tr>\n",
              "      <th>9</th>\n",
              "      <td>-4.0</td>\n",
              "      <td>-2.0</td>\n",
              "      <td>neg-45-degrees</td>\n",
              "    </tr>\n",
              "  </tbody>\n",
              "</table>\n",
              "</div>"
            ],
            "text/plain": [
              "   dim-1  dim-2      reflection\n",
              "0    0.0    0.0        original\n",
              "1    2.0    4.0        original\n",
              "2    0.0    0.0       0-degrees\n",
              "3    2.0   -4.0       0-degrees\n",
              "4    0.0    0.0      90-degrees\n",
              "5   -2.0    4.0      90-degrees\n",
              "6    0.0    0.0      45-degrees\n",
              "7    4.0    2.0      45-degrees\n",
              "8    0.0    0.0  neg-45-degrees\n",
              "9   -4.0   -2.0  neg-45-degrees"
            ]
          },
          "metadata": {
            "tags": []
          },
          "execution_count": 41
        }
      ]
    },
    {
      "cell_type": "code",
      "metadata": {
        "id": "Rzo4Kx1rNjxm",
        "colab_type": "code",
        "colab": {}
      },
      "source": [
        "def base_coor(ran1: float, ran2: float):\n",
        "    '''return base chart with coordinate space'''\n",
        "    df_base = pd.DataFrame({'horizontal': np.linspace(ran1, ran2, num=2), 'vertical': np.zeros(2)})\n",
        "\n",
        "    h = alt.Chart(df_base).mark_line(color='white').encode(\n",
        "        x='horizontal',\n",
        "        y='vertical')\n",
        "    v = alt.Chart(df_base).mark_line(color='white').encode(\n",
        "        y='horizontal',\n",
        "        x='vertical')\n",
        "    base = h + v\n",
        "\n",
        "    return base"
      ],
      "execution_count": null,
      "outputs": []
    },
    {
      "cell_type": "code",
      "metadata": {
        "id": "3vlpK7dLQGzb",
        "colab_type": "code",
        "colab": {
          "base_uri": "https://localhost:8080/",
          "height": 368
        },
        "outputId": "32570166-edc2-43b9-b83d-609d25445013"
      },
      "source": [
        "chart = alt.Chart(df).mark_line().encode(\n",
        "    x=alt.X('dim-1', axis=alt.Axis(title='horizontal-axis')),\n",
        "    y=alt.Y('dim-2', axis=alt.Axis(title='vertical-axis')),\n",
        "    color='reflection')\n",
        "base_coor(-5.0, 5.0) + chart"
      ],
      "execution_count": null,
      "outputs": [
        {
          "output_type": "execute_result",
          "data": {
            "text/plain": [
              "alt.LayerChart(...)"
            ],
            "text/html": [
              "\n",
              "<div id=\"altair-viz-a5131c928f6e42aba628490c4cd88efe\"></div>\n",
              "<script type=\"text/javascript\">\n",
              "  (function(spec, embedOpt){\n",
              "    let outputDiv = document.currentScript.previousElementSibling;\n",
              "    if (outputDiv.id !== \"altair-viz-a5131c928f6e42aba628490c4cd88efe\") {\n",
              "      outputDiv = document.getElementById(\"altair-viz-a5131c928f6e42aba628490c4cd88efe\");\n",
              "    }\n",
              "    const paths = {\n",
              "      \"vega\": \"https://cdn.jsdelivr.net/npm//vega@5?noext\",\n",
              "      \"vega-lib\": \"https://cdn.jsdelivr.net/npm//vega-lib?noext\",\n",
              "      \"vega-lite\": \"https://cdn.jsdelivr.net/npm//vega-lite@4.8.1?noext\",\n",
              "      \"vega-embed\": \"https://cdn.jsdelivr.net/npm//vega-embed@6?noext\",\n",
              "    };\n",
              "\n",
              "    function loadScript(lib) {\n",
              "      return new Promise(function(resolve, reject) {\n",
              "        var s = document.createElement('script');\n",
              "        s.src = paths[lib];\n",
              "        s.async = true;\n",
              "        s.onload = () => resolve(paths[lib]);\n",
              "        s.onerror = () => reject(`Error loading script: ${paths[lib]}`);\n",
              "        document.getElementsByTagName(\"head\")[0].appendChild(s);\n",
              "      });\n",
              "    }\n",
              "\n",
              "    function showError(err) {\n",
              "      outputDiv.innerHTML = `<div class=\"error\" style=\"color:red;\">${err}</div>`;\n",
              "      throw err;\n",
              "    }\n",
              "\n",
              "    function displayChart(vegaEmbed) {\n",
              "      vegaEmbed(outputDiv, spec, embedOpt)\n",
              "        .catch(err => showError(`Javascript Error: ${err.message}<br>This usually means there's a typo in your chart specification. See the javascript console for the full traceback.`));\n",
              "    }\n",
              "\n",
              "    if(typeof define === \"function\" && define.amd) {\n",
              "      requirejs.config({paths});\n",
              "      require([\"vega-embed\"], displayChart, err => showError(`Error loading script: ${err.message}`));\n",
              "    } else if (typeof vegaEmbed === \"function\") {\n",
              "      displayChart(vegaEmbed);\n",
              "    } else {\n",
              "      loadScript(\"vega\")\n",
              "        .then(() => loadScript(\"vega-lite\"))\n",
              "        .then(() => loadScript(\"vega-embed\"))\n",
              "        .catch(showError)\n",
              "        .then(() => displayChart(vegaEmbed));\n",
              "    }\n",
              "  })({\"usermeta\": {\"embedOptions\": {\"theme\": \"dark\"}}, \"config\": {\"view\": {\"continuousWidth\": 400, \"continuousHeight\": 300}}, \"layer\": [{\"mark\": {\"type\": \"line\", \"color\": \"white\"}, \"encoding\": {\"x\": {\"type\": \"quantitative\", \"field\": \"horizontal\"}, \"y\": {\"type\": \"quantitative\", \"field\": \"vertical\"}}}, {\"mark\": {\"type\": \"line\", \"color\": \"white\"}, \"encoding\": {\"x\": {\"type\": \"quantitative\", \"field\": \"vertical\"}, \"y\": {\"type\": \"quantitative\", \"field\": \"horizontal\"}}}, {\"data\": {\"name\": \"data-d6c1c641e6407b304d469e8de4bf7492\"}, \"mark\": \"line\", \"encoding\": {\"color\": {\"type\": \"nominal\", \"field\": \"reflection\"}, \"x\": {\"type\": \"quantitative\", \"axis\": {\"title\": \"horizontal-axis\"}, \"field\": \"dim-1\"}, \"y\": {\"type\": \"quantitative\", \"axis\": {\"title\": \"vertical-axis\"}, \"field\": \"dim-2\"}}}], \"data\": {\"name\": \"data-dc621955550350bfc1b0624dd9983169\"}, \"$schema\": \"https://vega.github.io/schema/vega-lite/v4.8.1.json\", \"datasets\": {\"data-dc621955550350bfc1b0624dd9983169\": [{\"horizontal\": -5.0, \"vertical\": 0.0}, {\"horizontal\": 5.0, \"vertical\": 0.0}], \"data-d6c1c641e6407b304d469e8de4bf7492\": [{\"dim-1\": 0.0, \"dim-2\": 0.0, \"reflection\": \"original\"}, {\"dim-1\": 2.0, \"dim-2\": 4.0, \"reflection\": \"original\"}, {\"dim-1\": 0.0, \"dim-2\": 0.0, \"reflection\": \"0-degrees\"}, {\"dim-1\": 2.0, \"dim-2\": -4.0, \"reflection\": \"0-degrees\"}, {\"dim-1\": 0.0, \"dim-2\": 0.0, \"reflection\": \"90-degrees\"}, {\"dim-1\": -2.0, \"dim-2\": 4.0, \"reflection\": \"90-degrees\"}, {\"dim-1\": 0.0, \"dim-2\": 0.0, \"reflection\": \"45-degrees\"}, {\"dim-1\": 4.0, \"dim-2\": 2.0, \"reflection\": \"45-degrees\"}, {\"dim-1\": 0.0, \"dim-2\": 0.0, \"reflection\": \"neg-45-degrees\"}, {\"dim-1\": -4.0, \"dim-2\": -2.0, \"reflection\": \"neg-45-degrees\"}]}}, {\"mode\": \"vega-lite\"});\n",
              "</script>"
            ]
          },
          "metadata": {
            "tags": []
          },
          "execution_count": 43
        }
      ]
    },
    {
      "cell_type": "code",
      "metadata": {
        "id": "UiFuRQG-QJDW",
        "colab_type": "code",
        "colab": {}
      },
      "source": [
        "# shear\n",
        "# shear along the horiontal axis\n",
        "A1 = np.array([[1.0, 1.5],\n",
        "               [0, 1.0]])\n",
        "\n",
        "x = np.array([[0, 2.0,],\n",
        "              [0, 4.0,]])\n",
        "\n",
        "u = np.array([[2, 4.0,],\n",
        "              [0, 4.0,]])\n",
        "\n",
        "y1 = A1@x\n",
        "y2 = A1@u\n",
        "\n",
        "z  = np.column_stack((x,y1,u,y2))"
      ],
      "execution_count": null,
      "outputs": []
    },
    {
      "cell_type": "code",
      "metadata": {
        "id": "P_Py9ruFRfKt",
        "colab_type": "code",
        "colab": {}
      },
      "source": [
        "df = pd.DataFrame({'dim-1': z[0], 'dim-2':z[1],\n",
        "                   'shear': ['original', 'original',\n",
        "                             'horizontal', 'horizontal',\n",
        "                             'original-2', 'original-2',\n",
        "                             'horizontal-2', 'horizontal-2'\n",
        "                            ]})"
      ],
      "execution_count": null,
      "outputs": []
    },
    {
      "cell_type": "code",
      "metadata": {
        "id": "CdOkZp8aRoDS",
        "colab_type": "code",
        "colab": {
          "base_uri": "https://localhost:8080/",
          "height": 368
        },
        "outputId": "9d424272-8a11-4865-d6e5-b901d90f38aa"
      },
      "source": [
        "chart = alt.Chart(df).mark_line().encode(\n",
        "    x = alt.X('dim-1',axis=alt.Axis(title='horizontal-axis')),\n",
        "    y= alt.Y('dim-2',axis=alt.Axis(title='vertical-axis')),\n",
        "    color='shear'\n",
        ")\n",
        "\n",
        "base_coor(-10.0, 10.0) + chart"
      ],
      "execution_count": null,
      "outputs": [
        {
          "output_type": "execute_result",
          "data": {
            "text/plain": [
              "alt.LayerChart(...)"
            ],
            "text/html": [
              "\n",
              "<div id=\"altair-viz-7507fb264ea044258db00c889beaaef4\"></div>\n",
              "<script type=\"text/javascript\">\n",
              "  (function(spec, embedOpt){\n",
              "    let outputDiv = document.currentScript.previousElementSibling;\n",
              "    if (outputDiv.id !== \"altair-viz-7507fb264ea044258db00c889beaaef4\") {\n",
              "      outputDiv = document.getElementById(\"altair-viz-7507fb264ea044258db00c889beaaef4\");\n",
              "    }\n",
              "    const paths = {\n",
              "      \"vega\": \"https://cdn.jsdelivr.net/npm//vega@5?noext\",\n",
              "      \"vega-lib\": \"https://cdn.jsdelivr.net/npm//vega-lib?noext\",\n",
              "      \"vega-lite\": \"https://cdn.jsdelivr.net/npm//vega-lite@4.8.1?noext\",\n",
              "      \"vega-embed\": \"https://cdn.jsdelivr.net/npm//vega-embed@6?noext\",\n",
              "    };\n",
              "\n",
              "    function loadScript(lib) {\n",
              "      return new Promise(function(resolve, reject) {\n",
              "        var s = document.createElement('script');\n",
              "        s.src = paths[lib];\n",
              "        s.async = true;\n",
              "        s.onload = () => resolve(paths[lib]);\n",
              "        s.onerror = () => reject(`Error loading script: ${paths[lib]}`);\n",
              "        document.getElementsByTagName(\"head\")[0].appendChild(s);\n",
              "      });\n",
              "    }\n",
              "\n",
              "    function showError(err) {\n",
              "      outputDiv.innerHTML = `<div class=\"error\" style=\"color:red;\">${err}</div>`;\n",
              "      throw err;\n",
              "    }\n",
              "\n",
              "    function displayChart(vegaEmbed) {\n",
              "      vegaEmbed(outputDiv, spec, embedOpt)\n",
              "        .catch(err => showError(`Javascript Error: ${err.message}<br>This usually means there's a typo in your chart specification. See the javascript console for the full traceback.`));\n",
              "    }\n",
              "\n",
              "    if(typeof define === \"function\" && define.amd) {\n",
              "      requirejs.config({paths});\n",
              "      require([\"vega-embed\"], displayChart, err => showError(`Error loading script: ${err.message}`));\n",
              "    } else if (typeof vegaEmbed === \"function\") {\n",
              "      displayChart(vegaEmbed);\n",
              "    } else {\n",
              "      loadScript(\"vega\")\n",
              "        .then(() => loadScript(\"vega-lite\"))\n",
              "        .then(() => loadScript(\"vega-embed\"))\n",
              "        .catch(showError)\n",
              "        .then(() => displayChart(vegaEmbed));\n",
              "    }\n",
              "  })({\"usermeta\": {\"embedOptions\": {\"theme\": \"dark\"}}, \"config\": {\"view\": {\"continuousWidth\": 400, \"continuousHeight\": 300}}, \"layer\": [{\"mark\": {\"type\": \"line\", \"color\": \"white\"}, \"encoding\": {\"x\": {\"type\": \"quantitative\", \"field\": \"horizontal\"}, \"y\": {\"type\": \"quantitative\", \"field\": \"vertical\"}}}, {\"mark\": {\"type\": \"line\", \"color\": \"white\"}, \"encoding\": {\"x\": {\"type\": \"quantitative\", \"field\": \"vertical\"}, \"y\": {\"type\": \"quantitative\", \"field\": \"horizontal\"}}}, {\"data\": {\"name\": \"data-d2b6d700081f3dc3271961cd2c42922c\"}, \"mark\": \"line\", \"encoding\": {\"color\": {\"type\": \"nominal\", \"field\": \"shear\"}, \"x\": {\"type\": \"quantitative\", \"axis\": {\"title\": \"horizontal-axis\"}, \"field\": \"dim-1\"}, \"y\": {\"type\": \"quantitative\", \"axis\": {\"title\": \"vertical-axis\"}, \"field\": \"dim-2\"}}}], \"data\": {\"name\": \"data-96681c004470aeccfe62f2fca6f07f23\"}, \"$schema\": \"https://vega.github.io/schema/vega-lite/v4.8.1.json\", \"datasets\": {\"data-96681c004470aeccfe62f2fca6f07f23\": [{\"horizontal\": -10.0, \"vertical\": 0.0}, {\"horizontal\": 10.0, \"vertical\": 0.0}], \"data-d2b6d700081f3dc3271961cd2c42922c\": [{\"dim-1\": 0.0, \"dim-2\": 0.0, \"shear\": \"original\"}, {\"dim-1\": 2.0, \"dim-2\": 4.0, \"shear\": \"original\"}, {\"dim-1\": 0.0, \"dim-2\": 0.0, \"shear\": \"horizontal\"}, {\"dim-1\": 8.0, \"dim-2\": 4.0, \"shear\": \"horizontal\"}, {\"dim-1\": 2.0, \"dim-2\": 0.0, \"shear\": \"original-2\"}, {\"dim-1\": 4.0, \"dim-2\": 4.0, \"shear\": \"original-2\"}, {\"dim-1\": 2.0, \"dim-2\": 0.0, \"shear\": \"horizontal-2\"}, {\"dim-1\": 10.0, \"dim-2\": 4.0, \"shear\": \"horizontal-2\"}]}}, {\"mode\": \"vega-lite\"});\n",
              "</script>"
            ]
          },
          "metadata": {
            "tags": []
          },
          "execution_count": 46
        }
      ]
    },
    {
      "cell_type": "code",
      "metadata": {
        "id": "llG7EBl9SNBL",
        "colab_type": "code",
        "colab": {}
      },
      "source": [
        "# Rotation\n",
        "# 90-degrees roration \n",
        "A1 = np.array([[0, -1.0],\n",
        "               [1, 0]])\n",
        "\n",
        "# 180-degrees roration \n",
        "A2 = np.array([[-1.0, 0],\n",
        "               [0, -1.0]])\n",
        "\n",
        "# 270-degrees roration \n",
        "A3 = np.array([[0, 1.0],\n",
        "               [-1.0, 0]])\n",
        "\n",
        "x = np.array([[0, 2.0,],\n",
        "              [0, 4.0,]])"
      ],
      "execution_count": null,
      "outputs": []
    },
    {
      "cell_type": "code",
      "metadata": {
        "id": "AZuRwawHTcl8",
        "colab_type": "code",
        "colab": {
          "base_uri": "https://localhost:8080/",
          "height": 297
        },
        "outputId": "ff445caa-ba13-4bec-c789-b7b99d45ba32"
      },
      "source": [
        "y1 = A1@x\n",
        "y2 = A2@x\n",
        "y3 = A3@x\n",
        "\n",
        "z = np.column_stack((x,y1,y2,y3))\n",
        "\n",
        "df = pd.DataFrame({'dim-1': z[0], 'dim-2':z[1],\n",
        "                   'rotation': ['original', 'original',\n",
        "                             '90-degrees', '90-degrees',\n",
        "                             '180-degrees', '180-degrees',\n",
        "                             '270-degrees', '270-degrees'\n",
        "                            ]})\n",
        "df"
      ],
      "execution_count": null,
      "outputs": [
        {
          "output_type": "execute_result",
          "data": {
            "text/html": [
              "<div>\n",
              "<style scoped>\n",
              "    .dataframe tbody tr th:only-of-type {\n",
              "        vertical-align: middle;\n",
              "    }\n",
              "\n",
              "    .dataframe tbody tr th {\n",
              "        vertical-align: top;\n",
              "    }\n",
              "\n",
              "    .dataframe thead th {\n",
              "        text-align: right;\n",
              "    }\n",
              "</style>\n",
              "<table border=\"1\" class=\"dataframe\">\n",
              "  <thead>\n",
              "    <tr style=\"text-align: right;\">\n",
              "      <th></th>\n",
              "      <th>dim-1</th>\n",
              "      <th>dim-2</th>\n",
              "      <th>rotation</th>\n",
              "    </tr>\n",
              "  </thead>\n",
              "  <tbody>\n",
              "    <tr>\n",
              "      <th>0</th>\n",
              "      <td>0.0</td>\n",
              "      <td>0.0</td>\n",
              "      <td>original</td>\n",
              "    </tr>\n",
              "    <tr>\n",
              "      <th>1</th>\n",
              "      <td>2.0</td>\n",
              "      <td>4.0</td>\n",
              "      <td>original</td>\n",
              "    </tr>\n",
              "    <tr>\n",
              "      <th>2</th>\n",
              "      <td>0.0</td>\n",
              "      <td>0.0</td>\n",
              "      <td>90-degrees</td>\n",
              "    </tr>\n",
              "    <tr>\n",
              "      <th>3</th>\n",
              "      <td>-4.0</td>\n",
              "      <td>2.0</td>\n",
              "      <td>90-degrees</td>\n",
              "    </tr>\n",
              "    <tr>\n",
              "      <th>4</th>\n",
              "      <td>0.0</td>\n",
              "      <td>0.0</td>\n",
              "      <td>180-degrees</td>\n",
              "    </tr>\n",
              "    <tr>\n",
              "      <th>5</th>\n",
              "      <td>-2.0</td>\n",
              "      <td>-4.0</td>\n",
              "      <td>180-degrees</td>\n",
              "    </tr>\n",
              "    <tr>\n",
              "      <th>6</th>\n",
              "      <td>0.0</td>\n",
              "      <td>0.0</td>\n",
              "      <td>270-degrees</td>\n",
              "    </tr>\n",
              "    <tr>\n",
              "      <th>7</th>\n",
              "      <td>4.0</td>\n",
              "      <td>-2.0</td>\n",
              "      <td>270-degrees</td>\n",
              "    </tr>\n",
              "  </tbody>\n",
              "</table>\n",
              "</div>"
            ],
            "text/plain": [
              "   dim-1  dim-2     rotation\n",
              "0    0.0    0.0     original\n",
              "1    2.0    4.0     original\n",
              "2    0.0    0.0   90-degrees\n",
              "3   -4.0    2.0   90-degrees\n",
              "4    0.0    0.0  180-degrees\n",
              "5   -2.0   -4.0  180-degrees\n",
              "6    0.0    0.0  270-degrees\n",
              "7    4.0   -2.0  270-degrees"
            ]
          },
          "metadata": {
            "tags": []
          },
          "execution_count": 48
        }
      ]
    },
    {
      "cell_type": "code",
      "metadata": {
        "id": "kCjHTy3lT2NL",
        "colab_type": "code",
        "colab": {
          "base_uri": "https://localhost:8080/",
          "height": 368
        },
        "outputId": "5b98770d-1f09-4fe7-bdc0-29c64c27a06c"
      },
      "source": [
        "chart = alt.Chart(df).mark_line().encode(\n",
        "    x=alt.X('dim-1', axis=alt.Axis(title='horizontal-axis')),\n",
        "    y=alt.Y('dim-2', axis=alt.Axis(title='vertical-axis')),\n",
        "    color='rotation')\n",
        "\n",
        "base_coor(-5.0, 5.0) + chart"
      ],
      "execution_count": null,
      "outputs": [
        {
          "output_type": "execute_result",
          "data": {
            "text/plain": [
              "alt.LayerChart(...)"
            ],
            "text/html": [
              "\n",
              "<div id=\"altair-viz-5c67b0b0a14542b8905f33deedaba9f6\"></div>\n",
              "<script type=\"text/javascript\">\n",
              "  (function(spec, embedOpt){\n",
              "    let outputDiv = document.currentScript.previousElementSibling;\n",
              "    if (outputDiv.id !== \"altair-viz-5c67b0b0a14542b8905f33deedaba9f6\") {\n",
              "      outputDiv = document.getElementById(\"altair-viz-5c67b0b0a14542b8905f33deedaba9f6\");\n",
              "    }\n",
              "    const paths = {\n",
              "      \"vega\": \"https://cdn.jsdelivr.net/npm//vega@5?noext\",\n",
              "      \"vega-lib\": \"https://cdn.jsdelivr.net/npm//vega-lib?noext\",\n",
              "      \"vega-lite\": \"https://cdn.jsdelivr.net/npm//vega-lite@4.8.1?noext\",\n",
              "      \"vega-embed\": \"https://cdn.jsdelivr.net/npm//vega-embed@6?noext\",\n",
              "    };\n",
              "\n",
              "    function loadScript(lib) {\n",
              "      return new Promise(function(resolve, reject) {\n",
              "        var s = document.createElement('script');\n",
              "        s.src = paths[lib];\n",
              "        s.async = true;\n",
              "        s.onload = () => resolve(paths[lib]);\n",
              "        s.onerror = () => reject(`Error loading script: ${paths[lib]}`);\n",
              "        document.getElementsByTagName(\"head\")[0].appendChild(s);\n",
              "      });\n",
              "    }\n",
              "\n",
              "    function showError(err) {\n",
              "      outputDiv.innerHTML = `<div class=\"error\" style=\"color:red;\">${err}</div>`;\n",
              "      throw err;\n",
              "    }\n",
              "\n",
              "    function displayChart(vegaEmbed) {\n",
              "      vegaEmbed(outputDiv, spec, embedOpt)\n",
              "        .catch(err => showError(`Javascript Error: ${err.message}<br>This usually means there's a typo in your chart specification. See the javascript console for the full traceback.`));\n",
              "    }\n",
              "\n",
              "    if(typeof define === \"function\" && define.amd) {\n",
              "      requirejs.config({paths});\n",
              "      require([\"vega-embed\"], displayChart, err => showError(`Error loading script: ${err.message}`));\n",
              "    } else if (typeof vegaEmbed === \"function\") {\n",
              "      displayChart(vegaEmbed);\n",
              "    } else {\n",
              "      loadScript(\"vega\")\n",
              "        .then(() => loadScript(\"vega-lite\"))\n",
              "        .then(() => loadScript(\"vega-embed\"))\n",
              "        .catch(showError)\n",
              "        .then(() => displayChart(vegaEmbed));\n",
              "    }\n",
              "  })({\"usermeta\": {\"embedOptions\": {\"theme\": \"dark\"}}, \"config\": {\"view\": {\"continuousWidth\": 400, \"continuousHeight\": 300}}, \"layer\": [{\"mark\": {\"type\": \"line\", \"color\": \"white\"}, \"encoding\": {\"x\": {\"type\": \"quantitative\", \"field\": \"horizontal\"}, \"y\": {\"type\": \"quantitative\", \"field\": \"vertical\"}}}, {\"mark\": {\"type\": \"line\", \"color\": \"white\"}, \"encoding\": {\"x\": {\"type\": \"quantitative\", \"field\": \"vertical\"}, \"y\": {\"type\": \"quantitative\", \"field\": \"horizontal\"}}}, {\"data\": {\"name\": \"data-fdd0ac9e41bb6cb891458e6886636a2f\"}, \"mark\": \"line\", \"encoding\": {\"color\": {\"type\": \"nominal\", \"field\": \"rotation\"}, \"x\": {\"type\": \"quantitative\", \"axis\": {\"title\": \"horizontal-axis\"}, \"field\": \"dim-1\"}, \"y\": {\"type\": \"quantitative\", \"axis\": {\"title\": \"vertical-axis\"}, \"field\": \"dim-2\"}}}], \"data\": {\"name\": \"data-dc621955550350bfc1b0624dd9983169\"}, \"$schema\": \"https://vega.github.io/schema/vega-lite/v4.8.1.json\", \"datasets\": {\"data-dc621955550350bfc1b0624dd9983169\": [{\"horizontal\": -5.0, \"vertical\": 0.0}, {\"horizontal\": 5.0, \"vertical\": 0.0}], \"data-fdd0ac9e41bb6cb891458e6886636a2f\": [{\"dim-1\": 0.0, \"dim-2\": 0.0, \"rotation\": \"original\"}, {\"dim-1\": 2.0, \"dim-2\": 4.0, \"rotation\": \"original\"}, {\"dim-1\": 0.0, \"dim-2\": 0.0, \"rotation\": \"90-degrees\"}, {\"dim-1\": -4.0, \"dim-2\": 2.0, \"rotation\": \"90-degrees\"}, {\"dim-1\": 0.0, \"dim-2\": 0.0, \"rotation\": \"180-degrees\"}, {\"dim-1\": -2.0, \"dim-2\": -4.0, \"rotation\": \"180-degrees\"}, {\"dim-1\": 0.0, \"dim-2\": 0.0, \"rotation\": \"270-degrees\"}, {\"dim-1\": 4.0, \"dim-2\": -2.0, \"rotation\": \"270-degrees\"}]}}, {\"mode\": \"vega-lite\"});\n",
              "</script>"
            ]
          },
          "metadata": {
            "tags": []
          },
          "execution_count": 49
        }
      ]
    },
    {
      "cell_type": "code",
      "metadata": {
        "id": "3a-tBZkhUREA",
        "colab_type": "code",
        "colab": {}
      },
      "source": [
        "# base vector\n",
        "y = np.array([[3],\n",
        "              [2]])\n",
        "\n",
        "x = np.array([[1],\n",
        "              [3]])\n",
        "\n",
        "P = (y @ y.T)/(y.T @ y)"
      ],
      "execution_count": null,
      "outputs": []
    },
    {
      "cell_type": "code",
      "metadata": {
        "id": "NRFxhv8PY08o",
        "colab_type": "code",
        "colab": {
          "base_uri": "https://localhost:8080/",
          "height": 68
        },
        "outputId": "c754f2ea-4432-4b18-b641-85dde128bb57"
      },
      "source": [
        "print(f\"Projection of P \\n {P}\")"
      ],
      "execution_count": null,
      "outputs": [
        {
          "output_type": "stream",
          "text": [
            "Projection of P \n",
            " [[0.69230769 0.46153846]\n",
            " [0.46153846 0.30769231]]\n"
          ],
          "name": "stdout"
        }
      ]
    },
    {
      "cell_type": "code",
      "metadata": {
        "id": "nO_sppFJNLPr",
        "colab_type": "code",
        "colab": {
          "base_uri": "https://localhost:8080/",
          "height": 68
        },
        "outputId": "b658d8a3-389e-4237-ff5f-4b43e1e4b5a4"
      },
      "source": [
        "z = P @ x\n",
        "print(\"Projection x onto Y \\n\",z)"
      ],
      "execution_count": null,
      "outputs": [
        {
          "output_type": "stream",
          "text": [
            "Projection x onto Y \n",
            " [[2.07692308]\n",
            " [1.38461538]]\n"
          ],
          "name": "stdout"
        }
      ]
    },
    {
      "cell_type": "code",
      "metadata": {
        "id": "XQx6M_RFOTuf",
        "colab_type": "code",
        "colab": {}
      },
      "source": [
        "# origin coordinate space\n",
        "o = np.array([[0],\n",
        "              [0]])"
      ],
      "execution_count": null,
      "outputs": []
    },
    {
      "cell_type": "code",
      "metadata": {
        "id": "OJJeHYWSQptH",
        "colab_type": "code",
        "colab": {}
      },
      "source": [
        "v = np.column_stack((o,x,o,y,o,z,x,z))\n",
        "df = pd.DataFrame({'dim-1': v[0], 'dim-2':v[1],\n",
        "                   'vector': ['x-vector', 'x-vector',\n",
        "                              'y-base-vector', 'y-base-vector',\n",
        "                              'z-projection', 'z-projection',\n",
        "                              'orthogonal-vector', 'orthogonal-vector'],\n",
        "                  'size-line': [2, 2, 2, 2, 4, 4, 2, 2]})"
      ],
      "execution_count": null,
      "outputs": []
    },
    {
      "cell_type": "code",
      "metadata": {
        "id": "88KnjB06Q9Zx",
        "colab_type": "code",
        "colab": {
          "base_uri": "https://localhost:8080/",
          "height": 297
        },
        "outputId": "726f47f8-ec5b-4cb6-d695-1d0f584883e2"
      },
      "source": [
        "df"
      ],
      "execution_count": null,
      "outputs": [
        {
          "output_type": "execute_result",
          "data": {
            "text/html": [
              "<div>\n",
              "<style scoped>\n",
              "    .dataframe tbody tr th:only-of-type {\n",
              "        vertical-align: middle;\n",
              "    }\n",
              "\n",
              "    .dataframe tbody tr th {\n",
              "        vertical-align: top;\n",
              "    }\n",
              "\n",
              "    .dataframe thead th {\n",
              "        text-align: right;\n",
              "    }\n",
              "</style>\n",
              "<table border=\"1\" class=\"dataframe\">\n",
              "  <thead>\n",
              "    <tr style=\"text-align: right;\">\n",
              "      <th></th>\n",
              "      <th>dim-1</th>\n",
              "      <th>dim-2</th>\n",
              "      <th>vector</th>\n",
              "      <th>size-line</th>\n",
              "    </tr>\n",
              "  </thead>\n",
              "  <tbody>\n",
              "    <tr>\n",
              "      <th>0</th>\n",
              "      <td>0.000000</td>\n",
              "      <td>0.000000</td>\n",
              "      <td>x-vector</td>\n",
              "      <td>2</td>\n",
              "    </tr>\n",
              "    <tr>\n",
              "      <th>1</th>\n",
              "      <td>1.000000</td>\n",
              "      <td>3.000000</td>\n",
              "      <td>x-vector</td>\n",
              "      <td>2</td>\n",
              "    </tr>\n",
              "    <tr>\n",
              "      <th>2</th>\n",
              "      <td>0.000000</td>\n",
              "      <td>0.000000</td>\n",
              "      <td>y-base-vector</td>\n",
              "      <td>2</td>\n",
              "    </tr>\n",
              "    <tr>\n",
              "      <th>3</th>\n",
              "      <td>3.000000</td>\n",
              "      <td>2.000000</td>\n",
              "      <td>y-base-vector</td>\n",
              "      <td>2</td>\n",
              "    </tr>\n",
              "    <tr>\n",
              "      <th>4</th>\n",
              "      <td>0.000000</td>\n",
              "      <td>0.000000</td>\n",
              "      <td>z-projection</td>\n",
              "      <td>4</td>\n",
              "    </tr>\n",
              "    <tr>\n",
              "      <th>5</th>\n",
              "      <td>2.076923</td>\n",
              "      <td>1.384615</td>\n",
              "      <td>z-projection</td>\n",
              "      <td>4</td>\n",
              "    </tr>\n",
              "    <tr>\n",
              "      <th>6</th>\n",
              "      <td>1.000000</td>\n",
              "      <td>3.000000</td>\n",
              "      <td>orthogonal-vector</td>\n",
              "      <td>2</td>\n",
              "    </tr>\n",
              "    <tr>\n",
              "      <th>7</th>\n",
              "      <td>2.076923</td>\n",
              "      <td>1.384615</td>\n",
              "      <td>orthogonal-vector</td>\n",
              "      <td>2</td>\n",
              "    </tr>\n",
              "  </tbody>\n",
              "</table>\n",
              "</div>"
            ],
            "text/plain": [
              "      dim-1     dim-2             vector  size-line\n",
              "0  0.000000  0.000000           x-vector          2\n",
              "1  1.000000  3.000000           x-vector          2\n",
              "2  0.000000  0.000000      y-base-vector          2\n",
              "3  3.000000  2.000000      y-base-vector          2\n",
              "4  0.000000  0.000000       z-projection          4\n",
              "5  2.076923  1.384615       z-projection          4\n",
              "6  1.000000  3.000000  orthogonal-vector          2\n",
              "7  2.076923  1.384615  orthogonal-vector          2"
            ]
          },
          "metadata": {
            "tags": []
          },
          "execution_count": 55
        }
      ]
    },
    {
      "cell_type": "code",
      "metadata": {
        "id": "q_dgjwmIQ-HX",
        "colab_type": "code",
        "colab": {
          "base_uri": "https://localhost:8080/",
          "height": 368
        },
        "outputId": "d90ed372-d54f-4a84-a7b8-cc8b924ecdeb"
      },
      "source": [
        "chart = alt.Chart(df).mark_line().encode(\n",
        "    x=alt.X('dim-1', axis=alt.Axis(title='horizontal-axis')),\n",
        "    y=alt.Y('dim-2', axis=alt.Axis(title='vertical-axis')),\n",
        "    color='vector', \n",
        "    strokeDash='vector',\n",
        "    size = 'size-line')\n",
        "\n",
        "base_coor(-1.0, 4.0) + chart"
      ],
      "execution_count": null,
      "outputs": [
        {
          "output_type": "execute_result",
          "data": {
            "text/plain": [
              "alt.LayerChart(...)"
            ],
            "text/html": [
              "\n",
              "<div id=\"altair-viz-aefae312378b4972b5454dcdfc71fe48\"></div>\n",
              "<script type=\"text/javascript\">\n",
              "  (function(spec, embedOpt){\n",
              "    let outputDiv = document.currentScript.previousElementSibling;\n",
              "    if (outputDiv.id !== \"altair-viz-aefae312378b4972b5454dcdfc71fe48\") {\n",
              "      outputDiv = document.getElementById(\"altair-viz-aefae312378b4972b5454dcdfc71fe48\");\n",
              "    }\n",
              "    const paths = {\n",
              "      \"vega\": \"https://cdn.jsdelivr.net/npm//vega@5?noext\",\n",
              "      \"vega-lib\": \"https://cdn.jsdelivr.net/npm//vega-lib?noext\",\n",
              "      \"vega-lite\": \"https://cdn.jsdelivr.net/npm//vega-lite@4.8.1?noext\",\n",
              "      \"vega-embed\": \"https://cdn.jsdelivr.net/npm//vega-embed@6?noext\",\n",
              "    };\n",
              "\n",
              "    function loadScript(lib) {\n",
              "      return new Promise(function(resolve, reject) {\n",
              "        var s = document.createElement('script');\n",
              "        s.src = paths[lib];\n",
              "        s.async = true;\n",
              "        s.onload = () => resolve(paths[lib]);\n",
              "        s.onerror = () => reject(`Error loading script: ${paths[lib]}`);\n",
              "        document.getElementsByTagName(\"head\")[0].appendChild(s);\n",
              "      });\n",
              "    }\n",
              "\n",
              "    function showError(err) {\n",
              "      outputDiv.innerHTML = `<div class=\"error\" style=\"color:red;\">${err}</div>`;\n",
              "      throw err;\n",
              "    }\n",
              "\n",
              "    function displayChart(vegaEmbed) {\n",
              "      vegaEmbed(outputDiv, spec, embedOpt)\n",
              "        .catch(err => showError(`Javascript Error: ${err.message}<br>This usually means there's a typo in your chart specification. See the javascript console for the full traceback.`));\n",
              "    }\n",
              "\n",
              "    if(typeof define === \"function\" && define.amd) {\n",
              "      requirejs.config({paths});\n",
              "      require([\"vega-embed\"], displayChart, err => showError(`Error loading script: ${err.message}`));\n",
              "    } else if (typeof vegaEmbed === \"function\") {\n",
              "      displayChart(vegaEmbed);\n",
              "    } else {\n",
              "      loadScript(\"vega\")\n",
              "        .then(() => loadScript(\"vega-lite\"))\n",
              "        .then(() => loadScript(\"vega-embed\"))\n",
              "        .catch(showError)\n",
              "        .then(() => displayChart(vegaEmbed));\n",
              "    }\n",
              "  })({\"usermeta\": {\"embedOptions\": {\"theme\": \"dark\"}}, \"config\": {\"view\": {\"continuousWidth\": 400, \"continuousHeight\": 300}}, \"layer\": [{\"mark\": {\"type\": \"line\", \"color\": \"white\"}, \"encoding\": {\"x\": {\"type\": \"quantitative\", \"field\": \"horizontal\"}, \"y\": {\"type\": \"quantitative\", \"field\": \"vertical\"}}}, {\"mark\": {\"type\": \"line\", \"color\": \"white\"}, \"encoding\": {\"x\": {\"type\": \"quantitative\", \"field\": \"vertical\"}, \"y\": {\"type\": \"quantitative\", \"field\": \"horizontal\"}}}, {\"data\": {\"name\": \"data-fae3a4238031b3bda30da25b0bfbb236\"}, \"mark\": \"line\", \"encoding\": {\"color\": {\"type\": \"nominal\", \"field\": \"vector\"}, \"size\": {\"type\": \"quantitative\", \"field\": \"size-line\"}, \"strokeDash\": {\"type\": \"nominal\", \"field\": \"vector\"}, \"x\": {\"type\": \"quantitative\", \"axis\": {\"title\": \"horizontal-axis\"}, \"field\": \"dim-1\"}, \"y\": {\"type\": \"quantitative\", \"axis\": {\"title\": \"vertical-axis\"}, \"field\": \"dim-2\"}}}], \"data\": {\"name\": \"data-e28b18115621143603ed81a2a2f08951\"}, \"$schema\": \"https://vega.github.io/schema/vega-lite/v4.8.1.json\", \"datasets\": {\"data-e28b18115621143603ed81a2a2f08951\": [{\"horizontal\": -1.0, \"vertical\": 0.0}, {\"horizontal\": 4.0, \"vertical\": 0.0}], \"data-fae3a4238031b3bda30da25b0bfbb236\": [{\"dim-1\": 0.0, \"dim-2\": 0.0, \"vector\": \"x-vector\", \"size-line\": 2}, {\"dim-1\": 1.0, \"dim-2\": 3.0, \"vector\": \"x-vector\", \"size-line\": 2}, {\"dim-1\": 0.0, \"dim-2\": 0.0, \"vector\": \"y-base-vector\", \"size-line\": 2}, {\"dim-1\": 3.0, \"dim-2\": 2.0, \"vector\": \"y-base-vector\", \"size-line\": 2}, {\"dim-1\": 0.0, \"dim-2\": 0.0, \"vector\": \"z-projection\", \"size-line\": 4}, {\"dim-1\": 2.0769230769230766, \"dim-2\": 1.3846153846153846, \"vector\": \"z-projection\", \"size-line\": 4}, {\"dim-1\": 1.0, \"dim-2\": 3.0, \"vector\": \"orthogonal-vector\", \"size-line\": 2}, {\"dim-1\": 2.0769230769230766, \"dim-2\": 1.3846153846153846, \"vector\": \"orthogonal-vector\", \"size-line\": 2}]}}, {\"mode\": \"vega-lite\"});\n",
              "</script>"
            ]
          },
          "metadata": {
            "tags": []
          },
          "execution_count": 56
        }
      ]
    },
    {
      "cell_type": "code",
      "metadata": {
        "id": "E_LyiErBRqsJ",
        "colab_type": "code",
        "colab": {
          "base_uri": "https://localhost:8080/",
          "height": 68
        },
        "outputId": "2204e96f-f329-42ff-f0e7-ab498a0873ec"
      },
      "source": [
        "# LU decomposition\n",
        "A = np.array([[1, 3, 5],\n",
        "              [2, 2, -1],\n",
        "              [1, 3, 2]])\n",
        "l1 = np.array([[1, 0, 0],\n",
        "               [-2, 1, 0],\n",
        "               [0, 0, 1]])\n",
        "\n",
        "l1@A"
      ],
      "execution_count": null,
      "outputs": [
        {
          "output_type": "execute_result",
          "data": {
            "text/plain": [
              "array([[  1,   3,   5],\n",
              "       [  0,  -4, -11],\n",
              "       [  1,   3,   2]])"
            ]
          },
          "metadata": {
            "tags": []
          },
          "execution_count": 57
        }
      ]
    },
    {
      "cell_type": "code",
      "metadata": {
        "id": "lq7woOhgP2Ee",
        "colab_type": "code",
        "colab": {}
      },
      "source": [
        "from scipy.linalg import lu\n",
        "A = np.array([[2, 1, 1, 0],\n",
        "              [4, 3, 3, 1],\n",
        "              [8, 7, 9, 5],\n",
        "              [6, 7, 9, 8]])"
      ],
      "execution_count": null,
      "outputs": []
    },
    {
      "cell_type": "code",
      "metadata": {
        "id": "akxU2uZSSKmZ",
        "colab_type": "code",
        "colab": {}
      },
      "source": [
        "p,l,u =lu(A)"
      ],
      "execution_count": null,
      "outputs": []
    },
    {
      "cell_type": "code",
      "metadata": {
        "id": "zvSbmT3LSNCT",
        "colab_type": "code",
        "colab": {
          "base_uri": "https://localhost:8080/",
          "height": 102
        },
        "outputId": "58143c6f-a069-4730-a396-5057dbb115a6"
      },
      "source": [
        "print(f'Pivot values \\n {p}')"
      ],
      "execution_count": null,
      "outputs": [
        {
          "output_type": "stream",
          "text": [
            "Pivot values \n",
            " [[0. 0. 0. 1.]\n",
            " [0. 0. 1. 0.]\n",
            " [1. 0. 0. 0.]\n",
            " [0. 1. 0. 0.]]\n"
          ],
          "name": "stdout"
        }
      ]
    },
    {
      "cell_type": "code",
      "metadata": {
        "id": "GeEeO5qFSSi4",
        "colab_type": "code",
        "colab": {
          "base_uri": "https://localhost:8080/",
          "height": 102
        },
        "outputId": "48c4efca-3532-47b0-ab55-836410ee8bf3"
      },
      "source": [
        "print(f'lower traingle matrix is \\n {np.round(l,2)}')"
      ],
      "execution_count": null,
      "outputs": [
        {
          "output_type": "stream",
          "text": [
            "lower traingle matrix is \n",
            " [[ 1.    0.    0.    0.  ]\n",
            " [ 0.75  1.    0.    0.  ]\n",
            " [ 0.5  -0.29  1.    0.  ]\n",
            " [ 0.25 -0.43  0.33  1.  ]]\n"
          ],
          "name": "stdout"
        }
      ]
    },
    {
      "cell_type": "code",
      "metadata": {
        "id": "5Xc8-K3bTYd1",
        "colab_type": "code",
        "colab": {
          "base_uri": "https://localhost:8080/",
          "height": 102
        },
        "outputId": "4fa2083d-2fce-460d-957c-107d728e6af0"
      },
      "source": [
        "print(f'upper traingle matrix is \\n {np.round(u,2)}')"
      ],
      "execution_count": null,
      "outputs": [
        {
          "output_type": "stream",
          "text": [
            "upper traingle matrix is \n",
            " [[ 8.    7.    9.    5.  ]\n",
            " [ 0.    1.75  2.25  4.25]\n",
            " [ 0.    0.   -0.86 -0.29]\n",
            " [ 0.    0.    0.    0.67]]\n"
          ],
          "name": "stdout"
        }
      ]
    },
    {
      "cell_type": "code",
      "metadata": {
        "id": "H1Z9RgZdTebP",
        "colab_type": "code",
        "colab": {
          "base_uri": "https://localhost:8080/",
          "height": 85
        },
        "outputId": "9e1ee151-41dd-4bef-be35-323cc4db2818"
      },
      "source": [
        "# A= PLU\n",
        "A_recover = np.round(p@l@u,1)\n",
        "A_recover"
      ],
      "execution_count": null,
      "outputs": [
        {
          "output_type": "execute_result",
          "data": {
            "text/plain": [
              "array([[2., 1., 1., 0.],\n",
              "       [4., 3., 3., 1.],\n",
              "       [8., 7., 9., 5.],\n",
              "       [6., 7., 9., 8.]])"
            ]
          },
          "metadata": {
            "tags": []
          },
          "execution_count": 63
        }
      ]
    },
    {
      "cell_type": "code",
      "metadata": {
        "id": "P8B-0TnFT0Zf",
        "colab_type": "code",
        "colab": {}
      },
      "source": [
        "# QR decomposition\n",
        "x, y = np.array([[3],[4],[0]]), np.array([[-4],[3],[2]])\n",
        "\n",
        "# euclidean norm of x and y\n",
        "x_norm = np.linalg.norm(x,2)\n",
        "y_norm = np.linalg.norm(y,2)\n",
        "\n",
        "# normalized x or unit vector\n",
        "\n",
        "x_unit = x*(1/x_norm)\n",
        "y_unit = y*(1/y_norm)"
      ],
      "execution_count": null,
      "outputs": []
    },
    {
      "cell_type": "code",
      "metadata": {
        "id": "6VSvmcsyWgIm",
        "colab_type": "code",
        "colab": {
          "base_uri": "https://localhost:8080/",
          "height": 85
        },
        "outputId": "2e2db6ac-3b21-4c85-9c19-d0dde9d399de"
      },
      "source": [
        "print(f'Euclidean norm of x:\\n {x_norm}')\n",
        "print(f'Euclidean norm of y:\\n {y_norm}')"
      ],
      "execution_count": null,
      "outputs": [
        {
          "output_type": "stream",
          "text": [
            "Euclidean norm of x:\n",
            " 5.0\n",
            "Euclidean norm of y:\n",
            " 5.385164807134504\n"
          ],
          "name": "stdout"
        }
      ]
    },
    {
      "cell_type": "code",
      "metadata": {
        "id": "ipX6OoJJWzvo",
        "colab_type": "code",
        "colab": {
          "base_uri": "https://localhost:8080/",
          "height": 153
        },
        "outputId": "b9886900-92d5-4185-cae9-e9cda909e851"
      },
      "source": [
        "print(f'Normalized x: \\n {x_unit}')\n",
        "print(f'Normalized y: \\n {y_unit}')"
      ],
      "execution_count": null,
      "outputs": [
        {
          "output_type": "stream",
          "text": [
            "Normalized x: \n",
            " [[0.6]\n",
            " [0.8]\n",
            " [0. ]]\n",
            "Normalized y: \n",
            " [[-0.74278135]\n",
            " [ 0.55708601]\n",
            " [ 0.37139068]]\n"
          ],
          "name": "stdout"
        }
      ]
    },
    {
      "cell_type": "code",
      "metadata": {
        "id": "PmtCxx4zW_zl",
        "colab_type": "code",
        "colab": {
          "base_uri": "https://localhost:8080/",
          "height": 85
        },
        "outputId": "c01a0254-d89d-4c63-c78b-79501ef83c57"
      },
      "source": [
        "# We can confirm that the Euclidean norm of the normalized versions of x^ and y^ equals 1 \n",
        "\n",
        "print(f'Euclidean norm of normalized x :: \\n {np.linalg.norm(x_unit,2)}')\n",
        "print(f'Euclidean norm of normalized y :: \\n {np.round(np.linalg.norm(y_unit,2),2)}')"
      ],
      "execution_count": null,
      "outputs": [
        {
          "output_type": "stream",
          "text": [
            "Euclidean norm of normalized x :: \n",
            " 1.0\n",
            "Euclidean norm of normalized y :: \n",
            " 1.0\n"
          ],
          "name": "stdout"
        }
      ]
    },
    {
      "cell_type": "code",
      "metadata": {
        "id": "iSw6bimIXUcF",
        "colab_type": "code",
        "colab": {
          "base_uri": "https://localhost:8080/",
          "height": 153
        },
        "outputId": "646a635b-ec2d-44f3-dadc-3754cb83c201"
      },
      "source": [
        "print(f'Inner product normalized vectors:\\n{np.round(x_unit.T @ y_unit,1)}\\n')\n",
        "print(f'Inner product normalized x with itself:\\n{np.round(x_unit.T @ x_unit,1)}\\n') \n",
        "print(f'Inner product normalized y with itself:\\n{np.round(y_unit.T @ y_unit,1)}') "
      ],
      "execution_count": null,
      "outputs": [
        {
          "output_type": "stream",
          "text": [
            "Inner product normalized vectors:\n",
            "[[-0.]]\n",
            "\n",
            "Inner product normalized x with itself:\n",
            "[[1.]]\n",
            "\n",
            "Inner product normalized y with itself:\n",
            "[[1.]]\n"
          ],
          "name": "stdout"
        }
      ]
    },
    {
      "cell_type": "code",
      "metadata": {
        "id": "klGhVPsOXr3D",
        "colab_type": "code",
        "colab": {
          "base_uri": "https://localhost:8080/",
          "height": 85
        },
        "outputId": "6f346cfa-0dcf-4c57-a6f1-195dd171ca45"
      },
      "source": [
        "Q = np.column_stack((x_unit, y_unit))\n",
        "print(f'Orthonormal matrix Q:\\n{Q}')"
      ],
      "execution_count": null,
      "outputs": [
        {
          "output_type": "stream",
          "text": [
            "Orthonormal matrix Q:\n",
            "[[ 0.6        -0.74278135]\n",
            " [ 0.8         0.55708601]\n",
            " [ 0.          0.37139068]]\n"
          ],
          "name": "stdout"
        }
      ]
    },
    {
      "cell_type": "code",
      "metadata": {
        "id": "pFH_JRAvX6s0",
        "colab_type": "code",
        "colab": {
          "base_uri": "https://localhost:8080/",
          "height": 51
        },
        "outputId": "e6dbe3a3-e9f4-4708-e3d0-1d5dcd189aaa"
      },
      "source": [
        "np.round(Q.T @ Q,1)"
      ],
      "execution_count": null,
      "outputs": [
        {
          "output_type": "execute_result",
          "data": {
            "text/plain": [
              "array([[ 1., -0.],\n",
              "       [-0.,  1.]])"
            ]
          },
          "metadata": {
            "tags": []
          },
          "execution_count": 70
        }
      ]
    },
    {
      "cell_type": "code",
      "metadata": {
        "id": "Al6PrR8cX-OO",
        "colab_type": "code",
        "colab": {
          "base_uri": "https://localhost:8080/",
          "height": 34
        },
        "outputId": "b0b4deeb-09b7-42c6-c9f2-9d54a4a84138"
      },
      "source": [
        "pwd"
      ],
      "execution_count": null,
      "outputs": [
        {
          "output_type": "execute_result",
          "data": {
            "text/plain": [
              "'/content'"
            ]
          },
          "metadata": {
            "tags": []
          },
          "execution_count": 71
        }
      ]
    },
    {
      "cell_type": "code",
      "metadata": {
        "id": "MCxCSiuC-5-2",
        "colab_type": "code",
        "colab": {
          "base_uri": "https://localhost:8080/",
          "height": 34
        },
        "outputId": "b27b0678-8831-49e7-83b3-337fdcb0c1e0"
      },
      "source": [
        "%%writefile test.txt\n",
        "testing magic files"
      ],
      "execution_count": null,
      "outputs": [
        {
          "output_type": "stream",
          "text": [
            "Writing test.txt\n"
          ],
          "name": "stdout"
        }
      ]
    },
    {
      "cell_type": "code",
      "metadata": {
        "id": "JaRu9XOF_JT5",
        "colab_type": "code",
        "colab": {
          "base_uri": "https://localhost:8080/",
          "height": 34
        },
        "outputId": "207f0748-0801-4a7b-d8f2-e192021ed0ed"
      },
      "source": [
        "f = open('/content/test.txt')\n",
        "f.read()"
      ],
      "execution_count": null,
      "outputs": [
        {
          "output_type": "execute_result",
          "data": {
            "text/plain": [
              "'testing magic files'"
            ]
          },
          "metadata": {
            "tags": []
          },
          "execution_count": 73
        }
      ]
    },
    {
      "cell_type": "code",
      "metadata": {
        "id": "jZADdgNL_YxO",
        "colab_type": "code",
        "colab": {
          "base_uri": "https://localhost:8080/",
          "height": 34
        },
        "outputId": "e664ead4-2417-4ba0-c895-c01cd6991278"
      },
      "source": [
        "f.seek(0)\n",
        "f.read()"
      ],
      "execution_count": null,
      "outputs": [
        {
          "output_type": "execute_result",
          "data": {
            "text/plain": [
              "'testing magic files'"
            ]
          },
          "metadata": {
            "tags": []
          },
          "execution_count": 74
        }
      ]
    },
    {
      "cell_type": "code",
      "metadata": {
        "id": "rgYAsz67_atL",
        "colab_type": "code",
        "colab": {
          "base_uri": "https://localhost:8080/",
          "height": 68
        },
        "outputId": "a413b236-342e-4eac-d74a-abc91f656c44"
      },
      "source": [
        "A = np.array([[4, 2],\n",
        "              [1, 3]])\n",
        "eig_val,eig_vec = np.linalg.eig(A)\n",
        "print(f\"Eigen values {eig_val}\")\n",
        "print(f'Eigen Vecors {eig_vec}')"
      ],
      "execution_count": null,
      "outputs": [
        {
          "output_type": "stream",
          "text": [
            "Eigen values [5. 2.]\n",
            "Eigen Vecors [[ 0.89442719 -0.70710678]\n",
            " [ 0.4472136   0.70710678]]\n"
          ],
          "name": "stdout"
        }
      ]
    },
    {
      "cell_type": "code",
      "metadata": {
        "id": "Fr0WB3YsfEv4",
        "colab_type": "code",
        "colab": {
          "base_uri": "https://localhost:8080/",
          "height": 68
        },
        "outputId": "633b2058-6be4-4b85-aed0-690b4564549a"
      },
      "source": [
        "B = np.array([[0, -1],\n",
        "              [1, 0]])\n",
        "\n",
        "values, vectors = np.linalg.eig(B)\n",
        "print(values)\n",
        "print(vectors)"
      ],
      "execution_count": null,
      "outputs": [
        {
          "output_type": "stream",
          "text": [
            "[0.+1.j 0.-1.j]\n",
            "[[0.70710678+0.j         0.70710678-0.j        ]\n",
            " [0.        -0.70710678j 0.        +0.70710678j]]\n"
          ],
          "name": "stdout"
        }
      ]
    },
    {
      "cell_type": "code",
      "metadata": {
        "id": "pVl_-GJ-gnMl",
        "colab_type": "code",
        "colab": {
          "base_uri": "https://localhost:8080/",
          "height": 85
        },
        "outputId": "c8b69fc8-ffca-4b3e-c94a-140c2caa8e1b"
      },
      "source": [
        "A = np.array([[5,  3, 0],\n",
        "              [2,  6, 0], \n",
        "              [4,  -2, 2]])\n",
        "eig_val,eig_vec = np.linalg.eig(A)\n",
        "print(f'Eigen values {eig_val}')\n",
        "print(f'Eigen vectors {eig_vec}')"
      ],
      "execution_count": null,
      "outputs": [
        {
          "output_type": "stream",
          "text": [
            "Eigen values [2. 8. 3.]\n",
            "Eigen vectors [[ 0.          0.6882472   0.18291323]\n",
            " [ 0.          0.6882472  -0.12194215]\n",
            " [ 1.          0.22941573  0.97553722]]\n"
          ],
          "name": "stdout"
        }
      ]
    },
    {
      "cell_type": "code",
      "metadata": {
        "id": "L-v5JA6akEj2",
        "colab_type": "code",
        "colab": {}
      },
      "source": [
        "X = eig_vec\n",
        "I = np.identity(3)\n",
        "L = I*eig_val"
      ],
      "execution_count": null,
      "outputs": []
    },
    {
      "cell_type": "code",
      "metadata": {
        "id": "z3J6sx5hklcB",
        "colab_type": "code",
        "colab": {
          "base_uri": "https://localhost:8080/",
          "height": 153
        },
        "outputId": "41ceb96e-1940-4382-ca39-2d2cdee3629e"
      },
      "source": [
        "# AX = XL\n",
        "print(f'left side equation \\n {A@X}')\n",
        "print(f'right side equation \\n {X@L}')"
      ],
      "execution_count": null,
      "outputs": [
        {
          "output_type": "stream",
          "text": [
            "left side equation \n",
            " [[ 0.          5.50597761  0.54873968]\n",
            " [ 0.          5.50597761 -0.36582646]\n",
            " [ 2.          1.83532587  2.92661165]]\n",
            "right side equation \n",
            " [[ 0.          5.50597761  0.54873968]\n",
            " [ 0.          5.50597761 -0.36582646]\n",
            " [ 2.          1.83532587  2.92661165]]\n"
          ],
          "name": "stdout"
        }
      ]
    },
    {
      "cell_type": "code",
      "metadata": {
        "id": "4A6spdigk6j3",
        "colab_type": "code",
        "colab": {
          "base_uri": "https://localhost:8080/",
          "height": 34
        },
        "outputId": "23fb1c60-7732-44b9-dcc2-7703573b0d2c"
      },
      "source": [
        "# verify equality\n",
        "print(f'Entrywise comaprison ---{np.allclose(A@X,X@L)}')"
      ],
      "execution_count": null,
      "outputs": [
        {
          "output_type": "stream",
          "text": [
            "Entrywise comaprison ---True\n"
          ],
          "name": "stdout"
        }
      ]
    },
    {
      "cell_type": "code",
      "metadata": {
        "id": "gasbZAnblm_T",
        "colab_type": "code",
        "colab": {
          "base_uri": "https://localhost:8080/",
          "height": 170
        },
        "outputId": "def67be8-70e6-4a75-f802-b4e164933fa0"
      },
      "source": [
        "X_inv = np.linalg.inv(X)\n",
        "\n",
        "print(f'Original matrix A:\\n{A}\\n')\n",
        "print(f'Reconstruction of A with Eigen Decomposition of A:\\n{X @ L @ X_inv}')"
      ],
      "execution_count": null,
      "outputs": [
        {
          "output_type": "stream",
          "text": [
            "Original matrix A:\n",
            "[[ 5  3  0]\n",
            " [ 2  6  0]\n",
            " [ 4 -2  2]]\n",
            "\n",
            "Reconstruction of A with Eigen Decomposition of A:\n",
            "[[ 5.  3.  0.]\n",
            " [ 2.  6.  0.]\n",
            " [ 4. -2.  2.]]\n"
          ],
          "name": "stdout"
        }
      ]
    },
    {
      "cell_type": "code",
      "metadata": {
        "id": "5-KBWYNYmW5T",
        "colab_type": "code",
        "colab": {
          "base_uri": "https://localhost:8080/",
          "height": 153
        },
        "outputId": "7a718743-669a-4fc0-c091-926c8a2ca496"
      },
      "source": [
        "x = np.arange(12)\n",
        "print(x)\n",
        "print(x.shape)\n",
        "print(x.reshape(3,4))\n",
        "print(x.reshape(-1,4))"
      ],
      "execution_count": null,
      "outputs": [
        {
          "output_type": "stream",
          "text": [
            "[ 0  1  2  3  4  5  6  7  8  9 10 11]\n",
            "(12,)\n",
            "[[ 0  1  2  3]\n",
            " [ 4  5  6  7]\n",
            " [ 8  9 10 11]]\n",
            "[[ 0  1  2  3]\n",
            " [ 4  5  6  7]\n",
            " [ 8  9 10 11]]\n"
          ],
          "name": "stdout"
        }
      ]
    },
    {
      "cell_type": "code",
      "metadata": {
        "id": "Rwkcuspqj3sy",
        "colab_type": "code",
        "colab": {
          "base_uri": "https://localhost:8080/",
          "height": 221
        },
        "outputId": "ba9fd8ac-ecc8-4285-d634-750bac281e03"
      },
      "source": [
        "#tensors\n",
        "x = np.arange(24).reshape(2,3,4)\n",
        "print(x)\n",
        "print(x.shape)\n",
        "print(x.sum())\n",
        "print(x.mean())\n",
        "print('*'*20)\n",
        "print(x.sum()/x.size)\n"
      ],
      "execution_count": null,
      "outputs": [
        {
          "output_type": "stream",
          "text": [
            "[[[ 0  1  2  3]\n",
            "  [ 4  5  6  7]\n",
            "  [ 8  9 10 11]]\n",
            "\n",
            " [[12 13 14 15]\n",
            "  [16 17 18 19]\n",
            "  [20 21 22 23]]]\n",
            "(2, 3, 4)\n",
            "276\n",
            "11.5\n",
            "********************\n",
            "11.5\n"
          ],
          "name": "stdout"
        }
      ]
    },
    {
      "cell_type": "code",
      "metadata": {
        "id": "GiTWq4wyrMit",
        "colab_type": "code",
        "colab": {
          "base_uri": "https://localhost:8080/",
          "height": 187
        },
        "outputId": "b7cc2033-f76b-4e50-e364-ba9af07e963d"
      },
      "source": [
        "print(x)\n",
        "sum_a = x.sum(axis=0\n",
        "              ,keepdims=True)\n",
        "sum_a"
      ],
      "execution_count": null,
      "outputs": [
        {
          "output_type": "stream",
          "text": [
            "[[[ 0  1  2  3]\n",
            "  [ 4  5  6  7]\n",
            "  [ 8  9 10 11]]\n",
            "\n",
            " [[12 13 14 15]\n",
            "  [16 17 18 19]\n",
            "  [20 21 22 23]]]\n"
          ],
          "name": "stdout"
        },
        {
          "output_type": "execute_result",
          "data": {
            "text/plain": [
              "array([[[12, 14, 16, 18],\n",
              "        [20, 22, 24, 26],\n",
              "        [28, 30, 32, 34]]])"
            ]
          },
          "metadata": {
            "tags": []
          },
          "execution_count": 34
        }
      ]
    },
    {
      "cell_type": "code",
      "metadata": {
        "id": "dupYFSr0sVzd",
        "colab_type": "code",
        "colab": {
          "base_uri": "https://localhost:8080/",
          "height": 34
        },
        "outputId": "aa537940-72bb-4fd4-950c-b3efd9d1ed83"
      },
      "source": [
        "u = np.array([3,-4])\n",
        "np.linalg.norm(u,1)"
      ],
      "execution_count": null,
      "outputs": [
        {
          "output_type": "execute_result",
          "data": {
            "text/plain": [
              "7.0"
            ]
          },
          "metadata": {
            "tags": []
          },
          "execution_count": 37
        }
      ]
    },
    {
      "cell_type": "code",
      "metadata": {
        "id": "P8QP-pnqEH0A",
        "colab_type": "code",
        "colab": {}
      },
      "source": [
        ""
      ],
      "execution_count": null,
      "outputs": []
    },
    {
      "cell_type": "markdown",
      "metadata": {
        "id": "P_tSVwGystKU",
        "colab_type": "text"
      },
      "source": [
        "# Calculus Python"
      ]
    },
    {
      "cell_type": "code",
      "metadata": {
        "id": "1bpXO4O3sxt4",
        "colab_type": "code",
        "colab": {}
      },
      "source": [
        "# Gradient Descent in python"
      ],
      "execution_count": null,
      "outputs": []
    },
    {
      "cell_type": "code",
      "metadata": {
        "id": "TbqYnS0ttRK8",
        "colab_type": "code",
        "colab": {}
      },
      "source": [
        "import numpy as np\n",
        "import matplotlib.pyplot as plt\n",
        "from scipy.misc import derivative\n",
        "%matplotlib inline"
      ],
      "execution_count": null,
      "outputs": []
    },
    {
      "cell_type": "code",
      "metadata": {
        "id": "Kkz5ZBm9wvE3",
        "colab_type": "code",
        "colab": {}
      },
      "source": [
        "w = np.linspace(1.0,5.0,100)\n",
        "alpha = 0.01"
      ],
      "execution_count": null,
      "outputs": []
    },
    {
      "cell_type": "code",
      "metadata": {
        "id": "dckg515zw996",
        "colab_type": "code",
        "colab": {
          "base_uri": "https://localhost:8080/",
          "height": 299
        },
        "outputId": "947b20c8-9577-4d41-8a69-c8b83b6ff973"
      },
      "source": [
        "y = np.power((w-3),2)\n",
        "plt.plot(w,y,'r')\n",
        "plt.title(r'$y=(\\omega-3)^2 $')\n",
        "plt.xlabel(r'$\\omega$')\n",
        "plt.ylabel('y')\n",
        "plt.grid();"
      ],
      "execution_count": null,
      "outputs": [
        {
          "output_type": "display_data",
          "data": {
            "image/png": "[encoded data removed]",
            "text/plain": [
              "<Figure size 432x288 with 1 Axes>"
            ]
          },
          "metadata": {
            "tags": [],
            "needs_background": "light"
          }
        }
      ]
    },
    {
      "cell_type": "code",
      "metadata": {
        "id": "OaejFK3KyMQ5",
        "colab_type": "code",
        "colab": {}
      },
      "source": [
        "def f(w):\n",
        "  return (w-3)**2"
      ],
      "execution_count": null,
      "outputs": []
    },
    {
      "cell_type": "code",
      "metadata": {
        "id": "d-eiLYL4y9ZR",
        "colab_type": "code",
        "colab": {}
      },
      "source": [
        "dw = derivative(f,w)\n",
        "J = w- alpha * dw"
      ],
      "execution_count": null,
      "outputs": []
    },
    {
      "cell_type": "code",
      "metadata": {
        "id": "lsSlAx7Q0JH8",
        "colab_type": "code",
        "colab": {
          "base_uri": "https://localhost:8080/",
          "height": 34
        },
        "outputId": "f1155869-d3d9-4cb3-a263-6cc1d5e008b8"
      },
      "source": [
        "alpha = 0.4\n",
        "cur_w = 1\n",
        "N = 200\n",
        "w_list = [1]\n",
        "fw_list = [4]\n",
        "\n",
        "for i  in range(N):\n",
        "  prev_w = cur_w\n",
        "  cur_w += -alpha*derivative(f,prev_w)\n",
        "  w_list.append(cur_w)\n",
        "  fw_list.append(np.power((cur_w-3),2))\n",
        "print(\"The local minimum occurs at: %.1f\" % cur_w)"
      ],
      "execution_count": null,
      "outputs": [
        {
          "output_type": "stream",
          "text": [
            "The local minimum occurs at: 3.0\n"
          ],
          "name": "stdout"
        }
      ]
    },
    {
      "cell_type": "code",
      "metadata": {
        "id": "_rAFtOemMwTP",
        "colab_type": "code",
        "colab": {
          "base_uri": "https://localhost:8080/",
          "height": 299
        },
        "outputId": "2d8a4df9-67e5-4d04-a84e-fefa6a80d0b6"
      },
      "source": [
        "plt.scatter(cur_w, y = np.power((cur_w-3),2) , c='k', s=50)\n",
        "plt.plot(w,y,'r')\n",
        "plt.title(r'$(\\omega-3)^2 $')\n",
        "plt.xlabel(r'$\\omega$')\n",
        "plt.ylabel('y')\n",
        "plt.text(0.78,-0.1,r' $ Local\\enspace minimum\\enspace occurs\\enspace at\\enspace 3.0  \\rightarrow $')\n",
        "plt.grid();"
      ],
      "execution_count": null,
      "outputs": [
        {
          "output_type": "display_data",
          "data": {
            "image/png": "[encoded data removed]",
            "text/plain": [
              "<Figure size 432x288 with 1 Axes>"
            ]
          },
          "metadata": {
            "tags": [],
            "needs_background": "light"
          }
        }
      ]
    },
    {
      "cell_type": "code",
      "metadata": {
        "id": "zmJNZ-hTM19s",
        "colab_type": "code",
        "colab": {}
      },
      "source": [
        "from sympy import *"
      ],
      "execution_count": null,
      "outputs": []
    },
    {
      "cell_type": "code",
      "metadata": {
        "id": "xk67kQU8Xm8g",
        "colab_type": "code",
        "colab": {}
      },
      "source": [
        "x, y, z = symbols('x y z')"
      ],
      "execution_count": null,
      "outputs": []
    },
    {
      "cell_type": "code",
      "metadata": {
        "id": "bHhycqFwXbo7",
        "colab_type": "code",
        "colab": {
          "base_uri": "https://localhost:8080/",
          "height": 34
        },
        "outputId": "ce98d950-34ee-48cb-839a-bef650c92b8e"
      },
      "source": [
        "diff(cos(x),x)"
      ],
      "execution_count": null,
      "outputs": [
        {
          "output_type": "execute_result",
          "data": {
            "text/plain": [
              "-sin(x)"
            ]
          },
          "metadata": {
            "tags": []
          },
          "execution_count": 23
        }
      ]
    },
    {
      "cell_type": "code",
      "metadata": {
        "id": "Q25WyBoHYOPn",
        "colab_type": "code",
        "colab": {
          "base_uri": "https://localhost:8080/",
          "height": 34
        },
        "outputId": "ff7520c2-0926-4d8a-9395-7bcf0d8c3d8f"
      },
      "source": [
        "diff(x**4,x)"
      ],
      "execution_count": null,
      "outputs": [
        {
          "output_type": "execute_result",
          "data": {
            "text/plain": [
              "4*x**3"
            ]
          },
          "metadata": {
            "tags": []
          },
          "execution_count": 28
        }
      ]
    },
    {
      "cell_type": "code",
      "metadata": {
        "id": "lKPI0rpzXiJH",
        "colab_type": "code",
        "colab": {
          "base_uri": "https://localhost:8080/",
          "height": 34
        },
        "outputId": "90d53b55-cbdc-4e47-984e-773176a49904"
      },
      "source": [
        "diff(exp(x**2), x)"
      ],
      "execution_count": null,
      "outputs": [
        {
          "output_type": "execute_result",
          "data": {
            "text/plain": [
              "2*x*exp(x**2)"
            ]
          },
          "metadata": {
            "tags": []
          },
          "execution_count": 26
        }
      ]
    },
    {
      "cell_type": "code",
      "metadata": {
        "id": "o3MJSrkZX3I6",
        "colab_type": "code",
        "colab": {
          "base_uri": "https://localhost:8080/",
          "height": 34
        },
        "outputId": "e8df64e2-bdc0-4d49-b520-d439dd034e2c"
      },
      "source": [
        "diff(x**4,x,x)"
      ],
      "execution_count": null,
      "outputs": [
        {
          "output_type": "execute_result",
          "data": {
            "text/plain": [
              "12*x**2"
            ]
          },
          "metadata": {
            "tags": []
          },
          "execution_count": 29
        }
      ]
    },
    {
      "cell_type": "code",
      "metadata": {
        "id": "7Xe9Tq3FYW1F",
        "colab_type": "code",
        "colab": {
          "base_uri": "https://localhost:8080/",
          "height": 34
        },
        "outputId": "e23a646c-447e-4212-f3b1-270812f990b0"
      },
      "source": [
        "dv = Derivative(x**4,x)\n",
        "print(dv)"
      ],
      "execution_count": null,
      "outputs": [
        {
          "output_type": "stream",
          "text": [
            "Derivative(x**4, x)\n"
          ],
          "name": "stdout"
        }
      ]
    },
    {
      "cell_type": "code",
      "metadata": {
        "id": "4OGrdO-GYizq",
        "colab_type": "code",
        "colab": {
          "base_uri": "https://localhost:8080/",
          "height": 34
        },
        "outputId": "7ec5fb25-27d9-431e-f10e-30d6de2331b1"
      },
      "source": [
        "integrate(cos(x),x)"
      ],
      "execution_count": null,
      "outputs": [
        {
          "output_type": "execute_result",
          "data": {
            "text/plain": [
              "sin(x)"
            ]
          },
          "metadata": {
            "tags": []
          },
          "execution_count": 37
        }
      ]
    },
    {
      "cell_type": "code",
      "metadata": {
        "id": "L4nEInc7ZBZg",
        "colab_type": "code",
        "colab": {
          "base_uri": "https://localhost:8080/",
          "height": 34
        },
        "outputId": "a7fbaef5-2934-41b1-f497-3f5125df53e6"
      },
      "source": [
        "limit(sin(x)/x,x,0)"
      ],
      "execution_count": null,
      "outputs": [
        {
          "output_type": "execute_result",
          "data": {
            "text/plain": [
              "1"
            ]
          },
          "metadata": {
            "tags": []
          },
          "execution_count": 38
        }
      ]
    },
    {
      "cell_type": "code",
      "metadata": {
        "id": "g2qSMNmZb0Ae",
        "colab_type": "code",
        "colab": {
          "base_uri": "https://localhost:8080/",
          "height": 34
        },
        "outputId": "e19d3e9c-55b2-4b94-8fca-ec1bad1e8f90"
      },
      "source": [
        "expr = exp(sin(x))\n",
        "expr.series(x, 0, 4)"
      ],
      "execution_count": null,
      "outputs": [
        {
          "output_type": "execute_result",
          "data": {
            "text/plain": [
              "1 + x + x**2/2 + O(x**4)"
            ]
          },
          "metadata": {
            "tags": []
          },
          "execution_count": 42
        }
      ]
    },
    {
      "cell_type": "code",
      "metadata": {
        "id": "2dvwGR64b9gi",
        "colab_type": "code",
        "colab": {}
      },
      "source": [
        ""
      ],
      "execution_count": null,
      "outputs": []
    },
    {
      "cell_type": "markdown",
      "metadata": {
        "id": "5tilbU8yxX_-",
        "colab_type": "text"
      },
      "source": [
        "# Keras book"
      ]
    },
    {
      "cell_type": "code",
      "metadata": {
        "id": "vba8aG-2xaEh",
        "colab_type": "code",
        "colab": {
          "base_uri": "https://localhost:8080/",
          "height": 34
        },
        "outputId": "69cefbd6-8486-4d10-8350-33bdd668d50b"
      },
      "source": [
        "from keras.datasets import reuters"
      ],
      "execution_count": null,
      "outputs": [
        {
          "output_type": "stream",
          "text": [
            "Using TensorFlow backend.\n"
          ],
          "name": "stderr"
        }
      ]
    },
    {
      "cell_type": "code",
      "metadata": {
        "id": "PF3AFmOJxh5p",
        "colab_type": "code",
        "colab": {
          "base_uri": "https://localhost:8080/",
          "height": 51
        },
        "outputId": "6af14b44-30f5-4c49-ca3f-4e16b3e2e8d0"
      },
      "source": [
        "(train_data,train_labels),(test_data, test_labels) = reuters.load_data(num_words=10000)"
      ],
      "execution_count": null,
      "outputs": [
        {
          "output_type": "stream",
          "text": [
            "Downloading data from https://s3.amazonaws.com/text-datasets/reuters.npz\n",
            "2113536/2110848 [==============================] - 0s 0us/step\n"
          ],
          "name": "stdout"
        }
      ]
    },
    {
      "cell_type": "code",
      "metadata": {
        "id": "NbcRqLV9x4PW",
        "colab_type": "code",
        "colab": {
          "base_uri": "https://localhost:8080/",
          "height": 51
        },
        "outputId": "af5f927e-50c7-4279-9bcb-3365591f6a69"
      },
      "source": [
        "word_index = reuters.get_word_index()\n",
        "reverse_word_index = dict([(value,key) for (key,value) in word_index.items()])\n",
        "decoded_newswire = ''.join([reverse_word_index.get(i -3,'?') for i in train_data[0]])"
      ],
      "execution_count": null,
      "outputs": [
        {
          "output_type": "stream",
          "text": [
            "Downloading data from https://s3.amazonaws.com/text-datasets/reuters_word_index.json\n",
            "557056/550378 [==============================] - 0s 0us/step\n"
          ],
          "name": "stdout"
        }
      ]
    },
    {
      "cell_type": "code",
      "metadata": {
        "id": "2sQOB4LSynaQ",
        "colab_type": "code",
        "colab": {}
      },
      "source": [
        "import numpy as np\n",
        "def vectorize_sequences(sequences, dimension = 10000):\n",
        "  results = np.zeros((len(sequences), dimension))\n",
        "  for i, sequence in enumerate(sequences):\n",
        "    results[i, sequence] =1.\n",
        "  return results"
      ],
      "execution_count": null,
      "outputs": []
    },
    {
      "cell_type": "code",
      "metadata": {
        "id": "6QuRe6S3zR6K",
        "colab_type": "code",
        "colab": {}
      },
      "source": [
        "x_train = vectorize_sequences(train_data)\n",
        "x_test  = vectorize_sequences(test_data)"
      ],
      "execution_count": null,
      "outputs": []
    },
    {
      "cell_type": "code",
      "metadata": {
        "id": "Ur1gAvbmzgDg",
        "colab_type": "code",
        "colab": {}
      },
      "source": [
        "def to_one_hot(labels, dimension=46):\n",
        "  results = np.zeros((len(labels),dimension))\n",
        "  for i, label in enumerate(labels):\n",
        "    results[i, label] = 1.\n",
        "  return results"
      ],
      "execution_count": null,
      "outputs": []
    },
    {
      "cell_type": "code",
      "metadata": {
        "id": "Hq49uKjL0BZu",
        "colab_type": "code",
        "colab": {}
      },
      "source": [
        "one_hot_train_labels = to_one_hot(train_labels)\n",
        "one_hot_test_labels = to_one_hot(test_labels)"
      ],
      "execution_count": null,
      "outputs": []
    },
    {
      "cell_type": "code",
      "metadata": {
        "id": "4pQ0xnJ_0Qef",
        "colab_type": "code",
        "colab": {}
      },
      "source": [
        "\n",
        "# build models\n",
        "from keras import models, layers\n",
        "\n",
        "model = models.Sequential()\n",
        "model.add(layers.Dense(64,activation ='relu',input_shape=(10000,)))\n",
        "model.add(layers.Dense(64,activation='tanh'))\n",
        "# model.add(layers.Dense(32,activation='relu'))\n",
        "model.add(layers.Dense(46,activation='softmax'))"
      ],
      "execution_count": null,
      "outputs": []
    },
    {
      "cell_type": "code",
      "metadata": {
        "id": "_aVIHN420bsB",
        "colab_type": "code",
        "colab": {}
      },
      "source": [
        "model.compile(optimizer='rmsprop',loss = 'categorical_crossentropy',metrics = ['accuracy'])"
      ],
      "execution_count": null,
      "outputs": []
    },
    {
      "cell_type": "code",
      "metadata": {
        "id": "hC1J2qQO1VBY",
        "colab_type": "code",
        "colab": {}
      },
      "source": [
        "x_val = x_train[:1000]\n",
        "partial_x_train = x_train[1000:]\n",
        "\n",
        "y_val = one_hot_train_labels[:1000]\n",
        "partial_y_train = one_hot_train_labels[1000:]"
      ],
      "execution_count": null,
      "outputs": []
    },
    {
      "cell_type": "code",
      "metadata": {
        "id": "NdJutj721ut3",
        "colab_type": "code",
        "colab": {
          "base_uri": "https://localhost:8080/",
          "height": 238
        },
        "outputId": "6264ba0e-70bb-4bf6-bbde-95c2d4faca06"
      },
      "source": [
        "history = model.fit(partial_x_train, partial_y_train, epochs=6, batch_size=256, validation_data=(x_val, y_val))"
      ],
      "execution_count": null,
      "outputs": [
        {
          "output_type": "stream",
          "text": [
            "Train on 7982 samples, validate on 1000 samples\n",
            "Epoch 1/6\n",
            "7982/7982 [==============================] - 1s 165us/step - loss: 2.0835 - accuracy: 0.5901 - val_loss: 1.3938 - val_accuracy: 0.6740\n",
            "Epoch 2/6\n",
            "7982/7982 [==============================] - 1s 130us/step - loss: 1.0975 - accuracy: 0.7656 - val_loss: 1.0869 - val_accuracy: 0.7700\n",
            "Epoch 3/6\n",
            "7982/7982 [==============================] - 1s 130us/step - loss: 0.7791 - accuracy: 0.8411 - val_loss: 0.9412 - val_accuracy: 0.8120\n",
            "Epoch 4/6\n",
            "7982/7982 [==============================] - 1s 132us/step - loss: 0.5758 - accuracy: 0.8829 - val_loss: 0.8704 - val_accuracy: 0.8270\n",
            "Epoch 5/6\n",
            "7982/7982 [==============================] - 1s 131us/step - loss: 0.4347 - accuracy: 0.9174 - val_loss: 0.8460 - val_accuracy: 0.8230\n",
            "Epoch 6/6\n",
            "7982/7982 [==============================] - 1s 131us/step - loss: 0.3300 - accuracy: 0.9345 - val_loss: 0.8811 - val_accuracy: 0.8100\n"
          ],
          "name": "stdout"
        }
      ]
    },
    {
      "cell_type": "code",
      "metadata": {
        "id": "m4U0Gk1w3r-K",
        "colab_type": "code",
        "colab": {
          "base_uri": "https://localhost:8080/",
          "height": 295
        },
        "outputId": "fa6a7dc2-10a6-4f80-a2b7-87ad28a803ba"
      },
      "source": [
        "import matplotlib.pyplot as plt\n",
        "loss = history.history['loss']\n",
        "val_loss = history.history['val_loss']\n",
        "\n",
        "epochs = range(1,len(loss)+1)\n",
        "plt.plot(epochs, loss, 'bo', label = 'training loss')\n",
        "plt.plot(epochs, val_loss, 'b', label = 'validation loss')\n",
        "plt.title(' Training and Validation Loss')\n",
        "plt.xlabel('Epochs')\n",
        "plt.ylabel('Loss')\n",
        "plt.legend()\n",
        "plt.show()"
      ],
      "execution_count": null,
      "outputs": [
        {
          "output_type": "display_data",
          "data": {
            "image/png": "[encoded data removed]",
            "text/plain": [
              "<Figure size 432x288 with 1 Axes>"
            ]
          },
          "metadata": {
            "tags": [],
            "needs_background": "light"
          }
        }
      ]
    },
    {
      "cell_type": "code",
      "metadata": {
        "id": "VovOSxw_4kZB",
        "colab_type": "code",
        "colab": {
          "base_uri": "https://localhost:8080/",
          "height": 295
        },
        "outputId": "2e0eb20a-f693-442a-f98d-5fe9df76511f"
      },
      "source": [
        "acc = history.history['accuracy']\n",
        "val_acc = history.history['val_accuracy']\n",
        "\n",
        "epochs = range(1,len(acc)+1)\n",
        "plt.plot(epochs, acc, label = 'training accuracy')\n",
        "plt.plot(epochs, val_acc, 'r', label = 'validation accuracy')\n",
        "plt.title(' Training and Validation Accuracy')\n",
        "plt.xlabel('Epochs')\n",
        "plt.ylabel('accuracy')\n",
        "plt.legend()\n",
        "plt.show()"
      ],
      "execution_count": null,
      "outputs": [
        {
          "output_type": "display_data",
          "data": {
            "image/png": "[encoded data removed]",
            "text/plain": [
              "<Figure size 432x288 with 1 Axes>"
            ]
          },
          "metadata": {
            "tags": [],
            "needs_background": "light"
          }
        }
      ]
    },
    {
      "cell_type": "code",
      "metadata": {
        "id": "yv8zKQbr5L54",
        "colab_type": "code",
        "colab": {}
      },
      "source": [
        ""
      ],
      "execution_count": null,
      "outputs": []
    }
  ]
}